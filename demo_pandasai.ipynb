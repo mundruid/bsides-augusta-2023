{
 "cells": [
  {
   "cell_type": "markdown",
   "metadata": {},
   "source": [
    "# Imports"
   ]
  },
  {
   "cell_type": "code",
   "execution_count": 1,
   "metadata": {},
   "outputs": [
    {
     "ename": "",
     "evalue": "",
     "output_type": "error",
     "traceback": [
      "\u001b[1;31mThe Kernel crashed while executing code in the current cell or a previous cell. \n",
      "\u001b[1;31mPlease review the code in the cell(s) to identify a possible cause of the failure. \n",
      "\u001b[1;31mClick <a href='https://aka.ms/vscodeJupyterKernelCrash'>here</a> for more info. \n",
      "\u001b[1;31mView Jupyter <a href='command:jupyter.viewOutput'>log</a> for further details."
     ]
    }
   ],
   "source": [
    "import pandas as pd\n",
    "import os\n",
    "\n",
    "from dotenv import load_dotenv\n",
    "\n",
    "# pandasai imports\n",
    "from pandasai.llm.openai import OpenAI\n",
    "from pandasai import SmartDataframe\n",
    "from pandasai import clear_cache\n",
    "from pandasai import Agent"
   ]
  },
  {
   "cell_type": "markdown",
   "metadata": {},
   "source": [
    "# Initialization"
   ]
  },
  {
   "cell_type": "code",
   "execution_count": 2,
   "metadata": {},
   "outputs": [],
   "source": [
    "READ_FROM_PICKLE = True"
   ]
  },
  {
   "cell_type": "code",
   "execution_count": 3,
   "metadata": {},
   "outputs": [],
   "source": [
    "# finds .env file and loads the vars\n",
    "load_dotenv()\n",
    "openai_api_key = os.getenv(\"OPENAI_API_KEY\", \"Key not found\")\n",
    "openai_org = os.getenv(\"OPENAI_ORG\", \"Organization not found\")"
   ]
  },
  {
   "cell_type": "code",
   "execution_count": 4,
   "metadata": {},
   "outputs": [],
   "source": [
    "if READ_FROM_PICKLE:\n",
    "    mirai_df = pd.read_pickle(\"data/mirai.pkl\")\n",
    "    benign_df = pd.read_pickle(\"data/benign.pkl\")"
   ]
  },
  {
   "cell_type": "code",
   "execution_count": 5,
   "metadata": {},
   "outputs": [],
   "source": [
    "# Instantiate a LLM\n",
    "llm = OpenAI(api_token=openai_api_key)"
   ]
  },
  {
   "cell_type": "markdown",
   "metadata": {},
   "source": [
    "# Cleanup"
   ]
  },
  {
   "cell_type": "code",
   "execution_count": 6,
   "metadata": {},
   "outputs": [],
   "source": [
    "mirai_smart = SmartDataframe(\n",
    "    df=pd.DataFrame(mirai_df),\n",
    "    config={\"llm\": llm},\n",
    "    name=\"Mirai botnet network packet capture.\",\n",
    "    description=\"A dataframe that is derived from a packet capture of the Mirai botnet network traffic.\",\n",
    ")\n",
    "mirai_cleaned_df = mirai_smart.clean_data()"
   ]
  },
  {
   "cell_type": "code",
   "execution_count": 7,
   "metadata": {},
   "outputs": [
    {
     "data": {
      "text/plain": [
       "(764137, 8)"
      ]
     },
     "execution_count": 7,
     "metadata": {},
     "output_type": "execute_result"
    }
   ],
   "source": [
    "mirai_df.shape"
   ]
  },
  {
   "cell_type": "code",
   "execution_count": 8,
   "metadata": {},
   "outputs": [
    {
     "data": {
      "text/plain": [
       "(197701, 8)"
      ]
     },
     "execution_count": 8,
     "metadata": {},
     "output_type": "execute_result"
    }
   ],
   "source": [
    "mirai_cleaned_df.shape"
   ]
  },
  {
   "cell_type": "code",
   "execution_count": 9,
   "metadata": {},
   "outputs": [
    {
     "name": "stdout",
     "output_type": "stream",
     "text": [
      "df_cleaned = dfs[0].copy()\n",
      "df_cleaned.dropna(subset=['Source IP', 'Destination IP'], inplace=True)\n",
      "df_cleaned['Source Port'] = df_cleaned['Source Port'].fillna(0).astype(int)\n",
      "df_cleaned['Destination Port'] = df_cleaned['Destination Port'].fillna(0).astype(int)\n",
      "df_cleaned['Payload'] = df_cleaned['Payload'].fillna('')\n",
      "df_cleaned['Packet Length'] = df_cleaned['Packet Length'].fillna(0).astype(int)\n",
      "df_cleaned['Protocol'] = df_cleaned['Protocol'].fillna(0).astype(int)\n",
      "result = {'type': 'dataframe', 'value': df_cleaned}\n"
     ]
    }
   ],
   "source": [
    "print(mirai_smart.last_code_generated)"
   ]
  },
  {
   "cell_type": "markdown",
   "metadata": {},
   "source": [
    "# EDA"
   ]
  },
  {
   "cell_type": "markdown",
   "metadata": {},
   "source": [
    "## Statistical"
   ]
  },
  {
   "cell_type": "code",
   "execution_count": 10,
   "metadata": {},
   "outputs": [
    {
     "data": {
      "text/plain": [
       "'The 5 most popular source IP addresses are: 192.168.2.108, 192.168.2.1, 192.168.2.113, 192.168.2.110, 192.168.2.115'"
      ]
     },
     "execution_count": 10,
     "metadata": {},
     "output_type": "execute_result"
    }
   ],
   "source": [
    "top_5_source_IPs = mirai_smart.chat(\"Which are the 5 most popular source IP addresses?\")\n",
    "\n",
    "top_5_source_IPs"
   ]
  },
  {
   "cell_type": "code",
   "execution_count": 11,
   "metadata": {},
   "outputs": [
    {
     "name": "stdout",
     "output_type": "stream",
     "text": [
      "source_ips = dfs[0]['Source IP'].value_counts().head(5).index.tolist()\n",
      "result = {'type': 'string', 'value': f\"The 5 most popular source IP addresses are: {', '.join(source_ips)}\"}\n"
     ]
    }
   ],
   "source": [
    "print(mirai_smart.last_code_generated)"
   ]
  },
  {
   "cell_type": "code",
   "execution_count": 12,
   "metadata": {},
   "outputs": [
    {
     "data": {
      "text/plain": [
       "'Unfortunately, I was not able to answer your question, because of the following error:\\n\\nAll objects passed were None\\n'"
      ]
     },
     "execution_count": 12,
     "metadata": {},
     "output_type": "execute_result"
    }
   ],
   "source": [
    "top_5_dst_ports = mirai_smart.chat(\"Which are the 5 most popular destination ports?\")\n",
    "top_5_dst_ports"
   ]
  },
  {
   "cell_type": "code",
   "execution_count": 13,
   "metadata": {},
   "outputs": [
    {
     "name": "stdout",
     "output_type": "stream",
     "text": [
      "df = pd.concat(dfs, ignore_index=True)\n",
      "port_counts = df['Destination Port'].value_counts()\n",
      "top_ports = port_counts.head(5)\n",
      "result = {'type': 'dataframe', 'value': top_ports}\n"
     ]
    }
   ],
   "source": [
    "print(mirai_smart.last_code_generated)"
   ]
  },
  {
   "cell_type": "code",
   "execution_count": 14,
   "metadata": {},
   "outputs": [
    {
     "data": {
      "text/plain": [
       "\"Unfortunately, I was not able to answer your question, because of the following error:\\n\\n'NoneType' object is not subscriptable\\n\""
      ]
     },
     "execution_count": 14,
     "metadata": {},
     "output_type": "execute_result"
    }
   ],
   "source": [
    "rare_ports = mirai_smart.chat(\n",
    "    \"Which are the most rarely used ports within the range of 0-1024?\"\n",
    ")\n",
    "rare_ports"
   ]
  },
  {
   "cell_type": "code",
   "execution_count": 15,
   "metadata": {},
   "outputs": [
    {
     "name": "stdout",
     "output_type": "stream",
     "text": [
      "port_counts = {}\n",
      "for df in dfs:\n",
      "    ports = df['Destination Port'].value_counts()\n",
      "    for port, count in ports.items():\n",
      "        if port < 1024:\n",
      "            if port not in port_counts:\n",
      "                port_counts[port] = count\n",
      "            else:\n",
      "                port_counts[port] += count\n",
      "rare_ports = []\n",
      "min_count = min(port_counts.values())\n",
      "for port, count in port_counts.items():\n",
      "    if count == min_count:\n",
      "        rare_ports.append(port)\n",
      "result = {'type': 'string', 'value': f'The most rarely used ports within the range of 0-1024 are {rare_ports}.'}\n",
      "result\n"
     ]
    }
   ],
   "source": [
    "print(mirai_smart.last_code_generated)"
   ]
  },
  {
   "cell_type": "markdown",
   "metadata": {},
   "source": [
    "## Visual"
   ]
  },
  {
   "cell_type": "code",
   "execution_count": 16,
   "metadata": {},
   "outputs": [],
   "source": [
    "if READ_FROM_PICKLE:\n",
    "    mirai_stream_df = pd.read_pickle(\"data/mirai_stream.pkl\")\n",
    "    benign_stream_df = pd.read_pickle(\"data/benign_stream.pkl\")"
   ]
  },
  {
   "cell_type": "code",
   "execution_count": 17,
   "metadata": {},
   "outputs": [],
   "source": [
    "mirai_smart_stream = SmartDataframe(\n",
    "    df=pd.DataFrame(mirai_stream_df), config={\"llm\": llm}\n",
    ")"
   ]
  },
  {
   "cell_type": "code",
   "execution_count": 18,
   "metadata": {},
   "outputs": [
    {
     "data": {
      "image/png": "[encoded data removed]",
      "text/plain": [
       "<Figure size 640x480 with 1 Axes>"
      ]
     },
     "metadata": {},
     "output_type": "display_data"
    }
   ],
   "source": [
    "mirai_smart_stream.chat(\n",
    "    \"Plot the scatter plot of stream durations and number of packets using purple color for the dots.\"\n",
    ")"
   ]
  },
  {
   "cell_type": "code",
   "execution_count": 19,
   "metadata": {},
   "outputs": [
    {
     "name": "stdout",
     "output_type": "stream",
     "text": [
      "df = dfs[0]\n",
      "plt.scatter(df['Duration'], df['Number of Packets'], color='purple')\n",
      "plt.xlabel('Duration')\n",
      "plt.ylabel('Number of Packets')\n",
      "plt.title('Scatter Plot of Stream Durations and Number of Packets')\n",
      "plt.savefig('/home/drx/sandbox/bsides-augusta-2023/exports/charts/temp_chart.png')\n",
      "result = {'type': 'plot', 'value': '/home/drx/sandbox/bsides-augusta-2023/exports/charts/temp_chart.png'}\n"
     ]
    }
   ],
   "source": [
    "print(mirai_smart_stream.last_code_executed)"
   ]
  },
  {
   "cell_type": "code",
   "execution_count": 20,
   "metadata": {},
   "outputs": [
    {
     "data": {
      "image/png": "[encoded data removed]",
      "text/plain": [
       "<Figure size 640x480 with 1 Axes>"
      ]
     },
     "metadata": {},
     "output_type": "display_data"
    }
   ],
   "source": [
    "mirai_smart_stream.chat(\"Plot the histogram stream ports and number of packets.\")"
   ]
  },
  {
   "cell_type": "code",
   "execution_count": 21,
   "metadata": {},
   "outputs": [
    {
     "name": "stdout",
     "output_type": "stream",
     "text": [
      "df = dfs[0]\n",
      "plt.hist(df['Source Port'], bins=10, alpha=0.5, label='Source Port')\n",
      "plt.hist(df['Destination Port'], bins=10, alpha=0.5, label='Destination Port')\n",
      "plt.xlabel('Port')\n",
      "plt.ylabel('Number of Packets')\n",
      "plt.title('Histogram of Stream Ports and Number of Packets')\n",
      "plt.legend()\n",
      "plt.savefig('/home/drx/sandbox/bsides-augusta-2023/exports/charts/temp_chart.png')\n",
      "result = {'type': 'plot', 'value': '/home/drx/sandbox/bsides-augusta-2023/exports/charts/temp_chart.png'}\n"
     ]
    }
   ],
   "source": [
    "print(mirai_smart_stream.last_code_executed)"
   ]
  },
  {
   "cell_type": "markdown",
   "metadata": {},
   "source": [
    "# Feature Engineering"
   ]
  },
  {
   "cell_type": "code",
   "execution_count": 22,
   "metadata": {},
   "outputs": [],
   "source": [
    "benign_smart = SmartDataframe(df=pd.DataFrame(benign_df), config={\"llm\": llm})"
   ]
  },
  {
   "cell_type": "code",
   "execution_count": 23,
   "metadata": {},
   "outputs": [],
   "source": [
    "# do not rerun, this takes a while!\n",
    "benign_smart_features = benign_smart.generate_features()"
   ]
  },
  {
   "cell_type": "code",
   "execution_count": 24,
   "metadata": {},
   "outputs": [
    {
     "name": "stdout",
     "output_type": "stream",
     "text": [
      "df_features = dfs[0].copy()\n",
      "df_features['Timestamp'] = pd.to_datetime(df_features['Timestamp'], errors='coerce')\n",
      "df_features['Hour'] = df_features['Timestamp'].dt.hour\n",
      "df_features['Minute'] = df_features['Timestamp'].dt.minute\n",
      "df_features['Second'] = df_features['Timestamp'].dt.second\n",
      "result = {'type': 'dataframe', 'value': df_features}\n"
     ]
    }
   ],
   "source": [
    "print(benign_smart.last_code_executed)"
   ]
  },
  {
   "cell_type": "markdown",
   "metadata": {},
   "source": [
    "# Agents"
   ]
  },
  {
   "cell_type": "code",
   "execution_count": 25,
   "metadata": {},
   "outputs": [],
   "source": [
    "from pandasai import Agent"
   ]
  },
  {
   "cell_type": "code",
   "execution_count": 26,
   "metadata": {},
   "outputs": [],
   "source": [
    "agent = Agent(mirai_df, config={\"llm\": llm},memory_size=10)"
   ]
  },
  {
   "cell_type": "code",
   "execution_count": 27,
   "metadata": {},
   "outputs": [
    {
     "data": {
      "text/plain": [
       "'Malicious packet capture'"
      ]
     },
     "execution_count": 27,
     "metadata": {},
     "output_type": "execute_result"
    }
   ],
   "source": [
    "agent.chat('Is this packet capture malicious or benign?')"
   ]
  },
  {
   "cell_type": "code",
   "execution_count": 28,
   "metadata": {},
   "outputs": [
    {
     "data": {
      "text/plain": [
       "'I analyzed the captured packets and looked for any indications of errors related to IP or TCP protocols. If I found any such errors, I concluded that the packet capture is malicious. Otherwise, if no errors were found, I determined that the packet capture is benign.'"
      ]
     },
     "execution_count": 28,
     "metadata": {},
     "output_type": "execute_result"
    }
   ],
   "source": [
    "agent.explain()"
   ]
  },
  {
   "cell_type": "code",
   "execution_count": 29,
   "metadata": {},
   "outputs": [
    {
     "data": {
      "text/plain": [
       "'I reviewed the following features of the packet capture to identify it as malicious:\\n- Source IP\\n- Destination IP\\n- Source Port\\n- Destination Port\\n- Payload\\n- Packet Length\\n- Protocol'"
      ]
     },
     "execution_count": 29,
     "metadata": {},
     "output_type": "execute_result"
    }
   ],
   "source": [
    "agent.chat('Which features of the packet capture did you review to identify it as malicious?')"
   ]
  },
  {
   "cell_type": "code",
   "execution_count": 30,
   "metadata": {},
   "outputs": [
    {
     "data": {
      "text/plain": [
       "'The packet capture is identified as malicious due to the presence of IP and TCP errors.'"
      ]
     },
     "execution_count": 30,
     "metadata": {},
     "output_type": "execute_result"
    }
   ],
   "source": [
    "agent.chat(\"Why do you think it is malicious?\")"
   ]
  },
  {
   "cell_type": "markdown",
   "metadata": {},
   "source": [
    "# Clear cache"
   ]
  },
  {
   "cell_type": "code",
   "execution_count": 32,
   "metadata": {},
   "outputs": [],
   "source": [
    "clear_cache()"
   ]
  }
 ],
 "metadata": {
  "kernelspec": {
   "display_name": ".venv",
   "language": "python",
   "name": "python3"
  },
  "language_info": {
   "codemirror_mode": {
    "name": "ipython",
    "version": 3
   },
   "file_extension": ".py",
   "mimetype": "text/x-python",
   "name": "python",
   "nbconvert_exporter": "python",
   "pygments_lexer": "ipython3",
   "version": "3.10.6"
  }
 },
 "nbformat": 4,
 "nbformat_minor": 2
}
