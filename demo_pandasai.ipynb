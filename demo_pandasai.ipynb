{
 "cells": [
  {
   "cell_type": "markdown",
   "metadata": {},
   "source": [
    "# Imports"
   ]
  },
  {
   "cell_type": "code",
   "execution_count": 1,
   "metadata": {},
   "outputs": [],
   "source": [
    "import pandas as pd\n",
    "import os\n",
    "\n",
    "from dotenv import load_dotenv\n",
    "\n",
    "# pandasai imports\n",
    "from pandasai.llm.openai import OpenAI\n",
    "from pandasai import PandasAI\n",
    "from pandasai import SmartDataframe\n"
   ]
  },
  {
   "cell_type": "markdown",
   "metadata": {},
   "source": [
    "# Initialization"
   ]
  },
  {
   "cell_type": "code",
   "execution_count": 2,
   "metadata": {},
   "outputs": [],
   "source": [
    "READ_FROM_PICKLE = True"
   ]
  },
  {
   "cell_type": "code",
   "execution_count": 3,
   "metadata": {},
   "outputs": [],
   "source": [
    "# finds .env file and loads the vars\n",
    "load_dotenv()\n",
    "openai_api_key = os.getenv(\"OPENAI_API_KEY\", \"Key not found\")\n",
    "openai_org = os.getenv(\"OPENAI_ORG\", \"Organization not found\")"
   ]
  },
  {
   "cell_type": "code",
   "execution_count": 4,
   "metadata": {},
   "outputs": [],
   "source": [
    "if READ_FROM_PICKLE:\n",
    "    mirai_df = pd.read_pickle(\"data/mirai.pkl\")\n",
    "    benign_df = pd.read_pickle(\"data/benign.pkl\")"
   ]
  },
  {
   "cell_type": "code",
   "execution_count": 5,
   "metadata": {},
   "outputs": [
    {
     "name": "stderr",
     "output_type": "stream",
     "text": [
      "/home/drx/sandbox/bsides-augusta-2023/.venv/lib/python3.10/site-packages/pandasai/__init__.py:145: UserWarning: `PandasAI` (class) is deprecated since v1.0 and will be removed in a future release. Please use `SmartDataframe` instead.\n",
      "  warnings.warn(\n"
     ]
    }
   ],
   "source": [
    "# Instantiate a LLM\n",
    "llm = OpenAI(api_token=openai_api_key)\n",
    "pandas_ai = PandasAI(llm)"
   ]
  },
  {
   "cell_type": "markdown",
   "metadata": {},
   "source": [
    "# Cleanup"
   ]
  },
  {
   "cell_type": "code",
   "execution_count": 6,
   "metadata": {},
   "outputs": [],
   "source": [
    "mirai_smart = SmartDataframe(df=pd.DataFrame(mirai_df), config={\"llm\": llm})\n",
    "mirai_cleaned_df = mirai_smart.clean_data()"
   ]
  },
  {
   "cell_type": "code",
   "execution_count": 7,
   "metadata": {},
   "outputs": [
    {
     "name": "stdout",
     "output_type": "stream",
     "text": [
      "def analyze_data(dfs: list[pd.DataFrame]) ->dict:\n",
      "    \"\"\"\n",
      "    Analyze the data\n",
      "    1. Prepare: Preprocessing and cleaning data if necessary\n",
      "    2. Process: Manipulating data for analysis (grouping, filtering, aggregating, etc.)\n",
      "    3. Analyze: Conducting the actual analysis (if the user asks to plot a chart save it to an image in exports/charts/temp_chart.png and do not show the chart.)\n",
      "    4. Output: return a dictionary of:\n",
      "    - type (possible values \"text\", \"number\", \"dataframe\", \"plot\")\n",
      "    - value (can be a string, a dataframe or the path of the plot, NOT a dictionary)\n",
      "    Example output: { \"type\": \"text\", \"value\": \"The average loan amount is $15,000.\" }\n",
      "    \"\"\"\n",
      "    df_cleaned = dfs[0].copy()\n",
      "    df_cleaned.dropna(subset=['Timestamp', 'Source IP', 'Destination IP'], inplace=True)\n",
      "    df_cleaned = df_cleaned[df_cleaned['Packet Length'].notnull()]\n",
      "    df_cleaned = df_cleaned[df_cleaned['Protocol'].notnull()]\n",
      "    df_cleaned['Timestamp'] = df_cleaned['Timestamp'].astype(int)\n",
      "    df_cleaned['Packet Length'] = df_cleaned['Packet Length'].astype(int)\n",
      "    df_cleaned['Protocol'] = df_cleaned['Protocol'].astype(int)\n",
      "    return {'type': 'dataframe', 'value': df_cleaned}\n"
     ]
    }
   ],
   "source": [
    "print(mirai_smart.last_code_generated)"
   ]
  },
  {
   "cell_type": "markdown",
   "metadata": {},
   "source": [
    "# EDA"
   ]
  },
  {
   "cell_type": "markdown",
   "metadata": {},
   "source": [
    "## Statistical"
   ]
  },
  {
   "cell_type": "code",
   "execution_count": 8,
   "metadata": {},
   "outputs": [
    {
     "data": {
      "text/html": [
       "<div>\n",
       "<style scoped>\n",
       "    .dataframe tbody tr th:only-of-type {\n",
       "        vertical-align: middle;\n",
       "    }\n",
       "\n",
       "    .dataframe tbody tr th {\n",
       "        vertical-align: top;\n",
       "    }\n",
       "\n",
       "    .dataframe thead th {\n",
       "        text-align: right;\n",
       "    }\n",
       "</style>\n",
       "<table border=\"1\" class=\"dataframe\">\n",
       "  <thead>\n",
       "    <tr style=\"text-align: right;\">\n",
       "      <th></th>\n",
       "      <th>Source IP</th>\n",
       "    </tr>\n",
       "  </thead>\n",
       "  <tbody>\n",
       "    <tr>\n",
       "      <th>192.168.2.108</th>\n",
       "      <td>51747</td>\n",
       "    </tr>\n",
       "    <tr>\n",
       "      <th>192.168.2.1</th>\n",
       "      <td>35416</td>\n",
       "    </tr>\n",
       "    <tr>\n",
       "      <th>192.168.2.113</th>\n",
       "      <td>34805</td>\n",
       "    </tr>\n",
       "    <tr>\n",
       "      <th>192.168.2.110</th>\n",
       "      <td>23554</td>\n",
       "    </tr>\n",
       "    <tr>\n",
       "      <th>192.168.2.115</th>\n",
       "      <td>13486</td>\n",
       "    </tr>\n",
       "  </tbody>\n",
       "</table>\n",
       "</div>"
      ],
      "text/plain": [
       "               Source IP\n",
       "192.168.2.108      51747\n",
       "192.168.2.1        35416\n",
       "192.168.2.113      34805\n",
       "192.168.2.110      23554\n",
       "192.168.2.115      13486"
      ]
     },
     "execution_count": 8,
     "metadata": {},
     "output_type": "execute_result"
    }
   ],
   "source": [
    "top_5_source_IPs = mirai_smart.chat(\"Which are the 5 most popular source IP addresses?\")\n",
    "\n",
    "top_5_source_IPs"
   ]
  },
  {
   "cell_type": "code",
   "execution_count": 9,
   "metadata": {},
   "outputs": [
    {
     "name": "stdout",
     "output_type": "stream",
     "text": [
      "def analyze_data(dfs: list[pd.DataFrame]) ->dict:\n",
      "    \"\"\"\n",
      "    Analyze the data\n",
      "    1. Prepare: Preprocessing and cleaning data if necessary\n",
      "    2. Process: Manipulating data for analysis (grouping, filtering, aggregating, etc.)\n",
      "    3. Analyze: Conducting the actual analysis (if the user asks to plot a chart save it to an image in /temp_chart.png and do not show the chart.)\n",
      "    4. Output: return a dictionary of:\n",
      "    - type (possible values \"text\", \"number\", \"dataframe\", \"plot\")\n",
      "    - value (can be a string, a dataframe or the path of the plot, NOT a dictionary)\n",
      "    Example output: { \"type\": \"text\", \"value\": \"The average loan amount is $15,000.\" }\n",
      "    \"\"\"\n",
      "    source_ip_counts = dfs[0]['Source IP'].value_counts().head(5)\n",
      "    return {'type': 'dataframe', 'value': source_ip_counts}\n"
     ]
    }
   ],
   "source": [
    "print(mirai_smart.last_code_generated)"
   ]
  },
  {
   "cell_type": "code",
   "execution_count": 10,
   "metadata": {},
   "outputs": [
    {
     "data": {
      "text/html": [
       "<div>\n",
       "<style scoped>\n",
       "    .dataframe tbody tr th:only-of-type {\n",
       "        vertical-align: middle;\n",
       "    }\n",
       "\n",
       "    .dataframe tbody tr th {\n",
       "        vertical-align: top;\n",
       "    }\n",
       "\n",
       "    .dataframe thead th {\n",
       "        text-align: right;\n",
       "    }\n",
       "</style>\n",
       "<table border=\"1\" class=\"dataframe\">\n",
       "  <thead>\n",
       "    <tr style=\"text-align: right;\">\n",
       "      <th></th>\n",
       "      <th>Destination Port</th>\n",
       "      <th>Count</th>\n",
       "    </tr>\n",
       "  </thead>\n",
       "  <tbody>\n",
       "    <tr>\n",
       "      <th>3365</th>\n",
       "      <td>10240.0</td>\n",
       "      <td>62584</td>\n",
       "    </tr>\n",
       "    <tr>\n",
       "      <th>1</th>\n",
       "      <td>53.0</td>\n",
       "      <td>33348</td>\n",
       "    </tr>\n",
       "    <tr>\n",
       "      <th>4</th>\n",
       "      <td>80.0</td>\n",
       "      <td>17644</td>\n",
       "    </tr>\n",
       "    <tr>\n",
       "      <th>0</th>\n",
       "      <td>23.0</td>\n",
       "      <td>9466</td>\n",
       "    </tr>\n",
       "    <tr>\n",
       "      <th>3379</th>\n",
       "      <td>21897.0</td>\n",
       "      <td>7158</td>\n",
       "    </tr>\n",
       "  </tbody>\n",
       "</table>\n",
       "</div>"
      ],
      "text/plain": [
       "      Destination Port  Count\n",
       "3365           10240.0  62584\n",
       "1                 53.0  33348\n",
       "4                 80.0  17644\n",
       "0                 23.0   9466\n",
       "3379           21897.0   7158"
      ]
     },
     "execution_count": 10,
     "metadata": {},
     "output_type": "execute_result"
    }
   ],
   "source": [
    "top_5_dst_ports = mirai_smart.chat(\"Which are the 5 most popular destination ports?\")\n",
    "top_5_dst_ports"
   ]
  },
  {
   "cell_type": "code",
   "execution_count": 11,
   "metadata": {},
   "outputs": [
    {
     "name": "stdout",
     "output_type": "stream",
     "text": [
      "def analyze_data(dfs: list[pd.DataFrame]) ->dict:\n",
      "    \"\"\"\n",
      "    Analyze the data\n",
      "    1. Prepare: Preprocessing and cleaning data if necessary\n",
      "    2. Process: Manipulating data for analysis (grouping, filtering, aggregating, etc.)\n",
      "    3. Analyze: Conducting the actual analysis (if the user asks to plot a chart save it to an image in /temp_chart.png and do not show the chart.)\n",
      "    4. Output: return a dictionary of:\n",
      "    - type (possible values \"text\", \"number\", \"dataframe\", \"plot\")\n",
      "    - value (can be a string, a dataframe or the path of the plot, NOT a dictionary)\n",
      "    Example output: { \"type\": \"text\", \"value\": \"The average loan amount is $15,000.\" }\n",
      "    \"\"\"\n",
      "    destination_ports = dfs[0].groupby('Destination Port').size().reset_index(name='Count')\n",
      "    sorted_ports = destination_ports.sort_values(by='Count', ascending=False)\n",
      "    top_5_ports = sorted_ports.head(5)\n",
      "    return {'type': 'dataframe', 'value': top_5_ports}\n"
     ]
    }
   ],
   "source": [
    "print(mirai_smart.last_code_generated)"
   ]
  },
  {
   "cell_type": "code",
   "execution_count": 12,
   "metadata": {},
   "outputs": [
    {
     "data": {
      "text/html": [
       "<div>\n",
       "<style scoped>\n",
       "    .dataframe tbody tr th:only-of-type {\n",
       "        vertical-align: middle;\n",
       "    }\n",
       "\n",
       "    .dataframe tbody tr th {\n",
       "        vertical-align: top;\n",
       "    }\n",
       "\n",
       "    .dataframe thead th {\n",
       "        text-align: right;\n",
       "    }\n",
       "</style>\n",
       "<table border=\"1\" class=\"dataframe\">\n",
       "  <thead>\n",
       "    <tr style=\"text-align: right;\">\n",
       "      <th></th>\n",
       "      <th>Port</th>\n",
       "      <th>Count</th>\n",
       "    </tr>\n",
       "  </thead>\n",
       "  <tbody>\n",
       "    <tr>\n",
       "      <th>8</th>\n",
       "      <td>137.0</td>\n",
       "      <td>15</td>\n",
       "    </tr>\n",
       "    <tr>\n",
       "      <th>7</th>\n",
       "      <td>138.0</td>\n",
       "      <td>18</td>\n",
       "    </tr>\n",
       "    <tr>\n",
       "      <th>6</th>\n",
       "      <td>67.0</td>\n",
       "      <td>27</td>\n",
       "    </tr>\n",
       "    <tr>\n",
       "      <th>5</th>\n",
       "      <td>68.0</td>\n",
       "      <td>136</td>\n",
       "    </tr>\n",
       "    <tr>\n",
       "      <th>4</th>\n",
       "      <td>123.0</td>\n",
       "      <td>190</td>\n",
       "    </tr>\n",
       "  </tbody>\n",
       "</table>\n",
       "</div>"
      ],
      "text/plain": [
       "    Port  Count\n",
       "8  137.0     15\n",
       "7  138.0     18\n",
       "6   67.0     27\n",
       "5   68.0    136\n",
       "4  123.0    190"
      ]
     },
     "execution_count": 12,
     "metadata": {},
     "output_type": "execute_result"
    }
   ],
   "source": [
    "rare_ports = mirai_smart.chat(\"Which are the most rarely used ports within the range of 0-1024?\")\n",
    "rare_ports"
   ]
  },
  {
   "cell_type": "code",
   "execution_count": 13,
   "metadata": {},
   "outputs": [
    {
     "name": "stdout",
     "output_type": "stream",
     "text": [
      "def analyze_data(dfs: list[pd.DataFrame]) ->dict:\n",
      "    \"\"\"\n",
      "    Analyze the data\n",
      "    1. Prepare: Preprocessing and cleaning data if necessary\n",
      "    2. Process: Manipulating data for analysis (grouping, filtering, aggregating, etc.)\n",
      "    3. Analyze: Conducting the actual analysis (if the user asks to plot a chart save it to an image in /temp_chart.png and do not show the chart.)\n",
      "    4. Output: return a dictionary of:\n",
      "    - type (possible values \"text\", \"number\", \"dataframe\", \"plot\")\n",
      "    - value (can be a string, a dataframe or the path of the plot, NOT a dictionary)\n",
      "    Example output: { \"type\": \"text\", \"value\": \"The average loan amount is $15,000.\" }\n",
      "    \"\"\"\n",
      "    df = dfs[0]\n",
      "    ports = df[(df['Destination Port'] >= 0) & (df['Destination Port'] <= 1024)]\n",
      "    port_counts = ports['Destination Port'].value_counts().reset_index()\n",
      "    port_counts.columns = ['Port', 'Count']\n",
      "    port_counts = port_counts.sort_values('Count')\n",
      "    most_rarely_used_ports = port_counts.head(5)\n",
      "    output = {'type': 'dataframe', 'value': most_rarely_used_ports}\n",
      "    return output\n"
     ]
    }
   ],
   "source": [
    "print(mirai_smart.last_code_generated)"
   ]
  },
  {
   "cell_type": "markdown",
   "metadata": {},
   "source": [
    "## Visual"
   ]
  },
  {
   "cell_type": "code",
   "execution_count": 14,
   "metadata": {},
   "outputs": [],
   "source": [
    "if READ_FROM_PICKLE:\n",
    "    mirai_stream_df = pd.read_pickle(\"data/mirai_stream.pkl\")\n",
    "    benign_stream_df = pd.read_pickle(\"data/benign_stream.pkl\")"
   ]
  },
  {
   "cell_type": "code",
   "execution_count": 15,
   "metadata": {},
   "outputs": [],
   "source": [
    "mirai_smart_stream = SmartDataframe(df=pd.DataFrame(mirai_stream_df), config={\"llm\": llm})"
   ]
  },
  {
   "cell_type": "code",
   "execution_count": 16,
   "metadata": {},
   "outputs": [
    {
     "data": {
      "image/png": "[encoded data removed]",
      "text/plain": [
       "<Figure size 640x480 with 1 Axes>"
      ]
     },
     "metadata": {},
     "output_type": "display_data"
    }
   ],
   "source": [
    "mirai_smart_stream.chat(\"Plot the scatter plot of stream durations and number of packets.\")"
   ]
  },
  {
   "cell_type": "code",
   "execution_count": 17,
   "metadata": {},
   "outputs": [
    {
     "name": "stdout",
     "output_type": "stream",
     "text": [
      "def analyze_data(dfs: list[pd.DataFrame]) ->dict:\n",
      "    \"\"\"\n",
      "    Analyze the data\n",
      "    1. Prepare: Preprocessing and cleaning data if necessary\n",
      "    2. Process: Manipulating data for analysis (grouping, filtering, aggregating, etc.)\n",
      "    3. Analyze: Conducting the actual analysis (if the user asks to plot a chart save it to an image in exports/charts/temp_chart.png and do not show the chart.)\n",
      "    4. Output: return a dictionary of:\n",
      "    - type (possible values \"text\", \"number\", \"dataframe\", \"plot\")\n",
      "    - value (can be a string, a dataframe or the path of the plot, NOT a dictionary)\n",
      "    Example output: { \"type\": \"text\", \"value\": \"The average loan amount is $15,000.\" }\n",
      "    \"\"\"\n",
      "    df = dfs[0][['Duration', 'Number of Packets']]\n",
      "    plt.scatter(df['Duration'], df['Number of Packets'])\n",
      "    plt.xlabel('Stream Duration')\n",
      "    plt.ylabel('Number of Packets')\n",
      "    plt.title('Scatter Plot of Stream Durations and Number of Packets')\n",
      "    plt.savefig('exports/charts/temp_chart.png')\n",
      "    plt.close()\n",
      "    return {'type': 'plot', 'value': 'exports/charts/temp_chart.png'}\n"
     ]
    }
   ],
   "source": [
    "print(mirai_smart_stream.last_code_executed)"
   ]
  },
  {
   "cell_type": "code",
   "execution_count": 18,
   "metadata": {},
   "outputs": [
    {
     "data": {
      "image/png": "[encoded data removed]",
      "text/plain": [
       "<Figure size 640x480 with 1 Axes>"
      ]
     },
     "metadata": {},
     "output_type": "display_data"
    }
   ],
   "source": [
    "mirai_smart_stream.chat(\"Plot the histogram stream ports and number of packets.\")"
   ]
  },
  {
   "cell_type": "code",
   "execution_count": 19,
   "metadata": {},
   "outputs": [
    {
     "name": "stdout",
     "output_type": "stream",
     "text": [
      "def analyze_data(dfs: list[pd.DataFrame]) ->dict:\n",
      "    \"\"\"\n",
      "    Analyze the data\n",
      "    1. Prepare: Preprocessing and cleaning data if necessary\n",
      "    2. Process: Manipulating data for analysis (grouping, filtering, aggregating, etc.)\n",
      "    3. Analyze: Conducting the actual analysis (if the user asks to plot a chart save it to an image in exports/charts/temp_chart.png and do not show the chart.)\n",
      "    4. Output: return a dictionary of:\n",
      "    - type (possible values \"text\", \"number\", \"dataframe\", \"plot\")\n",
      "    - value (can be a string, a dataframe or the path of the plot, NOT a dictionary)\n",
      "    Example output: { \"type\": \"text\", \"value\": \"The average loan amount is $15,000.\" }\n",
      "    \"\"\"\n",
      "    df = dfs[0]\n",
      "    stream_ports = df['Destination Port']\n",
      "    num_packets = df['Number of Packets']\n",
      "    plt.hist(stream_ports, bins=10)\n",
      "    plt.xlabel('Stream Ports')\n",
      "    plt.ylabel('Number of Packets')\n",
      "    plt.title('Histogram of Stream Ports and Number of Packets')\n",
      "    plt.savefig('exports/charts/temp_chart.png')\n",
      "    plt.close()\n",
      "    return {'type': 'plot', 'value': 'exports/charts/temp_chart.png'}\n"
     ]
    }
   ],
   "source": [
    "print(mirai_smart_stream.last_code_executed)"
   ]
  },
  {
   "cell_type": "markdown",
   "metadata": {},
   "source": [
    "# Feature Engineering"
   ]
  },
  {
   "cell_type": "code",
   "execution_count": 20,
   "metadata": {},
   "outputs": [],
   "source": [
    "benign_smart = SmartDataframe(df=pd.DataFrame(benign_df), config={\"llm\": llm})"
   ]
  },
  {
   "cell_type": "code",
   "execution_count": 21,
   "metadata": {},
   "outputs": [],
   "source": [
    "# do not rerun, this takes a while!\n",
    "benign_smart_features = benign_smart.generate_features()"
   ]
  },
  {
   "cell_type": "code",
   "execution_count": 22,
   "metadata": {},
   "outputs": [
    {
     "name": "stdout",
     "output_type": "stream",
     "text": [
      "def analyze_data(dfs: list[pd.DataFrame]) ->dict:\n",
      "    \"\"\"\n",
      "    Analyze the data\n",
      "    1. Prepare: Preprocessing and cleaning data if necessary\n",
      "    2. Process: Manipulating data for analysis (grouping, filtering, aggregating, etc.)\n",
      "    3. Analyze: Conducting the actual analysis (if the user asks to plot a chart save it to an image in exports/charts/temp_chart.png and do not show the chart.)\n",
      "    4. Output: return a dictionary of:\n",
      "    - type (possible values \"text\", \"number\", \"dataframe\", \"plot\")\n",
      "    - value (can be a string, a dataframe or the path of the plot, NOT a dictionary)\n",
      "    Example output: { \"type\": \"text\", \"value\": \"The average loan amount is $15,000.\" }\n",
      "    \"\"\"\n",
      "    df_features = dfs[0].copy()\n",
      "    df_features['Total Length'] = df_features['Payload'].apply(lambda x: len(str(x))) + df_features['Packet Length']\n",
      "    df_features['Source IP Length'] = df_features['Source IP'].apply(lambda x: len(str(x)))\n",
      "    df_features['Destination IP Length'] = df_features['Destination IP'].apply(lambda x: len(str(x)))\n",
      "    return {'type': 'dataframe', 'value': df_features}\n"
     ]
    }
   ],
   "source": [
    "print(benign_smart.last_code_executed)"
   ]
  }
 ],
 "metadata": {
  "kernelspec": {
   "display_name": ".venv",
   "language": "python",
   "name": "python3"
  },
  "language_info": {
   "codemirror_mode": {
    "name": "ipython",
    "version": 3
   },
   "file_extension": ".py",
   "mimetype": "text/x-python",
   "name": "python",
   "nbconvert_exporter": "python",
   "pygments_lexer": "ipython3",
   "version": "3.10.6"
  }
 },
 "nbformat": 4,
 "nbformat_minor": 2
}
