{
 "cells": [
  {
   "cell_type": "code",
   "execution_count": 1,
   "metadata": {},
   "outputs": [],
   "source": [
    "import pandas as pd\n",
    "import numpy as np\n",
    "import sweetviz as sv\n",
    "import ipaddress\n",
    "import os\n",
    "\n",
    "from dotenv import load_dotenv\n",
    "from scapy.all import PcapReader, IP, TCP, UDP, ICMP\n",
    "from scipy.stats import ttest_ind, kstest, norm, skew, kurtosis, zscore\n",
    "from summarytools import dfSummary\n",
    "from xgboost import XGBClassifier\n",
    "import matplotlib.pyplot as plt\n",
    "import seaborn as sns\n",
    "from skimpy import skim\n",
    "\n",
    "# pandasai imports\n",
    "from pandasai.llm.openai import OpenAI\n",
    "from pandasai import PandasAI\n",
    "\n",
    "# scikit learn imports\n",
    "from sklearn.ensemble import RandomForestClassifier\n",
    "from sklearn.utils import shuffle\n",
    "from sklearn.linear_model import LinearRegression\n",
    "from sklearn.neighbors import KNeighborsRegressor\n",
    "from sklearn.metrics import (\n",
    "    accuracy_score,\n",
    "    make_scorer,\n",
    "    precision_score,\n",
    "    recall_score,\n",
    "    confusion_matrix,\n",
    "    roc_curve,\n",
    "    auc,\n",
    ")\n",
    "from sklearn.model_selection import KFold, cross_val_score, train_test_split\n",
    "\n",
    "# scikit llm imports\n",
    "from skllm.config import SKLLMConfig\n",
    "from skllm import (\n",
    "    ZeroShotGPTClassifier,\n",
    "    FewShotGPTClassifier,\n",
    "    DynamicFewShotGPTClassifier,\n",
    ")"
   ]
  },
  {
   "cell_type": "code",
   "execution_count": 2,
   "metadata": {},
   "outputs": [],
   "source": [
    "# finds .env file and loads the vars\n",
    "load_dotenv()\n",
    "openai_api_key = os.getenv(\"OPENAI_API_KEY\", \"Key not found\")"
   ]
  },
  {
   "cell_type": "code",
   "execution_count": 3,
   "metadata": {},
   "outputs": [],
   "source": [
    "pcap_reader_mirai = PcapReader(\"data/mirai.pcap\")\n",
    "pcap_reader_benign = PcapReader(\"data/benign.pcapng\")"
   ]
  },
  {
   "attachments": {},
   "cell_type": "markdown",
   "metadata": {},
   "source": [
    "# Preprocess\n",
    "\n",
    "- convert data to streams\n",
    "- collect some numbers"
   ]
  },
  {
   "cell_type": "code",
   "execution_count": 4,
   "metadata": {},
   "outputs": [],
   "source": [
    "def pcap_to_dataframe(pcap_reader: PcapReader) -> pd.DataFrame:\n",
    "    \"\"\"Converts a packet capture to a Pandas DataFrame.\n",
    "\n",
    "    Args:\n",
    "        pcap_reader (PcapReader): packet capture read using scapy\n",
    "\n",
    "    Returns:\n",
    "        pd.DataFrame: dataframe with pcap data\n",
    "    \"\"\"\n",
    "    # Create an empty list to store the data\n",
    "    data = []\n",
    "\n",
    "    # Iterate through the packets in the pcap file\n",
    "    for packet in pcap_reader:\n",
    "        # Get the source and destination IP addresses\n",
    "        if packet.haslayer(IP):\n",
    "            src_ip = packet[IP].src\n",
    "            dst_ip = packet[IP].dst\n",
    "            protocol = packet[IP].proto\n",
    "        else:\n",
    "            src_ip = None\n",
    "            dst_ip = None\n",
    "\n",
    "            protocol = None\n",
    "\n",
    "        # Get the source and destination ports and payload\n",
    "        if packet.haslayer(TCP):\n",
    "            src_port = packet[TCP].sport\n",
    "            dst_port = packet[TCP].dport\n",
    "            payload = str(packet[TCP].payload)\n",
    "            packet_len = len(packet[TCP])\n",
    "        elif packet.haslayer(UDP):\n",
    "            src_port = packet[UDP].sport\n",
    "            dst_port = packet[UDP].dport\n",
    "            payload = str(packet[UDP].payload)\n",
    "            packet_len = len(packet[UDP])\n",
    "        elif packet.haslayer(ICMP):\n",
    "            payload = str(packet[ICMP].payload)\n",
    "            packet_len = len(packet[ICMP])\n",
    "            src_port = None\n",
    "            dst_port = None\n",
    "        else:\n",
    "            src_port = None\n",
    "            dst_port = None\n",
    "            payload = str(packet.payload)\n",
    "            packet_len = len(packet)\n",
    "\n",
    "        # Append the data to the list\n",
    "        data.append(\n",
    "            [\n",
    "                packet.time,\n",
    "                src_ip,\n",
    "                dst_ip,\n",
    "                src_port,\n",
    "                dst_port,\n",
    "                payload,\n",
    "                packet_len,\n",
    "                protocol,\n",
    "            ]\n",
    "        )\n",
    "\n",
    "    # Convert the list to a pandas dataframe\n",
    "    df = pd.DataFrame(\n",
    "        data,\n",
    "        columns=[\n",
    "            \"Timestamp\",\n",
    "            \"Source IP\",\n",
    "            \"Destination IP\",\n",
    "            \"Source Port\",\n",
    "            \"Destination Port\",\n",
    "            \"Payload\",\n",
    "            \"Packet Length\",\n",
    "            \"Protocol\",\n",
    "        ],\n",
    "    )\n",
    "\n",
    "    return df"
   ]
  },
  {
   "cell_type": "code",
   "execution_count": null,
   "metadata": {},
   "outputs": [],
   "source": [
    "# mirai_df = pcap_to_dataframe(pcap_reader_mirai)\n",
    "# benign_df = pcap_to_dataframe(pcap_reader_benign)"
   ]
  },
  {
   "cell_type": "code",
   "execution_count": 5,
   "metadata": {},
   "outputs": [],
   "source": [
    "# mirai_df.to_pickle(\"../data/bsides_aug/mirai.pkl\")\n",
    "# benign_df.to_pickle(\"../data/bsides_aug/benign.pkl\")"
   ]
  },
  {
   "cell_type": "code",
   "execution_count": 6,
   "metadata": {},
   "outputs": [],
   "source": [
    "mirai_df = pd.read_pickle(\"data/mirai.pkl\")\n",
    "benign_df = pd.read_pickle(\"data/benign.pkl\")"
   ]
  },
  {
   "cell_type": "code",
   "execution_count": null,
   "metadata": {},
   "outputs": [],
   "source": [
    "mirai_df"
   ]
  },
  {
   "cell_type": "code",
   "execution_count": null,
   "metadata": {},
   "outputs": [],
   "source": [
    "benign_df"
   ]
  },
  {
   "attachments": {},
   "cell_type": "markdown",
   "metadata": {},
   "source": [
    "## AI\n",
    "Use pandas AI to clean up the data"
   ]
  },
  {
   "cell_type": "code",
   "execution_count": 7,
   "metadata": {},
   "outputs": [],
   "source": [
    "# Instantiate a LLM\n",
    "llm = OpenAI(api_token=openai_api_key)\n",
    "pandas_ai = PandasAI(llm)"
   ]
  },
  {
   "cell_type": "code",
   "execution_count": 8,
   "metadata": {},
   "outputs": [],
   "source": [
    "mirai_cleaned_df = pandas_ai.run(mirai_df, prompt=\"Copy the dataframe to a new variable named df_cleaned. Do data cleaning. Return df_cleaned.\")"
   ]
  },
  {
   "cell_type": "code",
   "execution_count": 33,
   "metadata": {},
   "outputs": [],
   "source": [
    "benign_clean_df = pandas_ai.clean_data(benign_df)"
   ]
  },
  {
   "cell_type": "code",
   "execution_count": 9,
   "metadata": {},
   "outputs": [
    {
     "data": {
      "text/html": [
       "<div>\n",
       "<style scoped>\n",
       "    .dataframe tbody tr th:only-of-type {\n",
       "        vertical-align: middle;\n",
       "    }\n",
       "\n",
       "    .dataframe tbody tr th {\n",
       "        vertical-align: top;\n",
       "    }\n",
       "\n",
       "    .dataframe thead th {\n",
       "        text-align: right;\n",
       "    }\n",
       "</style>\n",
       "<table border=\"1\" class=\"dataframe\">\n",
       "  <thead>\n",
       "    <tr style=\"text-align: right;\">\n",
       "      <th></th>\n",
       "      <th>Timestamp</th>\n",
       "      <th>Source IP</th>\n",
       "      <th>Destination IP</th>\n",
       "      <th>Source Port</th>\n",
       "      <th>Destination Port</th>\n",
       "      <th>Payload</th>\n",
       "      <th>Packet Length</th>\n",
       "      <th>Protocol</th>\n",
       "    </tr>\n",
       "  </thead>\n",
       "  <tbody>\n",
       "    <tr>\n",
       "      <th>0</th>\n",
       "      <td>NaT</td>\n",
       "      <td>192.168.2.113</td>\n",
       "      <td>42.99.254.162</td>\n",
       "      <td>59650.0</td>\n",
       "      <td>80.0</td>\n",
       "      <td></td>\n",
       "      <td>40</td>\n",
       "      <td>6</td>\n",
       "    </tr>\n",
       "    <tr>\n",
       "      <th>1</th>\n",
       "      <td>NaT</td>\n",
       "      <td>192.168.2.1</td>\n",
       "      <td>192.168.2.113</td>\n",
       "      <td>NaN</td>\n",
       "      <td>NaN</td>\n",
       "      <td>IPerror / TCPerror</td>\n",
       "      <td>68</td>\n",
       "      <td>1</td>\n",
       "    </tr>\n",
       "    <tr>\n",
       "      <th>2</th>\n",
       "      <td>NaT</td>\n",
       "      <td>192.168.2.113</td>\n",
       "      <td>210.61.248.232</td>\n",
       "      <td>36060.0</td>\n",
       "      <td>80.0</td>\n",
       "      <td></td>\n",
       "      <td>40</td>\n",
       "      <td>6</td>\n",
       "    </tr>\n",
       "    <tr>\n",
       "      <th>3</th>\n",
       "      <td>NaT</td>\n",
       "      <td>192.168.2.108</td>\n",
       "      <td>50.19.254.134</td>\n",
       "      <td>32761.0</td>\n",
       "      <td>10240.0</td>\n",
       "      <td>Raw</td>\n",
       "      <td>48</td>\n",
       "      <td>17</td>\n",
       "    </tr>\n",
       "    <tr>\n",
       "      <th>4</th>\n",
       "      <td>NaT</td>\n",
       "      <td>192.168.2.108</td>\n",
       "      <td>122.248.234.207</td>\n",
       "      <td>32761.0</td>\n",
       "      <td>10240.0</td>\n",
       "      <td>Raw</td>\n",
       "      <td>48</td>\n",
       "      <td>17</td>\n",
       "    </tr>\n",
       "    <tr>\n",
       "      <th>...</th>\n",
       "      <td>...</td>\n",
       "      <td>...</td>\n",
       "      <td>...</td>\n",
       "      <td>...</td>\n",
       "      <td>...</td>\n",
       "      <td>...</td>\n",
       "      <td>...</td>\n",
       "      <td>...</td>\n",
       "    </tr>\n",
       "    <tr>\n",
       "      <th>82217</th>\n",
       "      <td>NaT</td>\n",
       "      <td>192.168.2.1</td>\n",
       "      <td>192.168.2.109</td>\n",
       "      <td>NaN</td>\n",
       "      <td>NaN</td>\n",
       "      <td>IPerror / UDPerror / DNS Qry \"b'time.windows.c...</td>\n",
       "      <td>70</td>\n",
       "      <td>1</td>\n",
       "    </tr>\n",
       "    <tr>\n",
       "      <th>82218</th>\n",
       "      <td>NaT</td>\n",
       "      <td>192.168.2.108</td>\n",
       "      <td>52.24.43.67</td>\n",
       "      <td>47157.0</td>\n",
       "      <td>80.0</td>\n",
       "      <td>Padding</td>\n",
       "      <td>26</td>\n",
       "      <td>6</td>\n",
       "    </tr>\n",
       "    <tr>\n",
       "      <th>82219</th>\n",
       "      <td>NaT</td>\n",
       "      <td>192.168.2.108</td>\n",
       "      <td>52.25.66.250</td>\n",
       "      <td>46453.0</td>\n",
       "      <td>8280.0</td>\n",
       "      <td>Padding</td>\n",
       "      <td>26</td>\n",
       "      <td>6</td>\n",
       "    </tr>\n",
       "    <tr>\n",
       "      <th>82220</th>\n",
       "      <td>NaT</td>\n",
       "      <td>192.168.2.1</td>\n",
       "      <td>192.168.2.108</td>\n",
       "      <td>NaN</td>\n",
       "      <td>NaN</td>\n",
       "      <td>IPerror / TCPerror</td>\n",
       "      <td>52</td>\n",
       "      <td>1</td>\n",
       "    </tr>\n",
       "    <tr>\n",
       "      <th>82221</th>\n",
       "      <td>NaT</td>\n",
       "      <td>192.168.2.115</td>\n",
       "      <td>192.168.2.1</td>\n",
       "      <td>3570.0</td>\n",
       "      <td>53.0</td>\n",
       "      <td>DNS Qry \"b'north-america.pool.ntp.org.Speedpor...</td>\n",
       "      <td>85</td>\n",
       "      <td>17</td>\n",
       "    </tr>\n",
       "  </tbody>\n",
       "</table>\n",
       "<p>82222 rows × 8 columns</p>\n",
       "</div>"
      ],
      "text/plain": [
       "      Timestamp      Source IP   Destination IP  Source Port  \\\n",
       "0           NaT  192.168.2.113    42.99.254.162      59650.0   \n",
       "1           NaT    192.168.2.1    192.168.2.113          NaN   \n",
       "2           NaT  192.168.2.113   210.61.248.232      36060.0   \n",
       "3           NaT  192.168.2.108    50.19.254.134      32761.0   \n",
       "4           NaT  192.168.2.108  122.248.234.207      32761.0   \n",
       "...         ...            ...              ...          ...   \n",
       "82217       NaT    192.168.2.1    192.168.2.109          NaN   \n",
       "82218       NaT  192.168.2.108      52.24.43.67      47157.0   \n",
       "82219       NaT  192.168.2.108     52.25.66.250      46453.0   \n",
       "82220       NaT    192.168.2.1    192.168.2.108          NaN   \n",
       "82221       NaT  192.168.2.115      192.168.2.1       3570.0   \n",
       "\n",
       "       Destination Port                                            Payload  \\\n",
       "0                  80.0                                                      \n",
       "1                   NaN                                 IPerror / TCPerror   \n",
       "2                  80.0                                                      \n",
       "3               10240.0                                                Raw   \n",
       "4               10240.0                                                Raw   \n",
       "...                 ...                                                ...   \n",
       "82217               NaN  IPerror / UDPerror / DNS Qry \"b'time.windows.c...   \n",
       "82218              80.0                                            Padding   \n",
       "82219            8280.0                                            Padding   \n",
       "82220               NaN                                 IPerror / TCPerror   \n",
       "82221              53.0  DNS Qry \"b'north-america.pool.ntp.org.Speedpor...   \n",
       "\n",
       "       Packet Length  Protocol  \n",
       "0                 40         6  \n",
       "1                 68         1  \n",
       "2                 40         6  \n",
       "3                 48        17  \n",
       "4                 48        17  \n",
       "...              ...       ...  \n",
       "82217             70         1  \n",
       "82218             26         6  \n",
       "82219             26         6  \n",
       "82220             52         1  \n",
       "82221             85        17  \n",
       "\n",
       "[82222 rows x 8 columns]"
      ]
     },
     "execution_count": 9,
     "metadata": {},
     "output_type": "execute_result"
    }
   ],
   "source": [
    "# TODO: run late night to get result\n",
    "mirai_cleaned_df"
   ]
  },
  {
   "cell_type": "code",
   "execution_count": 34,
   "metadata": {},
   "outputs": [
    {
     "data": {
      "text/html": [
       "<div>\n",
       "<style scoped>\n",
       "    .dataframe tbody tr th:only-of-type {\n",
       "        vertical-align: middle;\n",
       "    }\n",
       "\n",
       "    .dataframe tbody tr th {\n",
       "        vertical-align: top;\n",
       "    }\n",
       "\n",
       "    .dataframe thead th {\n",
       "        text-align: right;\n",
       "    }\n",
       "</style>\n",
       "<table border=\"1\" class=\"dataframe\">\n",
       "  <thead>\n",
       "    <tr style=\"text-align: right;\">\n",
       "      <th></th>\n",
       "      <th>Timestamp</th>\n",
       "      <th>Source IP</th>\n",
       "      <th>Destination IP</th>\n",
       "      <th>Source Port</th>\n",
       "      <th>Destination Port</th>\n",
       "      <th>Payload</th>\n",
       "      <th>Packet Length</th>\n",
       "      <th>Protocol</th>\n",
       "    </tr>\n",
       "  </thead>\n",
       "  <tbody>\n",
       "    <tr>\n",
       "      <th>0</th>\n",
       "      <td>NaT</td>\n",
       "      <td>10.0.0.1</td>\n",
       "      <td>224.0.0.2</td>\n",
       "      <td>646.0</td>\n",
       "      <td>646.0</td>\n",
       "      <td>Raw</td>\n",
       "      <td>42</td>\n",
       "      <td>17.0</td>\n",
       "    </tr>\n",
       "    <tr>\n",
       "      <th>1</th>\n",
       "      <td>NaT</td>\n",
       "      <td>10.0.0.1</td>\n",
       "      <td>224.0.0.2</td>\n",
       "      <td>646.0</td>\n",
       "      <td>646.0</td>\n",
       "      <td>Raw</td>\n",
       "      <td>42</td>\n",
       "      <td>17.0</td>\n",
       "    </tr>\n",
       "    <tr>\n",
       "      <th>2</th>\n",
       "      <td>NaT</td>\n",
       "      <td>10.0.0.2</td>\n",
       "      <td>224.0.0.2</td>\n",
       "      <td>646.0</td>\n",
       "      <td>646.0</td>\n",
       "      <td>Raw</td>\n",
       "      <td>42</td>\n",
       "      <td>17.0</td>\n",
       "    </tr>\n",
       "    <tr>\n",
       "      <th>3</th>\n",
       "      <td>NaT</td>\n",
       "      <td>10.0.0.2</td>\n",
       "      <td>224.0.0.2</td>\n",
       "      <td>646.0</td>\n",
       "      <td>646.0</td>\n",
       "      <td>Raw</td>\n",
       "      <td>42</td>\n",
       "      <td>17.0</td>\n",
       "    </tr>\n",
       "    <tr>\n",
       "      <th>4</th>\n",
       "      <td>NaT</td>\n",
       "      <td>10.0.0.2</td>\n",
       "      <td>224.0.0.5</td>\n",
       "      <td>NaN</td>\n",
       "      <td>NaN</td>\n",
       "      <td>10.0.0.2 &gt; 224.0.0.5 ospf / Raw</td>\n",
       "      <td>94</td>\n",
       "      <td>89.0</td>\n",
       "    </tr>\n",
       "    <tr>\n",
       "      <th>...</th>\n",
       "      <td>...</td>\n",
       "      <td>...</td>\n",
       "      <td>...</td>\n",
       "      <td>...</td>\n",
       "      <td>...</td>\n",
       "      <td>...</td>\n",
       "      <td>...</td>\n",
       "      <td>...</td>\n",
       "    </tr>\n",
       "    <tr>\n",
       "      <th>23051</th>\n",
       "      <td>NaT</td>\n",
       "      <td>194.247.5.27</td>\n",
       "      <td>194.247.5.1</td>\n",
       "      <td>1812.0</td>\n",
       "      <td>10048.0</td>\n",
       "      <td>Radius</td>\n",
       "      <td>40</td>\n",
       "      <td>17.0</td>\n",
       "    </tr>\n",
       "    <tr>\n",
       "      <th>23052</th>\n",
       "      <td>NaT</td>\n",
       "      <td>194.247.5.1</td>\n",
       "      <td>194.247.5.27</td>\n",
       "      <td>3860.0</td>\n",
       "      <td>1812.0</td>\n",
       "      <td>Radius</td>\n",
       "      <td>112</td>\n",
       "      <td>17.0</td>\n",
       "    </tr>\n",
       "    <tr>\n",
       "      <th>23053</th>\n",
       "      <td>NaT</td>\n",
       "      <td>194.247.5.27</td>\n",
       "      <td>194.247.5.1</td>\n",
       "      <td>1812.0</td>\n",
       "      <td>3860.0</td>\n",
       "      <td>Radius</td>\n",
       "      <td>104</td>\n",
       "      <td>17.0</td>\n",
       "    </tr>\n",
       "    <tr>\n",
       "      <th>23054</th>\n",
       "      <td>NaT</td>\n",
       "      <td>194.247.5.1</td>\n",
       "      <td>194.247.5.27</td>\n",
       "      <td>3373.0</td>\n",
       "      <td>1812.0</td>\n",
       "      <td>Radius</td>\n",
       "      <td>120</td>\n",
       "      <td>17.0</td>\n",
       "    </tr>\n",
       "    <tr>\n",
       "      <th>23055</th>\n",
       "      <td>NaT</td>\n",
       "      <td>194.247.5.27</td>\n",
       "      <td>194.247.5.1</td>\n",
       "      <td>1812.0</td>\n",
       "      <td>3373.0</td>\n",
       "      <td>Radius</td>\n",
       "      <td>199</td>\n",
       "      <td>17.0</td>\n",
       "    </tr>\n",
       "  </tbody>\n",
       "</table>\n",
       "<p>23056 rows × 8 columns</p>\n",
       "</div>"
      ],
      "text/plain": [
       "      Timestamp     Source IP Destination IP  Source Port  Destination Port  \\\n",
       "0           NaT      10.0.0.1      224.0.0.2        646.0             646.0   \n",
       "1           NaT      10.0.0.1      224.0.0.2        646.0             646.0   \n",
       "2           NaT      10.0.0.2      224.0.0.2        646.0             646.0   \n",
       "3           NaT      10.0.0.2      224.0.0.2        646.0             646.0   \n",
       "4           NaT      10.0.0.2      224.0.0.5          NaN               NaN   \n",
       "...         ...           ...            ...          ...               ...   \n",
       "23051       NaT  194.247.5.27    194.247.5.1       1812.0           10048.0   \n",
       "23052       NaT   194.247.5.1   194.247.5.27       3860.0            1812.0   \n",
       "23053       NaT  194.247.5.27    194.247.5.1       1812.0            3860.0   \n",
       "23054       NaT   194.247.5.1   194.247.5.27       3373.0            1812.0   \n",
       "23055       NaT  194.247.5.27    194.247.5.1       1812.0            3373.0   \n",
       "\n",
       "                               Payload  Packet Length  Protocol  \n",
       "0                                  Raw             42      17.0  \n",
       "1                                  Raw             42      17.0  \n",
       "2                                  Raw             42      17.0  \n",
       "3                                  Raw             42      17.0  \n",
       "4      10.0.0.2 > 224.0.0.5 ospf / Raw             94      89.0  \n",
       "...                                ...            ...       ...  \n",
       "23051                           Radius             40      17.0  \n",
       "23052                           Radius            112      17.0  \n",
       "23053                           Radius            104      17.0  \n",
       "23054                           Radius            120      17.0  \n",
       "23055                           Radius            199      17.0  \n",
       "\n",
       "[23056 rows x 8 columns]"
      ]
     },
     "execution_count": 34,
     "metadata": {},
     "output_type": "execute_result"
    }
   ],
   "source": [
    "benign_clean_df"
   ]
  },
  {
   "cell_type": "code",
   "execution_count": 10,
   "metadata": {},
   "outputs": [],
   "source": [
    "# mirai_cleaned_df.to_pickle(\"data/mirai_cleaned.pkl\")\n",
    "# benign_clean_df.to_pickle(\"data/benign_cleaned.pkl\")"
   ]
  },
  {
   "cell_type": "code",
   "execution_count": null,
   "metadata": {},
   "outputs": [],
   "source": [
    "mirai_cleaned_df = pd.read_pickle(\"data/mirai_cleaned.pkl\")\n",
    "benign_clean_df = pd.read_pickle(\"data/benign_cleaned.pkl\")"
   ]
  },
  {
   "attachments": {},
   "cell_type": "markdown",
   "metadata": {},
   "source": [
    "## Extract streams\n",
    "Extract streams using the tuple (src_IP, src_port, dst_ip, dst_port, protocol)."
   ]
  },
  {
   "cell_type": "code",
   "execution_count": 11,
   "metadata": {},
   "outputs": [],
   "source": [
    "def extract_streams(df: pd.DataFrame) -> pd.DataFrame:\n",
    "    # Create an empty list to store stream data as separate dataframes\n",
    "    dfs = []\n",
    "\n",
    "    # Group packets by src/dst IP and src/dst port\n",
    "    grouped = df.groupby(\n",
    "        [\"Source IP\", \"Destination IP\", \"Source Port\", \"Destination Port\", \"Protocol\"]\n",
    "    )\n",
    "\n",
    "    # Iterate through each group to extract stream data\n",
    "    for name, group in grouped:\n",
    "        # Get source/destination IP, port, and protocol\n",
    "        src_ip, dst_ip, src_port, dst_port, proto = name\n",
    "\n",
    "        # Get number of packets, total length, and duration of the stream\n",
    "        num_packets = len(group)\n",
    "        total_length = group[\"Packet Length\"].sum()\n",
    "        start_time = group[\"Timestamp\"].min()\n",
    "        end_time = group[\"Timestamp\"].max()\n",
    "        duration = float(end_time - start_time)\n",
    "\n",
    "        # Create a new dataframe with the stream data\n",
    "        stream_df = pd.DataFrame(\n",
    "            {\n",
    "                \"Source IP\": [src_ip],\n",
    "                \"Destination IP\": [dst_ip],\n",
    "                \"Source Port\": [src_port],\n",
    "                \"Destination Port\": [dst_port],\n",
    "                \"Protocol\": [proto],\n",
    "                \"Number of Packets\": [num_packets],\n",
    "                \"Total Length\": [total_length],\n",
    "                \"Duration\": [duration],\n",
    "            }\n",
    "        )\n",
    "\n",
    "        # Add the new dataframe to the list\n",
    "        dfs.append(stream_df)\n",
    "\n",
    "    # Concatenate all the dataframes in the list into one dataframe\n",
    "    stream_df = pd.concat(dfs, ignore_index=True)\n",
    "\n",
    "    # Return the new dataframe with stream data\n",
    "    return stream_df"
   ]
  },
  {
   "cell_type": "code",
   "execution_count": 12,
   "metadata": {},
   "outputs": [],
   "source": [
    "# TODO: find whi timestamp is gone in the cleaned dataframes and use cleaned dataframes here\n",
    "mirai_stream_df = extract_streams(mirai_df)\n",
    "benign_stream_df = extract_streams(benign_df)"
   ]
  },
  {
   "attachments": {},
   "cell_type": "markdown",
   "metadata": {},
   "source": [
    "# EDA\n",
    "\n",
    "Exploratory Data Analysis approaches the dataset as a black box that we need to visualize and analyze statistically with the following goals:\n",
    "- get insights about our data\n",
    "- test hypotheses\n",
    "- decide on models and further processing, such as feature engineering.\n",
    "\n",
    "EDA can be performed for benign and malicious data. Here we are looking at EDA only for malicious data, however the same functions can be applied to benign."
   ]
  },
  {
   "attachments": {},
   "cell_type": "markdown",
   "metadata": {},
   "source": [
    "## Descriptive statistics & data\n",
    "\n",
    "- Describe columns and data types\n",
    "- Descriptive statistics\n",
    "  -  count, \n",
    "  -  mean, \n",
    "  -  standard deviation, \n",
    "  -  minimum, \n",
    "  -  25th percentile, \n",
    "  -  median (50th percentile), \n",
    "  -  75th percentile, and \n",
    "  -  maximum"
   ]
  },
  {
   "cell_type": "code",
   "execution_count": 13,
   "metadata": {},
   "outputs": [
    {
     "data": {
      "text/plain": [
       "Index(['Source IP', 'Destination IP', 'Source Port', 'Destination Port',\n",
       "       'Protocol', 'Number of Packets', 'Total Length', 'Duration'],\n",
       "      dtype='object')"
      ]
     },
     "execution_count": 13,
     "metadata": {},
     "output_type": "execute_result"
    }
   ],
   "source": [
    "# describe, summarize etc.\n",
    "mirai_stream_df.columns"
   ]
  },
  {
   "cell_type": "code",
   "execution_count": 14,
   "metadata": {},
   "outputs": [
    {
     "data": {
      "text/plain": [
       "Source IP             object\n",
       "Destination IP        object\n",
       "Source Port          float64\n",
       "Destination Port     float64\n",
       "Protocol             float64\n",
       "Number of Packets      int64\n",
       "Total Length           int64\n",
       "Duration             float64\n",
       "dtype: object"
      ]
     },
     "execution_count": 14,
     "metadata": {},
     "output_type": "execute_result"
    }
   ],
   "source": [
    "mirai_stream_df.dtypes"
   ]
  },
  {
   "cell_type": "code",
   "execution_count": 15,
   "metadata": {},
   "outputs": [
    {
     "data": {
      "text/html": [
       "<div>\n",
       "<style scoped>\n",
       "    .dataframe tbody tr th:only-of-type {\n",
       "        vertical-align: middle;\n",
       "    }\n",
       "\n",
       "    .dataframe tbody tr th {\n",
       "        vertical-align: top;\n",
       "    }\n",
       "\n",
       "    .dataframe thead th {\n",
       "        text-align: right;\n",
       "    }\n",
       "</style>\n",
       "<table border=\"1\" class=\"dataframe\">\n",
       "  <thead>\n",
       "    <tr style=\"text-align: right;\">\n",
       "      <th></th>\n",
       "      <th>Source Port</th>\n",
       "      <th>Destination Port</th>\n",
       "      <th>Protocol</th>\n",
       "      <th>Number of Packets</th>\n",
       "      <th>Total Length</th>\n",
       "      <th>Duration</th>\n",
       "    </tr>\n",
       "  </thead>\n",
       "  <tbody>\n",
       "    <tr>\n",
       "      <th>count</th>\n",
       "      <td>14138.000000</td>\n",
       "      <td>14138.000000</td>\n",
       "      <td>14138.000000</td>\n",
       "      <td>14138.000000</td>\n",
       "      <td>14138.000000</td>\n",
       "      <td>14138.000000</td>\n",
       "    </tr>\n",
       "    <tr>\n",
       "      <th>mean</th>\n",
       "      <td>32980.104895</td>\n",
       "      <td>2152.375088</td>\n",
       "      <td>13.219479</td>\n",
       "      <td>4.705687</td>\n",
       "      <td>199.615009</td>\n",
       "      <td>14.185579</td>\n",
       "    </tr>\n",
       "    <tr>\n",
       "      <th>std</th>\n",
       "      <td>21650.445270</td>\n",
       "      <td>6092.466512</td>\n",
       "      <td>5.224492</td>\n",
       "      <td>72.311029</td>\n",
       "      <td>3057.301765</td>\n",
       "      <td>153.306208</td>\n",
       "    </tr>\n",
       "    <tr>\n",
       "      <th>min</th>\n",
       "      <td>0.000000</td>\n",
       "      <td>23.000000</td>\n",
       "      <td>6.000000</td>\n",
       "      <td>1.000000</td>\n",
       "      <td>26.000000</td>\n",
       "      <td>0.000000</td>\n",
       "    </tr>\n",
       "    <tr>\n",
       "      <th>25%</th>\n",
       "      <td>3206.250000</td>\n",
       "      <td>53.000000</td>\n",
       "      <td>6.000000</td>\n",
       "      <td>1.000000</td>\n",
       "      <td>40.000000</td>\n",
       "      <td>0.000000</td>\n",
       "    </tr>\n",
       "    <tr>\n",
       "      <th>50%</th>\n",
       "      <td>40048.500000</td>\n",
       "      <td>53.000000</td>\n",
       "      <td>17.000000</td>\n",
       "      <td>1.000000</td>\n",
       "      <td>74.000000</td>\n",
       "      <td>0.000000</td>\n",
       "    </tr>\n",
       "    <tr>\n",
       "      <th>75%</th>\n",
       "      <td>51555.000000</td>\n",
       "      <td>443.000000</td>\n",
       "      <td>17.000000</td>\n",
       "      <td>3.000000</td>\n",
       "      <td>104.000000</td>\n",
       "      <td>2.850280</td>\n",
       "    </tr>\n",
       "    <tr>\n",
       "      <th>max</th>\n",
       "      <td>64633.000000</td>\n",
       "      <td>63749.000000</td>\n",
       "      <td>17.000000</td>\n",
       "      <td>2862.000000</td>\n",
       "      <td>135840.000000</td>\n",
       "      <td>2571.501515</td>\n",
       "    </tr>\n",
       "  </tbody>\n",
       "</table>\n",
       "</div>"
      ],
      "text/plain": [
       "        Source Port  Destination Port      Protocol  Number of Packets  \\\n",
       "count  14138.000000      14138.000000  14138.000000       14138.000000   \n",
       "mean   32980.104895       2152.375088     13.219479           4.705687   \n",
       "std    21650.445270       6092.466512      5.224492          72.311029   \n",
       "min        0.000000         23.000000      6.000000           1.000000   \n",
       "25%     3206.250000         53.000000      6.000000           1.000000   \n",
       "50%    40048.500000         53.000000     17.000000           1.000000   \n",
       "75%    51555.000000        443.000000     17.000000           3.000000   \n",
       "max    64633.000000      63749.000000     17.000000        2862.000000   \n",
       "\n",
       "        Total Length      Duration  \n",
       "count   14138.000000  14138.000000  \n",
       "mean      199.615009     14.185579  \n",
       "std      3057.301765    153.306208  \n",
       "min        26.000000      0.000000  \n",
       "25%        40.000000      0.000000  \n",
       "50%        74.000000      0.000000  \n",
       "75%       104.000000      2.850280  \n",
       "max    135840.000000   2571.501515  "
      ]
     },
     "execution_count": 15,
     "metadata": {},
     "output_type": "execute_result"
    }
   ],
   "source": [
    "# descriptive statistics\n",
    "mirai_stream_df.describe()"
   ]
  },
  {
   "cell_type": "code",
   "execution_count": 16,
   "metadata": {},
   "outputs": [
    {
     "name": "stderr",
     "output_type": "stream",
     "text": [
      "/tmp/ipykernel_40362/1430202552.py:2: FutureWarning: The default value of numeric_only in DataFrame.corr is deprecated. In a future version, it will default to False. Select only valid columns or specify the value of numeric_only to silence this warning.\n",
      "  mirai_stream_df.corr()\n"
     ]
    },
    {
     "data": {
      "text/html": [
       "<div>\n",
       "<style scoped>\n",
       "    .dataframe tbody tr th:only-of-type {\n",
       "        vertical-align: middle;\n",
       "    }\n",
       "\n",
       "    .dataframe tbody tr th {\n",
       "        vertical-align: top;\n",
       "    }\n",
       "\n",
       "    .dataframe thead th {\n",
       "        text-align: right;\n",
       "    }\n",
       "</style>\n",
       "<table border=\"1\" class=\"dataframe\">\n",
       "  <thead>\n",
       "    <tr style=\"text-align: right;\">\n",
       "      <th></th>\n",
       "      <th>Source Port</th>\n",
       "      <th>Destination Port</th>\n",
       "      <th>Protocol</th>\n",
       "      <th>Number of Packets</th>\n",
       "      <th>Total Length</th>\n",
       "      <th>Duration</th>\n",
       "    </tr>\n",
       "  </thead>\n",
       "  <tbody>\n",
       "    <tr>\n",
       "      <th>Source Port</th>\n",
       "      <td>1.000000</td>\n",
       "      <td>-0.135555</td>\n",
       "      <td>-0.311714</td>\n",
       "      <td>-0.013628</td>\n",
       "      <td>-0.012811</td>\n",
       "      <td>-0.016093</td>\n",
       "    </tr>\n",
       "    <tr>\n",
       "      <th>Destination Port</th>\n",
       "      <td>-0.135555</td>\n",
       "      <td>1.000000</td>\n",
       "      <td>-0.214269</td>\n",
       "      <td>0.057033</td>\n",
       "      <td>0.057138</td>\n",
       "      <td>0.063952</td>\n",
       "    </tr>\n",
       "    <tr>\n",
       "      <th>Protocol</th>\n",
       "      <td>-0.311714</td>\n",
       "      <td>-0.214269</td>\n",
       "      <td>1.000000</td>\n",
       "      <td>-0.013221</td>\n",
       "      <td>0.005097</td>\n",
       "      <td>0.005727</td>\n",
       "    </tr>\n",
       "    <tr>\n",
       "      <th>Number of Packets</th>\n",
       "      <td>-0.013628</td>\n",
       "      <td>0.057033</td>\n",
       "      <td>-0.013221</td>\n",
       "      <td>1.000000</td>\n",
       "      <td>0.959277</td>\n",
       "      <td>0.620179</td>\n",
       "    </tr>\n",
       "    <tr>\n",
       "      <th>Total Length</th>\n",
       "      <td>-0.012811</td>\n",
       "      <td>0.057138</td>\n",
       "      <td>0.005097</td>\n",
       "      <td>0.959277</td>\n",
       "      <td>1.000000</td>\n",
       "      <td>0.603591</td>\n",
       "    </tr>\n",
       "    <tr>\n",
       "      <th>Duration</th>\n",
       "      <td>-0.016093</td>\n",
       "      <td>0.063952</td>\n",
       "      <td>0.005727</td>\n",
       "      <td>0.620179</td>\n",
       "      <td>0.603591</td>\n",
       "      <td>1.000000</td>\n",
       "    </tr>\n",
       "  </tbody>\n",
       "</table>\n",
       "</div>"
      ],
      "text/plain": [
       "                   Source Port  Destination Port  Protocol  Number of Packets  \\\n",
       "Source Port           1.000000         -0.135555 -0.311714          -0.013628   \n",
       "Destination Port     -0.135555          1.000000 -0.214269           0.057033   \n",
       "Protocol             -0.311714         -0.214269  1.000000          -0.013221   \n",
       "Number of Packets    -0.013628          0.057033 -0.013221           1.000000   \n",
       "Total Length         -0.012811          0.057138  0.005097           0.959277   \n",
       "Duration             -0.016093          0.063952  0.005727           0.620179   \n",
       "\n",
       "                   Total Length  Duration  \n",
       "Source Port           -0.012811 -0.016093  \n",
       "Destination Port       0.057138  0.063952  \n",
       "Protocol               0.005097  0.005727  \n",
       "Number of Packets      0.959277  0.620179  \n",
       "Total Length           1.000000  0.603591  \n",
       "Duration               0.603591  1.000000  "
      ]
     },
     "execution_count": 16,
     "metadata": {},
     "output_type": "execute_result"
    }
   ],
   "source": [
    "# correlation matrix for numerical values in dataframe\n",
    "mirai_stream_df.corr()"
   ]
  },
  {
   "attachments": {},
   "cell_type": "markdown",
   "metadata": {},
   "source": [
    "## Hypothesis testing\n",
    "\n",
    "- Is the difference between two groups or variables statistically significant?\n",
    "- Use t-test to compare means of two groups\n",
    "  - assumes that data follows normal distribution\n",
    "- Types of variables\n",
    "  - dependent: the effect of a phenomenon. For example, how does number of HTTP requests mean that a network is compromised?\n",
    "  - independent: the cause. The number of HTTP requests affects whether a network is compromised."
   ]
  },
  {
   "cell_type": "code",
   "execution_count": 17,
   "metadata": {},
   "outputs": [],
   "source": [
    "def hypothesis_testing(df, col1, col2):\n",
    "    group1 = df[col1]\n",
    "    group2 = df[col2]\n",
    "    pvalue = ttest_ind(group1, group2)[1]\n",
    "    if pvalue < 0.05:\n",
    "        return \"The difference between {} and {} is statistically significant (p < 0.05)\".format(\n",
    "            col1, col2\n",
    "        )\n",
    "    else:\n",
    "        return \"The difference between {} and {} is not statistically significant (p >= 0.05)\".format(\n",
    "            col1, col2\n",
    "        )"
   ]
  },
  {
   "cell_type": "code",
   "execution_count": 18,
   "metadata": {},
   "outputs": [
    {
     "data": {
      "text/plain": [
       "'The difference between Number of Packets and Total Length is statistically significant (p < 0.05)'"
      ]
     },
     "execution_count": 18,
     "metadata": {},
     "output_type": "execute_result"
    }
   ],
   "source": [
    "hypothesis_testing(mirai_stream_df, \"Number of Packets\", \"Total Length\")"
   ]
  },
  {
   "attachments": {},
   "cell_type": "markdown",
   "metadata": {},
   "source": [
    "## Outliers\n",
    "\n",
    "- observation that significantly differs from others in a dataset\n",
    "- Causes\n",
    "  - measurement errors\n",
    "  - extreme rare values\n",
    "- significant impact in statistical analysis\n",
    "- measurements\n",
    "  - z-score: `(x - mean) / std_dev`\n",
    "  - IQR method: this method identifies outliers as observations that are below `Q1 - 1.5IQR` or above `Q3 + 1.5IQR`, where Q1 and Q3 are the first and third quartiles, and IQR is the interquartile range (the difference between Q3 and Q1).\n",
    "  - visual inspection"
   ]
  },
  {
   "cell_type": "code",
   "execution_count": 19,
   "metadata": {},
   "outputs": [],
   "source": [
    "def detect_outliers_zscore(df, column, threshold=3):\n",
    "    zscores = np.abs(zscore(df[column]))\n",
    "    return df[zscores > threshold]"
   ]
  },
  {
   "cell_type": "code",
   "execution_count": 20,
   "metadata": {},
   "outputs": [
    {
     "name": "stdout",
     "output_type": "stream",
     "text": [
      "           Source IP   Destination IP  Source Port  Destination Port  \\\n",
      "1        192.168.2.1    192.168.2.110         23.0           21897.0   \n",
      "1611     192.168.2.1  239.255.255.250       1900.0            1900.0   \n",
      "1613   192.168.2.101    192.168.2.110         23.0           21897.0   \n",
      "1624   192.168.2.103    192.168.2.110         23.0           21897.0   \n",
      "2083   192.168.2.107    192.168.2.110         23.0           21897.0   \n",
      "2087   192.168.2.108   122.226.84.253      32761.0           10240.0   \n",
      "2088   192.168.2.108  122.248.234.207      32761.0           10240.0   \n",
      "2089   192.168.2.108    46.137.188.54      32761.0           10240.0   \n",
      "2090   192.168.2.108    50.19.254.134      32761.0           10240.0   \n",
      "3225   192.168.2.108    61.188.37.216      32761.0           10240.0   \n",
      "6219   192.168.2.110      192.168.2.1      21897.0              23.0   \n",
      "6884   192.168.2.110    192.168.2.101      21897.0              23.0   \n",
      "6887   192.168.2.110    192.168.2.103      21897.0              23.0   \n",
      "6895   192.168.2.110    192.168.2.107         23.0           57206.0   \n",
      "6896   192.168.2.110    192.168.2.107      21897.0              23.0   \n",
      "6899   192.168.2.110    192.168.2.118      21897.0              23.0   \n",
      "10075  192.168.2.113   104.199.156.58      50861.0           10240.0   \n",
      "10259  192.168.2.113  114.215.137.159      50861.0           10240.0   \n",
      "10302  192.168.2.113    120.24.59.150      50861.0           10240.0   \n",
      "10471  192.168.2.113   122.226.84.253      50861.0           10240.0   \n",
      "10577  192.168.2.113  122.248.234.207      50861.0           10240.0   \n",
      "10944  192.168.2.113    46.137.188.54      50861.0           10240.0   \n",
      "11050  192.168.2.113    50.19.254.134      50861.0           10240.0   \n",
      "11162  192.168.2.113    61.188.37.216      50861.0           10240.0   \n",
      "13200  192.168.2.115  239.255.255.250       1215.0            1900.0   \n",
      "13249  192.168.2.118    192.168.2.110         23.0           21897.0   \n",
      "14137  192.168.2.196    192.168.2.101      53781.0           51009.0   \n",
      "\n",
      "       Protocol  Number of Packets  Total Length     Duration  \n",
      "1           6.0               1432         37232  2375.572448  \n",
      "1611       17.0                 99         16434  1797.055992  \n",
      "1613        6.0               1431         37206  2376.723766  \n",
      "1624        6.0               1431         37206  2376.723102  \n",
      "2083        6.0               1432         37232  2376.719531  \n",
      "2087       17.0               2805        134640  2571.501515  \n",
      "2088       17.0               2830        135840  2571.501515  \n",
      "2089       17.0               2830        135840  2571.501514  \n",
      "2090       17.0               2830        135840  2571.501351  \n",
      "3225       17.0               2799        134352  2571.497782  \n",
      "6219        6.0               1432         37232  2375.572289  \n",
      "6884        6.0               1431         37206  2376.723879  \n",
      "6887        6.0               2862         74412  2376.732041  \n",
      "6895        6.0                165         10541   246.922758  \n",
      "6896        6.0               1432         37232  2376.719463  \n",
      "6899        6.0               1146         29796  2376.550166  \n",
      "10075      17.0               1049         50352  2543.196409  \n",
      "10259      17.0               1049         50352  2543.195274  \n",
      "10302      17.0               1049         50352  2543.195395  \n",
      "10471      17.0               1049         50352  2543.196243  \n",
      "10577      17.0               1049         50352  2543.195655  \n",
      "10944      17.0               1049         50352  2543.195094  \n",
      "11050      17.0               1049         50352  2543.199794  \n",
      "11162      17.0               1049         50352  2543.194693  \n",
      "13200      17.0                258         42828  2550.251090  \n",
      "13249       6.0               1146         22920  2376.550201  \n",
      "14137      17.0                240         39840  2408.542301  \n"
     ]
    }
   ],
   "source": [
    "outliers = detect_outliers_zscore(mirai_stream_df, \"Total Length\", threshold=3)\n",
    "print(outliers)"
   ]
  },
  {
   "attachments": {},
   "cell_type": "markdown",
   "metadata": {},
   "source": [
    "## AI\n",
    "Explore the data with AI"
   ]
  },
  {
   "cell_type": "code",
   "execution_count": 21,
   "metadata": {},
   "outputs": [
    {
     "data": {
      "text/plain": [
       "'Source IP\\n192.168.2.108    18726\\n192.168.2.110    14341\\n192.168.2.1      13719\\n192.168.2.113    12491\\n192.168.2.115     4859\\nName: Source IP, dtype: int64'"
      ]
     },
     "execution_count": 21,
     "metadata": {},
     "output_type": "execute_result"
    }
   ],
   "source": [
    "top_5_source_IPs = pandas_ai(\n",
    "    mirai_df, prompt=\"Which are the 5 most popular source IP addresses?\"\n",
    ")\n",
    "top_5_source_IPs"
   ]
  },
  {
   "cell_type": "code",
   "execution_count": 22,
   "metadata": {},
   "outputs": [
    {
     "data": {
      "text/plain": [
       "'Destination Port\\n10240.0    22486\\n53.0       12078\\n23.0        9085\\n21897.0     7158\\n80.0        6429\\ndtype: int64'"
      ]
     },
     "execution_count": 22,
     "metadata": {},
     "output_type": "execute_result"
    }
   ],
   "source": [
    "top_5_dst_ports = pandas_ai(\n",
    "    mirai_df, prompt=\"Which are the 5 most popular destination ports?\"\n",
    ")\n",
    "top_5_dst_ports"
   ]
  },
  {
   "cell_type": "code",
   "execution_count": 23,
   "metadata": {},
   "outputs": [
    {
     "data": {
      "image/png": "[encoded data removed]",
      "text/plain": [
       "<Figure size 640x480 with 1 Axes>"
      ]
     },
     "metadata": {},
     "output_type": "display_data"
    },
    {
     "data": {
      "text/plain": [
       "\"<class 'pandas.core.frame.DataFrame'>\\nRangeIndex: 14138 entries, 0 to 14137\\nData columns (total 8 columns):\\n #   Column             Non-Null Count  Dtype  \\n---  ------             --------------  -----  \\n 0   Source IP          14138 non-null  object \\n 1   Destination IP     14138 non-null  object \\n 2   Source Port        14138 non-null  float64\\n 3   Destination Port   14138 non-null  float64\\n 4   Protocol           14138 non-null  float64\\n 5   Number of Packets  14138 non-null  int64  \\n 6   Total Length       14138 non-null  int64  \\n 7   Duration           14138 non-null  float64\\ndtypes: float64(4), int64(2), object(2)\\nmemory usage: 883.8+ KB\\nNone\""
      ]
     },
     "execution_count": 23,
     "metadata": {},
     "output_type": "execute_result"
    }
   ],
   "source": [
    "pandas_ai.run(\n",
    "    mirai_stream_df,\n",
    "    prompt=\"Plot the scatter plot of stream durations and number of packets.\",\n",
    ")"
   ]
  },
  {
   "cell_type": "code",
   "execution_count": 24,
   "metadata": {},
   "outputs": [
    {
     "data": {
      "image/png": "[encoded data removed]",
      "text/plain": [
       "<Figure size 640x480 with 1 Axes>"
      ]
     },
     "metadata": {},
     "output_type": "display_data"
    }
   ],
   "source": [
    "pandas_ai.run(benign_stream_df, prompt=\"Plot a barplot of top 10 destination ports.\")"
   ]
  },
  {
   "attachments": {},
   "cell_type": "markdown",
   "metadata": {},
   "source": [
    "# Feature Engineering"
   ]
  },
  {
   "attachments": {},
   "cell_type": "markdown",
   "metadata": {},
   "source": [
    "## Numerical"
   ]
  },
  {
   "cell_type": "code",
   "execution_count": 25,
   "metadata": {},
   "outputs": [],
   "source": [
    "# convert ip address to numeric values\n",
    "def ip_to_numeric(ip):\n",
    "    ip_obj = ipaddress.ip_interface(ip)\n",
    "    return int(ip_obj.network.network_address)"
   ]
  },
  {
   "cell_type": "code",
   "execution_count": 26,
   "metadata": {},
   "outputs": [],
   "source": [
    "# convert IPs to numeric mirai data\n",
    "mirai_stream_df[\"Source IP Numeric\"] = mirai_stream_df[\"Source IP\"].apply(ip_to_numeric)\n",
    "mirai_stream_df[\"Destination IP Numeric\"] = mirai_stream_df[\"Destination IP\"].apply(\n",
    "    ip_to_numeric\n",
    ")"
   ]
  },
  {
   "cell_type": "code",
   "execution_count": 27,
   "metadata": {},
   "outputs": [],
   "source": [
    "# convert IPs to numeric benign data\n",
    "benign_stream_df[\"Source IP Numeric\"] = benign_stream_df[\"Source IP\"].apply(\n",
    "    ip_to_numeric\n",
    ")\n",
    "benign_stream_df[\"Destination IP Numeric\"] = benign_stream_df[\"Destination IP\"].apply(\n",
    "    ip_to_numeric\n",
    ")"
   ]
  },
  {
   "cell_type": "code",
   "execution_count": 28,
   "metadata": {},
   "outputs": [],
   "source": [
    "# get rid of non numeric columns for IPs\n",
    "mirai_stream_df_numeric = mirai_stream_df.drop(columns=[\"Source IP\", \"Destination IP\"])\n",
    "benign_stream_df_numeric = benign_stream_df.drop(\n",
    "    columns=[\"Source IP\", \"Destination IP\"]\n",
    ")"
   ]
  },
  {
   "cell_type": "code",
   "execution_count": 29,
   "metadata": {},
   "outputs": [],
   "source": [
    "# convert duration from object to float\n",
    "mirai_stream_df[\"Duration\"] = mirai_stream_df_numeric[\"Duration\"].astype(float)\n",
    "benign_stream_df[\"Duration\"] = benign_stream_df_numeric[\"Duration\"].astype(float)"
   ]
  },
  {
   "cell_type": "code",
   "execution_count": 30,
   "metadata": {},
   "outputs": [
    {
     "data": {
      "text/plain": [
       "Source Port               float64\n",
       "Destination Port          float64\n",
       "Protocol                  float64\n",
       "Number of Packets           int64\n",
       "Total Length                int64\n",
       "Duration                  float64\n",
       "Source IP Numeric           int64\n",
       "Destination IP Numeric      int64\n",
       "dtype: object"
      ]
     },
     "execution_count": 30,
     "metadata": {},
     "output_type": "execute_result"
    }
   ],
   "source": [
    "# check if all data types are numeric now\n",
    "mirai_stream_df_numeric.dtypes"
   ]
  },
  {
   "attachments": {},
   "cell_type": "markdown",
   "metadata": {},
   "source": [
    "## AI\n",
    "Generate features using `generate_features` from `pandas_ai` on cleaned up data or subset of original due to long requests."
   ]
  },
  {
   "cell_type": "code",
   "execution_count": 31,
   "metadata": {},
   "outputs": [
    {
     "data": {
      "text/html": [
       "<div>\n",
       "<style scoped>\n",
       "    .dataframe tbody tr th:only-of-type {\n",
       "        vertical-align: middle;\n",
       "    }\n",
       "\n",
       "    .dataframe tbody tr th {\n",
       "        vertical-align: top;\n",
       "    }\n",
       "\n",
       "    .dataframe thead th {\n",
       "        text-align: right;\n",
       "    }\n",
       "</style>\n",
       "<table border=\"1\" class=\"dataframe\">\n",
       "  <thead>\n",
       "    <tr style=\"text-align: right;\">\n",
       "      <th></th>\n",
       "      <th>Hour</th>\n",
       "      <th>Minute</th>\n",
       "      <th>Second</th>\n",
       "      <th>Source_IP</th>\n",
       "      <th>Destination_IP</th>\n",
       "      <th>Source_Port</th>\n",
       "      <th>Destination_Port</th>\n",
       "      <th>Packet Length</th>\n",
       "      <th>Protocol</th>\n",
       "    </tr>\n",
       "  </thead>\n",
       "  <tbody>\n",
       "    <tr>\n",
       "      <th>0</th>\n",
       "      <td>NaN</td>\n",
       "      <td>NaN</td>\n",
       "      <td>NaN</td>\n",
       "      <td>NaN</td>\n",
       "      <td>NaN</td>\n",
       "      <td>NaN</td>\n",
       "      <td>NaN</td>\n",
       "      <td>40</td>\n",
       "      <td>6</td>\n",
       "    </tr>\n",
       "    <tr>\n",
       "      <th>1</th>\n",
       "      <td>NaN</td>\n",
       "      <td>NaN</td>\n",
       "      <td>NaN</td>\n",
       "      <td>NaN</td>\n",
       "      <td>NaN</td>\n",
       "      <td>NaN</td>\n",
       "      <td>NaN</td>\n",
       "      <td>68</td>\n",
       "      <td>1</td>\n",
       "    </tr>\n",
       "    <tr>\n",
       "      <th>2</th>\n",
       "      <td>NaN</td>\n",
       "      <td>NaN</td>\n",
       "      <td>NaN</td>\n",
       "      <td>NaN</td>\n",
       "      <td>NaN</td>\n",
       "      <td>NaN</td>\n",
       "      <td>NaN</td>\n",
       "      <td>40</td>\n",
       "      <td>6</td>\n",
       "    </tr>\n",
       "    <tr>\n",
       "      <th>3</th>\n",
       "      <td>NaN</td>\n",
       "      <td>NaN</td>\n",
       "      <td>NaN</td>\n",
       "      <td>NaN</td>\n",
       "      <td>NaN</td>\n",
       "      <td>NaN</td>\n",
       "      <td>NaN</td>\n",
       "      <td>48</td>\n",
       "      <td>17</td>\n",
       "    </tr>\n",
       "    <tr>\n",
       "      <th>4</th>\n",
       "      <td>NaN</td>\n",
       "      <td>NaN</td>\n",
       "      <td>NaN</td>\n",
       "      <td>NaN</td>\n",
       "      <td>NaN</td>\n",
       "      <td>NaN</td>\n",
       "      <td>NaN</td>\n",
       "      <td>48</td>\n",
       "      <td>17</td>\n",
       "    </tr>\n",
       "    <tr>\n",
       "      <th>...</th>\n",
       "      <td>...</td>\n",
       "      <td>...</td>\n",
       "      <td>...</td>\n",
       "      <td>...</td>\n",
       "      <td>...</td>\n",
       "      <td>...</td>\n",
       "      <td>...</td>\n",
       "      <td>...</td>\n",
       "      <td>...</td>\n",
       "    </tr>\n",
       "    <tr>\n",
       "      <th>82217</th>\n",
       "      <td>NaN</td>\n",
       "      <td>NaN</td>\n",
       "      <td>NaN</td>\n",
       "      <td>NaN</td>\n",
       "      <td>NaN</td>\n",
       "      <td>NaN</td>\n",
       "      <td>NaN</td>\n",
       "      <td>70</td>\n",
       "      <td>1</td>\n",
       "    </tr>\n",
       "    <tr>\n",
       "      <th>82218</th>\n",
       "      <td>NaN</td>\n",
       "      <td>NaN</td>\n",
       "      <td>NaN</td>\n",
       "      <td>NaN</td>\n",
       "      <td>NaN</td>\n",
       "      <td>NaN</td>\n",
       "      <td>NaN</td>\n",
       "      <td>26</td>\n",
       "      <td>6</td>\n",
       "    </tr>\n",
       "    <tr>\n",
       "      <th>82219</th>\n",
       "      <td>NaN</td>\n",
       "      <td>NaN</td>\n",
       "      <td>NaN</td>\n",
       "      <td>NaN</td>\n",
       "      <td>NaN</td>\n",
       "      <td>NaN</td>\n",
       "      <td>NaN</td>\n",
       "      <td>26</td>\n",
       "      <td>6</td>\n",
       "    </tr>\n",
       "    <tr>\n",
       "      <th>82220</th>\n",
       "      <td>NaN</td>\n",
       "      <td>NaN</td>\n",
       "      <td>NaN</td>\n",
       "      <td>NaN</td>\n",
       "      <td>NaN</td>\n",
       "      <td>NaN</td>\n",
       "      <td>NaN</td>\n",
       "      <td>52</td>\n",
       "      <td>1</td>\n",
       "    </tr>\n",
       "    <tr>\n",
       "      <th>82221</th>\n",
       "      <td>NaN</td>\n",
       "      <td>NaN</td>\n",
       "      <td>NaN</td>\n",
       "      <td>NaN</td>\n",
       "      <td>NaN</td>\n",
       "      <td>NaN</td>\n",
       "      <td>NaN</td>\n",
       "      <td>85</td>\n",
       "      <td>17</td>\n",
       "    </tr>\n",
       "  </tbody>\n",
       "</table>\n",
       "<p>82222 rows × 9 columns</p>\n",
       "</div>"
      ],
      "text/plain": [
       "       Hour  Minute  Second Source_IP Destination_IP  Source_Port  \\\n",
       "0       NaN     NaN     NaN       NaN            NaN          NaN   \n",
       "1       NaN     NaN     NaN       NaN            NaN          NaN   \n",
       "2       NaN     NaN     NaN       NaN            NaN          NaN   \n",
       "3       NaN     NaN     NaN       NaN            NaN          NaN   \n",
       "4       NaN     NaN     NaN       NaN            NaN          NaN   \n",
       "...     ...     ...     ...       ...            ...          ...   \n",
       "82217   NaN     NaN     NaN       NaN            NaN          NaN   \n",
       "82218   NaN     NaN     NaN       NaN            NaN          NaN   \n",
       "82219   NaN     NaN     NaN       NaN            NaN          NaN   \n",
       "82220   NaN     NaN     NaN       NaN            NaN          NaN   \n",
       "82221   NaN     NaN     NaN       NaN            NaN          NaN   \n",
       "\n",
       "       Destination_Port  Packet Length  Protocol  \n",
       "0                   NaN             40         6  \n",
       "1                   NaN             68         1  \n",
       "2                   NaN             40         6  \n",
       "3                   NaN             48        17  \n",
       "4                   NaN             48        17  \n",
       "...                 ...            ...       ...  \n",
       "82217               NaN             70         1  \n",
       "82218               NaN             26         6  \n",
       "82219               NaN             26         6  \n",
       "82220               NaN             52         1  \n",
       "82221               NaN             85        17  \n",
       "\n",
       "[82222 rows x 9 columns]"
      ]
     },
     "execution_count": 31,
     "metadata": {},
     "output_type": "execute_result"
    }
   ],
   "source": [
    "pandas_ai.generate_features(mirai_cleaned_df)"
   ]
  },
  {
   "cell_type": "code",
   "execution_count": 35,
   "metadata": {},
   "outputs": [
    {
     "data": {
      "text/html": [
       "<div>\n",
       "<style scoped>\n",
       "    .dataframe tbody tr th:only-of-type {\n",
       "        vertical-align: middle;\n",
       "    }\n",
       "\n",
       "    .dataframe tbody tr th {\n",
       "        vertical-align: top;\n",
       "    }\n",
       "\n",
       "    .dataframe thead th {\n",
       "        text-align: right;\n",
       "    }\n",
       "</style>\n",
       "<table border=\"1\" class=\"dataframe\">\n",
       "  <thead>\n",
       "    <tr style=\"text-align: right;\">\n",
       "      <th></th>\n",
       "      <th>Hour</th>\n",
       "      <th>Minute</th>\n",
       "      <th>Second</th>\n",
       "      <th>Source_IP</th>\n",
       "      <th>Destination_IP</th>\n",
       "      <th>Source_Port</th>\n",
       "      <th>Destination_Port</th>\n",
       "      <th>Packet Length</th>\n",
       "      <th>Protocol</th>\n",
       "    </tr>\n",
       "  </thead>\n",
       "  <tbody>\n",
       "    <tr>\n",
       "      <th>0</th>\n",
       "      <td>NaN</td>\n",
       "      <td>NaN</td>\n",
       "      <td>NaN</td>\n",
       "      <td>NaN</td>\n",
       "      <td>NaN</td>\n",
       "      <td>NaN</td>\n",
       "      <td>NaN</td>\n",
       "      <td>42</td>\n",
       "      <td>17.0</td>\n",
       "    </tr>\n",
       "    <tr>\n",
       "      <th>1</th>\n",
       "      <td>NaN</td>\n",
       "      <td>NaN</td>\n",
       "      <td>NaN</td>\n",
       "      <td>NaN</td>\n",
       "      <td>NaN</td>\n",
       "      <td>NaN</td>\n",
       "      <td>NaN</td>\n",
       "      <td>42</td>\n",
       "      <td>17.0</td>\n",
       "    </tr>\n",
       "    <tr>\n",
       "      <th>2</th>\n",
       "      <td>NaN</td>\n",
       "      <td>NaN</td>\n",
       "      <td>NaN</td>\n",
       "      <td>NaN</td>\n",
       "      <td>NaN</td>\n",
       "      <td>NaN</td>\n",
       "      <td>NaN</td>\n",
       "      <td>42</td>\n",
       "      <td>17.0</td>\n",
       "    </tr>\n",
       "    <tr>\n",
       "      <th>3</th>\n",
       "      <td>NaN</td>\n",
       "      <td>NaN</td>\n",
       "      <td>NaN</td>\n",
       "      <td>NaN</td>\n",
       "      <td>NaN</td>\n",
       "      <td>NaN</td>\n",
       "      <td>NaN</td>\n",
       "      <td>42</td>\n",
       "      <td>17.0</td>\n",
       "    </tr>\n",
       "    <tr>\n",
       "      <th>4</th>\n",
       "      <td>NaN</td>\n",
       "      <td>NaN</td>\n",
       "      <td>NaN</td>\n",
       "      <td>10.0.0.2</td>\n",
       "      <td>NaN</td>\n",
       "      <td>NaN</td>\n",
       "      <td>NaN</td>\n",
       "      <td>94</td>\n",
       "      <td>89.0</td>\n",
       "    </tr>\n",
       "    <tr>\n",
       "      <th>...</th>\n",
       "      <td>...</td>\n",
       "      <td>...</td>\n",
       "      <td>...</td>\n",
       "      <td>...</td>\n",
       "      <td>...</td>\n",
       "      <td>...</td>\n",
       "      <td>...</td>\n",
       "      <td>...</td>\n",
       "      <td>...</td>\n",
       "    </tr>\n",
       "    <tr>\n",
       "      <th>23051</th>\n",
       "      <td>NaN</td>\n",
       "      <td>NaN</td>\n",
       "      <td>NaN</td>\n",
       "      <td>NaN</td>\n",
       "      <td>NaN</td>\n",
       "      <td>NaN</td>\n",
       "      <td>NaN</td>\n",
       "      <td>40</td>\n",
       "      <td>17.0</td>\n",
       "    </tr>\n",
       "    <tr>\n",
       "      <th>23052</th>\n",
       "      <td>NaN</td>\n",
       "      <td>NaN</td>\n",
       "      <td>NaN</td>\n",
       "      <td>NaN</td>\n",
       "      <td>NaN</td>\n",
       "      <td>NaN</td>\n",
       "      <td>NaN</td>\n",
       "      <td>112</td>\n",
       "      <td>17.0</td>\n",
       "    </tr>\n",
       "    <tr>\n",
       "      <th>23053</th>\n",
       "      <td>NaN</td>\n",
       "      <td>NaN</td>\n",
       "      <td>NaN</td>\n",
       "      <td>NaN</td>\n",
       "      <td>NaN</td>\n",
       "      <td>NaN</td>\n",
       "      <td>NaN</td>\n",
       "      <td>104</td>\n",
       "      <td>17.0</td>\n",
       "    </tr>\n",
       "    <tr>\n",
       "      <th>23054</th>\n",
       "      <td>NaN</td>\n",
       "      <td>NaN</td>\n",
       "      <td>NaN</td>\n",
       "      <td>NaN</td>\n",
       "      <td>NaN</td>\n",
       "      <td>NaN</td>\n",
       "      <td>NaN</td>\n",
       "      <td>120</td>\n",
       "      <td>17.0</td>\n",
       "    </tr>\n",
       "    <tr>\n",
       "      <th>23055</th>\n",
       "      <td>NaN</td>\n",
       "      <td>NaN</td>\n",
       "      <td>NaN</td>\n",
       "      <td>NaN</td>\n",
       "      <td>NaN</td>\n",
       "      <td>NaN</td>\n",
       "      <td>NaN</td>\n",
       "      <td>199</td>\n",
       "      <td>17.0</td>\n",
       "    </tr>\n",
       "  </tbody>\n",
       "</table>\n",
       "<p>23056 rows × 9 columns</p>\n",
       "</div>"
      ],
      "text/plain": [
       "       Hour  Minute  Second Source_IP Destination_IP  Source_Port  \\\n",
       "0       NaN     NaN     NaN       NaN            NaN          NaN   \n",
       "1       NaN     NaN     NaN       NaN            NaN          NaN   \n",
       "2       NaN     NaN     NaN       NaN            NaN          NaN   \n",
       "3       NaN     NaN     NaN       NaN            NaN          NaN   \n",
       "4       NaN     NaN     NaN  10.0.0.2            NaN          NaN   \n",
       "...     ...     ...     ...       ...            ...          ...   \n",
       "23051   NaN     NaN     NaN       NaN            NaN          NaN   \n",
       "23052   NaN     NaN     NaN       NaN            NaN          NaN   \n",
       "23053   NaN     NaN     NaN       NaN            NaN          NaN   \n",
       "23054   NaN     NaN     NaN       NaN            NaN          NaN   \n",
       "23055   NaN     NaN     NaN       NaN            NaN          NaN   \n",
       "\n",
       "       Destination_Port  Packet Length  Protocol  \n",
       "0                   NaN             42      17.0  \n",
       "1                   NaN             42      17.0  \n",
       "2                   NaN             42      17.0  \n",
       "3                   NaN             42      17.0  \n",
       "4                   NaN             94      89.0  \n",
       "...                 ...            ...       ...  \n",
       "23051               NaN             40      17.0  \n",
       "23052               NaN            112      17.0  \n",
       "23053               NaN            104      17.0  \n",
       "23054               NaN            120      17.0  \n",
       "23055               NaN            199      17.0  \n",
       "\n",
       "[23056 rows x 9 columns]"
      ]
     },
     "execution_count": 35,
     "metadata": {},
     "output_type": "execute_result"
    }
   ],
   "source": [
    "pandas_ai.generate_features(benign_clean_df)"
   ]
  },
  {
   "attachments": {},
   "cell_type": "markdown",
   "metadata": {},
   "source": [
    "# Summaries & Visualizations"
   ]
  },
  {
   "cell_type": "code",
   "execution_count": 36,
   "metadata": {},
   "outputs": [
    {
     "data": {
      "text/html": [
       "<pre style=\"white-space:pre;overflow-x:auto;line-height:normal;font-family:Menlo,'DejaVu Sans Mono',consolas,'Courier New',monospace\">╭──────────────────────────────────────────────── skimpy summary ─────────────────────────────────────────────────╮\n",
       "│ <span style=\"font-style: italic\">         Data Summary         </span> <span style=\"font-style: italic\">      Data Types       </span>                                                          │\n",
       "│ ┏━━━━━━━━━━━━━━━━━━━┳━━━━━━━━┓ ┏━━━━━━━━━━━━━┳━━━━━━━┓                                                          │\n",
       "│ ┃<span style=\"color: #008080; text-decoration-color: #008080; font-weight: bold\"> dataframe         </span>┃<span style=\"color: #008080; text-decoration-color: #008080; font-weight: bold\"> Values </span>┃ ┃<span style=\"color: #008080; text-decoration-color: #008080; font-weight: bold\"> Column Type </span>┃<span style=\"color: #008080; text-decoration-color: #008080; font-weight: bold\"> Count </span>┃                                                          │\n",
       "│ ┡━━━━━━━━━━━━━━━━━━━╇━━━━━━━━┩ ┡━━━━━━━━━━━━━╇━━━━━━━┩                                                          │\n",
       "│ │ Number of rows    │ 14138  │ │ float64     │ 4     │                                                          │\n",
       "│ │ Number of columns │ 8      │ │ int64       │ 4     │                                                          │\n",
       "│ └───────────────────┴────────┘ └─────────────┴───────┘                                                          │\n",
       "│ <span style=\"font-style: italic\">                                                    number                                                    </span>  │\n",
       "│ ┏━━━━━━━━━━━━┳━━━━┳━━━━━━┳━━━━━━━━━━━━┳━━━━━━━━━━━━┳━━━━━━━━━━━┳━━━━━━━━━━━┳━━━━━━━━━━━━┳━━━━━━━━━━━┳━━━━━━━━┓  │\n",
       "│ ┃<span style=\"font-weight: bold\"> column_nam </span>┃<span style=\"font-weight: bold\">    </span>┃<span style=\"font-weight: bold\">      </span>┃<span style=\"font-weight: bold\">            </span>┃<span style=\"font-weight: bold\">            </span>┃<span style=\"font-weight: bold\">           </span>┃<span style=\"font-weight: bold\">           </span>┃<span style=\"font-weight: bold\">            </span>┃<span style=\"font-weight: bold\">           </span>┃<span style=\"font-weight: bold\">        </span>┃  │\n",
       "│ ┃<span style=\"font-weight: bold\"> e          </span>┃<span style=\"font-weight: bold\"> NA </span>┃<span style=\"font-weight: bold\"> NA % </span>┃<span style=\"font-weight: bold\"> mean       </span>┃<span style=\"font-weight: bold\"> sd         </span>┃<span style=\"font-weight: bold\"> p0        </span>┃<span style=\"font-weight: bold\"> p25       </span>┃<span style=\"font-weight: bold\"> p75        </span>┃<span style=\"font-weight: bold\"> p100      </span>┃<span style=\"font-weight: bold\"> hist   </span>┃  │\n",
       "│ ┡━━━━━━━━━━━━╇━━━━╇━━━━━━╇━━━━━━━━━━━━╇━━━━━━━━━━━━╇━━━━━━━━━━━╇━━━━━━━━━━━╇━━━━━━━━━━━━╇━━━━━━━━━━━╇━━━━━━━━┩  │\n",
       "│ │ <span style=\"color: #af87ff; text-decoration-color: #af87ff\">Source    </span> │ <span style=\"color: #008080; text-decoration-color: #008080\"> 0</span> │ <span style=\"color: #008080; text-decoration-color: #008080\">   0</span> │ <span style=\"color: #008080; text-decoration-color: #008080\">     33000</span> │ <span style=\"color: #008080; text-decoration-color: #008080\">     22000</span> │ <span style=\"color: #008080; text-decoration-color: #008080\">        0</span> │ <span style=\"color: #008080; text-decoration-color: #008080\">     3200</span> │ <span style=\"color: #008080; text-decoration-color: #008080\">     52000</span> │ <span style=\"color: #008080; text-decoration-color: #008080\">    65000</span> │ <span style=\"color: #008000; text-decoration-color: #008000\">█▁▁▇▇▅</span> │  │\n",
       "│ │ <span style=\"color: #af87ff; text-decoration-color: #af87ff\">Port      </span> │    │      │            │            │           │           │            │           │        │  │\n",
       "│ │ <span style=\"color: #af87ff; text-decoration-color: #af87ff\">Destinatio</span> │ <span style=\"color: #008080; text-decoration-color: #008080\"> 0</span> │ <span style=\"color: #008080; text-decoration-color: #008080\">   0</span> │ <span style=\"color: #008080; text-decoration-color: #008080\">      2200</span> │ <span style=\"color: #008080; text-decoration-color: #008080\">      6100</span> │ <span style=\"color: #008080; text-decoration-color: #008080\">       23</span> │ <span style=\"color: #008080; text-decoration-color: #008080\">       53</span> │ <span style=\"color: #008080; text-decoration-color: #008080\">       440</span> │ <span style=\"color: #008080; text-decoration-color: #008080\">    64000</span> │ <span style=\"color: #008000; text-decoration-color: #008000\">  █   </span> │  │\n",
       "│ │ <span style=\"color: #af87ff; text-decoration-color: #af87ff\">n Port    </span> │    │      │            │            │           │           │            │           │        │  │\n",
       "│ │ <span style=\"color: #af87ff; text-decoration-color: #af87ff\">Protocol  </span> │ <span style=\"color: #008080; text-decoration-color: #008080\"> 0</span> │ <span style=\"color: #008080; text-decoration-color: #008080\">   0</span> │ <span style=\"color: #008080; text-decoration-color: #008080\">        13</span> │ <span style=\"color: #008080; text-decoration-color: #008080\">       5.2</span> │ <span style=\"color: #008080; text-decoration-color: #008080\">        6</span> │ <span style=\"color: #008080; text-decoration-color: #008080\">        6</span> │ <span style=\"color: #008080; text-decoration-color: #008080\">        17</span> │ <span style=\"color: #008080; text-decoration-color: #008080\">       17</span> │ <span style=\"color: #008000; text-decoration-color: #008000\">▄    █</span> │  │\n",
       "│ │ <span style=\"color: #af87ff; text-decoration-color: #af87ff\">Number of </span> │ <span style=\"color: #008080; text-decoration-color: #008080\"> 0</span> │ <span style=\"color: #008080; text-decoration-color: #008080\">   0</span> │ <span style=\"color: #008080; text-decoration-color: #008080\">       4.7</span> │ <span style=\"color: #008080; text-decoration-color: #008080\">        72</span> │ <span style=\"color: #008080; text-decoration-color: #008080\">        1</span> │ <span style=\"color: #008080; text-decoration-color: #008080\">        1</span> │ <span style=\"color: #008080; text-decoration-color: #008080\">         3</span> │ <span style=\"color: #008080; text-decoration-color: #008080\">     2900</span> │ <span style=\"color: #008000; text-decoration-color: #008000\">  █   </span> │  │\n",
       "│ │ <span style=\"color: #af87ff; text-decoration-color: #af87ff\">Packets   </span> │    │      │            │            │           │           │            │           │        │  │\n",
       "│ │ <span style=\"color: #af87ff; text-decoration-color: #af87ff\">Total     </span> │ <span style=\"color: #008080; text-decoration-color: #008080\"> 0</span> │ <span style=\"color: #008080; text-decoration-color: #008080\">   0</span> │ <span style=\"color: #008080; text-decoration-color: #008080\">       200</span> │ <span style=\"color: #008080; text-decoration-color: #008080\">      3100</span> │ <span style=\"color: #008080; text-decoration-color: #008080\">       26</span> │ <span style=\"color: #008080; text-decoration-color: #008080\">       40</span> │ <span style=\"color: #008080; text-decoration-color: #008080\">       100</span> │ <span style=\"color: #008080; text-decoration-color: #008080\">   140000</span> │ <span style=\"color: #008000; text-decoration-color: #008000\">  █   </span> │  │\n",
       "│ │ <span style=\"color: #af87ff; text-decoration-color: #af87ff\">Length    </span> │    │      │            │            │           │           │            │           │        │  │\n",
       "│ │ <span style=\"color: #af87ff; text-decoration-color: #af87ff\">Duration  </span> │ <span style=\"color: #008080; text-decoration-color: #008080\"> 0</span> │ <span style=\"color: #008080; text-decoration-color: #008080\">   0</span> │ <span style=\"color: #008080; text-decoration-color: #008080\">        14</span> │ <span style=\"color: #008080; text-decoration-color: #008080\">       150</span> │ <span style=\"color: #008080; text-decoration-color: #008080\">        0</span> │ <span style=\"color: #008080; text-decoration-color: #008080\">        0</span> │ <span style=\"color: #008080; text-decoration-color: #008080\">       2.9</span> │ <span style=\"color: #008080; text-decoration-color: #008080\">     2600</span> │ <span style=\"color: #008000; text-decoration-color: #008000\">  █   </span> │  │\n",
       "│ │ <span style=\"color: #af87ff; text-decoration-color: #af87ff\">Source IP </span> │ <span style=\"color: #008080; text-decoration-color: #008080\"> 0</span> │ <span style=\"color: #008080; text-decoration-color: #008080\">   0</span> │ <span style=\"color: #008080; text-decoration-color: #008080\">3200000000</span> │ <span style=\"color: #008080; text-decoration-color: #008080\">  27000000</span> │ <span style=\"color: #008080; text-decoration-color: #008080\">        0</span> │ <span style=\"color: #008080; text-decoration-color: #008080\">320000000</span> │ <span style=\"color: #008080; text-decoration-color: #008080\">3200000000</span> │ <span style=\"color: #008080; text-decoration-color: #008080\">320000000</span> │ <span style=\"color: #008000; text-decoration-color: #008000\">     █</span> │  │\n",
       "│ │ <span style=\"color: #af87ff; text-decoration-color: #af87ff\">Numeric   </span> │    │      │            │            │           │ <span style=\"color: #008080; text-decoration-color: #008080\">        0</span> │            │ <span style=\"color: #008080; text-decoration-color: #008080\">        0</span> │        │  │\n",
       "│ │ <span style=\"color: #af87ff; text-decoration-color: #af87ff\">Destinatio</span> │ <span style=\"color: #008080; text-decoration-color: #008080\"> 0</span> │ <span style=\"color: #008080; text-decoration-color: #008080\">   0</span> │ <span style=\"color: #008080; text-decoration-color: #008080\">2200000000</span> │ <span style=\"color: #008080; text-decoration-color: #008080\">1100000000</span> │ <span style=\"color: #008080; text-decoration-color: #008080\">130000000</span> │ <span style=\"color: #008080; text-decoration-color: #008080\">100000000</span> │ <span style=\"color: #008080; text-decoration-color: #008080\">3200000000</span> │ <span style=\"color: #008080; text-decoration-color: #008080\">430000000</span> │ <span style=\"color: #008000; text-decoration-color: #008000\">▂▃▃ █ </span> │  │\n",
       "│ │ <span style=\"color: #af87ff; text-decoration-color: #af87ff\">n IP Numer</span> │    │      │            │            │           │ <span style=\"color: #008080; text-decoration-color: #008080\">        0</span> │            │ <span style=\"color: #008080; text-decoration-color: #008080\">        0</span> │        │  │\n",
       "│ └────────────┴────┴──────┴────────────┴────────────┴───────────┴───────────┴────────────┴───────────┴────────┘  │\n",
       "╰────────────────────────────────────────────────────── End ──────────────────────────────────────────────────────╯\n",
       "</pre>\n"
      ],
      "text/plain": [
       "╭──────────────────────────────────────────────── skimpy summary ─────────────────────────────────────────────────╮\n",
       "│ \u001b[3m         Data Summary         \u001b[0m \u001b[3m      Data Types       \u001b[0m                                                          │\n",
       "│ ┏━━━━━━━━━━━━━━━━━━━┳━━━━━━━━┓ ┏━━━━━━━━━━━━━┳━━━━━━━┓                                                          │\n",
       "│ ┃\u001b[1;36m \u001b[0m\u001b[1;36mdataframe        \u001b[0m\u001b[1;36m \u001b[0m┃\u001b[1;36m \u001b[0m\u001b[1;36mValues\u001b[0m\u001b[1;36m \u001b[0m┃ ┃\u001b[1;36m \u001b[0m\u001b[1;36mColumn Type\u001b[0m\u001b[1;36m \u001b[0m┃\u001b[1;36m \u001b[0m\u001b[1;36mCount\u001b[0m\u001b[1;36m \u001b[0m┃                                                          │\n",
       "│ ┡━━━━━━━━━━━━━━━━━━━╇━━━━━━━━┩ ┡━━━━━━━━━━━━━╇━━━━━━━┩                                                          │\n",
       "│ │ Number of rows    │ 14138  │ │ float64     │ 4     │                                                          │\n",
       "│ │ Number of columns │ 8      │ │ int64       │ 4     │                                                          │\n",
       "│ └───────────────────┴────────┘ └─────────────┴───────┘                                                          │\n",
       "│ \u001b[3m                                                    number                                                    \u001b[0m  │\n",
       "│ ┏━━━━━━━━━━━━┳━━━━┳━━━━━━┳━━━━━━━━━━━━┳━━━━━━━━━━━━┳━━━━━━━━━━━┳━━━━━━━━━━━┳━━━━━━━━━━━━┳━━━━━━━━━━━┳━━━━━━━━┓  │\n",
       "│ ┃\u001b[1m \u001b[0m\u001b[1mcolumn_nam\u001b[0m\u001b[1m \u001b[0m┃\u001b[1m    \u001b[0m┃\u001b[1m      \u001b[0m┃\u001b[1m            \u001b[0m┃\u001b[1m            \u001b[0m┃\u001b[1m           \u001b[0m┃\u001b[1m           \u001b[0m┃\u001b[1m            \u001b[0m┃\u001b[1m           \u001b[0m┃\u001b[1m        \u001b[0m┃  │\n",
       "│ ┃\u001b[1m \u001b[0m\u001b[1me         \u001b[0m\u001b[1m \u001b[0m┃\u001b[1m \u001b[0m\u001b[1mNA\u001b[0m\u001b[1m \u001b[0m┃\u001b[1m \u001b[0m\u001b[1mNA %\u001b[0m\u001b[1m \u001b[0m┃\u001b[1m \u001b[0m\u001b[1mmean      \u001b[0m\u001b[1m \u001b[0m┃\u001b[1m \u001b[0m\u001b[1msd        \u001b[0m\u001b[1m \u001b[0m┃\u001b[1m \u001b[0m\u001b[1mp0       \u001b[0m\u001b[1m \u001b[0m┃\u001b[1m \u001b[0m\u001b[1mp25      \u001b[0m\u001b[1m \u001b[0m┃\u001b[1m \u001b[0m\u001b[1mp75       \u001b[0m\u001b[1m \u001b[0m┃\u001b[1m \u001b[0m\u001b[1mp100     \u001b[0m\u001b[1m \u001b[0m┃\u001b[1m \u001b[0m\u001b[1mhist  \u001b[0m\u001b[1m \u001b[0m┃  │\n",
       "│ ┡━━━━━━━━━━━━╇━━━━╇━━━━━━╇━━━━━━━━━━━━╇━━━━━━━━━━━━╇━━━━━━━━━━━╇━━━━━━━━━━━╇━━━━━━━━━━━━╇━━━━━━━━━━━╇━━━━━━━━┩  │\n",
       "│ │ \u001b[38;5;141mSource    \u001b[0m │ \u001b[36m 0\u001b[0m │ \u001b[36m   0\u001b[0m │ \u001b[36m     33000\u001b[0m │ \u001b[36m     22000\u001b[0m │ \u001b[36m        0\u001b[0m │ \u001b[36m     3200\u001b[0m │ \u001b[36m     52000\u001b[0m │ \u001b[36m    65000\u001b[0m │ \u001b[32m█▁▁▇▇▅\u001b[0m │  │\n",
       "│ │ \u001b[38;5;141mPort      \u001b[0m │    │      │            │            │           │           │            │           │        │  │\n",
       "│ │ \u001b[38;5;141mDestinatio\u001b[0m │ \u001b[36m 0\u001b[0m │ \u001b[36m   0\u001b[0m │ \u001b[36m      2200\u001b[0m │ \u001b[36m      6100\u001b[0m │ \u001b[36m       23\u001b[0m │ \u001b[36m       53\u001b[0m │ \u001b[36m       440\u001b[0m │ \u001b[36m    64000\u001b[0m │ \u001b[32m  █   \u001b[0m │  │\n",
       "│ │ \u001b[38;5;141mn Port    \u001b[0m │    │      │            │            │           │           │            │           │        │  │\n",
       "│ │ \u001b[38;5;141mProtocol  \u001b[0m │ \u001b[36m 0\u001b[0m │ \u001b[36m   0\u001b[0m │ \u001b[36m        13\u001b[0m │ \u001b[36m       5.2\u001b[0m │ \u001b[36m        6\u001b[0m │ \u001b[36m        6\u001b[0m │ \u001b[36m        17\u001b[0m │ \u001b[36m       17\u001b[0m │ \u001b[32m▄    █\u001b[0m │  │\n",
       "│ │ \u001b[38;5;141mNumber of \u001b[0m │ \u001b[36m 0\u001b[0m │ \u001b[36m   0\u001b[0m │ \u001b[36m       4.7\u001b[0m │ \u001b[36m        72\u001b[0m │ \u001b[36m        1\u001b[0m │ \u001b[36m        1\u001b[0m │ \u001b[36m         3\u001b[0m │ \u001b[36m     2900\u001b[0m │ \u001b[32m  █   \u001b[0m │  │\n",
       "│ │ \u001b[38;5;141mPackets   \u001b[0m │    │      │            │            │           │           │            │           │        │  │\n",
       "│ │ \u001b[38;5;141mTotal     \u001b[0m │ \u001b[36m 0\u001b[0m │ \u001b[36m   0\u001b[0m │ \u001b[36m       200\u001b[0m │ \u001b[36m      3100\u001b[0m │ \u001b[36m       26\u001b[0m │ \u001b[36m       40\u001b[0m │ \u001b[36m       100\u001b[0m │ \u001b[36m   140000\u001b[0m │ \u001b[32m  █   \u001b[0m │  │\n",
       "│ │ \u001b[38;5;141mLength    \u001b[0m │    │      │            │            │           │           │            │           │        │  │\n",
       "│ │ \u001b[38;5;141mDuration  \u001b[0m │ \u001b[36m 0\u001b[0m │ \u001b[36m   0\u001b[0m │ \u001b[36m        14\u001b[0m │ \u001b[36m       150\u001b[0m │ \u001b[36m        0\u001b[0m │ \u001b[36m        0\u001b[0m │ \u001b[36m       2.9\u001b[0m │ \u001b[36m     2600\u001b[0m │ \u001b[32m  █   \u001b[0m │  │\n",
       "│ │ \u001b[38;5;141mSource IP \u001b[0m │ \u001b[36m 0\u001b[0m │ \u001b[36m   0\u001b[0m │ \u001b[36m3200000000\u001b[0m │ \u001b[36m  27000000\u001b[0m │ \u001b[36m        0\u001b[0m │ \u001b[36m320000000\u001b[0m │ \u001b[36m3200000000\u001b[0m │ \u001b[36m320000000\u001b[0m │ \u001b[32m     █\u001b[0m │  │\n",
       "│ │ \u001b[38;5;141mNumeric   \u001b[0m │    │      │            │            │           │ \u001b[36m        0\u001b[0m │            │ \u001b[36m        0\u001b[0m │        │  │\n",
       "│ │ \u001b[38;5;141mDestinatio\u001b[0m │ \u001b[36m 0\u001b[0m │ \u001b[36m   0\u001b[0m │ \u001b[36m2200000000\u001b[0m │ \u001b[36m1100000000\u001b[0m │ \u001b[36m130000000\u001b[0m │ \u001b[36m100000000\u001b[0m │ \u001b[36m3200000000\u001b[0m │ \u001b[36m430000000\u001b[0m │ \u001b[32m▂▃▃ █ \u001b[0m │  │\n",
       "│ │ \u001b[38;5;141mn IP Numer\u001b[0m │    │      │            │            │           │ \u001b[36m        0\u001b[0m │            │ \u001b[36m        0\u001b[0m │        │  │\n",
       "│ └────────────┴────┴──────┴────────────┴────────────┴───────────┴───────────┴────────────┴───────────┴────────┘  │\n",
       "╰────────────────────────────────────────────────────── End ──────────────────────────────────────────────────────╯\n"
      ]
     },
     "metadata": {},
     "output_type": "display_data"
    }
   ],
   "source": [
    "skim(mirai_stream_df_numeric)"
   ]
  },
  {
   "cell_type": "code",
   "execution_count": 37,
   "metadata": {},
   "outputs": [
    {
     "data": {
      "text/html": [
       "<pre style=\"white-space:pre;overflow-x:auto;line-height:normal;font-family:Menlo,'DejaVu Sans Mono',consolas,'Courier New',monospace\">╭──────────────────────────────────────────────── skimpy summary ─────────────────────────────────────────────────╮\n",
       "│ <span style=\"font-style: italic\">         Data Summary         </span> <span style=\"font-style: italic\">      Data Types       </span>                                                          │\n",
       "│ ┏━━━━━━━━━━━━━━━━━━━┳━━━━━━━━┓ ┏━━━━━━━━━━━━━┳━━━━━━━┓                                                          │\n",
       "│ ┃<span style=\"color: #008080; text-decoration-color: #008080; font-weight: bold\"> dataframe         </span>┃<span style=\"color: #008080; text-decoration-color: #008080; font-weight: bold\"> Values </span>┃ ┃<span style=\"color: #008080; text-decoration-color: #008080; font-weight: bold\"> Column Type </span>┃<span style=\"color: #008080; text-decoration-color: #008080; font-weight: bold\"> Count </span>┃                                                          │\n",
       "│ ┡━━━━━━━━━━━━━━━━━━━╇━━━━━━━━┩ ┡━━━━━━━━━━━━━╇━━━━━━━┩                                                          │\n",
       "│ │ Number of rows    │ 1689   │ │ float64     │ 4     │                                                          │\n",
       "│ │ Number of columns │ 8      │ │ int64       │ 4     │                                                          │\n",
       "│ └───────────────────┴────────┘ └─────────────┴───────┘                                                          │\n",
       "│ <span style=\"font-style: italic\">                                                    number                                                    </span>  │\n",
       "│ ┏━━━━━━━━━━━━┳━━━━┳━━━━━━┳━━━━━━━━━━━━┳━━━━━━━━━━━━┳━━━━━━━━━━┳━━━━━━━━━━━━┳━━━━━━━━━━━━┳━━━━━━━━━━━┳━━━━━━━━┓  │\n",
       "│ ┃<span style=\"font-weight: bold\"> column_nam </span>┃<span style=\"font-weight: bold\">    </span>┃<span style=\"font-weight: bold\">      </span>┃<span style=\"font-weight: bold\">            </span>┃<span style=\"font-weight: bold\">            </span>┃<span style=\"font-weight: bold\">          </span>┃<span style=\"font-weight: bold\">            </span>┃<span style=\"font-weight: bold\">            </span>┃<span style=\"font-weight: bold\">           </span>┃<span style=\"font-weight: bold\">        </span>┃  │\n",
       "│ ┃<span style=\"font-weight: bold\"> e          </span>┃<span style=\"font-weight: bold\"> NA </span>┃<span style=\"font-weight: bold\"> NA % </span>┃<span style=\"font-weight: bold\"> mean       </span>┃<span style=\"font-weight: bold\"> sd         </span>┃<span style=\"font-weight: bold\"> p0       </span>┃<span style=\"font-weight: bold\"> p25        </span>┃<span style=\"font-weight: bold\"> p75        </span>┃<span style=\"font-weight: bold\"> p100      </span>┃<span style=\"font-weight: bold\"> hist   </span>┃  │\n",
       "│ ┡━━━━━━━━━━━━╇━━━━╇━━━━━━╇━━━━━━━━━━━━╇━━━━━━━━━━━━╇━━━━━━━━━━╇━━━━━━━━━━━━╇━━━━━━━━━━━━╇━━━━━━━━━━━╇━━━━━━━━┩  │\n",
       "│ │ <span style=\"color: #af87ff; text-decoration-color: #af87ff\">Source    </span> │ <span style=\"color: #008080; text-decoration-color: #008080\"> 0</span> │ <span style=\"color: #008080; text-decoration-color: #008080\">   0</span> │ <span style=\"color: #008080; text-decoration-color: #008080\">     27000</span> │ <span style=\"color: #008080; text-decoration-color: #008080\">     24000</span> │ <span style=\"color: #008080; text-decoration-color: #008080\">       7</span> │ <span style=\"color: #008080; text-decoration-color: #008080\">        53</span> │ <span style=\"color: #008080; text-decoration-color: #008080\">     50000</span> │ <span style=\"color: #008080; text-decoration-color: #008080\">    66000</span> │ <span style=\"color: #008000; text-decoration-color: #008000\">█  ▃▄▂</span> │  │\n",
       "│ │ <span style=\"color: #af87ff; text-decoration-color: #af87ff\">Port      </span> │    │      │            │            │          │            │            │           │        │  │\n",
       "│ │ <span style=\"color: #af87ff; text-decoration-color: #af87ff\">Destinatio</span> │ <span style=\"color: #008080; text-decoration-color: #008080\"> 0</span> │ <span style=\"color: #008080; text-decoration-color: #008080\">   0</span> │ <span style=\"color: #008080; text-decoration-color: #008080\">     21000</span> │ <span style=\"color: #008080; text-decoration-color: #008080\">     23000</span> │ <span style=\"color: #008080; text-decoration-color: #008080\">       7</span> │ <span style=\"color: #008080; text-decoration-color: #008080\">        53</span> │ <span style=\"color: #008080; text-decoration-color: #008080\">     43000</span> │ <span style=\"color: #008080; text-decoration-color: #008080\">    66000</span> │ <span style=\"color: #008000; text-decoration-color: #008000\">█  ▃▂▂</span> │  │\n",
       "│ │ <span style=\"color: #af87ff; text-decoration-color: #af87ff\">n Port    </span> │    │      │            │            │          │            │            │           │        │  │\n",
       "│ │ <span style=\"color: #af87ff; text-decoration-color: #af87ff\">Protocol  </span> │ <span style=\"color: #008080; text-decoration-color: #008080\"> 0</span> │ <span style=\"color: #008080; text-decoration-color: #008080\">   0</span> │ <span style=\"color: #008080; text-decoration-color: #008080\">        15</span> │ <span style=\"color: #008080; text-decoration-color: #008080\">       6.1</span> │ <span style=\"color: #008080; text-decoration-color: #008080\">       6</span> │ <span style=\"color: #008080; text-decoration-color: #008080\">        17</span> │ <span style=\"color: #008080; text-decoration-color: #008080\">        17</span> │ <span style=\"color: #008080; text-decoration-color: #008080\">       47</span> │ <span style=\"color: #008000; text-decoration-color: #008000\">  ▂█  </span> │  │\n",
       "│ │ <span style=\"color: #af87ff; text-decoration-color: #af87ff\">Number of </span> │ <span style=\"color: #008080; text-decoration-color: #008080\"> 0</span> │ <span style=\"color: #008080; text-decoration-color: #008080\">   0</span> │ <span style=\"color: #008080; text-decoration-color: #008080\">        11</span> │ <span style=\"color: #008080; text-decoration-color: #008080\">       110</span> │ <span style=\"color: #008080; text-decoration-color: #008080\">       1</span> │ <span style=\"color: #008080; text-decoration-color: #008080\">         1</span> │ <span style=\"color: #008080; text-decoration-color: #008080\">         5</span> │ <span style=\"color: #008080; text-decoration-color: #008080\">     3400</span> │ <span style=\"color: #008000; text-decoration-color: #008000\">  █   </span> │  │\n",
       "│ │ <span style=\"color: #af87ff; text-decoration-color: #af87ff\">Packets   </span> │    │      │            │            │          │            │            │           │        │  │\n",
       "│ │ <span style=\"color: #af87ff; text-decoration-color: #af87ff\">Total     </span> │ <span style=\"color: #008080; text-decoration-color: #008080\"> 0</span> │ <span style=\"color: #008080; text-decoration-color: #008080\">   0</span> │ <span style=\"color: #008080; text-decoration-color: #008080\">      3300</span> │ <span style=\"color: #008080; text-decoration-color: #008080\">     66000</span> │ <span style=\"color: #008080; text-decoration-color: #008080\">      26</span> │ <span style=\"color: #008080; text-decoration-color: #008080\">        60</span> │ <span style=\"color: #008080; text-decoration-color: #008080\">       480</span> │ <span style=\"color: #008080; text-decoration-color: #008080\">  2600000</span> │ <span style=\"color: #008000; text-decoration-color: #008000\">  █   </span> │  │\n",
       "│ │ <span style=\"color: #af87ff; text-decoration-color: #af87ff\">Length    </span> │    │      │            │            │          │            │            │           │        │  │\n",
       "│ │ <span style=\"color: #af87ff; text-decoration-color: #af87ff\">Duration  </span> │ <span style=\"color: #008080; text-decoration-color: #008080\"> 0</span> │ <span style=\"color: #008080; text-decoration-color: #008080\">   0</span> │ <span style=\"color: #008080; text-decoration-color: #008080\">    100000</span> │ <span style=\"color: #008080; text-decoration-color: #008080\">   4300000</span> │ <span style=\"color: #008080; text-decoration-color: #008080\">       0</span> │ <span style=\"color: #008080; text-decoration-color: #008080\">         0</span> │ <span style=\"color: #008080; text-decoration-color: #008080\">    0.0027</span> │ <span style=\"color: #008080; text-decoration-color: #008080\">180000000</span> │ <span style=\"color: #008000; text-decoration-color: #008000\">  █   </span> │  │\n",
       "│ │ <span style=\"color: #af87ff; text-decoration-color: #af87ff\">Source IP </span> │ <span style=\"color: #008080; text-decoration-color: #008080\"> 0</span> │ <span style=\"color: #008080; text-decoration-color: #008080\">   0</span> │ <span style=\"color: #008080; text-decoration-color: #008080\">2400000000</span> │ <span style=\"color: #008080; text-decoration-color: #008080\">1300000000</span> │ <span style=\"color: #008080; text-decoration-color: #008080\">       0</span> │ <span style=\"color: #008080; text-decoration-color: #008080\">1400000000</span> │ <span style=\"color: #008080; text-decoration-color: #008080\">3200000000</span> │ <span style=\"color: #008080; text-decoration-color: #008080\">360000000</span> │ <span style=\"color: #008000; text-decoration-color: #008000\">▂ ▁  █</span> │  │\n",
       "│ │ <span style=\"color: #af87ff; text-decoration-color: #af87ff\">Numeric   </span> │    │      │            │            │          │            │            │ <span style=\"color: #008080; text-decoration-color: #008080\">        0</span> │        │  │\n",
       "│ │ <span style=\"color: #af87ff; text-decoration-color: #af87ff\">Destinatio</span> │ <span style=\"color: #008080; text-decoration-color: #008080\"> 0</span> │ <span style=\"color: #008080; text-decoration-color: #008080\">   0</span> │ <span style=\"color: #008080; text-decoration-color: #008080\">2300000000</span> │ <span style=\"color: #008080; text-decoration-color: #008080\">1400000000</span> │ <span style=\"color: #008080; text-decoration-color: #008080\">17000000</span> │ <span style=\"color: #008080; text-decoration-color: #008080\">1100000000</span> │ <span style=\"color: #008080; text-decoration-color: #008080\">3200000000</span> │ <span style=\"color: #008080; text-decoration-color: #008080\">430000000</span> │ <span style=\"color: #008000; text-decoration-color: #008000\">▃▁  █ </span> │  │\n",
       "│ │ <span style=\"color: #af87ff; text-decoration-color: #af87ff\">n IP Numer</span> │    │      │            │            │          │            │            │ <span style=\"color: #008080; text-decoration-color: #008080\">        0</span> │        │  │\n",
       "│ └────────────┴────┴──────┴────────────┴────────────┴──────────┴────────────┴────────────┴───────────┴────────┘  │\n",
       "╰────────────────────────────────────────────────────── End ──────────────────────────────────────────────────────╯\n",
       "</pre>\n"
      ],
      "text/plain": [
       "╭──────────────────────────────────────────────── skimpy summary ─────────────────────────────────────────────────╮\n",
       "│ \u001b[3m         Data Summary         \u001b[0m \u001b[3m      Data Types       \u001b[0m                                                          │\n",
       "│ ┏━━━━━━━━━━━━━━━━━━━┳━━━━━━━━┓ ┏━━━━━━━━━━━━━┳━━━━━━━┓                                                          │\n",
       "│ ┃\u001b[1;36m \u001b[0m\u001b[1;36mdataframe        \u001b[0m\u001b[1;36m \u001b[0m┃\u001b[1;36m \u001b[0m\u001b[1;36mValues\u001b[0m\u001b[1;36m \u001b[0m┃ ┃\u001b[1;36m \u001b[0m\u001b[1;36mColumn Type\u001b[0m\u001b[1;36m \u001b[0m┃\u001b[1;36m \u001b[0m\u001b[1;36mCount\u001b[0m\u001b[1;36m \u001b[0m┃                                                          │\n",
       "│ ┡━━━━━━━━━━━━━━━━━━━╇━━━━━━━━┩ ┡━━━━━━━━━━━━━╇━━━━━━━┩                                                          │\n",
       "│ │ Number of rows    │ 1689   │ │ float64     │ 4     │                                                          │\n",
       "│ │ Number of columns │ 8      │ │ int64       │ 4     │                                                          │\n",
       "│ └───────────────────┴────────┘ └─────────────┴───────┘                                                          │\n",
       "│ \u001b[3m                                                    number                                                    \u001b[0m  │\n",
       "│ ┏━━━━━━━━━━━━┳━━━━┳━━━━━━┳━━━━━━━━━━━━┳━━━━━━━━━━━━┳━━━━━━━━━━┳━━━━━━━━━━━━┳━━━━━━━━━━━━┳━━━━━━━━━━━┳━━━━━━━━┓  │\n",
       "│ ┃\u001b[1m \u001b[0m\u001b[1mcolumn_nam\u001b[0m\u001b[1m \u001b[0m┃\u001b[1m    \u001b[0m┃\u001b[1m      \u001b[0m┃\u001b[1m            \u001b[0m┃\u001b[1m            \u001b[0m┃\u001b[1m          \u001b[0m┃\u001b[1m            \u001b[0m┃\u001b[1m            \u001b[0m┃\u001b[1m           \u001b[0m┃\u001b[1m        \u001b[0m┃  │\n",
       "│ ┃\u001b[1m \u001b[0m\u001b[1me         \u001b[0m\u001b[1m \u001b[0m┃\u001b[1m \u001b[0m\u001b[1mNA\u001b[0m\u001b[1m \u001b[0m┃\u001b[1m \u001b[0m\u001b[1mNA %\u001b[0m\u001b[1m \u001b[0m┃\u001b[1m \u001b[0m\u001b[1mmean      \u001b[0m\u001b[1m \u001b[0m┃\u001b[1m \u001b[0m\u001b[1msd        \u001b[0m\u001b[1m \u001b[0m┃\u001b[1m \u001b[0m\u001b[1mp0      \u001b[0m\u001b[1m \u001b[0m┃\u001b[1m \u001b[0m\u001b[1mp25       \u001b[0m\u001b[1m \u001b[0m┃\u001b[1m \u001b[0m\u001b[1mp75       \u001b[0m\u001b[1m \u001b[0m┃\u001b[1m \u001b[0m\u001b[1mp100     \u001b[0m\u001b[1m \u001b[0m┃\u001b[1m \u001b[0m\u001b[1mhist  \u001b[0m\u001b[1m \u001b[0m┃  │\n",
       "│ ┡━━━━━━━━━━━━╇━━━━╇━━━━━━╇━━━━━━━━━━━━╇━━━━━━━━━━━━╇━━━━━━━━━━╇━━━━━━━━━━━━╇━━━━━━━━━━━━╇━━━━━━━━━━━╇━━━━━━━━┩  │\n",
       "│ │ \u001b[38;5;141mSource    \u001b[0m │ \u001b[36m 0\u001b[0m │ \u001b[36m   0\u001b[0m │ \u001b[36m     27000\u001b[0m │ \u001b[36m     24000\u001b[0m │ \u001b[36m       7\u001b[0m │ \u001b[36m        53\u001b[0m │ \u001b[36m     50000\u001b[0m │ \u001b[36m    66000\u001b[0m │ \u001b[32m█  ▃▄▂\u001b[0m │  │\n",
       "│ │ \u001b[38;5;141mPort      \u001b[0m │    │      │            │            │          │            │            │           │        │  │\n",
       "│ │ \u001b[38;5;141mDestinatio\u001b[0m │ \u001b[36m 0\u001b[0m │ \u001b[36m   0\u001b[0m │ \u001b[36m     21000\u001b[0m │ \u001b[36m     23000\u001b[0m │ \u001b[36m       7\u001b[0m │ \u001b[36m        53\u001b[0m │ \u001b[36m     43000\u001b[0m │ \u001b[36m    66000\u001b[0m │ \u001b[32m█  ▃▂▂\u001b[0m │  │\n",
       "│ │ \u001b[38;5;141mn Port    \u001b[0m │    │      │            │            │          │            │            │           │        │  │\n",
       "│ │ \u001b[38;5;141mProtocol  \u001b[0m │ \u001b[36m 0\u001b[0m │ \u001b[36m   0\u001b[0m │ \u001b[36m        15\u001b[0m │ \u001b[36m       6.1\u001b[0m │ \u001b[36m       6\u001b[0m │ \u001b[36m        17\u001b[0m │ \u001b[36m        17\u001b[0m │ \u001b[36m       47\u001b[0m │ \u001b[32m  ▂█  \u001b[0m │  │\n",
       "│ │ \u001b[38;5;141mNumber of \u001b[0m │ \u001b[36m 0\u001b[0m │ \u001b[36m   0\u001b[0m │ \u001b[36m        11\u001b[0m │ \u001b[36m       110\u001b[0m │ \u001b[36m       1\u001b[0m │ \u001b[36m         1\u001b[0m │ \u001b[36m         5\u001b[0m │ \u001b[36m     3400\u001b[0m │ \u001b[32m  █   \u001b[0m │  │\n",
       "│ │ \u001b[38;5;141mPackets   \u001b[0m │    │      │            │            │          │            │            │           │        │  │\n",
       "│ │ \u001b[38;5;141mTotal     \u001b[0m │ \u001b[36m 0\u001b[0m │ \u001b[36m   0\u001b[0m │ \u001b[36m      3300\u001b[0m │ \u001b[36m     66000\u001b[0m │ \u001b[36m      26\u001b[0m │ \u001b[36m        60\u001b[0m │ \u001b[36m       480\u001b[0m │ \u001b[36m  2600000\u001b[0m │ \u001b[32m  █   \u001b[0m │  │\n",
       "│ │ \u001b[38;5;141mLength    \u001b[0m │    │      │            │            │          │            │            │           │        │  │\n",
       "│ │ \u001b[38;5;141mDuration  \u001b[0m │ \u001b[36m 0\u001b[0m │ \u001b[36m   0\u001b[0m │ \u001b[36m    100000\u001b[0m │ \u001b[36m   4300000\u001b[0m │ \u001b[36m       0\u001b[0m │ \u001b[36m         0\u001b[0m │ \u001b[36m    0.0027\u001b[0m │ \u001b[36m180000000\u001b[0m │ \u001b[32m  █   \u001b[0m │  │\n",
       "│ │ \u001b[38;5;141mSource IP \u001b[0m │ \u001b[36m 0\u001b[0m │ \u001b[36m   0\u001b[0m │ \u001b[36m2400000000\u001b[0m │ \u001b[36m1300000000\u001b[0m │ \u001b[36m       0\u001b[0m │ \u001b[36m1400000000\u001b[0m │ \u001b[36m3200000000\u001b[0m │ \u001b[36m360000000\u001b[0m │ \u001b[32m▂ ▁  █\u001b[0m │  │\n",
       "│ │ \u001b[38;5;141mNumeric   \u001b[0m │    │      │            │            │          │            │            │ \u001b[36m        0\u001b[0m │        │  │\n",
       "│ │ \u001b[38;5;141mDestinatio\u001b[0m │ \u001b[36m 0\u001b[0m │ \u001b[36m   0\u001b[0m │ \u001b[36m2300000000\u001b[0m │ \u001b[36m1400000000\u001b[0m │ \u001b[36m17000000\u001b[0m │ \u001b[36m1100000000\u001b[0m │ \u001b[36m3200000000\u001b[0m │ \u001b[36m430000000\u001b[0m │ \u001b[32m▃▁  █ \u001b[0m │  │\n",
       "│ │ \u001b[38;5;141mn IP Numer\u001b[0m │    │      │            │            │          │            │            │ \u001b[36m        0\u001b[0m │        │  │\n",
       "│ └────────────┴────┴──────┴────────────┴────────────┴──────────┴────────────┴────────────┴───────────┴────────┘  │\n",
       "╰────────────────────────────────────────────────────── End ──────────────────────────────────────────────────────╯\n"
      ]
     },
     "metadata": {},
     "output_type": "display_data"
    }
   ],
   "source": [
    "skim(benign_stream_df_numeric)"
   ]
  },
  {
   "cell_type": "code",
   "execution_count": 38,
   "metadata": {},
   "outputs": [
    {
     "data": {
      "text/html": [
       "<style type=\"text/css\">\n",
       "#T_66348 thead>tr>th {\n",
       "  text-align: left;\n",
       "}\n",
       "#T_66348_row0_col0, #T_66348_row1_col0, #T_66348_row2_col0, #T_66348_row3_col0, #T_66348_row4_col0, #T_66348_row5_col0, #T_66348_row6_col0, #T_66348_row7_col0 {\n",
       "  text-align: left;\n",
       "  font-size: 12px;\n",
       "  vertical-align: middle;\n",
       "  width: 5%;\n",
       "  max-width: 50px;\n",
       "  min-width: 20px;\n",
       "}\n",
       "#T_66348_row0_col1, #T_66348_row1_col1, #T_66348_row2_col1, #T_66348_row3_col1, #T_66348_row4_col1, #T_66348_row5_col1, #T_66348_row6_col1, #T_66348_row7_col1 {\n",
       "  text-align: left;\n",
       "  font-size: 12px;\n",
       "  vertical-align: middle;\n",
       "  width: 15%;\n",
       "  max-width: 200px;\n",
       "  min-width: 100px;\n",
       "  word-break: break-word;\n",
       "}\n",
       "#T_66348_row0_col2, #T_66348_row1_col2, #T_66348_row2_col2, #T_66348_row3_col2, #T_66348_row4_col2, #T_66348_row5_col2, #T_66348_row6_col2, #T_66348_row7_col2 {\n",
       "  text-align: left;\n",
       "  font-size: 12px;\n",
       "  vertical-align: middle;\n",
       "  width: 30%;\n",
       "  min-width: 100px;\n",
       "}\n",
       "#T_66348_row0_col3, #T_66348_row1_col3, #T_66348_row2_col3, #T_66348_row3_col3, #T_66348_row4_col3, #T_66348_row5_col3, #T_66348_row6_col3, #T_66348_row7_col3 {\n",
       "  text-align: left;\n",
       "  font-size: 12px;\n",
       "  vertical-align: middle;\n",
       "  width: 25%;\n",
       "  min-width: 100px;\n",
       "}\n",
       "#T_66348_row0_col4, #T_66348_row1_col4, #T_66348_row2_col4, #T_66348_row3_col4, #T_66348_row4_col4, #T_66348_row5_col4, #T_66348_row6_col4, #T_66348_row7_col4 {\n",
       "  text-align: left;\n",
       "  font-size: 12px;\n",
       "  vertical-align: middle;\n",
       "  width: 20%;\n",
       "  min-width: 150px;\n",
       "}\n",
       "#T_66348_row0_col5, #T_66348_row1_col5, #T_66348_row2_col5, #T_66348_row3_col5, #T_66348_row4_col5, #T_66348_row5_col5, #T_66348_row6_col5, #T_66348_row7_col5 {\n",
       "  text-align: left;\n",
       "  font-size: 12px;\n",
       "  vertical-align: middle;\n",
       "  width: 10%;\n",
       "}\n",
       "</style>\n",
       "<table id=\"T_66348\">\n",
       "  <caption><strong>Data Frame Summary</strong><br>mirai_stream_df_numeric<br>Dimensions: 14,138 x 8<br>Duplicates: 0</caption>\n",
       "  <thead>\n",
       "    <tr>\n",
       "      <th id=\"T_66348_level0_col0\" class=\"col_heading level0 col0\" >No</th>\n",
       "      <th id=\"T_66348_level0_col1\" class=\"col_heading level0 col1\" >Variable</th>\n",
       "      <th id=\"T_66348_level0_col2\" class=\"col_heading level0 col2\" >Stats / Values</th>\n",
       "      <th id=\"T_66348_level0_col3\" class=\"col_heading level0 col3\" >Freqs / (% of Valid)</th>\n",
       "      <th id=\"T_66348_level0_col4\" class=\"col_heading level0 col4\" >Graph</th>\n",
       "      <th id=\"T_66348_level0_col5\" class=\"col_heading level0 col5\" >Missing</th>\n",
       "    </tr>\n",
       "  </thead>\n",
       "  <tbody>\n",
       "    <tr>\n",
       "      <td id=\"T_66348_row0_col0\" class=\"data row0 col0\" >1</td>\n",
       "      <td id=\"T_66348_row0_col1\" class=\"data row0 col1\" ><strong>Source Port</strong><br>[float64]</td>\n",
       "      <td id=\"T_66348_row0_col2\" class=\"data row0 col2\" >Mean (sd) : 32980.1 (21650.4)<br>min < med < max:<br>0.0 < 40048.5 < 64633.0<br>IQR (CV) : 48348.8 (1.5)</td>\n",
       "      <td id=\"T_66348_row0_col3\" class=\"data row0 col3\" >10,709 distinct values</td>\n",
       "      <td id=\"T_66348_row0_col4\" class=\"data row0 col4\" ><img src = \"data:image/png;base64, iVBORw0KGgoAAAANSUhEUgAAAKoAAABGCAYAAABc8A97AAAAOXRFWHRTb2Z0d2FyZQBNYXRwbG90bGliIHZlcnNpb24zLjcuMSwgaHR0cHM6Ly9tYXRwbG90bGliLm9yZy/bCgiHAAAACXBIWXMAAA9hAAAPYQGoP6dpAAACnUlEQVR4nO3cv27aUBiG8e9AAPNHRggVNpaOlTp45CJ6sb2EDFwBQ5dObEgIgXCDMIYOVbpUCvgcO/hNn9+cY0fRk5NYHH/uer0aUHeNR38DwD2ebn2Bc65rZm3P65+u1+uL51rgrzdDdc51x+PxtziORz4X3+/3W+fcd2JFqFs7ajuO49F8Pn8ZDofHIhfe7XbRYrEYbTabtpkRKoLc/NNvZjYcDo+TyeSXx/W7HmuAf/AwBQmECgmECgmECgmECgmECgmECgmECgmECgmECgmECgmECgmECgmECgmECgmECgmECgmECgmECgmECgmECgmECgmECgmECgl3DaDA/yFwzphZhbPGCBVmFj5nzKzaWWOEWgHRCYjec8bMqp81RqglU5+AGDBnzKzCWWOEWr6HTkAM2M3jy+XS8rnneyDUijxiAmLIbp5lWZTn+Zfj8fhsZr47amUItWbyPG+ZWeyc81keDwaDyXw+3xfdzVer1Wi5XPbO53PT58ZVI9QaSdO0lWXZ19ls1mw2m4UfaF53xU6n81x0N99ut7WeZUuoNXI6nZ6iKOolSXKcTqfbouvrviuGINQa6vf7Xv/f1n1XDMFHqJBAqJBAqJBAqJBAqJBAqJBAqJBAqJBAqJBAqJBAqJBAqJDAoRSUJvAs7ZvvihEqShF6lvbWu2KEilKEnKW9510xQkWpfM/S2o13xXiYggRChQRChQRChQRChQRChQRChQRChQRChQRChYRKP0INPE1j9ucX6fKAtSHraz1nVFVloYaepsnzvJWm6efBYPCz0Whk77U2dH3d54yqqizUkibTfUqS5EfR9SFrS7r3h5yo90h3hbrb7aKiFz4cDoXXfCRpmkbr9bpXZM3rz8xnbej6R977nr5+A4RBTvroNwveAAAAAElFTkSuQmCC\"></img></td>\n",
       "      <td id=\"T_66348_row0_col5\" class=\"data row0 col5\" >0<br>(0.0%)</td>\n",
       "    </tr>\n",
       "    <tr>\n",
       "      <td id=\"T_66348_row1_col0\" class=\"data row1 col0\" >2</td>\n",
       "      <td id=\"T_66348_row1_col1\" class=\"data row1 col1\" ><strong>Destination Port</strong><br>[float64]</td>\n",
       "      <td id=\"T_66348_row1_col2\" class=\"data row1 col2\" >Mean (sd) : 2152.4 (6092.5)<br>min < med < max:<br>23.0 < 53.0 < 63749.0<br>IQR (CV) : 390.0 (0.4)</td>\n",
       "      <td id=\"T_66348_row1_col3\" class=\"data row1 col3\" >1,643 distinct values</td>\n",
       "      <td id=\"T_66348_row1_col4\" class=\"data row1 col4\" ><img src = \"data:image/png;base64, iVBORw0KGgoAAAANSUhEUgAAAKoAAABGCAYAAABc8A97AAAAOXRFWHRTb2Z0d2FyZQBNYXRwbG90bGliIHZlcnNpb24zLjcuMSwgaHR0cHM6Ly9tYXRwbG90bGliLm9yZy/bCgiHAAAACXBIWXMAAA9hAAAPYQGoP6dpAAACF0lEQVR4nO3YQW7aUBRG4XsLIXZAtpAbM2MJDBiyiCw2i/CUfSBZ6Fk4JlDLnXVStcQmKPzt+cbcqzc44snPu64z4N59++oDAB8xvvQDd4/NbDJw/6nrumbgLPDLX0N19zjLspckSeZDlldVtXf3V2LFtS79o06SJJlvNpsmTdNjn8UhhKgoinlZlhMzI1Rc5eLVb2aWpukxz/O3AfvjATPAb/iYggRChQRChQRChQRChQRChQRChQRChQRChQRChQRChQRChQRChQRChQRChQRChQRChQRChQRChQRChQRChQRChQRChQRChQRChQRChQRChQRChQRChQRChQRChQRChQRChQRChQRChQRChQRChQRChQRChQRChQRChQRChQRChQRChQRChQRChQRChQRChQRChQRChQRChQRChQRChQRChQRChYTxLZe3bftgZom7D11x6rqu+cQjQdTNQq3r+uF8Pq+Wy+VoNBodh+yoqmrv7q/EipuFejqdxlEUPa3X6+Nisdj3nQ8hREVRzMuynJgZof7nbnr1m5lNp9NjnudvA8fjTz0MZPExBQmECgk3v/q/irvHZja5YgUvDnfknwzV3eMsy16SJJkP3cGLw335UKghhKjv4sPhEJmZ1XUd7Xa7p77zIYSobduxDXuHTWaz2fNqtfoRx/F73+GmaR632+1zWZbf3b3qO49B3ruu++Mz5k/C7nnoEMc9CgAAAABJRU5ErkJggg==\"></img></td>\n",
       "      <td id=\"T_66348_row1_col5\" class=\"data row1 col5\" >0<br>(0.0%)</td>\n",
       "    </tr>\n",
       "    <tr>\n",
       "      <td id=\"T_66348_row2_col0\" class=\"data row2 col0\" >3</td>\n",
       "      <td id=\"T_66348_row2_col1\" class=\"data row2 col1\" ><strong>Protocol</strong><br>[float64]</td>\n",
       "      <td id=\"T_66348_row2_col2\" class=\"data row2 col2\" >1. 17.0<br>2. 6.0</td>\n",
       "      <td id=\"T_66348_row2_col3\" class=\"data row2 col3\" >9,279 (65.6%)<br>4,859 (34.4%)</td>\n",
       "      <td id=\"T_66348_row2_col4\" class=\"data row2 col4\" ><img src = \"data:image/png;base64, iVBORw0KGgoAAAANSUhEUgAAAJsAAAAuCAYAAAA/ZmtKAAAAOXRFWHRTb2Z0d2FyZQBNYXRwbG90bGliIHZlcnNpb24zLjcuMSwgaHR0cHM6Ly9tYXRwbG90bGliLm9yZy/bCgiHAAAACXBIWXMAAA9hAAAPYQGoP6dpAAABOklEQVR4nO3bMWrDQBRF0a8gTNzMIARajBaRxWYRsxshNEVs3EwKF8GkNW+cl3tW8I0vAhu9obUWgMIQEeeIOPU+BL/cWmuX3kc80zjP80dKaep9CB7VWvdhGD6dghtTStO6rpec87X3Mbg7juO9lDJt23aKCJ/YIiJyztdlWb56H4MH594HPNtb7wPwfxAbZIgNMsQGGWKDDLFBhtggQ2yQITbIEBtkiA0yxAYZYoMMsUGG2CAzRtxf1ut9CH64fh9jrXUvpUxh+LLeX1Zr3SPi1vuOZ2Lw8rrsBi8DUz6ouD7Z7J4KDiynfI4zOAd2Uz7XGZwD1ykfv6xfEH/qQobYIENskCE2yBAbZIgNMsQGGWKDDLFBhtggQ2yQITbIEBtkiA0yxAYZuymf02dxYznlc5zBOWDwAplvCltq30b8rewAAAAASUVORK5CYII=\"></img></td>\n",
       "      <td id=\"T_66348_row2_col5\" class=\"data row2 col5\" >0<br>(0.0%)</td>\n",
       "    </tr>\n",
       "    <tr>\n",
       "      <td id=\"T_66348_row3_col0\" class=\"data row3 col0\" >4</td>\n",
       "      <td id=\"T_66348_row3_col1\" class=\"data row3 col1\" ><strong>Number of Packets</strong><br>[int64]</td>\n",
       "      <td id=\"T_66348_row3_col2\" class=\"data row3 col2\" >Mean (sd) : 4.7 (72.3)<br>min < med < max:<br>1.0 < 1.0 < 2862.0<br>IQR (CV) : 2.0 (0.1)</td>\n",
       "      <td id=\"T_66348_row3_col3\" class=\"data row3 col3\" >39 distinct values</td>\n",
       "      <td id=\"T_66348_row3_col4\" class=\"data row3 col4\" ><img src = \"data:image/png;base64, iVBORw0KGgoAAAANSUhEUgAAAKoAAABGCAYAAABc8A97AAAAOXRFWHRTb2Z0d2FyZQBNYXRwbG90bGliIHZlcnNpb24zLjcuMSwgaHR0cHM6Ly9tYXRwbG90bGliLm9yZy/bCgiHAAAACXBIWXMAAA9hAAAPYQGoP6dpAAABaUlEQVR4nO3XT2oCMRiH4aSI6GYGETyMh+hhewhvIyUuqi1Iuuum1D/jov3R59km+cjiZYbU3nuBv+7pty8At5hd21BrXZZS5hPnf/TejxPPwpeLodZal+v1+nkYhtWU4YfD4bXW+iJWHnXtizofhmG13W6P4zie7hncWlvsdrvVfr+fl1KEykOu/vpLKWUcx9Nms3mbMH854Qx84zFFBKESQahEECoRhEoEoRJBqEQQKhGESgShEkGoRBAqEYRKBKESQahEECoRhEoEoRJBqEQQKhGESgShEkGoRBAqEYRKBKESQahEECoRhEoEoRJBqEQQKhGESgShEkGoRBAqEYRKBKESQahEECoRhEoEoRJBqEQQKhGESgShEkGoRBAqEYRKBKESQahEECoRhEoEoRJBqEQQKhGESgShEkGoRBAqEYRKBKESQahEmN2yqbW2uHdwa21xPp9npZSh1nr3xfh33nvvp58WPwF79y3yrjldnwAAAABJRU5ErkJggg==\"></img></td>\n",
       "      <td id=\"T_66348_row3_col5\" class=\"data row3 col5\" >0<br>(0.0%)</td>\n",
       "    </tr>\n",
       "    <tr>\n",
       "      <td id=\"T_66348_row4_col0\" class=\"data row4 col0\" >5</td>\n",
       "      <td id=\"T_66348_row4_col1\" class=\"data row4 col1\" ><strong>Total Length</strong><br>[int64]</td>\n",
       "      <td id=\"T_66348_row4_col2\" class=\"data row4 col2\" >Mean (sd) : 199.6 (3057.3)<br>min < med < max:<br>26.0 < 74.0 < 135840.0<br>IQR (CV) : 64.0 (0.1)</td>\n",
       "      <td id=\"T_66348_row4_col3\" class=\"data row4 col3\" >136 distinct values</td>\n",
       "      <td id=\"T_66348_row4_col4\" class=\"data row4 col4\" ><img src = \"data:image/png;base64, iVBORw0KGgoAAAANSUhEUgAAAKoAAABGCAYAAABc8A97AAAAOXRFWHRTb2Z0d2FyZQBNYXRwbG90bGliIHZlcnNpb24zLjcuMSwgaHR0cHM6Ly9tYXRwbG90bGliLm9yZy/bCgiHAAAACXBIWXMAAA9hAAAPYQGoP6dpAAABaUlEQVR4nO3XT2oCMRiH4aSI6GYGETyMh+hhewhvIyUuqi1Iuuum1D/jov3R59km+cjiZYbU3nuBv+7pty8At5hd21BrXZZS5hPnf/TejxPPwpeLodZal+v1+nkYhtWU4YfD4bXW+iJWHnXtizofhmG13W6P4zie7hncWlvsdrvVfr+fl1KEykOu/vpLKWUcx9Nms3mbMH854Qx84zFFBKESQahEECoRhEoEoRJBqEQQKhGESgShEkGoRBAqEYRKBKESQahEECoRhEoEoRJBqEQQKhGESgShEkGoRBAqEYRKBKESQahEECoRhEoEoRJBqEQQKhGESgShEkGoRBAqEYRKBKESQahEECoRhEoEoRJBqEQQKhGESgShEkGoRBAqEYRKBKESQahEECoRhEoEoRJBqEQQKhGESgShEkGoRBAqEYRKBKESQahEmN2yqbW2uHdwa21xPp9npZSh1nr3xfh33nvvp58WPwF79y3yrjldnwAAAABJRU5ErkJggg==\"></img></td>\n",
       "      <td id=\"T_66348_row4_col5\" class=\"data row4 col5\" >0<br>(0.0%)</td>\n",
       "    </tr>\n",
       "    <tr>\n",
       "      <td id=\"T_66348_row5_col0\" class=\"data row5 col0\" >6</td>\n",
       "      <td id=\"T_66348_row5_col1\" class=\"data row5 col1\" ><strong>Duration</strong><br>[float64]</td>\n",
       "      <td id=\"T_66348_row5_col2\" class=\"data row5 col2\" >Mean (sd) : 14.2 (153.3)<br>min < med < max:<br>0.0 < 0.0 < 2571.5<br>IQR (CV) : 2.9 (0.1)</td>\n",
       "      <td id=\"T_66348_row5_col3\" class=\"data row5 col3\" >5,153 distinct values</td>\n",
       "      <td id=\"T_66348_row5_col4\" class=\"data row5 col4\" ><img src = \"data:image/png;base64, iVBORw0KGgoAAAANSUhEUgAAAKoAAABGCAYAAABc8A97AAAAOXRFWHRTb2Z0d2FyZQBNYXRwbG90bGliIHZlcnNpb24zLjcuMSwgaHR0cHM6Ly9tYXRwbG90bGliLm9yZy/bCgiHAAAACXBIWXMAAA9hAAAPYQGoP6dpAAABaUlEQVR4nO3XT2oCMRiH4aSI6GYGETyMh+hhewhvIyUuqi1Iuuum1D/jov3R59km+cjiZYbU3nuBv+7pty8At5hd21BrXZZS5hPnf/TejxPPwpeLodZal+v1+nkYhtWU4YfD4bXW+iJWHnXtizofhmG13W6P4zie7hncWlvsdrvVfr+fl1KEykOu/vpLKWUcx9Nms3mbMH854Qx84zFFBKESQahEECoRhEoEoRJBqEQQKhGESgShEkGoRBAqEYRKBKESQahEECoRhEoEoRJBqEQQKhGESgShEkGoRBAqEYRKBKESQahEECoRhEoEoRJBqEQQKhGESgShEkGoRBAqEYRKBKESQahEECoRhEoEoRJBqEQQKhGESgShEkGoRBAqEYRKBKESQahEECoRhEoEoRJBqEQQKhGESgShEkGoRBAqEYRKBKESQahEmN2yqbW2uHdwa21xPp9npZSh1nr3xfh33nvvp58WPwF79y3yrjldnwAAAABJRU5ErkJggg==\"></img></td>\n",
       "      <td id=\"T_66348_row5_col5\" class=\"data row5 col5\" >0<br>(0.0%)</td>\n",
       "    </tr>\n",
       "    <tr>\n",
       "      <td id=\"T_66348_row6_col0\" class=\"data row6 col0\" >7</td>\n",
       "      <td id=\"T_66348_row6_col1\" class=\"data row6 col1\" ><strong>Source IP Numeric</strong><br>[int64]</td>\n",
       "      <td id=\"T_66348_row6_col2\" class=\"data row6 col2\" >Mean (sd) : 3232007510.6 (27183732.8)<br>min < med < max:<br>0.0 < 3232236142.0 < 3232236228.0<br>IQR (CV) : 4.0 (118.9)</td>\n",
       "      <td id=\"T_66348_row6_col3\" class=\"data row6 col3\" >19 distinct values</td>\n",
       "      <td id=\"T_66348_row6_col4\" class=\"data row6 col4\" ><img src = \"data:image/png;base64, iVBORw0KGgoAAAANSUhEUgAAAKoAAABGCAYAAABc8A97AAAAOXRFWHRTb2Z0d2FyZQBNYXRwbG90bGliIHZlcnNpb24zLjcuMSwgaHR0cHM6Ly9tYXRwbG90bGliLm9yZy/bCgiHAAAACXBIWXMAAA9hAAAPYQGoP6dpAAABWklEQVR4nO3XQU7CUBiF0fcMQZi8piFhMSzCxboIdkNMOxDigLoCFBoUrzln+nqTf/BNWqdpKvDXPT36ALjG4tEH8H/UWtellOXM+cc0TcdLj0LlLmqt681m89Ja6+fsx3F8q7W+XopVqNzLsrXW73a7Y9d1p1uGwzCs9vt9fzgclqUUofLzuq47bbfb9xnT9VePfqaIIFQiCJUIQiWCUIkgVCIIlQhCJYJQiSBUIgiVCEIlglCJIFQiCJUIQiWCUIkgVCIIlQhCJYJQiSBUIgiVCEIlglCJIFQiCJUIQiWCUIkgVCIIlQhCJYJQiSBUIgiVCEIlglCJIFQiCJUIQiWCUIkgVCIIlQhCJYJQiSBUIgiVCEIlglCJIFQiCJUIQiWCUIkgVCIIlQhCJYJQiSBUIgiVCEIlglCJIFQiCJUIi+8+qLWuSinPv3AL2dr5fF4Mw7C6dXjN5hOFTCkW7hiMLQAAAABJRU5ErkJggg==\"></img></td>\n",
       "      <td id=\"T_66348_row6_col5\" class=\"data row6 col5\" >0<br>(0.0%)</td>\n",
       "    </tr>\n",
       "    <tr>\n",
       "      <td id=\"T_66348_row7_col0\" class=\"data row7 col0\" >8</td>\n",
       "      <td id=\"T_66348_row7_col1\" class=\"data row7 col1\" ><strong>Destination IP Numeric</strong><br>[int64]</td>\n",
       "      <td id=\"T_66348_row7_col2\" class=\"data row7 col2\" >Mean (sd) : 2213405764.9 (1137748786.3)<br>min < med < max:<br>134744072.0 < 2063133391.0 < 4294967295.0<br>IQR (CV) : 2196495401.0 (1.9)</td>\n",
       "      <td id=\"T_66348_row7_col3\" class=\"data row7 col3\" >47 distinct values</td>\n",
       "      <td id=\"T_66348_row7_col4\" class=\"data row7 col4\" ><img src = \"data:image/png;base64, iVBORw0KGgoAAAANSUhEUgAAAKoAAABGCAYAAABc8A97AAAAOXRFWHRTb2Z0d2FyZQBNYXRwbG90bGliIHZlcnNpb24zLjcuMSwgaHR0cHM6Ly9tYXRwbG90bGliLm9yZy/bCgiHAAAACXBIWXMAAA9hAAAPYQGoP6dpAAACcklEQVR4nO3du47aQBiG4X/CQQYUI4QEHTcQKQUlF5GLTZsuBUVq7mAbhEBghLMOxnaaXUVR9gBj2PXnvE//ryx4hWZnRrIrisKAqvvw3g8AnKP53g+A63LOdcys7Tl+LIri/prPcy2EWiPOuc5wOPwShuHAZ36/32+dc1+rGCuh1ks7DMPBbDa77/f7ySWDURQF8/l8sNls2mZGqLi9fr+fjEajnx6jnas/zJXwzxQkECokECokECokECokECokECokECokECokECokECokECokECokECokECokECokECokECokECokECokECokECokECokECokECokECokECokECokECokECokECokECokECokECokECokECokECok8FaUZ9T1xWKqCPUJdX6xmCpCfVptXyymilBfUMcXi6m6aagl13lmrPXw4Gahll3nmbHWwx+3/EX1XueZsdbD326+Ri2xzjNjrYcHbPhDAqFCAqFCAqFCAqFCAqFCwqvbUyVOl8I8z1sec8A/Xgy1zOlSmqZBlmWfkiT5bma++6iAmb3+i+p9unR3dzdYLBbd0+nUKPF8gJmdeTLlc7q03W45VcLVVPqaX5ZlLTMLnXM+49y8qpHKhhrHcStN08+TyaTRaDQuvtTCzat6qWyox+OxGQRBdzqdJuPxeHvJLDev6qeyoT7q9Xrcsgcb/tBAqJBAqJBQ+TWqr5JbW//l8W/Jz8zshluCZ4UaRVFw6R8+HA6BmVkcx8Fqteq+5fxyufxYZmvr8fh3vV7/uHQ2iqIgy7KmlfvCfYV5njd9vq+yn5mZ2W63OzjnvpmZz/yvoiienfsNrEfyVH6HcTYAAAAASUVORK5CYII=\"></img></td>\n",
       "      <td id=\"T_66348_row7_col5\" class=\"data row7 col5\" >0<br>(0.0%)</td>\n",
       "    </tr>\n",
       "  </tbody>\n",
       "</table>\n"
      ],
      "text/plain": [
       "<pandas.io.formats.style.Styler at 0x7f96d01fdfc0>"
      ]
     },
     "execution_count": 38,
     "metadata": {},
     "output_type": "execute_result"
    }
   ],
   "source": [
    "dfSummary(mirai_stream_df_numeric)"
   ]
  },
  {
   "cell_type": "code",
   "execution_count": 39,
   "metadata": {},
   "outputs": [
    {
     "data": {
      "text/html": [
       "<style type=\"text/css\">\n",
       "#T_c9008 thead>tr>th {\n",
       "  text-align: left;\n",
       "}\n",
       "#T_c9008_row0_col0, #T_c9008_row1_col0, #T_c9008_row2_col0, #T_c9008_row3_col0, #T_c9008_row4_col0, #T_c9008_row5_col0, #T_c9008_row6_col0, #T_c9008_row7_col0 {\n",
       "  text-align: left;\n",
       "  font-size: 12px;\n",
       "  vertical-align: middle;\n",
       "  width: 5%;\n",
       "  max-width: 50px;\n",
       "  min-width: 20px;\n",
       "}\n",
       "#T_c9008_row0_col1, #T_c9008_row1_col1, #T_c9008_row2_col1, #T_c9008_row3_col1, #T_c9008_row4_col1, #T_c9008_row5_col1, #T_c9008_row6_col1, #T_c9008_row7_col1 {\n",
       "  text-align: left;\n",
       "  font-size: 12px;\n",
       "  vertical-align: middle;\n",
       "  width: 15%;\n",
       "  max-width: 200px;\n",
       "  min-width: 100px;\n",
       "  word-break: break-word;\n",
       "}\n",
       "#T_c9008_row0_col2, #T_c9008_row1_col2, #T_c9008_row2_col2, #T_c9008_row3_col2, #T_c9008_row4_col2, #T_c9008_row5_col2, #T_c9008_row6_col2, #T_c9008_row7_col2 {\n",
       "  text-align: left;\n",
       "  font-size: 12px;\n",
       "  vertical-align: middle;\n",
       "  width: 30%;\n",
       "  min-width: 100px;\n",
       "}\n",
       "#T_c9008_row0_col3, #T_c9008_row1_col3, #T_c9008_row2_col3, #T_c9008_row3_col3, #T_c9008_row4_col3, #T_c9008_row5_col3, #T_c9008_row6_col3, #T_c9008_row7_col3 {\n",
       "  text-align: left;\n",
       "  font-size: 12px;\n",
       "  vertical-align: middle;\n",
       "  width: 25%;\n",
       "  min-width: 100px;\n",
       "}\n",
       "#T_c9008_row0_col4, #T_c9008_row1_col4, #T_c9008_row2_col4, #T_c9008_row3_col4, #T_c9008_row4_col4, #T_c9008_row5_col4, #T_c9008_row6_col4, #T_c9008_row7_col4 {\n",
       "  text-align: left;\n",
       "  font-size: 12px;\n",
       "  vertical-align: middle;\n",
       "  width: 20%;\n",
       "  min-width: 150px;\n",
       "}\n",
       "#T_c9008_row0_col5, #T_c9008_row1_col5, #T_c9008_row2_col5, #T_c9008_row3_col5, #T_c9008_row4_col5, #T_c9008_row5_col5, #T_c9008_row6_col5, #T_c9008_row7_col5 {\n",
       "  text-align: left;\n",
       "  font-size: 12px;\n",
       "  vertical-align: middle;\n",
       "  width: 10%;\n",
       "}\n",
       "</style>\n",
       "<table id=\"T_c9008\">\n",
       "  <caption><strong>Data Frame Summary</strong><br>benign_stream_df_numeric<br>Dimensions: 1,689 x 8<br>Duplicates: 0</caption>\n",
       "  <thead>\n",
       "    <tr>\n",
       "      <th id=\"T_c9008_level0_col0\" class=\"col_heading level0 col0\" >No</th>\n",
       "      <th id=\"T_c9008_level0_col1\" class=\"col_heading level0 col1\" >Variable</th>\n",
       "      <th id=\"T_c9008_level0_col2\" class=\"col_heading level0 col2\" >Stats / Values</th>\n",
       "      <th id=\"T_c9008_level0_col3\" class=\"col_heading level0 col3\" >Freqs / (% of Valid)</th>\n",
       "      <th id=\"T_c9008_level0_col4\" class=\"col_heading level0 col4\" >Graph</th>\n",
       "      <th id=\"T_c9008_level0_col5\" class=\"col_heading level0 col5\" >Missing</th>\n",
       "    </tr>\n",
       "  </thead>\n",
       "  <tbody>\n",
       "    <tr>\n",
       "      <td id=\"T_c9008_row0_col0\" class=\"data row0 col0\" >1</td>\n",
       "      <td id=\"T_c9008_row0_col1\" class=\"data row0 col1\" ><strong>Source Port</strong><br>[float64]</td>\n",
       "      <td id=\"T_c9008_row0_col2\" class=\"data row0 col2\" >Mean (sd) : 26659.7 (24067.5)<br>min < med < max:<br>7.0 < 34492.0 < 65535.0<br>IQR (CV) : 49819.0 (1.1)</td>\n",
       "      <td id=\"T_c9008_row0_col3\" class=\"data row0 col3\" >960 distinct values</td>\n",
       "      <td id=\"T_c9008_row0_col4\" class=\"data row0 col4\" ><img src = \"data:image/png;base64, iVBORw0KGgoAAAANSUhEUgAAAKoAAABGCAYAAABc8A97AAAAOXRFWHRTb2Z0d2FyZQBNYXRwbG90bGliIHZlcnNpb24zLjcuMSwgaHR0cHM6Ly9tYXRwbG90bGliLm9yZy/bCgiHAAAACXBIWXMAAA9hAAAPYQGoP6dpAAACr0lEQVR4nO3dMW/aQByG8f9BiEyCbEFU2LJ0rNSBMXvXfth+hA4ZMmfo0okNgZCjuEE4B12aLlUDvuOEX/T8Zs620CMO+yyd2+12BrRd59QXABziYt8HnHN9M7sMPP5mt9u9BI4F/no3VOdc/+bm5mue58OQgz89Pa2cc9+IFbH2/aJe5nk+vLu7eymKYt3kwGVZZvf398PlcnlpZoSKKHunfjOzoijW4/H4V8Dx+wFjgH9wMwUJhAoJhAoJhAoJhAoJhAoJhAoJhAoJhAoJhAoJhAoJhAoJhAoJhAoJhAoJhAoJhAoJhAoJhAoJhAoJhAoJhAoJhAoJhAoJhAoJhAoJhAoJhAoJhAoJhAoJhAoJhAoJhAoJhAoJhAoJhAoJhAoJhAoJhAoJhAoJhAoJB+3cBx2Rmyx3zGwbcfpkmzQT6hmJ2WTZe9+rqurjYDD42el06pDzp9ykmVDPS/Amy7PZbPj4+PhhOp3+mEwmq6YnTr1JM6EmEDn9Rk+fIZssr1arvpnZ9fV16AbNZgk3aSbUI4uZfs3STp/KCPX4gqff1NOnMkJNJGT6NTPz3udmljvnQk6bb7fbXsjAtiPUFqmqqlfX9efb29tut9tt9GtsZlbXdea9/7Rer7+bWej/zFYi1BbZbDYXWZZdTafTdcid958796vX19duius7JUJtodA777c793PEEiokECokMPXjaLz3PQt/YvHuQkfSUCMv3CzhSw44rtgnFvsWOpKFGnvhZqzSKIl5YnHIQkeyUGMftbBKoyniXYF3n1gk/4/a1pccoIW7fkggVEggVEggVEjggf9/RLylf7av2p3SQaGWZZk1PfDz83NmZlZVVTafz6+aji/LMvPeX1jcgkGobDQafSmKYtB04NurdovF4qHp2NjvLGb8Kc99SF+/ASOpMUV6e6uTAAAAAElFTkSuQmCC\"></img></td>\n",
       "      <td id=\"T_c9008_row0_col5\" class=\"data row0 col5\" >0<br>(0.0%)</td>\n",
       "    </tr>\n",
       "    <tr>\n",
       "      <td id=\"T_c9008_row1_col0\" class=\"data row1 col0\" >2</td>\n",
       "      <td id=\"T_c9008_row1_col1\" class=\"data row1 col1\" ><strong>Destination Port</strong><br>[float64]</td>\n",
       "      <td id=\"T_c9008_row1_col2\" class=\"data row1 col2\" >Mean (sd) : 20701.5 (23372.0)<br>min < med < max:<br>7.0 < 3385.0 < 65535.0<br>IQR (CV) : 43293.0 (0.9)</td>\n",
       "      <td id=\"T_c9008_row1_col3\" class=\"data row1 col3\" >741 distinct values</td>\n",
       "      <td id=\"T_c9008_row1_col4\" class=\"data row1 col4\" ><img src = \"data:image/png;base64, iVBORw0KGgoAAAANSUhEUgAAAKoAAABGCAYAAABc8A97AAAAOXRFWHRTb2Z0d2FyZQBNYXRwbG90bGliIHZlcnNpb24zLjcuMSwgaHR0cHM6Ly9tYXRwbG90bGliLm9yZy/bCgiHAAAACXBIWXMAAA9hAAAPYQGoP6dpAAACv0lEQVR4nO3dT27aQBSA8TeFkOGPZuQQOTsuEKmLSNn4AF3msDlCFyyyzg2yi4SQrRAQjuMu2qatKgGewYJHvt+aGSz06cHYC0xd1wIcuy+HvgBgF91tLzDG9EWkF7j/uq7rZeBa4MPGUI0x/fF4fOecS0I2L4piboy5J1bE2jZRe865JMuypfd+1WTjPM/tdDpNZrNZT0QIFVG2fvWLiHjvV2mavgbs3w9YA/yHwxRUIFSoQKhQgVChAqFCBUKFCoQKFQgVKhAqVCBUqECoUIFQoQKhQgVChQqEChUIFSoQKlQgVKhAqFCBUKECoUIFQoUKhAoVCBUqECpUIFSoQKhQgVChAqFCBUKFCoQKFQgVKhAqVCBUqECoUIFQoQKhQgVChQqEChUIFSoQKlQgVKhAqFCBUKECoUIFQoUKO/0NOpoxxvRFpBe4fF3X9XKf13MKCHXPjDH98Xh855xLQtYXRTE3xtwT678Idf96zrkky7Kl937VZGGe53Y6nSaz2awnIoT6F0Jtifd+labpa8DS/t4v5gRwmIIKTFR8iDwEirR4ECTUExMRm724uPjmvR+GvnebB0FCPSExdxzKsrQicn17e/tweXlZNF3f9kGQUI9MVVVnIuKMMSHL3Wg0SrMsK5recXh6ekoeHx8H1toy8BAo0uJBkFCPyGKxOCvL8utkMul0Op1GoYn8nIpVVV2fn59/bxrbfD4/6rsNrYYaOR1EPtlTmvV63bXWDm5ublZXV1fzput/T8W3t7dOG9d3SK2FGjsdRD7vU5rhcBh0D/bQUzFyMG0cSq2FGjsdeEqjS+xg2jaUWv+NGjodfjnq3034I2Yw7TKUOExhryIG08ahxCNUqECoUGGnr/48z23TjV9eXqyIyGKxsM/Pz4Om6/M8t1VVdSXu9tYhuPf39+4hPrOY9Yd8710+qx9gGxyBLIEUEgAAAABJRU5ErkJggg==\"></img></td>\n",
       "      <td id=\"T_c9008_row1_col5\" class=\"data row1 col5\" >0<br>(0.0%)</td>\n",
       "    </tr>\n",
       "    <tr>\n",
       "      <td id=\"T_c9008_row2_col0\" class=\"data row2 col0\" >3</td>\n",
       "      <td id=\"T_c9008_row2_col1\" class=\"data row2 col1\" ><strong>Protocol</strong><br>[float64]</td>\n",
       "      <td id=\"T_c9008_row2_col2\" class=\"data row2 col2\" >1. 17.0<br>2. 6.0<br>3. 41.0<br>4. 47.0</td>\n",
       "      <td id=\"T_c9008_row2_col3\" class=\"data row2 col3\" >1,272 (75.3%)<br>378 (22.4%)<br>35 (2.1%)<br>4 (0.2%)</td>\n",
       "      <td id=\"T_c9008_row2_col4\" class=\"data row2 col4\" ><img src = \"data:image/png;base64, iVBORw0KGgoAAAANSUhEUgAAAJsAAABcCAYAAAB5jMeAAAAAOXRFWHRTb2Z0d2FyZQBNYXRwbG90bGliIHZlcnNpb24zLjcuMSwgaHR0cHM6Ly9tYXRwbG90bGliLm9yZy/bCgiHAAAACXBIWXMAAA9hAAAPYQGoP6dpAAACBklEQVR4nO3bQW7TUBSG0esoKnTiKIrUJcAevAgWyyKyCPYQRfGAlE7MoAVBxATh/H4y58wyu1I+2XnRu900TQUJm6UH4P8hNmK6qnqsqoelB2FWL9M0XZce4tb2cDh86vt+v/QgzGccx3PXdZ9bC27b9/1+GIbrbrd7XnoY/t3lcnl/PB73p9Ppoaraiq2qarfbPT89PX1dehhm87j0AH/igECM2IgRGzFiI0ZsxIiNGLERIzZixEaM2IgRGzFiI0ZsxGyrXq+lLD0I82j5u9yO43g+Ho/7avRaCn9vHMdzVb0sPcct18LXqclr4Z1VPlIcEIhp7TXa5OOfeTS1XdXqVhDzaGa7quWtIObR2naVv19WzAGBGLERIzZixEaM2IgRGzFiI0ZsxIiNGLERIzZixEaM2IgRGzHNrPK1MAP31dQqX6sraMzDDgIxVvmIuX2yebJwN79tV9lu4p42P7arhmG4vkXXyu83VubndtXb58VPpKyXP3WJERsxYiNGbMSIjRixESM2YsRGjNiIERsxYiNGbMSIjRixEdPMdhXr9+t2le0m7soOAjG2q4hxQCBm03Xdx67rHBC4u01Vfaiqd0sPwvp5jRIjNmLERozYiBEbMWIjRmzEiI0YsREjNmLERozYiBEbMWIjRmzEiI2YTVV9qapvSw/C+ll4IcZrlBixEfMd6iScShhmFWYAAAAASUVORK5CYII=\"></img></td>\n",
       "      <td id=\"T_c9008_row2_col5\" class=\"data row2 col5\" >0<br>(0.0%)</td>\n",
       "    </tr>\n",
       "    <tr>\n",
       "      <td id=\"T_c9008_row3_col0\" class=\"data row3 col0\" >4</td>\n",
       "      <td id=\"T_c9008_row3_col1\" class=\"data row3 col1\" ><strong>Number of Packets</strong><br>[int64]</td>\n",
       "      <td id=\"T_c9008_row3_col2\" class=\"data row3 col2\" >Mean (sd) : 11.0 (105.4)<br>min < med < max:<br>1.0 < 1.0 < 3368.0<br>IQR (CV) : 4.0 (0.1)</td>\n",
       "      <td id=\"T_c9008_row3_col3\" class=\"data row3 col3\" >67 distinct values</td>\n",
       "      <td id=\"T_c9008_row3_col4\" class=\"data row3 col4\" ><img src = \"data:image/png;base64, iVBORw0KGgoAAAANSUhEUgAAAKoAAABGCAYAAABc8A97AAAAOXRFWHRTb2Z0d2FyZQBNYXRwbG90bGliIHZlcnNpb24zLjcuMSwgaHR0cHM6Ly9tYXRwbG90bGliLm9yZy/bCgiHAAAACXBIWXMAAA9hAAAPYQGoP6dpAAABaUlEQVR4nO3XT2oCMRiH4aSI6GYGETyMh+hhewhvIyUuqi1Iuuum1D/jov3R59km+cjiZYbU3nuBv+7pty8At5hd21BrXZZS5hPnf/TejxPPwpeLodZal+v1+nkYhtWU4YfD4bXW+iJWHnXtizofhmG13W6P4zie7hncWlvsdrvVfr+fl1KEykOu/vpLKWUcx9Nms3mbMH854Qx84zFFBKESQahEECoRhEoEoRJBqEQQKhGESgShEkGoRBAqEYRKBKESQahEECoRhEoEoRJBqEQQKhGESgShEkGoRBAqEYRKBKESQahEECoRhEoEoRJBqEQQKhGESgShEkGoRBAqEYRKBKESQahEECoRhEoEoRJBqEQQKhGESgShEkGoRBAqEYRKBKESQahEECoRhEoEoRJBqEQQKhGESgShEkGoRBAqEYRKBKESQahEmN2yqbW2uHdwa21xPp9npZSh1nr3xfh33nvvp58WPwF79y3yrjldnwAAAABJRU5ErkJggg==\"></img></td>\n",
       "      <td id=\"T_c9008_row3_col5\" class=\"data row3 col5\" >0<br>(0.0%)</td>\n",
       "    </tr>\n",
       "    <tr>\n",
       "      <td id=\"T_c9008_row4_col0\" class=\"data row4 col0\" >5</td>\n",
       "      <td id=\"T_c9008_row4_col1\" class=\"data row4 col1\" ><strong>Total Length</strong><br>[int64]</td>\n",
       "      <td id=\"T_c9008_row4_col2\" class=\"data row4 col2\" >Mean (sd) : 3281.1 (65601.0)<br>min < med < max:<br>26.0 < 130.0 < 2643858.0<br>IQR (CV) : 424.0 (0.1)</td>\n",
       "      <td id=\"T_c9008_row4_col3\" class=\"data row4 col3\" >448 distinct values</td>\n",
       "      <td id=\"T_c9008_row4_col4\" class=\"data row4 col4\" ><img src = \"data:image/png;base64, iVBORw0KGgoAAAANSUhEUgAAAKoAAABGCAYAAABc8A97AAAAOXRFWHRTb2Z0d2FyZQBNYXRwbG90bGliIHZlcnNpb24zLjcuMSwgaHR0cHM6Ly9tYXRwbG90bGliLm9yZy/bCgiHAAAACXBIWXMAAA9hAAAPYQGoP6dpAAABaUlEQVR4nO3XT2oCMRiH4aSI6GYGETyMh+hhewhvIyUuqi1Iuuum1D/jov3R59km+cjiZYbU3nuBv+7pty8At5hd21BrXZZS5hPnf/TejxPPwpeLodZal+v1+nkYhtWU4YfD4bXW+iJWHnXtizofhmG13W6P4zie7hncWlvsdrvVfr+fl1KEykOu/vpLKWUcx9Nms3mbMH854Qx84zFFBKESQahEECoRhEoEoRJBqEQQKhGESgShEkGoRBAqEYRKBKESQahEECoRhEoEoRJBqEQQKhGESgShEkGoRBAqEYRKBKESQahEECoRhEoEoRJBqEQQKhGESgShEkGoRBAqEYRKBKESQahEECoRhEoEoRJBqEQQKhGESgShEkGoRBAqEYRKBKESQahEECoRhEoEoRJBqEQQKhGESgShEkGoRBAqEYRKBKESQahEmN2yqbW2uHdwa21xPp9npZSh1nr3xfh33nvvp58WPwF79y3yrjldnwAAAABJRU5ErkJggg==\"></img></td>\n",
       "      <td id=\"T_c9008_row4_col5\" class=\"data row4 col5\" >0<br>(0.0%)</td>\n",
       "    </tr>\n",
       "    <tr>\n",
       "      <td id=\"T_c9008_row5_col0\" class=\"data row5 col0\" >6</td>\n",
       "      <td id=\"T_c9008_row5_col1\" class=\"data row5 col1\" ><strong>Duration</strong><br>[float64]</td>\n",
       "      <td id=\"T_c9008_row5_col2\" class=\"data row5 col2\" >Mean (sd) : 104981.7 (4298962.2)<br>min < med < max:<br>0.0 < 0.0 < 176676288.6<br>IQR (CV) : 0.0 (0.0)</td>\n",
       "      <td id=\"T_c9008_row5_col3\" class=\"data row5 col3\" >618 distinct values</td>\n",
       "      <td id=\"T_c9008_row5_col4\" class=\"data row5 col4\" ><img src = \"data:image/png;base64, iVBORw0KGgoAAAANSUhEUgAAAKoAAABGCAYAAABc8A97AAAAOXRFWHRTb2Z0d2FyZQBNYXRwbG90bGliIHZlcnNpb24zLjcuMSwgaHR0cHM6Ly9tYXRwbG90bGliLm9yZy/bCgiHAAAACXBIWXMAAA9hAAAPYQGoP6dpAAABaUlEQVR4nO3XT2oCMRiH4aSI6GYGETyMh+hhewhvIyUuqi1Iuuum1D/jov3R59km+cjiZYbU3nuBv+7pty8At5hd21BrXZZS5hPnf/TejxPPwpeLodZal+v1+nkYhtWU4YfD4bXW+iJWHnXtizofhmG13W6P4zie7hncWlvsdrvVfr+fl1KEykOu/vpLKWUcx9Nms3mbMH854Qx84zFFBKESQahEECoRhEoEoRJBqEQQKhGESgShEkGoRBAqEYRKBKESQahEECoRhEoEoRJBqEQQKhGESgShEkGoRBAqEYRKBKESQahEECoRhEoEoRJBqEQQKhGESgShEkGoRBAqEYRKBKESQahEECoRhEoEoRJBqEQQKhGESgShEkGoRBAqEYRKBKESQahEECoRhEoEoRJBqEQQKhGESgShEkGoRBAqEYRKBKESQahEmN2yqbW2uHdwa21xPp9npZSh1nr3xfh33nvvp58WPwF79y3yrjldnwAAAABJRU5ErkJggg==\"></img></td>\n",
       "      <td id=\"T_c9008_row5_col5\" class=\"data row5 col5\" >0<br>(0.0%)</td>\n",
       "    </tr>\n",
       "    <tr>\n",
       "      <td id=\"T_c9008_row6_col0\" class=\"data row6 col0\" >7</td>\n",
       "      <td id=\"T_c9008_row6_col1\" class=\"data row6 col1\" ><strong>Source IP Numeric</strong><br>[int64]</td>\n",
       "      <td id=\"T_c9008_row6_col2\" class=\"data row6 col2\" >Mean (sd) : 2407294567.9 (1269951771.4)<br>min < med < max:<br>0.0 < 3232236373.0 < 3640661313.0<br>IQR (CV) : 1792088805.0 (1.9)</td>\n",
       "      <td id=\"T_c9008_row6_col3\" class=\"data row6 col3\" >180 distinct values</td>\n",
       "      <td id=\"T_c9008_row6_col4\" class=\"data row6 col4\" ><img src = \"data:image/png;base64, iVBORw0KGgoAAAANSUhEUgAAAKoAAABGCAYAAABc8A97AAAAOXRFWHRTb2Z0d2FyZQBNYXRwbG90bGliIHZlcnNpb24zLjcuMSwgaHR0cHM6Ly9tYXRwbG90bGliLm9yZy/bCgiHAAAACXBIWXMAAA9hAAAPYQGoP6dpAAACXklEQVR4nO3dvU7bUByG8fckBJmP2kKRwsbSsVIHRi6iF9u1O0PvoXuEQMRRDCiW7Q5VJSawfWLwmzy//R8fKY+S2CfSCU3TCBi7yWcvAGjj6LMXgPEIIZxIOo54iW3TNM+7Ws9rhApJ/yKdz+c/0jS96Psa6/X6MYTwc4hYCRX/HadpenFzc/OcZdlL1+E8z5Pb29uLh4eHY0mEimFlWfayWCyeeo6f7HQxr3AzBQuECguECguECguECguECguECguECguECguECguECguECguECguECguECguECguECguECguECguECguECguECguECguECguECguECguECguECguECguECguECguECguECguECguECguECguECguECguECguECguECguECguECgvvnoUaeTT2YMdi47C8GWrs0dhDHouNw/LeJ2rvo7GHPhYbh6XVMegRR2MPdiw2Dgs3U7BAqLBAqLBAqLBAqLDQ6q7fUeRGhcRmxajsZaixGxUSmxVjs5ehKmKjQmKzYoz2NVRJURsVEpsVo8LNFCwQKiwQKizs9W9UfKyqqmaS0hBCn/E3HwcSKnaiKIpZWZbfr66uptPptPOTlvceBxIqdmK73R4lSXJ6fX39cnl5+dhlts3jwEFDjfwqkD5xdyhy7RNJdc9Lx8zGzKd1Xc8iritJOjs7G+S/y61CzfM86XrV5XL5JearQJJWq9UmhPBLUtf5tK7roz7rluLWXlXVrCiKr+fn538mk0n5UbOx82VZJlVVfbu/v//d9bqStNlsEkkqiiK5u7s77TLb5n36Cw5d3aB8YyoDAAAAAElFTkSuQmCC\"></img></td>\n",
       "      <td id=\"T_c9008_row6_col5\" class=\"data row6 col5\" >0<br>(0.0%)</td>\n",
       "    </tr>\n",
       "    <tr>\n",
       "      <td id=\"T_c9008_row7_col0\" class=\"data row7 col0\" >8</td>\n",
       "      <td id=\"T_c9008_row7_col1\" class=\"data row7 col1\" ><strong>Destination IP Numeric</strong><br>[int64]</td>\n",
       "      <td id=\"T_c9008_row7_col2\" class=\"data row7 col2\" >Mean (sd) : 2296691701.7 (1360119172.2)<br>min < med < max:<br>16843009.0 < 3232236373.0 < 4294967295.0<br>IQR (CV) : 2108632697.0 (1.7)</td>\n",
       "      <td id=\"T_c9008_row7_col3\" class=\"data row7 col3\" >173 distinct values</td>\n",
       "      <td id=\"T_c9008_row7_col4\" class=\"data row7 col4\" ><img src = \"data:image/png;base64, iVBORw0KGgoAAAANSUhEUgAAAKoAAABGCAYAAABc8A97AAAAOXRFWHRTb2Z0d2FyZQBNYXRwbG90bGliIHZlcnNpb24zLjcuMSwgaHR0cHM6Ly9tYXRwbG90bGliLm9yZy/bCgiHAAAACXBIWXMAAA9hAAAPYQGoP6dpAAACfklEQVR4nO3dvW7aUACG4e/wEzn82CKRko2lG5E6ZMwFdOzF9hI6MGTtzB4hosgpbiiWcaeObbANij/rffZjH8GL5YOOdEJZlgLarvfREwCOMfjoCeC0QgiXki5qDt+XZfl2yvmcCqF2SAjh8vr6+mscx7M6419fX19CCN/aGCuhdstFHMezh4eHtyRJdlUGpmkaLZfL2fPz84UkQsX5JUmyu7m5+VVj6OXJJ3MiLKZggVBhgVBhgVBhgVBhgVBhgVBhgVBhgVBhgVBhgVBhgVBhgVBhgVBhgVBhgVBhgVBhgVBhgVBhgVBhgVBhgVBhgVBhgVBhgVBhgVBhgVBhgVBhgVBhgVBhgVBhgVBhgVBhgVBhgVBhgVBh4d3DJrp6bhG8/DfULp9bBC/vPVE7e24RvBx1zlQXzy2CFxZTsECosECosECosECosECosECosECosECosECosECosECosECosHDU7ilHDTd8S2z6bpVOhtp0w7fEpu+26WSoarDhW2LTdxt1NVRJjTZ8S2z6bhUWU7DQ6ScqqimKYigpDiHUvcTZFqCECklSlmXDPM8/z+fzfr/fr/xeL513AUqokCTt9/tBFEWj+/v73e3t7UvV8edegBJqyzT8/zc+HA7DJvcfj8etXICeNdQTvPP0JB1qjGv8hTWce915R1dXV1+SJBnXuWme51FRFHe73e67pLqxtdJRoaZpGlW98NPT07TJO09RFMMsyz5NJpNVr9fLq4z9+4VtNpvHqveVms296bwl3S0Wix/T6fRnpUlL2mw20Wq1GqVpOl6v1/sqY7fbbSRJWZZF6/V6VPXeaZpGRVEMVP/H/bssy39+1n8AXYTsdTdg2x0AAAAASUVORK5CYII=\"></img></td>\n",
       "      <td id=\"T_c9008_row7_col5\" class=\"data row7 col5\" >0<br>(0.0%)</td>\n",
       "    </tr>\n",
       "  </tbody>\n",
       "</table>\n"
      ],
      "text/plain": [
       "<pandas.io.formats.style.Styler at 0x7f96ceca8d60>"
      ]
     },
     "execution_count": 39,
     "metadata": {},
     "output_type": "execute_result"
    }
   ],
   "source": [
    "dfSummary(benign_stream_df_numeric)"
   ]
  },
  {
   "cell_type": "code",
   "execution_count": null,
   "metadata": {},
   "outputs": [],
   "source": [
    "my_report = sv.analyze(mirai_stream_df_numeric)\n",
    "my_report.show_html(filepath=\"html/mirai_stream.html\")"
   ]
  },
  {
   "cell_type": "code",
   "execution_count": null,
   "metadata": {},
   "outputs": [],
   "source": [
    "my_report = sv.analyze(benign_stream_df_numeric)\n",
    "my_report.show_html(filepath=\"html/benign_stream.html\")"
   ]
  },
  {
   "attachments": {},
   "cell_type": "markdown",
   "metadata": {},
   "source": [
    "# Labeling\n",
    "We label and concatenate benign and malicious before one-hot because there are different ports in each dataset and concatenating the two after one hot will not work with different columns."
   ]
  },
  {
   "cell_type": "code",
   "execution_count": null,
   "metadata": {},
   "outputs": [],
   "source": [
    "# add labels, 0 for benign, 1 for malicious\n",
    "mirai_stream_df_numeric[\"Labels\"] = 1\n",
    "benign_stream_df_numeric[\"Labels\"] = 0"
   ]
  },
  {
   "cell_type": "code",
   "execution_count": 43,
   "metadata": {},
   "outputs": [],
   "source": [
    "# concatenate dataframes\n",
    "data_df = pd.concat(\n",
    "    [mirai_stream_df_numeric, benign_stream_df_numeric], ignore_index=True\n",
    ")"
   ]
  },
  {
   "attachments": {},
   "cell_type": "markdown",
   "metadata": {},
   "source": [
    "# Feature engineering (cont.) categorical \n",
    "## One-hot"
   ]
  },
  {
   "cell_type": "code",
   "execution_count": 44,
   "metadata": {},
   "outputs": [
    {
     "name": "stdout",
     "output_type": "stream",
     "text": [
      "Opening in existing browser session.\n"
     ]
    }
   ],
   "source": [
    "def one_hot_encode(df, feature):\n",
    "    feature_dummies = pd.get_dummies(df[feature], prefix=feature)\n",
    "    return pd.concat([df, feature_dummies], axis=1)"
   ]
  },
  {
   "cell_type": "code",
   "execution_count": 45,
   "metadata": {},
   "outputs": [],
   "source": [
    "data_df = one_hot_encode(data_df, \"Source Port\")\n",
    "data_df = one_hot_encode(data_df, \"Destination Port\")"
   ]
  },
  {
   "attachments": {},
   "cell_type": "markdown",
   "metadata": {},
   "source": [
    "# Model Training\n",
    "- models\n",
    "  - xgboost\n",
    "  - NN\n",
    "  - k-NN\n",
    "  - Random Forest\n",
    "- k-fold cross validation"
   ]
  },
  {
   "cell_type": "code",
   "execution_count": 46,
   "metadata": {},
   "outputs": [],
   "source": [
    "k = 5\n",
    "kfold = KFold(n_splits=k, shuffle=True, random_state=1)"
   ]
  },
  {
   "cell_type": "code",
   "execution_count": 47,
   "metadata": {},
   "outputs": [],
   "source": [
    "# randomize the data. TODO: is this needed??\n",
    "data_df = shuffle(data_df)"
   ]
  },
  {
   "cell_type": "code",
   "execution_count": 48,
   "metadata": {},
   "outputs": [],
   "source": [
    "# after feature engineering, drop all the columns that are unnecessary\n",
    "data_df = data_df.drop([\"Source Port\", \"Destination Port\"], axis=1)"
   ]
  },
  {
   "cell_type": "code",
   "execution_count": 49,
   "metadata": {},
   "outputs": [],
   "source": [
    "# store the features and labels in separate dataframes\n",
    "X = data_df.drop(\"Labels\", axis=1)\n",
    "y = data_df[\"Labels\"]"
   ]
  },
  {
   "cell_type": "code",
   "execution_count": 50,
   "metadata": {},
   "outputs": [],
   "source": [
    "# convert data to array\n",
    "data_array = data_df.to_numpy()"
   ]
  },
  {
   "cell_type": "code",
   "execution_count": 51,
   "metadata": {},
   "outputs": [
    {
     "name": "stdout",
     "output_type": "stream",
     "text": [
      "Model 1\n",
      "train [    0     1     2 ... 15824 15825 15826], test: [    4     5     6 ... 15815 15820 15823]\n",
      "Model 2\n",
      "train [    0     1     2 ... 15823 15824 15825], test: [    7    12    16 ... 15811 15817 15826]\n",
      "Model 3\n",
      "train [    0     2     4 ... 15824 15825 15826], test: [    1     3    10 ... 15812 15818 15821]\n",
      "Model 4\n",
      "train [    0     1     2 ... 15823 15824 15826], test: [    8     9    13 ... 15816 15822 15825]\n",
      "Model 5\n",
      "train [    1     3     4 ... 15823 15825 15826], test: [    0     2    15 ... 15806 15819 15824]\n"
     ]
    }
   ],
   "source": [
    "model = 1\n",
    "for train, test in kfold.split(data_array):\n",
    "    print(f\"Model {model}\")\n",
    "    print(f\"train {train}, test: {test}\")\n",
    "    model += 1"
   ]
  },
  {
   "cell_type": "code",
   "execution_count": 52,
   "metadata": {},
   "outputs": [],
   "source": [
    "# K-Nearest Neighbors\n",
    "knn_model = KNeighborsRegressor(n_neighbors=3)"
   ]
  },
  {
   "cell_type": "code",
   "execution_count": 53,
   "metadata": {},
   "outputs": [],
   "source": [
    "# Random Forest Classifier\n",
    "rf_model = RandomForestClassifier(max_depth=2, random_state=0)"
   ]
  },
  {
   "cell_type": "code",
   "execution_count": 54,
   "metadata": {},
   "outputs": [],
   "source": [
    "# XGBoost\n",
    "xgb_model = XGBClassifier(\n",
    "    n_estimators=2, max_depth=2, learning_rate=1, objective=\"binary:logistic\"\n",
    ")"
   ]
  },
  {
   "cell_type": "code",
   "execution_count": 55,
   "metadata": {},
   "outputs": [],
   "source": [
    "def k_fold_model(model, X, y):\n",
    "    accuracy_scores = []\n",
    "    for train, test in kfold.split(X):\n",
    "        X_train, X_test = X.iloc[train], X.iloc[test]\n",
    "        y_train, y_test = y.iloc[train], y.iloc[test]\n",
    "\n",
    "        model.fit(X_train, y_train)\n",
    "\n",
    "        # evaluate model accuracy\n",
    "        accuracy = model.score(X_test, y_test)\n",
    "        accuracy_scores.append(accuracy)\n",
    "\n",
    "    return accuracy_scores"
   ]
  },
  {
   "attachments": {},
   "cell_type": "markdown",
   "metadata": {},
   "source": [
    "# Model Evaluation"
   ]
  },
  {
   "attachments": {},
   "cell_type": "markdown",
   "metadata": {},
   "source": [
    "## Accuracy\n",
    "\n",
    "Accuracy is the proportion of correct predictions to the total number of predictions."
   ]
  },
  {
   "cell_type": "code",
   "execution_count": 56,
   "metadata": {},
   "outputs": [
    {
     "name": "stdout",
     "output_type": "stream",
     "text": [
      "Average accuracy k-nn: 0.9745805653254503\n"
     ]
    }
   ],
   "source": [
    "# Calculate the average accuracy score across all folds\n",
    "accuracy_scores = k_fold_model(knn_model, X, y)\n",
    "average_accuracy = sum(accuracy_scores) / k\n",
    "print(\"Average accuracy k-nn:\", average_accuracy)"
   ]
  },
  {
   "cell_type": "code",
   "execution_count": 57,
   "metadata": {},
   "outputs": [
    {
     "name": "stdout",
     "output_type": "stream",
     "text": [
      "Average accuracy random forest: 0.8932832754014564\n"
     ]
    }
   ],
   "source": [
    "# Calculate the average accuracy score across all folds\n",
    "accuracy_scores = k_fold_model(rf_model, X, y)\n",
    "average_accuracy = sum(accuracy_scores) / k\n",
    "print(\"Average accuracy random forest:\", average_accuracy)"
   ]
  },
  {
   "cell_type": "code",
   "execution_count": 58,
   "metadata": {},
   "outputs": [
    {
     "name": "stdout",
     "output_type": "stream",
     "text": [
      "Average accuracy XGBoost: 0.9989259100693687\n"
     ]
    }
   ],
   "source": [
    "# Calculate the average accuracy score across all folds\n",
    "accuracy_scores = k_fold_model(xgb_model, X, y)\n",
    "average_accuracy = sum(accuracy_scores) / k\n",
    "print(\"Average accuracy XGBoost:\", average_accuracy)"
   ]
  },
  {
   "attachments": {},
   "cell_type": "markdown",
   "metadata": {},
   "source": [
    "## Precision\n",
    "\n",
    "Precision measures the proportion of true positives to the total predicted positives."
   ]
  },
  {
   "cell_type": "code",
   "execution_count": 59,
   "metadata": {},
   "outputs": [],
   "source": [
    "def model_evaluation(model, X, y, k, scorer):\n",
    "    # Perform k-fold cross-validation and calculate precision scores\n",
    "    model_scores = cross_val_score(model, X, y, cv=k, scoring=scorer)\n",
    "\n",
    "    # Calculate the average score across all folds\n",
    "    average_score = model_scores.mean()\n",
    "\n",
    "    return average_score"
   ]
  },
  {
   "cell_type": "code",
   "execution_count": 60,
   "metadata": {},
   "outputs": [],
   "source": [
    "# Assuming model is your trained model and X, y are the input features and labels respectively\n",
    "# Set the scoring metric to precision\n",
    "scorer = make_scorer(precision_score)"
   ]
  },
  {
   "cell_type": "code",
   "execution_count": 61,
   "metadata": {},
   "outputs": [],
   "source": [
    "# TODO: how do we calculate precision for knn?\n",
    "# print(\"Average Precision knn:\", model_evaluation(knn_model, X, y, k, scorer))"
   ]
  },
  {
   "cell_type": "code",
   "execution_count": 62,
   "metadata": {},
   "outputs": [
    {
     "name": "stdout",
     "output_type": "stream",
     "text": [
      "Average Precision random forest: 0.89328363466891\n"
     ]
    }
   ],
   "source": [
    "print(\"Average Precision random forest:\", model_evaluation(rf_model, X, y, k, scorer))"
   ]
  },
  {
   "cell_type": "code",
   "execution_count": 63,
   "metadata": {},
   "outputs": [
    {
     "name": "stdout",
     "output_type": "stream",
     "text": [
      "Average Precision xgboost 0.9989400541103126\n"
     ]
    }
   ],
   "source": [
    "print(\"Average Precision xgboost\", model_evaluation(xgb_model, X, y, k, scorer))"
   ]
  },
  {
   "attachments": {},
   "cell_type": "markdown",
   "metadata": {},
   "source": [
    "## Recall\n",
    "\n",
    "Recall (also known as sensitivity or true positive rate) measures the proportion of true positives to the total actual positives."
   ]
  },
  {
   "cell_type": "code",
   "execution_count": 64,
   "metadata": {},
   "outputs": [],
   "source": [
    "scorer = make_scorer(recall_score)"
   ]
  },
  {
   "cell_type": "code",
   "execution_count": null,
   "metadata": {},
   "outputs": [],
   "source": [
    "print(\"Average Recall knn:\", model_evaluation(knn_model, X, y, k, scorer))"
   ]
  },
  {
   "cell_type": "code",
   "execution_count": 66,
   "metadata": {},
   "outputs": [
    {
     "name": "stdout",
     "output_type": "stream",
     "text": [
      "Average Recall random forest: 1.0\n"
     ]
    }
   ],
   "source": [
    "print(\"Average Recall random forest:\", model_evaluation(rf_model, X, y, k, scorer))"
   ]
  },
  {
   "cell_type": "code",
   "execution_count": 67,
   "metadata": {},
   "outputs": [
    {
     "name": "stdout",
     "output_type": "stream",
     "text": [
      "Average Recall xgboost: 0.9998585572842998\n"
     ]
    }
   ],
   "source": [
    "print(\"Average Recall xgboost:\", model_evaluation(xgb_model, X, y, k, scorer))"
   ]
  },
  {
   "attachments": {},
   "cell_type": "markdown",
   "metadata": {},
   "source": [
    "## Confusion matrix\n",
    "\n",
    "A confusion matrix is a table that visualizes the performance of a classification model by showing the counts of true positive, true negative, false positive, and false negative predictions."
   ]
  },
  {
   "cell_type": "code",
   "execution_count": 68,
   "metadata": {},
   "outputs": [],
   "source": [
    "def plot_confusion_matrix(model, X, y):\n",
    "    for train, test in kfold.split(X):\n",
    "        X_train, X_test = X.iloc[train], X.iloc[test]\n",
    "        y_train, y_test = y.iloc[train], y.iloc[test]\n",
    "\n",
    "        model.fit(X_train, y_train)\n",
    "        y_pred = model.predict(X_test)\n",
    "\n",
    "        cm = confusion_matrix(y_test, y_pred)\n",
    "\n",
    "        # Create a heatmap of the confusion matrix\n",
    "        sns.heatmap(cm, annot=True, cmap=\"Blues\")\n",
    "        plt.xlabel(\"Predicted labels\")\n",
    "        plt.ylabel(\"True labels\")\n",
    "        plt.title(\"Confusion Matrix\")\n",
    "        plt.show()"
   ]
  },
  {
   "cell_type": "code",
   "execution_count": 69,
   "metadata": {},
   "outputs": [
    {
     "data": {
      "image/png": "[encoded data removed]",
      "text/plain": [
       "<Figure size 640x480 with 2 Axes>"
      ]
     },
     "metadata": {},
     "output_type": "display_data"
    },
    {
     "data": {
      "image/png": "[encoded data removed]",
      "text/plain": [
       "<Figure size 640x480 with 2 Axes>"
      ]
     },
     "metadata": {},
     "output_type": "display_data"
    },
    {
     "data": {
      "image/png": "[encoded data removed]",
      "text/plain": [
       "<Figure size 640x480 with 2 Axes>"
      ]
     },
     "metadata": {},
     "output_type": "display_data"
    },
    {
     "data": {
      "image/png": "[encoded data removed]",
      "text/plain": [
       "<Figure size 640x480 with 2 Axes>"
      ]
     },
     "metadata": {},
     "output_type": "display_data"
    },
    {
     "data": {
      "image/png": "[encoded data removed]",
      "text/plain": [
       "<Figure size 640x480 with 2 Axes>"
      ]
     },
     "metadata": {},
     "output_type": "display_data"
    }
   ],
   "source": [
    "plot_confusion_matrix(xgb_model, X, y)"
   ]
  },
  {
   "attachments": {},
   "cell_type": "markdown",
   "metadata": {},
   "source": [
    "## ROC curve\n",
    "\n",
    "Use pandas ai ROC curve"
   ]
  },
  {
   "cell_type": "code",
   "execution_count": 70,
   "metadata": {},
   "outputs": [],
   "source": [
    "def split_data(model, X, y):\n",
    "    X_train, X_test, y_train, y_test = train_test_split(\n",
    "        X, y, test_size=0.2, random_state=42\n",
    "    )\n",
    "    model.fit(X_train, y_train)\n",
    "    # y_pred = model.predict(X_test)\n",
    "    y_score = model.predict_proba(X_test)\n",
    "\n",
    "    # return X_test, y_test, y_pred\n",
    "    return y_test, y_score"
   ]
  },
  {
   "cell_type": "code",
   "execution_count": 71,
   "metadata": {},
   "outputs": [],
   "source": [
    "# X_test, y_test, y_pred = split_data(knn_model, X, y)"
   ]
  },
  {
   "cell_type": "code",
   "execution_count": 72,
   "metadata": {},
   "outputs": [],
   "source": [
    "# ERROR: numpy.ndarrayThis model's maximum context length is 4097 tokens. \n",
    "# However, your messages resulted in 26146 tokens. Please reduce the length of the messages.\n",
    "# pandas_ai.plot_roc_curve(X_test, y_test.tolist(), y_pred.tolist())"
   ]
  },
  {
   "cell_type": "code",
   "execution_count": 73,
   "metadata": {},
   "outputs": [],
   "source": [
    "y_test, y_score = split_data(rf_model, X, y)"
   ]
  },
  {
   "cell_type": "code",
   "execution_count": 74,
   "metadata": {},
   "outputs": [],
   "source": [
    "def plot_roc_curve(y_test, y_score):\n",
    "    # Calculate the false positive rate, true positive rate, and thresholds for the ROC curve\n",
    "    fpr, tpr, thresholds = roc_curve(y_test, y_score)\n",
    "    roc_auc = auc(fpr, tpr)\n",
    "\n",
    "    # Plot the ROC curve\n",
    "    plt.plot(fpr, tpr, label=\"ROC curve (AUC = %0.2f)\" % roc_auc)\n",
    "    plt.plot([0, 1], [0, 1], \"k--\")  # Random guessing line\n",
    "    plt.xlabel(\"False Positive Rate\")\n",
    "    plt.ylabel(\"True Positive Rate\")\n",
    "    plt.title(\"Receiver Operating Characteristic (ROC)\")\n",
    "    plt.legend(loc=\"lower right\")\n",
    "    plt.show()"
   ]
  },
  {
   "cell_type": "code",
   "execution_count": 75,
   "metadata": {},
   "outputs": [
    {
     "data": {
      "image/png": "[encoded data removed]",
      "text/plain": [
       "<Figure size 640x480 with 1 Axes>"
      ]
     },
     "metadata": {},
     "output_type": "display_data"
    }
   ],
   "source": [
    "plot_roc_curve(y_test, y_score[:, 1])"
   ]
  },
  {
   "cell_type": "code",
   "execution_count": 76,
   "metadata": {},
   "outputs": [],
   "source": [
    "y_test, y_score = split_data(xgb_model, X, y)"
   ]
  },
  {
   "cell_type": "code",
   "execution_count": 77,
   "metadata": {},
   "outputs": [
    {
     "data": {
      "image/png": "[encoded data removed]",
      "text/plain": [
       "<Figure size 640x480 with 1 Axes>"
      ]
     },
     "metadata": {},
     "output_type": "display_data"
    }
   ],
   "source": [
    "plot_roc_curve(y_test, y_score[:, 1])"
   ]
  },
  {
   "attachments": {},
   "cell_type": "markdown",
   "metadata": {},
   "source": [
    "# AI Classifier \n",
    "Use llm for classification. Can only use payload that is words."
   ]
  },
  {
   "cell_type": "code",
   "execution_count": 78,
   "metadata": {},
   "outputs": [],
   "source": [
    "# add labels, 0 for benign, 1 for malicious\n",
    "mirai_cleaned_df[\"Labels\"] = 1\n",
    "benign_clean_df[\"Labels\"] = 0"
   ]
  },
  {
   "cell_type": "code",
   "execution_count": 79,
   "metadata": {},
   "outputs": [],
   "source": [
    "mirai_payloads = mirai_cleaned_df[[\"Payload\", \"Labels\"]]\n",
    "benign_payloads = benign_clean_df[[\"Payload\", \"Labels\"]]"
   ]
  },
  {
   "cell_type": "code",
   "execution_count": 80,
   "metadata": {},
   "outputs": [],
   "source": [
    "payloads = pd.concat([mirai_payloads, benign_payloads], ignore_index=True)"
   ]
  },
  {
   "cell_type": "code",
   "execution_count": 81,
   "metadata": {},
   "outputs": [],
   "source": [
    "# TODO: use sample\n",
    "payloads = shuffle(payloads)"
   ]
  },
  {
   "cell_type": "code",
   "execution_count": 82,
   "metadata": {},
   "outputs": [],
   "source": [
    "# use a subset because this takes loooong!\n",
    "X_llm = payloads[\"Payload\"].head(20)\n",
    "y_llm = payloads[\"Labels\"].head(20)"
   ]
  },
  {
   "cell_type": "code",
   "execution_count": 83,
   "metadata": {},
   "outputs": [
    {
     "data": {
      "text/plain": [
       "(20,)"
      ]
     },
     "execution_count": 83,
     "metadata": {},
     "output_type": "execute_result"
    }
   ],
   "source": [
    "y_llm.shape"
   ]
  },
  {
   "cell_type": "code",
   "execution_count": 84,
   "metadata": {},
   "outputs": [],
   "source": [
    "SKLLMConfig.set_openai_key(openai_api_key)\n",
    "SKLLMConfig.set_openai_org(\"org-HlcxSARQUphcO0tUGmtJJOpD\")"
   ]
  },
  {
   "cell_type": "code",
   "execution_count": 85,
   "metadata": {},
   "outputs": [],
   "source": [
    "# TODO: DynamicFewShotGPTClassifier errors out, why?\n",
    "# def ai_classify(classifier, X, Y):\n",
    "#     classifier.fit(X, y)\n",
    "#     labels = classifier.predict(X)\n",
    "#     return labels"
   ]
  },
  {
   "cell_type": "code",
   "execution_count": 86,
   "metadata": {},
   "outputs": [
    {
     "name": "stderr",
     "output_type": "stream",
     "text": [
      "100%|██████████| 20/20 [00:44<00:00,  2.23s/it]"
     ]
    },
    {
     "name": "stdout",
     "output_type": "stream",
     "text": [
      "Accuracy: 0.70\n"
     ]
    },
    {
     "name": "stderr",
     "output_type": "stream",
     "text": [
      "\n"
     ]
    }
   ],
   "source": [
    "clf = ZeroShotGPTClassifier(openai_model=\"gpt-3.5-turbo\")\n",
    "clf.fit(X_llm, y_llm)\n",
    "labels = clf.predict(X_llm)\n",
    "\n",
    "print(f\"Accuracy: {accuracy_score(y_llm, labels):.2f}\")"
   ]
  },
  {
   "cell_type": "code",
   "execution_count": 87,
   "metadata": {},
   "outputs": [
    {
     "name": "stderr",
     "output_type": "stream",
     "text": [
      "100%|██████████| 20/20 [00:12<00:00,  1.63it/s]\n"
     ]
    }
   ],
   "source": [
    "clf = FewShotGPTClassifier(openai_model=\"gpt-3.5-turbo\")\n",
    "clf.fit(X_llm, y_llm)\n",
    "labels = clf.predict(X_llm)"
   ]
  },
  {
   "cell_type": "code",
   "execution_count": 88,
   "metadata": {},
   "outputs": [
    {
     "name": "stdout",
     "output_type": "stream",
     "text": [
      "Accuracy: 0.55\n"
     ]
    }
   ],
   "source": [
    "print(f\"Accuracy: {accuracy_score(y_llm, labels):.2f}\")"
   ]
  }
 ],
 "metadata": {
  "kernelspec": {
   "display_name": ".venv",
   "language": "python",
   "name": "python3"
  },
  "language_info": {
   "codemirror_mode": {
    "name": "ipython",
    "version": 3
   },
   "file_extension": ".py",
   "mimetype": "text/x-python",
   "name": "python",
   "nbconvert_exporter": "python",
   "pygments_lexer": "ipython3",
   "version": "3.10.6"
  }
 },
 "nbformat": 4,
 "nbformat_minor": 2
}
