{
 "cells": [
  {
   "cell_type": "code",
   "execution_count": 1,
   "metadata": {},
   "outputs": [],
   "source": [
    "# Uncomment these to install required packages\n",
    "# activate virtual environment\n",
    "# !source .venv/bin/activate\n",
    "# # install necessary packages\n",
    "# !pip install pandas numpy sweetviz ipaddress python-dotenv scapy scipy summarytools xgboost matplotlib seaborn skimpy pandasai scikit-learn scikit-llm\n",
    "# # alternatively you may use the requirements.txt\n",
    "# !pip install -r requirements.txt"
   ]
  },
  {
   "cell_type": "code",
   "execution_count": 2,
   "metadata": {},
   "outputs": [
    {
     "name": "stderr",
     "output_type": "stream",
     "text": [
      "WARNING: No IPv4 address found on en6 !\n",
      "WARNING: No IPv4 address found on ap1 !\n",
      "WARNING: more No IPv4 address found on awdl0 !\n"
     ]
    }
   ],
   "source": [
    "import pandas as pd\n",
    "import numpy as np\n",
    "import sweetviz as sv\n",
    "import ipaddress\n",
    "import os\n",
    "import seaborn as sns\n",
    "\n",
    "from dotenv import load_dotenv\n",
    "from scapy.all import PcapReader, IP, TCP, UDP, ICMP\n",
    "from scipy.stats import ttest_ind, zscore\n",
    "from summarytools import dfSummary\n",
    "from xgboost import XGBClassifier\n",
    "import matplotlib.pyplot as plt\n",
    "import seaborn as sns\n",
    "from skimpy import skim\n",
    "\n",
    "# pandasai imports\n",
    "from pandasai.llm.openai import OpenAI\n",
    "from pandasai import PandasAI\n",
    "from pandasai import SmartDataframe\n",
    "\n",
    "# scikit learn imports\n",
    "from sklearn.ensemble import RandomForestClassifier\n",
    "from sklearn.utils import shuffle\n",
    "from sklearn.metrics import (\n",
    "    accuracy_score,\n",
    "    make_scorer,\n",
    "    precision_score,\n",
    "    recall_score,\n",
    "    confusion_matrix,\n",
    "    roc_curve,\n",
    "    auc,\n",
    "    f1_score,\n",
    ")\n",
    "from sklearn.model_selection import KFold, cross_val_score, train_test_split, StratifiedKFold\n",
    "from sklearn.tree import DecisionTreeClassifier\n",
    "\n",
    "# scikit llm imports\n",
    "from skllm.config import SKLLMConfig\n",
    "from skllm import (\n",
    "    ZeroShotGPTClassifier,\n",
    "    FewShotGPTClassifier,\n",
    "    DynamicFewShotGPTClassifier,\n",
    ")"
   ]
  },
  {
   "cell_type": "code",
   "execution_count": 3,
   "metadata": {},
   "outputs": [],
   "source": [
    "# finds .env file and loads the vars\n",
    "load_dotenv()\n",
    "openai_api_key = os.getenv(\"OPENAI_API_KEY\", \"Key not found\")\n",
    "openai_org = os.getenv(\"OPENAI_ORG\", \"Organization not found\")"
   ]
  },
  {
   "cell_type": "code",
   "execution_count": 4,
   "metadata": {},
   "outputs": [],
   "source": [
    "# If this is set to true, we use old data and pickle files that have been created\n",
    "READ_FROM_PICKLE = True"
   ]
  },
  {
   "cell_type": "code",
   "execution_count": 5,
   "metadata": {},
   "outputs": [],
   "source": [
    "#read packet captures\n",
    "pcap_reader_mirai = PcapReader(\"data/mirai.pcap\")\n",
    "pcap_reader_benign = PcapReader(\"data/benign.pcapng\")"
   ]
  },
  {
   "attachments": {},
   "cell_type": "markdown",
   "metadata": {},
   "source": [
    "# Preprocess\n",
    "\n",
    "Preprocessing includes cleaning up data and converting it to a usable format. In this example we:\n",
    "\n",
    "- convert packet capture to Pandas DataFrame\n",
    "- extract packet streams"
   ]
  },
  {
   "cell_type": "code",
   "execution_count": 6,
   "metadata": {},
   "outputs": [],
   "source": [
    "def pcap_to_dataframe(pcap_reader: PcapReader) -> pd.DataFrame:\n",
    "    \"\"\"Converts a packet capture to a Pandas DataFrame.\n",
    "\n",
    "    Args:\n",
    "        pcap_reader (PcapReader): packet capture read using scapy\n",
    "\n",
    "    Returns:\n",
    "        pd.DataFrame: dataframe with pcap data\n",
    "    \"\"\"\n",
    "    # Create an empty list to store the data\n",
    "    data = []\n",
    "\n",
    "    # Iterate through the packets in the pcap file\n",
    "    for packet in pcap_reader:\n",
    "        # Get the source and destination IP addresses\n",
    "        if packet.haslayer(IP):\n",
    "            src_ip = packet[IP].src\n",
    "            dst_ip = packet[IP].dst\n",
    "            protocol = packet[IP].proto\n",
    "        else:\n",
    "            src_ip = None\n",
    "            dst_ip = None\n",
    "\n",
    "            protocol = None\n",
    "\n",
    "        # Get the source and destination ports and payload\n",
    "        if packet.haslayer(TCP):\n",
    "            src_port = packet[TCP].sport\n",
    "            dst_port = packet[TCP].dport\n",
    "            payload = str(packet[TCP].payload)\n",
    "            packet_len = len(packet[TCP])\n",
    "        elif packet.haslayer(UDP):\n",
    "            src_port = packet[UDP].sport\n",
    "            dst_port = packet[UDP].dport\n",
    "            payload = str(packet[UDP].payload)\n",
    "            packet_len = len(packet[UDP])\n",
    "        elif packet.haslayer(ICMP):\n",
    "            payload = str(packet[ICMP].payload)\n",
    "            packet_len = len(packet[ICMP])\n",
    "            src_port = None\n",
    "            dst_port = None\n",
    "        else:\n",
    "            src_port = None\n",
    "            dst_port = None\n",
    "            payload = str(packet.payload)\n",
    "            packet_len = len(packet)\n",
    "\n",
    "        # Append the data to the list\n",
    "        data.append(\n",
    "            [\n",
    "                packet.time,\n",
    "                src_ip,\n",
    "                dst_ip,\n",
    "                src_port,\n",
    "                dst_port,\n",
    "                payload,\n",
    "                packet_len,\n",
    "                protocol,\n",
    "            ]\n",
    "        )\n",
    "\n",
    "    # Convert the list to a pandas dataframe\n",
    "    df = pd.DataFrame(\n",
    "        data,\n",
    "        columns=[\n",
    "            \"Timestamp\",\n",
    "            \"Source IP\",\n",
    "            \"Destination IP\",\n",
    "            \"Source Port\",\n",
    "            \"Destination Port\",\n",
    "            \"Payload\",\n",
    "            \"Packet Length\",\n",
    "            \"Protocol\",\n",
    "        ],\n",
    "    )\n",
    "\n",
    "    return df"
   ]
  },
  {
   "cell_type": "code",
   "execution_count": 7,
   "metadata": {},
   "outputs": [],
   "source": [
    "if not READ_FROM_PICKLE:\n",
    "    mirai_df = pcap_to_dataframe(pcap_reader_mirai)\n",
    "    benign_df = pcap_to_dataframe(pcap_reader_benign)\n",
    "    \n",
    "    mirai_df.to_pickle(\"data/mirai.pkl\")\n",
    "    benign_df.to_pickle(\"data/benign.pkl\")"
   ]
  },
  {
   "cell_type": "code",
   "execution_count": 8,
   "metadata": {},
   "outputs": [],
   "source": [
    "if READ_FROM_PICKLE:\n",
    "    mirai_df = pd.read_pickle(\"data/mirai.pkl\")\n",
    "    benign_df = pd.read_pickle(\"data/benign.pkl\")"
   ]
  },
  {
   "cell_type": "code",
   "execution_count": 9,
   "metadata": {},
   "outputs": [
    {
     "data": {
      "text/html": [
       "<div>\n",
       "<style scoped>\n",
       "    .dataframe tbody tr th:only-of-type {\n",
       "        vertical-align: middle;\n",
       "    }\n",
       "\n",
       "    .dataframe tbody tr th {\n",
       "        vertical-align: top;\n",
       "    }\n",
       "\n",
       "    .dataframe thead th {\n",
       "        text-align: right;\n",
       "    }\n",
       "</style>\n",
       "<table border=\"1\" class=\"dataframe\">\n",
       "  <thead>\n",
       "    <tr style=\"text-align: right;\">\n",
       "      <th></th>\n",
       "      <th>Timestamp</th>\n",
       "      <th>Source IP</th>\n",
       "      <th>Destination IP</th>\n",
       "      <th>Source Port</th>\n",
       "      <th>Destination Port</th>\n",
       "      <th>Payload</th>\n",
       "      <th>Packet Length</th>\n",
       "      <th>Protocol</th>\n",
       "    </tr>\n",
       "  </thead>\n",
       "  <tbody>\n",
       "    <tr>\n",
       "      <th>0</th>\n",
       "      <td>1540446382.933899</td>\n",
       "      <td>192.168.2.108</td>\n",
       "      <td>52.24.43.67</td>\n",
       "      <td>21074.0</td>\n",
       "      <td>80.0</td>\n",
       "      <td>Padding</td>\n",
       "      <td>26</td>\n",
       "      <td>6.0</td>\n",
       "    </tr>\n",
       "    <tr>\n",
       "      <th>1</th>\n",
       "      <td>1540446382.933904</td>\n",
       "      <td>192.168.2.108</td>\n",
       "      <td>52.25.66.250</td>\n",
       "      <td>20532.0</td>\n",
       "      <td>8280.0</td>\n",
       "      <td>Padding</td>\n",
       "      <td>26</td>\n",
       "      <td>6.0</td>\n",
       "    </tr>\n",
       "    <tr>\n",
       "      <th>2</th>\n",
       "      <td>1540446382.934426</td>\n",
       "      <td>192.168.2.1</td>\n",
       "      <td>192.168.2.108</td>\n",
       "      <td>NaN</td>\n",
       "      <td>NaN</td>\n",
       "      <td>IPerror / TCPerror</td>\n",
       "      <td>52</td>\n",
       "      <td>1.0</td>\n",
       "    </tr>\n",
       "    <tr>\n",
       "      <th>3</th>\n",
       "      <td>1540446382.934636</td>\n",
       "      <td>192.168.2.1</td>\n",
       "      <td>192.168.2.108</td>\n",
       "      <td>NaN</td>\n",
       "      <td>NaN</td>\n",
       "      <td>IPerror / TCPerror</td>\n",
       "      <td>52</td>\n",
       "      <td>1.0</td>\n",
       "    </tr>\n",
       "    <tr>\n",
       "      <th>4</th>\n",
       "      <td>1540446383.291054</td>\n",
       "      <td>None</td>\n",
       "      <td>None</td>\n",
       "      <td>NaN</td>\n",
       "      <td>NaN</td>\n",
       "      <td>ARP who has 192.168.2.106 says 192.168.2.109 /...</td>\n",
       "      <td>60</td>\n",
       "      <td>NaN</td>\n",
       "    </tr>\n",
       "    <tr>\n",
       "      <th>...</th>\n",
       "      <td>...</td>\n",
       "      <td>...</td>\n",
       "      <td>...</td>\n",
       "      <td>...</td>\n",
       "      <td>...</td>\n",
       "      <td>...</td>\n",
       "      <td>...</td>\n",
       "      <td>...</td>\n",
       "    </tr>\n",
       "    <tr>\n",
       "      <th>764132</th>\n",
       "      <td>1540453519.837515</td>\n",
       "      <td>None</td>\n",
       "      <td>None</td>\n",
       "      <td>NaN</td>\n",
       "      <td>NaN</td>\n",
       "      <td>ARP who has 192.168.2.165 says 192.168.2.110 /...</td>\n",
       "      <td>60</td>\n",
       "      <td>NaN</td>\n",
       "    </tr>\n",
       "    <tr>\n",
       "      <th>764133</th>\n",
       "      <td>1540453519.839396</td>\n",
       "      <td>None</td>\n",
       "      <td>None</td>\n",
       "      <td>NaN</td>\n",
       "      <td>NaN</td>\n",
       "      <td>ARP who has 192.168.2.166 says 192.168.2.110 /...</td>\n",
       "      <td>60</td>\n",
       "      <td>NaN</td>\n",
       "    </tr>\n",
       "    <tr>\n",
       "      <th>764134</th>\n",
       "      <td>1540453519.840611</td>\n",
       "      <td>None</td>\n",
       "      <td>None</td>\n",
       "      <td>NaN</td>\n",
       "      <td>NaN</td>\n",
       "      <td>ARP who has 192.168.2.167 says 192.168.2.110 /...</td>\n",
       "      <td>60</td>\n",
       "      <td>NaN</td>\n",
       "    </tr>\n",
       "    <tr>\n",
       "      <th>764135</th>\n",
       "      <td>1540453519.842369</td>\n",
       "      <td>None</td>\n",
       "      <td>None</td>\n",
       "      <td>NaN</td>\n",
       "      <td>NaN</td>\n",
       "      <td>ARP who has 192.168.2.168 says 192.168.2.110 /...</td>\n",
       "      <td>60</td>\n",
       "      <td>NaN</td>\n",
       "    </tr>\n",
       "    <tr>\n",
       "      <th>764136</th>\n",
       "      <td>1540453519.842464</td>\n",
       "      <td>192.168.2.115</td>\n",
       "      <td>192.168.2.1</td>\n",
       "      <td>3570.0</td>\n",
       "      <td>53.0</td>\n",
       "      <td>DNS Qry \"b'north-america.pool.ntp.org.Speedpor...</td>\n",
       "      <td>85</td>\n",
       "      <td>17.0</td>\n",
       "    </tr>\n",
       "  </tbody>\n",
       "</table>\n",
       "<p>764137 rows × 8 columns</p>\n",
       "</div>"
      ],
      "text/plain": [
       "                Timestamp      Source IP Destination IP  Source Port  \\\n",
       "0       1540446382.933899  192.168.2.108    52.24.43.67      21074.0   \n",
       "1       1540446382.933904  192.168.2.108   52.25.66.250      20532.0   \n",
       "2       1540446382.934426    192.168.2.1  192.168.2.108          NaN   \n",
       "3       1540446382.934636    192.168.2.1  192.168.2.108          NaN   \n",
       "4       1540446383.291054           None           None          NaN   \n",
       "...                   ...            ...            ...          ...   \n",
       "764132  1540453519.837515           None           None          NaN   \n",
       "764133  1540453519.839396           None           None          NaN   \n",
       "764134  1540453519.840611           None           None          NaN   \n",
       "764135  1540453519.842369           None           None          NaN   \n",
       "764136  1540453519.842464  192.168.2.115    192.168.2.1       3570.0   \n",
       "\n",
       "        Destination Port                                            Payload  \\\n",
       "0                   80.0                                            Padding   \n",
       "1                 8280.0                                            Padding   \n",
       "2                    NaN                                 IPerror / TCPerror   \n",
       "3                    NaN                                 IPerror / TCPerror   \n",
       "4                    NaN  ARP who has 192.168.2.106 says 192.168.2.109 /...   \n",
       "...                  ...                                                ...   \n",
       "764132               NaN  ARP who has 192.168.2.165 says 192.168.2.110 /...   \n",
       "764133               NaN  ARP who has 192.168.2.166 says 192.168.2.110 /...   \n",
       "764134               NaN  ARP who has 192.168.2.167 says 192.168.2.110 /...   \n",
       "764135               NaN  ARP who has 192.168.2.168 says 192.168.2.110 /...   \n",
       "764136              53.0  DNS Qry \"b'north-america.pool.ntp.org.Speedpor...   \n",
       "\n",
       "        Packet Length  Protocol  \n",
       "0                  26       6.0  \n",
       "1                  26       6.0  \n",
       "2                  52       1.0  \n",
       "3                  52       1.0  \n",
       "4                  60       NaN  \n",
       "...               ...       ...  \n",
       "764132             60       NaN  \n",
       "764133             60       NaN  \n",
       "764134             60       NaN  \n",
       "764135             60       NaN  \n",
       "764136             85      17.0  \n",
       "\n",
       "[764137 rows x 8 columns]"
      ]
     },
     "execution_count": 9,
     "metadata": {},
     "output_type": "execute_result"
    }
   ],
   "source": [
    "mirai_df"
   ]
  },
  {
   "cell_type": "code",
   "execution_count": 10,
   "metadata": {},
   "outputs": [
    {
     "data": {
      "text/html": [
       "<div>\n",
       "<style scoped>\n",
       "    .dataframe tbody tr th:only-of-type {\n",
       "        vertical-align: middle;\n",
       "    }\n",
       "\n",
       "    .dataframe tbody tr th {\n",
       "        vertical-align: top;\n",
       "    }\n",
       "\n",
       "    .dataframe thead th {\n",
       "        text-align: right;\n",
       "    }\n",
       "</style>\n",
       "<table border=\"1\" class=\"dataframe\">\n",
       "  <thead>\n",
       "    <tr style=\"text-align: right;\">\n",
       "      <th></th>\n",
       "      <th>Timestamp</th>\n",
       "      <th>Source IP</th>\n",
       "      <th>Destination IP</th>\n",
       "      <th>Source Port</th>\n",
       "      <th>Destination Port</th>\n",
       "      <th>Payload</th>\n",
       "      <th>Packet Length</th>\n",
       "      <th>Protocol</th>\n",
       "    </tr>\n",
       "  </thead>\n",
       "  <tbody>\n",
       "    <tr>\n",
       "      <th>0</th>\n",
       "      <td>1241422456.122475</td>\n",
       "      <td>None</td>\n",
       "      <td>None</td>\n",
       "      <td>NaN</td>\n",
       "      <td>NaN</td>\n",
       "      <td>Raw</td>\n",
       "      <td>60</td>\n",
       "      <td>NaN</td>\n",
       "    </tr>\n",
       "    <tr>\n",
       "      <th>1</th>\n",
       "      <td>1241422456.122475</td>\n",
       "      <td>None</td>\n",
       "      <td>None</td>\n",
       "      <td>NaN</td>\n",
       "      <td>NaN</td>\n",
       "      <td>Raw</td>\n",
       "      <td>60</td>\n",
       "      <td>NaN</td>\n",
       "    </tr>\n",
       "    <tr>\n",
       "      <th>2</th>\n",
       "      <td>1241422758.60905</td>\n",
       "      <td>None</td>\n",
       "      <td>None</td>\n",
       "      <td>NaN</td>\n",
       "      <td>NaN</td>\n",
       "      <td>Raw</td>\n",
       "      <td>60</td>\n",
       "      <td>NaN</td>\n",
       "    </tr>\n",
       "    <tr>\n",
       "      <th>3</th>\n",
       "      <td>1241422758.60905</td>\n",
       "      <td>None</td>\n",
       "      <td>None</td>\n",
       "      <td>NaN</td>\n",
       "      <td>NaN</td>\n",
       "      <td>Raw</td>\n",
       "      <td>60</td>\n",
       "      <td>NaN</td>\n",
       "    </tr>\n",
       "    <tr>\n",
       "      <th>4</th>\n",
       "      <td>1355253962.658551</td>\n",
       "      <td>10.0.0.1</td>\n",
       "      <td>224.0.0.2</td>\n",
       "      <td>646.0</td>\n",
       "      <td>646.0</td>\n",
       "      <td>Raw</td>\n",
       "      <td>42</td>\n",
       "      <td>17.0</td>\n",
       "    </tr>\n",
       "    <tr>\n",
       "      <th>...</th>\n",
       "      <td>...</td>\n",
       "      <td>...</td>\n",
       "      <td>...</td>\n",
       "      <td>...</td>\n",
       "      <td>...</td>\n",
       "      <td>...</td>\n",
       "      <td>...</td>\n",
       "      <td>...</td>\n",
       "    </tr>\n",
       "    <tr>\n",
       "      <th>38637</th>\n",
       "      <td>1671112304.885062</td>\n",
       "      <td>None</td>\n",
       "      <td>None</td>\n",
       "      <td>1812.0</td>\n",
       "      <td>43398.0</td>\n",
       "      <td>Radius</td>\n",
       "      <td>502</td>\n",
       "      <td>NaN</td>\n",
       "    </tr>\n",
       "    <tr>\n",
       "      <th>38638</th>\n",
       "      <td>1671112304.921208</td>\n",
       "      <td>None</td>\n",
       "      <td>None</td>\n",
       "      <td>43398.0</td>\n",
       "      <td>1812.0</td>\n",
       "      <td>Radius</td>\n",
       "      <td>225</td>\n",
       "      <td>NaN</td>\n",
       "    </tr>\n",
       "    <tr>\n",
       "      <th>38639</th>\n",
       "      <td>1671112304.926982</td>\n",
       "      <td>None</td>\n",
       "      <td>None</td>\n",
       "      <td>1812.0</td>\n",
       "      <td>43398.0</td>\n",
       "      <td>Radius</td>\n",
       "      <td>127</td>\n",
       "      <td>NaN</td>\n",
       "    </tr>\n",
       "    <tr>\n",
       "      <th>38640</th>\n",
       "      <td>1671112304.950305</td>\n",
       "      <td>None</td>\n",
       "      <td>None</td>\n",
       "      <td>43398.0</td>\n",
       "      <td>1812.0</td>\n",
       "      <td>Radius</td>\n",
       "      <td>180</td>\n",
       "      <td>NaN</td>\n",
       "    </tr>\n",
       "    <tr>\n",
       "      <th>38641</th>\n",
       "      <td>1671112304.954635</td>\n",
       "      <td>None</td>\n",
       "      <td>None</td>\n",
       "      <td>1812.0</td>\n",
       "      <td>43398.0</td>\n",
       "      <td>Radius</td>\n",
       "      <td>179</td>\n",
       "      <td>NaN</td>\n",
       "    </tr>\n",
       "  </tbody>\n",
       "</table>\n",
       "<p>38642 rows × 8 columns</p>\n",
       "</div>"
      ],
      "text/plain": [
       "               Timestamp Source IP Destination IP  Source Port  \\\n",
       "0      1241422456.122475      None           None          NaN   \n",
       "1      1241422456.122475      None           None          NaN   \n",
       "2       1241422758.60905      None           None          NaN   \n",
       "3       1241422758.60905      None           None          NaN   \n",
       "4      1355253962.658551  10.0.0.1      224.0.0.2        646.0   \n",
       "...                  ...       ...            ...          ...   \n",
       "38637  1671112304.885062      None           None       1812.0   \n",
       "38638  1671112304.921208      None           None      43398.0   \n",
       "38639  1671112304.926982      None           None       1812.0   \n",
       "38640  1671112304.950305      None           None      43398.0   \n",
       "38641  1671112304.954635      None           None       1812.0   \n",
       "\n",
       "       Destination Port Payload  Packet Length  Protocol  \n",
       "0                   NaN     Raw             60       NaN  \n",
       "1                   NaN     Raw             60       NaN  \n",
       "2                   NaN     Raw             60       NaN  \n",
       "3                   NaN     Raw             60       NaN  \n",
       "4                 646.0     Raw             42      17.0  \n",
       "...                 ...     ...            ...       ...  \n",
       "38637           43398.0  Radius            502       NaN  \n",
       "38638            1812.0  Radius            225       NaN  \n",
       "38639           43398.0  Radius            127       NaN  \n",
       "38640            1812.0  Radius            180       NaN  \n",
       "38641           43398.0  Radius            179       NaN  \n",
       "\n",
       "[38642 rows x 8 columns]"
      ]
     },
     "execution_count": 10,
     "metadata": {},
     "output_type": "execute_result"
    }
   ],
   "source": [
    "benign_df"
   ]
  },
  {
   "attachments": {},
   "cell_type": "markdown",
   "metadata": {},
   "source": [
    "## AI\n",
    "Use pandas AI to clean up the data instead of using complicated functions to find duplicates and redundant records."
   ]
  },
  {
   "cell_type": "code",
   "execution_count": 11,
   "metadata": {},
   "outputs": [
    {
     "name": "stderr",
     "output_type": "stream",
     "text": [
      "/Users/polyxeni/sandbox/bsides-augusta-2023/.venv/lib/python3.10/site-packages/pandasai/__init__.py:145: UserWarning: `PandasAI` (class) is deprecated since v1.0 and will be removed in a future release. Please use `SmartDataframe` instead.\n",
      "  warnings.warn(\n"
     ]
    }
   ],
   "source": [
    "# Instantiate a LLM\n",
    "llm = OpenAI(api_token=openai_api_key)\n",
    "pandas_ai = PandasAI(llm)"
   ]
  },
  {
   "cell_type": "code",
   "execution_count": 12,
   "metadata": {},
   "outputs": [],
   "source": [
    "mirai_smart = SmartDataframe(df=pd.DataFrame(mirai_df), config={\"llm\": llm})\n",
    "mirai_cleaned_df = mirai_smart.clean_data()"
   ]
  },
  {
   "cell_type": "code",
   "execution_count": 13,
   "metadata": {},
   "outputs": [],
   "source": [
    "benign_smart = SmartDataframe(df=pd.DataFrame(benign_df), config={\"llm\": llm})\n",
    "benign_cleaned_df = benign_smart.clean_data()"
   ]
  },
  {
   "cell_type": "code",
   "execution_count": 14,
   "metadata": {},
   "outputs": [],
   "source": [
    "if not READ_FROM_PICKLE:\n",
    "    mirai_cleaned_df.to_pickle(\"data/mirai_cleaned.pkl\")\n",
    "    benign_cleaned_df.to_pickle(\"data/benign_cleaned.pkl\")"
   ]
  },
  {
   "cell_type": "code",
   "execution_count": 15,
   "metadata": {},
   "outputs": [],
   "source": [
    "if READ_FROM_PICKLE:\n",
    "    mirai_cleaned_df = pd.read_pickle(\"data/mirai_cleaned.pkl\")\n",
    "    benign_clean_df = pd.read_pickle(\"data/benign_cleaned.pkl\")"
   ]
  },
  {
   "cell_type": "code",
   "execution_count": 16,
   "metadata": {},
   "outputs": [
    {
     "data": {
      "text/plain": [
       "(764137, 8)"
      ]
     },
     "execution_count": 16,
     "metadata": {},
     "output_type": "execute_result"
    }
   ],
   "source": [
    "mirai_df.shape"
   ]
  },
  {
   "cell_type": "code",
   "execution_count": 17,
   "metadata": {},
   "outputs": [
    {
     "data": {
      "text/html": [
       "<div>\n",
       "<style scoped>\n",
       "    .dataframe tbody tr th:only-of-type {\n",
       "        vertical-align: middle;\n",
       "    }\n",
       "\n",
       "    .dataframe tbody tr th {\n",
       "        vertical-align: top;\n",
       "    }\n",
       "\n",
       "    .dataframe thead th {\n",
       "        text-align: right;\n",
       "    }\n",
       "</style>\n",
       "<table border=\"1\" class=\"dataframe\">\n",
       "  <thead>\n",
       "    <tr style=\"text-align: right;\">\n",
       "      <th></th>\n",
       "      <th>Timestamp</th>\n",
       "      <th>Source IP</th>\n",
       "      <th>Destination IP</th>\n",
       "      <th>Source Port</th>\n",
       "      <th>Destination Port</th>\n",
       "      <th>Payload</th>\n",
       "      <th>Packet Length</th>\n",
       "      <th>Protocol</th>\n",
       "    </tr>\n",
       "  </thead>\n",
       "  <tbody>\n",
       "    <tr>\n",
       "      <th>0</th>\n",
       "      <td>1540446382.933899</td>\n",
       "      <td>192.168.2.108</td>\n",
       "      <td>52.24.43.67</td>\n",
       "      <td>21074.0</td>\n",
       "      <td>80.0</td>\n",
       "      <td>Padding</td>\n",
       "      <td>26</td>\n",
       "      <td>6.0</td>\n",
       "    </tr>\n",
       "    <tr>\n",
       "      <th>1</th>\n",
       "      <td>1540446382.933904</td>\n",
       "      <td>192.168.2.108</td>\n",
       "      <td>52.25.66.250</td>\n",
       "      <td>20532.0</td>\n",
       "      <td>8280.0</td>\n",
       "      <td>Padding</td>\n",
       "      <td>26</td>\n",
       "      <td>6.0</td>\n",
       "    </tr>\n",
       "    <tr>\n",
       "      <th>2</th>\n",
       "      <td>1540446382.934426</td>\n",
       "      <td>192.168.2.1</td>\n",
       "      <td>192.168.2.108</td>\n",
       "      <td>NaN</td>\n",
       "      <td>NaN</td>\n",
       "      <td>IPerror / TCPerror</td>\n",
       "      <td>52</td>\n",
       "      <td>1.0</td>\n",
       "    </tr>\n",
       "    <tr>\n",
       "      <th>3</th>\n",
       "      <td>1540446382.934636</td>\n",
       "      <td>192.168.2.1</td>\n",
       "      <td>192.168.2.108</td>\n",
       "      <td>NaN</td>\n",
       "      <td>NaN</td>\n",
       "      <td>IPerror / TCPerror</td>\n",
       "      <td>52</td>\n",
       "      <td>1.0</td>\n",
       "    </tr>\n",
       "    <tr>\n",
       "      <th>4</th>\n",
       "      <td>1540446383.367591</td>\n",
       "      <td>192.168.2.101</td>\n",
       "      <td>192.168.2.110</td>\n",
       "      <td>NaN</td>\n",
       "      <td>NaN</td>\n",
       "      <td>Raw</td>\n",
       "      <td>40</td>\n",
       "      <td>1.0</td>\n",
       "    </tr>\n",
       "    <tr>\n",
       "      <th>...</th>\n",
       "      <td>...</td>\n",
       "      <td>...</td>\n",
       "      <td>...</td>\n",
       "      <td>...</td>\n",
       "      <td>...</td>\n",
       "      <td>...</td>\n",
       "      <td>...</td>\n",
       "      <td>...</td>\n",
       "    </tr>\n",
       "    <tr>\n",
       "      <th>197696</th>\n",
       "      <td>1540453519.456154</td>\n",
       "      <td>192.168.2.1</td>\n",
       "      <td>192.168.2.109</td>\n",
       "      <td>NaN</td>\n",
       "      <td>NaN</td>\n",
       "      <td>IPerror / UDPerror / DNS Qry \"b'time.windows.c...</td>\n",
       "      <td>70</td>\n",
       "      <td>1.0</td>\n",
       "    </tr>\n",
       "    <tr>\n",
       "      <th>197697</th>\n",
       "      <td>1540453519.756754</td>\n",
       "      <td>192.168.2.108</td>\n",
       "      <td>52.24.43.67</td>\n",
       "      <td>47157.0</td>\n",
       "      <td>80.0</td>\n",
       "      <td>Padding</td>\n",
       "      <td>26</td>\n",
       "      <td>6.0</td>\n",
       "    </tr>\n",
       "    <tr>\n",
       "      <th>197698</th>\n",
       "      <td>1540453519.756832</td>\n",
       "      <td>192.168.2.108</td>\n",
       "      <td>52.25.66.250</td>\n",
       "      <td>46453.0</td>\n",
       "      <td>8280.0</td>\n",
       "      <td>Padding</td>\n",
       "      <td>26</td>\n",
       "      <td>6.0</td>\n",
       "    </tr>\n",
       "    <tr>\n",
       "      <th>197699</th>\n",
       "      <td>1540453519.757263</td>\n",
       "      <td>192.168.2.1</td>\n",
       "      <td>192.168.2.108</td>\n",
       "      <td>NaN</td>\n",
       "      <td>NaN</td>\n",
       "      <td>IPerror / TCPerror</td>\n",
       "      <td>52</td>\n",
       "      <td>1.0</td>\n",
       "    </tr>\n",
       "    <tr>\n",
       "      <th>197700</th>\n",
       "      <td>1540453519.842464</td>\n",
       "      <td>192.168.2.115</td>\n",
       "      <td>192.168.2.1</td>\n",
       "      <td>3570.0</td>\n",
       "      <td>53.0</td>\n",
       "      <td>DNS Qry \"b'north-america.pool.ntp.org.Speedpor...</td>\n",
       "      <td>85</td>\n",
       "      <td>17.0</td>\n",
       "    </tr>\n",
       "  </tbody>\n",
       "</table>\n",
       "<p>197701 rows × 8 columns</p>\n",
       "</div>"
      ],
      "text/plain": [
       "                Timestamp      Source IP Destination IP  Source Port  \\\n",
       "0       1540446382.933899  192.168.2.108    52.24.43.67      21074.0   \n",
       "1       1540446382.933904  192.168.2.108   52.25.66.250      20532.0   \n",
       "2       1540446382.934426    192.168.2.1  192.168.2.108          NaN   \n",
       "3       1540446382.934636    192.168.2.1  192.168.2.108          NaN   \n",
       "4       1540446383.367591  192.168.2.101  192.168.2.110          NaN   \n",
       "...                   ...            ...            ...          ...   \n",
       "197696  1540453519.456154    192.168.2.1  192.168.2.109          NaN   \n",
       "197697  1540453519.756754  192.168.2.108    52.24.43.67      47157.0   \n",
       "197698  1540453519.756832  192.168.2.108   52.25.66.250      46453.0   \n",
       "197699  1540453519.757263    192.168.2.1  192.168.2.108          NaN   \n",
       "197700  1540453519.842464  192.168.2.115    192.168.2.1       3570.0   \n",
       "\n",
       "        Destination Port                                            Payload  \\\n",
       "0                   80.0                                            Padding   \n",
       "1                 8280.0                                            Padding   \n",
       "2                    NaN                                 IPerror / TCPerror   \n",
       "3                    NaN                                 IPerror / TCPerror   \n",
       "4                    NaN                                                Raw   \n",
       "...                  ...                                                ...   \n",
       "197696               NaN  IPerror / UDPerror / DNS Qry \"b'time.windows.c...   \n",
       "197697              80.0                                            Padding   \n",
       "197698            8280.0                                            Padding   \n",
       "197699               NaN                                 IPerror / TCPerror   \n",
       "197700              53.0  DNS Qry \"b'north-america.pool.ntp.org.Speedpor...   \n",
       "\n",
       "        Packet Length  Protocol  \n",
       "0                  26       6.0  \n",
       "1                  26       6.0  \n",
       "2                  52       1.0  \n",
       "3                  52       1.0  \n",
       "4                  40       1.0  \n",
       "...               ...       ...  \n",
       "197696             70       1.0  \n",
       "197697             26       6.0  \n",
       "197698             26       6.0  \n",
       "197699             52       1.0  \n",
       "197700             85      17.0  \n",
       "\n",
       "[197701 rows x 8 columns]"
      ]
     },
     "execution_count": 17,
     "metadata": {},
     "output_type": "execute_result"
    }
   ],
   "source": [
    "mirai_cleaned_df"
   ]
  },
  {
   "cell_type": "code",
   "execution_count": 18,
   "metadata": {},
   "outputs": [
    {
     "data": {
      "text/plain": [
       "(38642, 8)"
      ]
     },
     "execution_count": 18,
     "metadata": {},
     "output_type": "execute_result"
    }
   ],
   "source": [
    "benign_df.shape"
   ]
  },
  {
   "cell_type": "code",
   "execution_count": 19,
   "metadata": {},
   "outputs": [
    {
     "data": {
      "text/html": [
       "<div>\n",
       "<style scoped>\n",
       "    .dataframe tbody tr th:only-of-type {\n",
       "        vertical-align: middle;\n",
       "    }\n",
       "\n",
       "    .dataframe tbody tr th {\n",
       "        vertical-align: top;\n",
       "    }\n",
       "\n",
       "    .dataframe thead th {\n",
       "        text-align: right;\n",
       "    }\n",
       "</style>\n",
       "<table border=\"1\" class=\"dataframe\">\n",
       "  <thead>\n",
       "    <tr style=\"text-align: right;\">\n",
       "      <th></th>\n",
       "      <th>Timestamp</th>\n",
       "      <th>Source IP</th>\n",
       "      <th>Destination IP</th>\n",
       "      <th>Source Port</th>\n",
       "      <th>Destination Port</th>\n",
       "      <th>Payload</th>\n",
       "      <th>Packet Length</th>\n",
       "      <th>Protocol</th>\n",
       "    </tr>\n",
       "  </thead>\n",
       "  <tbody>\n",
       "    <tr>\n",
       "      <th>0</th>\n",
       "      <td>1355253962.658551</td>\n",
       "      <td>10.0.0.1</td>\n",
       "      <td>224.0.0.2</td>\n",
       "      <td>646.0</td>\n",
       "      <td>646.0</td>\n",
       "      <td>Raw</td>\n",
       "      <td>42</td>\n",
       "      <td>17.0</td>\n",
       "    </tr>\n",
       "    <tr>\n",
       "      <th>1</th>\n",
       "      <td>1355253962.658551</td>\n",
       "      <td>10.0.0.1</td>\n",
       "      <td>224.0.0.2</td>\n",
       "      <td>646.0</td>\n",
       "      <td>646.0</td>\n",
       "      <td>Raw</td>\n",
       "      <td>42</td>\n",
       "      <td>17.0</td>\n",
       "    </tr>\n",
       "    <tr>\n",
       "      <th>2</th>\n",
       "      <td>1355253962.845551</td>\n",
       "      <td>10.0.0.2</td>\n",
       "      <td>224.0.0.2</td>\n",
       "      <td>646.0</td>\n",
       "      <td>646.0</td>\n",
       "      <td>Raw</td>\n",
       "      <td>42</td>\n",
       "      <td>17.0</td>\n",
       "    </tr>\n",
       "    <tr>\n",
       "      <th>3</th>\n",
       "      <td>1355253962.845551</td>\n",
       "      <td>10.0.0.2</td>\n",
       "      <td>224.0.0.2</td>\n",
       "      <td>646.0</td>\n",
       "      <td>646.0</td>\n",
       "      <td>Raw</td>\n",
       "      <td>42</td>\n",
       "      <td>17.0</td>\n",
       "    </tr>\n",
       "    <tr>\n",
       "      <th>4</th>\n",
       "      <td>1355253966.885551</td>\n",
       "      <td>10.0.0.2</td>\n",
       "      <td>224.0.0.5</td>\n",
       "      <td>NaN</td>\n",
       "      <td>NaN</td>\n",
       "      <td>10.0.0.2 &gt; 224.0.0.5 ospf / Raw</td>\n",
       "      <td>94</td>\n",
       "      <td>89.0</td>\n",
       "    </tr>\n",
       "    <tr>\n",
       "      <th>...</th>\n",
       "      <td>...</td>\n",
       "      <td>...</td>\n",
       "      <td>...</td>\n",
       "      <td>...</td>\n",
       "      <td>...</td>\n",
       "      <td>...</td>\n",
       "      <td>...</td>\n",
       "      <td>...</td>\n",
       "    </tr>\n",
       "    <tr>\n",
       "      <th>23051</th>\n",
       "      <td>1671035938.151976</td>\n",
       "      <td>194.247.5.27</td>\n",
       "      <td>194.247.5.1</td>\n",
       "      <td>1812.0</td>\n",
       "      <td>10048.0</td>\n",
       "      <td>Radius</td>\n",
       "      <td>40</td>\n",
       "      <td>17.0</td>\n",
       "    </tr>\n",
       "    <tr>\n",
       "      <th>23052</th>\n",
       "      <td>1671035948.674405</td>\n",
       "      <td>194.247.5.1</td>\n",
       "      <td>194.247.5.27</td>\n",
       "      <td>3860.0</td>\n",
       "      <td>1812.0</td>\n",
       "      <td>Radius</td>\n",
       "      <td>112</td>\n",
       "      <td>17.0</td>\n",
       "    </tr>\n",
       "    <tr>\n",
       "      <th>23053</th>\n",
       "      <td>1671035948.67495</td>\n",
       "      <td>194.247.5.27</td>\n",
       "      <td>194.247.5.1</td>\n",
       "      <td>1812.0</td>\n",
       "      <td>3860.0</td>\n",
       "      <td>Radius</td>\n",
       "      <td>104</td>\n",
       "      <td>17.0</td>\n",
       "    </tr>\n",
       "    <tr>\n",
       "      <th>23054</th>\n",
       "      <td>1671035961.263167</td>\n",
       "      <td>194.247.5.1</td>\n",
       "      <td>194.247.5.27</td>\n",
       "      <td>3373.0</td>\n",
       "      <td>1812.0</td>\n",
       "      <td>Radius</td>\n",
       "      <td>120</td>\n",
       "      <td>17.0</td>\n",
       "    </tr>\n",
       "    <tr>\n",
       "      <th>23055</th>\n",
       "      <td>1671035961.263714</td>\n",
       "      <td>194.247.5.27</td>\n",
       "      <td>194.247.5.1</td>\n",
       "      <td>1812.0</td>\n",
       "      <td>3373.0</td>\n",
       "      <td>Radius</td>\n",
       "      <td>199</td>\n",
       "      <td>17.0</td>\n",
       "    </tr>\n",
       "  </tbody>\n",
       "</table>\n",
       "<p>23056 rows × 8 columns</p>\n",
       "</div>"
      ],
      "text/plain": [
       "               Timestamp     Source IP Destination IP  Source Port  \\\n",
       "0      1355253962.658551      10.0.0.1      224.0.0.2        646.0   \n",
       "1      1355253962.658551      10.0.0.1      224.0.0.2        646.0   \n",
       "2      1355253962.845551      10.0.0.2      224.0.0.2        646.0   \n",
       "3      1355253962.845551      10.0.0.2      224.0.0.2        646.0   \n",
       "4      1355253966.885551      10.0.0.2      224.0.0.5          NaN   \n",
       "...                  ...           ...            ...          ...   \n",
       "23051  1671035938.151976  194.247.5.27    194.247.5.1       1812.0   \n",
       "23052  1671035948.674405   194.247.5.1   194.247.5.27       3860.0   \n",
       "23053   1671035948.67495  194.247.5.27    194.247.5.1       1812.0   \n",
       "23054  1671035961.263167   194.247.5.1   194.247.5.27       3373.0   \n",
       "23055  1671035961.263714  194.247.5.27    194.247.5.1       1812.0   \n",
       "\n",
       "       Destination Port                          Payload  Packet Length  \\\n",
       "0                 646.0                              Raw             42   \n",
       "1                 646.0                              Raw             42   \n",
       "2                 646.0                              Raw             42   \n",
       "3                 646.0                              Raw             42   \n",
       "4                   NaN  10.0.0.2 > 224.0.0.5 ospf / Raw             94   \n",
       "...                 ...                              ...            ...   \n",
       "23051           10048.0                           Radius             40   \n",
       "23052            1812.0                           Radius            112   \n",
       "23053            3860.0                           Radius            104   \n",
       "23054            1812.0                           Radius            120   \n",
       "23055            3373.0                           Radius            199   \n",
       "\n",
       "       Protocol  \n",
       "0          17.0  \n",
       "1          17.0  \n",
       "2          17.0  \n",
       "3          17.0  \n",
       "4          89.0  \n",
       "...         ...  \n",
       "23051      17.0  \n",
       "23052      17.0  \n",
       "23053      17.0  \n",
       "23054      17.0  \n",
       "23055      17.0  \n",
       "\n",
       "[23056 rows x 8 columns]"
      ]
     },
     "execution_count": 19,
     "metadata": {},
     "output_type": "execute_result"
    }
   ],
   "source": [
    "benign_clean_df"
   ]
  },
  {
   "cell_type": "markdown",
   "metadata": {},
   "source": [
    "## Extract Streams\n",
    "\n",
    "- Packet captures may be processed as individual packets or streams\n",
    "- Streams are defined by the following tuple `(source IP, source port, destination IP, destination port, protocol)`\n",
    "- We include numeric features:\n",
    "  - total packet length\n",
    "  - total number of packets\n",
    "  - duration of stream"
   ]
  },
  {
   "cell_type": "code",
   "execution_count": 20,
   "metadata": {},
   "outputs": [],
   "source": [
    "def extract_streams(df: pd.DataFrame) -> pd.DataFrame:\n",
    "    # Create an empty list to store stream data as separate dataframes\n",
    "    dfs = []\n",
    "\n",
    "    # Group packets by src/dst IP and src/dst port\n",
    "    grouped = df.groupby(\n",
    "        [\"Source IP\", \"Destination IP\", \"Source Port\", \"Destination Port\", \"Protocol\"]\n",
    "    )\n",
    "\n",
    "    # Iterate through each group to extract stream data\n",
    "    for name, group in grouped:\n",
    "        # Get source/destination IP, port, and protocol\n",
    "        src_ip, dst_ip, src_port, dst_port, proto = name\n",
    "\n",
    "        # Get number of packets, total length, and duration of the stream\n",
    "        num_packets = len(group)\n",
    "        total_length = group[\"Packet Length\"].sum()\n",
    "        start_time = group[\"Timestamp\"].min()\n",
    "        end_time = group[\"Timestamp\"].max()\n",
    "        duration = float(end_time - start_time)\n",
    "\n",
    "        # Create a new dataframe with the stream data\n",
    "        stream_df = pd.DataFrame(\n",
    "            {\n",
    "                \"Source IP\": [src_ip],\n",
    "                \"Destination IP\": [dst_ip],\n",
    "                \"Source Port\": [src_port],\n",
    "                \"Destination Port\": [dst_port],\n",
    "                \"Protocol\": [proto],\n",
    "                \"Number of Packets\": [num_packets],\n",
    "                \"Total Length\": [total_length],\n",
    "                \"Duration\": [duration],\n",
    "            }\n",
    "        )\n",
    "\n",
    "        # Add the new dataframe to the list\n",
    "        dfs.append(stream_df)\n",
    "\n",
    "    # Concatenate all the dataframes in the list into one dataframe\n",
    "    stream_df = pd.concat(dfs, ignore_index=True)\n",
    "\n",
    "    # Return the new dataframe with stream data\n",
    "    return stream_df"
   ]
  },
  {
   "cell_type": "code",
   "execution_count": 21,
   "metadata": {},
   "outputs": [],
   "source": [
    "if not READ_FROM_PICKLE:\n",
    "    mirai_stream_df = extract_streams(mirai_df)\n",
    "    benign_stream_df = extract_streams(benign_df)\n",
    "    \n",
    "    mirai_stream_df.to_pickle(\"data/mirai_stream.pkl\")\n",
    "    benign_stream_df.to_pickle(\"data/benign_stream.pkl\")"
   ]
  },
  {
   "cell_type": "code",
   "execution_count": 22,
   "metadata": {},
   "outputs": [],
   "source": [
    "if READ_FROM_PICKLE:\n",
    "    mirai_stream_df = pd.read_pickle(\"data/mirai_stream.pkl\")\n",
    "    benign_stream_df = pd.read_pickle(\"data/benign_stream.pkl\")"
   ]
  },
  {
   "cell_type": "markdown",
   "metadata": {},
   "source": [
    "### Note\n",
    "\n",
    "The rest of the analysis revolves around stream data because of the size/time limitation for a real time demo."
   ]
  },
  {
   "cell_type": "code",
   "execution_count": 23,
   "metadata": {},
   "outputs": [
    {
     "data": {
      "text/plain": [
       "Index(['Source IP', 'Destination IP', 'Source Port', 'Destination Port',\n",
       "       'Protocol', 'Number of Packets', 'Total Length', 'Duration'],\n",
       "      dtype='object')"
      ]
     },
     "execution_count": 23,
     "metadata": {},
     "output_type": "execute_result"
    }
   ],
   "source": [
    "# describe, summarize etc.\n",
    "mirai_stream_df.columns"
   ]
  },
  {
   "cell_type": "code",
   "execution_count": 24,
   "metadata": {},
   "outputs": [
    {
     "data": {
      "text/plain": [
       "Source IP             object\n",
       "Destination IP        object\n",
       "Source Port          float64\n",
       "Destination Port     float64\n",
       "Protocol             float64\n",
       "Number of Packets      int64\n",
       "Total Length           int64\n",
       "Duration             float64\n",
       "dtype: object"
      ]
     },
     "execution_count": 24,
     "metadata": {},
     "output_type": "execute_result"
    }
   ],
   "source": [
    "mirai_stream_df.dtypes"
   ]
  },
  {
   "cell_type": "markdown",
   "metadata": {},
   "source": [
    "# Feature Engineering\n",
    "\n",
    "After exploring the data types, we start with the simplest feature engineering processing: convert IP addresses to numbers while maintaining the context."
   ]
  },
  {
   "cell_type": "markdown",
   "metadata": {},
   "source": [
    "## Numerical"
   ]
  },
  {
   "cell_type": "code",
   "execution_count": 25,
   "metadata": {},
   "outputs": [],
   "source": [
    "# convert ip address to numeric values\n",
    "def ip_to_numeric(ip):\n",
    "    ip_obj = ipaddress.ip_interface(ip)\n",
    "    return int(ip_obj.network.network_address)"
   ]
  },
  {
   "cell_type": "code",
   "execution_count": 26,
   "metadata": {},
   "outputs": [],
   "source": [
    "# convert IPs to numeric mirai data\n",
    "mirai_stream_df[\"Source IP Numeric\"] = mirai_stream_df[\"Source IP\"].apply(ip_to_numeric)\n",
    "mirai_stream_df[\"Destination IP Numeric\"] = mirai_stream_df[\"Destination IP\"].apply(\n",
    "    ip_to_numeric\n",
    ")"
   ]
  },
  {
   "cell_type": "code",
   "execution_count": 27,
   "metadata": {},
   "outputs": [],
   "source": [
    "# convert IPs to numeric benign data\n",
    "benign_stream_df[\"Source IP Numeric\"] = benign_stream_df[\"Source IP\"].apply(\n",
    "    ip_to_numeric\n",
    ")\n",
    "benign_stream_df[\"Destination IP Numeric\"] = benign_stream_df[\"Destination IP\"].apply(\n",
    "    ip_to_numeric\n",
    ")"
   ]
  },
  {
   "cell_type": "code",
   "execution_count": 28,
   "metadata": {},
   "outputs": [],
   "source": [
    "# get rid of non numeric columns for IPs\n",
    "mirai_stream_df_numeric = mirai_stream_df.drop(columns=[\"Source IP\", \"Destination IP\"])\n",
    "benign_stream_df_numeric = benign_stream_df.drop(\n",
    "    columns=[\"Source IP\", \"Destination IP\"]\n",
    ")"
   ]
  },
  {
   "cell_type": "code",
   "execution_count": 29,
   "metadata": {},
   "outputs": [],
   "source": [
    "# convert duration from object to float\n",
    "mirai_stream_df[\"Duration\"] = mirai_stream_df_numeric[\"Duration\"].astype(float)\n",
    "benign_stream_df[\"Duration\"] = benign_stream_df_numeric[\"Duration\"].astype(float)"
   ]
  },
  {
   "cell_type": "code",
   "execution_count": 30,
   "metadata": {},
   "outputs": [
    {
     "data": {
      "text/plain": [
       "Source Port               float64\n",
       "Destination Port          float64\n",
       "Protocol                  float64\n",
       "Number of Packets           int64\n",
       "Total Length                int64\n",
       "Duration                  float64\n",
       "Source IP Numeric           int64\n",
       "Destination IP Numeric      int64\n",
       "dtype: object"
      ]
     },
     "execution_count": 30,
     "metadata": {},
     "output_type": "execute_result"
    }
   ],
   "source": [
    "# check if all data types are numeric now\n",
    "mirai_stream_df_numeric.dtypes"
   ]
  },
  {
   "attachments": {},
   "cell_type": "markdown",
   "metadata": {},
   "source": [
    "# EDA\n",
    "\n",
    "Exploratory Data Analysis approaches the dataset as a black box that we need to visualize and analyze statistically with the following goals:\n",
    "- get insights about our data\n",
    "- test hypotheses\n",
    "- decide on models and further processing, such as feature engineering.\n",
    "\n",
    "EDA can be performed for benign and malicious data. Here we are looking at EDA only for malicious data, however the same functions can be applied to benign."
   ]
  },
  {
   "cell_type": "markdown",
   "metadata": {},
   "source": [
    "## Descriptive statistics & data\n",
    "\n",
    "- Describe columns and data types\n",
    "- Descriptive statistics\n",
    "  -  count, \n",
    "  -  mean, \n",
    "  -  standard deviation, \n",
    "  -  minimum, \n",
    "  -  25th percentile, \n",
    "  -  median (50th percentile), \n",
    "  -  75th percentile, and \n",
    "  -  maximum"
   ]
  },
  {
   "cell_type": "code",
   "execution_count": 31,
   "metadata": {},
   "outputs": [
    {
     "data": {
      "text/html": [
       "<div>\n",
       "<style scoped>\n",
       "    .dataframe tbody tr th:only-of-type {\n",
       "        vertical-align: middle;\n",
       "    }\n",
       "\n",
       "    .dataframe tbody tr th {\n",
       "        vertical-align: top;\n",
       "    }\n",
       "\n",
       "    .dataframe thead th {\n",
       "        text-align: right;\n",
       "    }\n",
       "</style>\n",
       "<table border=\"1\" class=\"dataframe\">\n",
       "  <thead>\n",
       "    <tr style=\"text-align: right;\">\n",
       "      <th></th>\n",
       "      <th>Source Port</th>\n",
       "      <th>Destination Port</th>\n",
       "      <th>Protocol</th>\n",
       "      <th>Number of Packets</th>\n",
       "      <th>Total Length</th>\n",
       "      <th>Duration</th>\n",
       "      <th>Source IP Numeric</th>\n",
       "      <th>Destination IP Numeric</th>\n",
       "    </tr>\n",
       "  </thead>\n",
       "  <tbody>\n",
       "    <tr>\n",
       "      <th>count</th>\n",
       "      <td>36585.000000</td>\n",
       "      <td>36585.000000</td>\n",
       "      <td>36585.000000</td>\n",
       "      <td>36585.000000</td>\n",
       "      <td>36585.000000</td>\n",
       "      <td>36585.000000</td>\n",
       "      <td>3.658500e+04</td>\n",
       "      <td>3.658500e+04</td>\n",
       "    </tr>\n",
       "    <tr>\n",
       "      <th>mean</th>\n",
       "      <td>35013.168484</td>\n",
       "      <td>2179.724915</td>\n",
       "      <td>12.997185</td>\n",
       "      <td>4.211835</td>\n",
       "      <td>190.795681</td>\n",
       "      <td>327.060315</td>\n",
       "      <td>3.232148e+09</td>\n",
       "      <td>2.152662e+09</td>\n",
       "    </tr>\n",
       "    <tr>\n",
       "      <th>std</th>\n",
       "      <td>20907.744322</td>\n",
       "      <td>6022.524810</td>\n",
       "      <td>5.292372</td>\n",
       "      <td>104.750186</td>\n",
       "      <td>4959.106974</td>\n",
       "      <td>1284.088269</td>\n",
       "      <td>1.689863e+07</td>\n",
       "      <td>1.141217e+09</td>\n",
       "    </tr>\n",
       "    <tr>\n",
       "      <th>min</th>\n",
       "      <td>0.000000</td>\n",
       "      <td>23.000000</td>\n",
       "      <td>6.000000</td>\n",
       "      <td>1.000000</td>\n",
       "      <td>26.000000</td>\n",
       "      <td>0.000000</td>\n",
       "      <td>0.000000e+00</td>\n",
       "      <td>1.347441e+08</td>\n",
       "    </tr>\n",
       "    <tr>\n",
       "      <th>25%</th>\n",
       "      <td>12435.000000</td>\n",
       "      <td>53.000000</td>\n",
       "      <td>6.000000</td>\n",
       "      <td>1.000000</td>\n",
       "      <td>40.000000</td>\n",
       "      <td>0.000000</td>\n",
       "      <td>3.232236e+09</td>\n",
       "      <td>8.740708e+08</td>\n",
       "    </tr>\n",
       "    <tr>\n",
       "      <th>50%</th>\n",
       "      <td>41283.000000</td>\n",
       "      <td>53.000000</td>\n",
       "      <td>17.000000</td>\n",
       "      <td>1.000000</td>\n",
       "      <td>49.000000</td>\n",
       "      <td>0.000000</td>\n",
       "      <td>3.232236e+09</td>\n",
       "      <td>2.061653e+09</td>\n",
       "    </tr>\n",
       "    <tr>\n",
       "      <th>75%</th>\n",
       "      <td>51545.000000</td>\n",
       "      <td>443.000000</td>\n",
       "      <td>17.000000</td>\n",
       "      <td>3.000000</td>\n",
       "      <td>104.000000</td>\n",
       "      <td>2.992908</td>\n",
       "      <td>3.232236e+09</td>\n",
       "      <td>3.232236e+09</td>\n",
       "    </tr>\n",
       "    <tr>\n",
       "      <th>max</th>\n",
       "      <td>65267.000000</td>\n",
       "      <td>65267.000000</td>\n",
       "      <td>17.000000</td>\n",
       "      <td>7853.000000</td>\n",
       "      <td>376944.000000</td>\n",
       "      <td>7135.502403</td>\n",
       "      <td>3.232236e+09</td>\n",
       "      <td>4.294967e+09</td>\n",
       "    </tr>\n",
       "  </tbody>\n",
       "</table>\n",
       "</div>"
      ],
      "text/plain": [
       "        Source Port  Destination Port      Protocol  Number of Packets  \\\n",
       "count  36585.000000      36585.000000  36585.000000       36585.000000   \n",
       "mean   35013.168484       2179.724915     12.997185           4.211835   \n",
       "std    20907.744322       6022.524810      5.292372         104.750186   \n",
       "min        0.000000         23.000000      6.000000           1.000000   \n",
       "25%    12435.000000         53.000000      6.000000           1.000000   \n",
       "50%    41283.000000         53.000000     17.000000           1.000000   \n",
       "75%    51545.000000        443.000000     17.000000           3.000000   \n",
       "max    65267.000000      65267.000000     17.000000        7853.000000   \n",
       "\n",
       "        Total Length      Duration  Source IP Numeric  Destination IP Numeric  \n",
       "count   36585.000000  36585.000000       3.658500e+04            3.658500e+04  \n",
       "mean      190.795681    327.060315       3.232148e+09            2.152662e+09  \n",
       "std      4959.106974   1284.088269       1.689863e+07            1.141217e+09  \n",
       "min        26.000000      0.000000       0.000000e+00            1.347441e+08  \n",
       "25%        40.000000      0.000000       3.232236e+09            8.740708e+08  \n",
       "50%        49.000000      0.000000       3.232236e+09            2.061653e+09  \n",
       "75%       104.000000      2.992908       3.232236e+09            3.232236e+09  \n",
       "max    376944.000000   7135.502403       3.232236e+09            4.294967e+09  "
      ]
     },
     "execution_count": 31,
     "metadata": {},
     "output_type": "execute_result"
    }
   ],
   "source": [
    "mirai_stream_df_numeric.describe()"
   ]
  },
  {
   "cell_type": "code",
   "execution_count": 32,
   "metadata": {},
   "outputs": [
    {
     "data": {
      "image/png": "[encoded data removed]",
      "text/plain": [
       "<Figure size 800x600 with 2 Axes>"
      ]
     },
     "metadata": {},
     "output_type": "display_data"
    }
   ],
   "source": [
    "# Create a heatmap of descriptive statistics\n",
    "plt.figure(figsize=(8, 6))\n",
    "sns.heatmap(mirai_stream_df_numeric.describe(), annot=True, cmap='coolwarm', fmt='.2f')\n",
    "plt.title('Heatmap of Descriptive Statistics')\n",
    "plt.show()"
   ]
  },
  {
   "cell_type": "code",
   "execution_count": 33,
   "metadata": {},
   "outputs": [
    {
     "data": {
      "text/html": [
       "<div>\n",
       "<style scoped>\n",
       "    .dataframe tbody tr th:only-of-type {\n",
       "        vertical-align: middle;\n",
       "    }\n",
       "\n",
       "    .dataframe tbody tr th {\n",
       "        vertical-align: top;\n",
       "    }\n",
       "\n",
       "    .dataframe thead th {\n",
       "        text-align: right;\n",
       "    }\n",
       "</style>\n",
       "<table border=\"1\" class=\"dataframe\">\n",
       "  <thead>\n",
       "    <tr style=\"text-align: right;\">\n",
       "      <th></th>\n",
       "      <th>Source Port</th>\n",
       "      <th>Destination Port</th>\n",
       "      <th>Protocol</th>\n",
       "      <th>Number of Packets</th>\n",
       "      <th>Total Length</th>\n",
       "      <th>Duration</th>\n",
       "      <th>Source IP Numeric</th>\n",
       "      <th>Destination IP Numeric</th>\n",
       "    </tr>\n",
       "  </thead>\n",
       "  <tbody>\n",
       "    <tr>\n",
       "      <th>count</th>\n",
       "      <td>1689.000000</td>\n",
       "      <td>1689.000000</td>\n",
       "      <td>1689.000000</td>\n",
       "      <td>1689.000000</td>\n",
       "      <td>1.689000e+03</td>\n",
       "      <td>1.689000e+03</td>\n",
       "      <td>1.689000e+03</td>\n",
       "      <td>1.689000e+03</td>\n",
       "    </tr>\n",
       "    <tr>\n",
       "      <th>mean</th>\n",
       "      <td>26659.722321</td>\n",
       "      <td>20701.518058</td>\n",
       "      <td>15.106572</td>\n",
       "      <td>11.021314</td>\n",
       "      <td>3.281091e+03</td>\n",
       "      <td>1.049817e+05</td>\n",
       "      <td>2.407295e+09</td>\n",
       "      <td>2.296692e+09</td>\n",
       "    </tr>\n",
       "    <tr>\n",
       "      <th>std</th>\n",
       "      <td>24067.470929</td>\n",
       "      <td>23371.995707</td>\n",
       "      <td>6.130629</td>\n",
       "      <td>105.423967</td>\n",
       "      <td>6.560099e+04</td>\n",
       "      <td>4.298962e+06</td>\n",
       "      <td>1.269952e+09</td>\n",
       "      <td>1.360119e+09</td>\n",
       "    </tr>\n",
       "    <tr>\n",
       "      <th>min</th>\n",
       "      <td>7.000000</td>\n",
       "      <td>7.000000</td>\n",
       "      <td>6.000000</td>\n",
       "      <td>1.000000</td>\n",
       "      <td>2.600000e+01</td>\n",
       "      <td>0.000000e+00</td>\n",
       "      <td>0.000000e+00</td>\n",
       "      <td>1.684301e+07</td>\n",
       "    </tr>\n",
       "    <tr>\n",
       "      <th>25%</th>\n",
       "      <td>53.000000</td>\n",
       "      <td>53.000000</td>\n",
       "      <td>17.000000</td>\n",
       "      <td>1.000000</td>\n",
       "      <td>6.000000e+01</td>\n",
       "      <td>0.000000e+00</td>\n",
       "      <td>1.440178e+09</td>\n",
       "      <td>1.123634e+09</td>\n",
       "    </tr>\n",
       "    <tr>\n",
       "      <th>50%</th>\n",
       "      <td>34492.000000</td>\n",
       "      <td>3385.000000</td>\n",
       "      <td>17.000000</td>\n",
       "      <td>1.000000</td>\n",
       "      <td>1.300000e+02</td>\n",
       "      <td>0.000000e+00</td>\n",
       "      <td>3.232236e+09</td>\n",
       "      <td>3.232236e+09</td>\n",
       "    </tr>\n",
       "    <tr>\n",
       "      <th>75%</th>\n",
       "      <td>49872.000000</td>\n",
       "      <td>43346.000000</td>\n",
       "      <td>17.000000</td>\n",
       "      <td>5.000000</td>\n",
       "      <td>4.840000e+02</td>\n",
       "      <td>2.711000e-03</td>\n",
       "      <td>3.232266e+09</td>\n",
       "      <td>3.232267e+09</td>\n",
       "    </tr>\n",
       "    <tr>\n",
       "      <th>max</th>\n",
       "      <td>65535.000000</td>\n",
       "      <td>65535.000000</td>\n",
       "      <td>47.000000</td>\n",
       "      <td>3368.000000</td>\n",
       "      <td>2.643858e+06</td>\n",
       "      <td>1.766763e+08</td>\n",
       "      <td>3.640661e+09</td>\n",
       "      <td>4.294967e+09</td>\n",
       "    </tr>\n",
       "  </tbody>\n",
       "</table>\n",
       "</div>"
      ],
      "text/plain": [
       "        Source Port  Destination Port     Protocol  Number of Packets  \\\n",
       "count   1689.000000       1689.000000  1689.000000        1689.000000   \n",
       "mean   26659.722321      20701.518058    15.106572          11.021314   \n",
       "std    24067.470929      23371.995707     6.130629         105.423967   \n",
       "min        7.000000          7.000000     6.000000           1.000000   \n",
       "25%       53.000000         53.000000    17.000000           1.000000   \n",
       "50%    34492.000000       3385.000000    17.000000           1.000000   \n",
       "75%    49872.000000      43346.000000    17.000000           5.000000   \n",
       "max    65535.000000      65535.000000    47.000000        3368.000000   \n",
       "\n",
       "       Total Length      Duration  Source IP Numeric  Destination IP Numeric  \n",
       "count  1.689000e+03  1.689000e+03       1.689000e+03            1.689000e+03  \n",
       "mean   3.281091e+03  1.049817e+05       2.407295e+09            2.296692e+09  \n",
       "std    6.560099e+04  4.298962e+06       1.269952e+09            1.360119e+09  \n",
       "min    2.600000e+01  0.000000e+00       0.000000e+00            1.684301e+07  \n",
       "25%    6.000000e+01  0.000000e+00       1.440178e+09            1.123634e+09  \n",
       "50%    1.300000e+02  0.000000e+00       3.232236e+09            3.232236e+09  \n",
       "75%    4.840000e+02  2.711000e-03       3.232266e+09            3.232267e+09  \n",
       "max    2.643858e+06  1.766763e+08       3.640661e+09            4.294967e+09  "
      ]
     },
     "execution_count": 33,
     "metadata": {},
     "output_type": "execute_result"
    }
   ],
   "source": [
    "benign_stream_df_numeric.describe()"
   ]
  },
  {
   "cell_type": "code",
   "execution_count": 34,
   "metadata": {},
   "outputs": [
    {
     "data": {
      "image/png": "[encoded data removed]",
      "text/plain": [
       "<Figure size 800x600 with 2 Axes>"
      ]
     },
     "metadata": {},
     "output_type": "display_data"
    }
   ],
   "source": [
    "# Create a heatmap of descriptive statistics\n",
    "plt.figure(figsize=(8, 6))\n",
    "sns.heatmap(benign_stream_df_numeric.describe(), annot=True, cmap='coolwarm', fmt='.2f')\n",
    "plt.title('Heatmap of Descriptive Statistics')\n",
    "plt.show()"
   ]
  },
  {
   "cell_type": "code",
   "execution_count": 35,
   "metadata": {},
   "outputs": [
    {
     "data": {
      "text/html": [
       "<div>\n",
       "<style scoped>\n",
       "    .dataframe tbody tr th:only-of-type {\n",
       "        vertical-align: middle;\n",
       "    }\n",
       "\n",
       "    .dataframe tbody tr th {\n",
       "        vertical-align: top;\n",
       "    }\n",
       "\n",
       "    .dataframe thead th {\n",
       "        text-align: right;\n",
       "    }\n",
       "</style>\n",
       "<table border=\"1\" class=\"dataframe\">\n",
       "  <thead>\n",
       "    <tr style=\"text-align: right;\">\n",
       "      <th></th>\n",
       "      <th>Source Port</th>\n",
       "      <th>Destination Port</th>\n",
       "      <th>Protocol</th>\n",
       "      <th>Number of Packets</th>\n",
       "      <th>Total Length</th>\n",
       "      <th>Duration</th>\n",
       "      <th>Source IP Numeric</th>\n",
       "      <th>Destination IP Numeric</th>\n",
       "    </tr>\n",
       "  </thead>\n",
       "  <tbody>\n",
       "    <tr>\n",
       "      <th>Source Port</th>\n",
       "      <td>1.000000</td>\n",
       "      <td>-0.137491</td>\n",
       "      <td>-0.280543</td>\n",
       "      <td>-0.006830</td>\n",
       "      <td>-0.008757</td>\n",
       "      <td>-0.352542</td>\n",
       "      <td>0.008740</td>\n",
       "      <td>-0.390018</td>\n",
       "    </tr>\n",
       "    <tr>\n",
       "      <th>Destination Port</th>\n",
       "      <td>-0.137491</td>\n",
       "      <td>1.000000</td>\n",
       "      <td>-0.213777</td>\n",
       "      <td>0.030570</td>\n",
       "      <td>0.028732</td>\n",
       "      <td>-0.030991</td>\n",
       "      <td>0.001834</td>\n",
       "      <td>-0.106866</td>\n",
       "    </tr>\n",
       "    <tr>\n",
       "      <th>Protocol</th>\n",
       "      <td>-0.280543</td>\n",
       "      <td>-0.213777</td>\n",
       "      <td>1.000000</td>\n",
       "      <td>0.002669</td>\n",
       "      <td>0.010510</td>\n",
       "      <td>0.183307</td>\n",
       "      <td>-0.003955</td>\n",
       "      <td>0.506925</td>\n",
       "    </tr>\n",
       "    <tr>\n",
       "      <th>Number of Packets</th>\n",
       "      <td>-0.006830</td>\n",
       "      <td>0.030570</td>\n",
       "      <td>0.002669</td>\n",
       "      <td>1.000000</td>\n",
       "      <td>0.988055</td>\n",
       "      <td>0.099866</td>\n",
       "      <td>-0.001137</td>\n",
       "      <td>-0.006417</td>\n",
       "    </tr>\n",
       "    <tr>\n",
       "      <th>Total Length</th>\n",
       "      <td>-0.008757</td>\n",
       "      <td>0.028732</td>\n",
       "      <td>0.010510</td>\n",
       "      <td>0.988055</td>\n",
       "      <td>1.000000</td>\n",
       "      <td>0.105296</td>\n",
       "      <td>-0.004524</td>\n",
       "      <td>-0.003126</td>\n",
       "    </tr>\n",
       "    <tr>\n",
       "      <th>Duration</th>\n",
       "      <td>-0.352542</td>\n",
       "      <td>-0.030991</td>\n",
       "      <td>0.183307</td>\n",
       "      <td>0.099866</td>\n",
       "      <td>0.105296</td>\n",
       "      <td>1.000000</td>\n",
       "      <td>-0.023632</td>\n",
       "      <td>0.206981</td>\n",
       "    </tr>\n",
       "    <tr>\n",
       "      <th>Source IP Numeric</th>\n",
       "      <td>0.008740</td>\n",
       "      <td>0.001834</td>\n",
       "      <td>-0.003955</td>\n",
       "      <td>-0.001137</td>\n",
       "      <td>-0.004524</td>\n",
       "      <td>-0.023632</td>\n",
       "      <td>1.000000</td>\n",
       "      <td>-0.009815</td>\n",
       "    </tr>\n",
       "    <tr>\n",
       "      <th>Destination IP Numeric</th>\n",
       "      <td>-0.390018</td>\n",
       "      <td>-0.106866</td>\n",
       "      <td>0.506925</td>\n",
       "      <td>-0.006417</td>\n",
       "      <td>-0.003126</td>\n",
       "      <td>0.206981</td>\n",
       "      <td>-0.009815</td>\n",
       "      <td>1.000000</td>\n",
       "    </tr>\n",
       "  </tbody>\n",
       "</table>\n",
       "</div>"
      ],
      "text/plain": [
       "                        Source Port  Destination Port  Protocol  \\\n",
       "Source Port                1.000000         -0.137491 -0.280543   \n",
       "Destination Port          -0.137491          1.000000 -0.213777   \n",
       "Protocol                  -0.280543         -0.213777  1.000000   \n",
       "Number of Packets         -0.006830          0.030570  0.002669   \n",
       "Total Length              -0.008757          0.028732  0.010510   \n",
       "Duration                  -0.352542         -0.030991  0.183307   \n",
       "Source IP Numeric          0.008740          0.001834 -0.003955   \n",
       "Destination IP Numeric    -0.390018         -0.106866  0.506925   \n",
       "\n",
       "                        Number of Packets  Total Length  Duration  \\\n",
       "Source Port                     -0.006830     -0.008757 -0.352542   \n",
       "Destination Port                 0.030570      0.028732 -0.030991   \n",
       "Protocol                         0.002669      0.010510  0.183307   \n",
       "Number of Packets                1.000000      0.988055  0.099866   \n",
       "Total Length                     0.988055      1.000000  0.105296   \n",
       "Duration                         0.099866      0.105296  1.000000   \n",
       "Source IP Numeric               -0.001137     -0.004524 -0.023632   \n",
       "Destination IP Numeric          -0.006417     -0.003126  0.206981   \n",
       "\n",
       "                        Source IP Numeric  Destination IP Numeric  \n",
       "Source Port                      0.008740               -0.390018  \n",
       "Destination Port                 0.001834               -0.106866  \n",
       "Protocol                        -0.003955                0.506925  \n",
       "Number of Packets               -0.001137               -0.006417  \n",
       "Total Length                    -0.004524               -0.003126  \n",
       "Duration                        -0.023632                0.206981  \n",
       "Source IP Numeric                1.000000               -0.009815  \n",
       "Destination IP Numeric          -0.009815                1.000000  "
      ]
     },
     "execution_count": 35,
     "metadata": {},
     "output_type": "execute_result"
    }
   ],
   "source": [
    "mirai_correlation_matrix = mirai_stream_df_numeric.corr()\n",
    "mirai_correlation_matrix"
   ]
  },
  {
   "cell_type": "code",
   "execution_count": 36,
   "metadata": {},
   "outputs": [
    {
     "data": {
      "text/html": [
       "<div>\n",
       "<style scoped>\n",
       "    .dataframe tbody tr th:only-of-type {\n",
       "        vertical-align: middle;\n",
       "    }\n",
       "\n",
       "    .dataframe tbody tr th {\n",
       "        vertical-align: top;\n",
       "    }\n",
       "\n",
       "    .dataframe thead th {\n",
       "        text-align: right;\n",
       "    }\n",
       "</style>\n",
       "<table border=\"1\" class=\"dataframe\">\n",
       "  <thead>\n",
       "    <tr style=\"text-align: right;\">\n",
       "      <th></th>\n",
       "      <th>Source Port</th>\n",
       "      <th>Destination Port</th>\n",
       "      <th>Protocol</th>\n",
       "      <th>Number of Packets</th>\n",
       "      <th>Total Length</th>\n",
       "      <th>Duration</th>\n",
       "      <th>Source IP Numeric</th>\n",
       "      <th>Destination IP Numeric</th>\n",
       "    </tr>\n",
       "  </thead>\n",
       "  <tbody>\n",
       "    <tr>\n",
       "      <th>Source Port</th>\n",
       "      <td>1.000000</td>\n",
       "      <td>-0.638892</td>\n",
       "      <td>0.027095</td>\n",
       "      <td>-0.002432</td>\n",
       "      <td>0.028749</td>\n",
       "      <td>-0.026975</td>\n",
       "      <td>0.463187</td>\n",
       "      <td>-0.418733</td>\n",
       "    </tr>\n",
       "    <tr>\n",
       "      <th>Destination Port</th>\n",
       "      <td>-0.638892</td>\n",
       "      <td>1.000000</td>\n",
       "      <td>-0.075318</td>\n",
       "      <td>-0.036162</td>\n",
       "      <td>-0.023302</td>\n",
       "      <td>-0.021550</td>\n",
       "      <td>-0.511441</td>\n",
       "      <td>0.263408</td>\n",
       "    </tr>\n",
       "    <tr>\n",
       "      <th>Protocol</th>\n",
       "      <td>0.027095</td>\n",
       "      <td>-0.075318</td>\n",
       "      <td>1.000000</td>\n",
       "      <td>0.007138</td>\n",
       "      <td>0.001792</td>\n",
       "      <td>0.007546</td>\n",
       "      <td>-0.026263</td>\n",
       "      <td>-0.053062</td>\n",
       "    </tr>\n",
       "    <tr>\n",
       "      <th>Number of Packets</th>\n",
       "      <td>-0.002432</td>\n",
       "      <td>-0.036162</td>\n",
       "      <td>0.007138</td>\n",
       "      <td>1.000000</td>\n",
       "      <td>0.875015</td>\n",
       "      <td>-0.000466</td>\n",
       "      <td>0.021948</td>\n",
       "      <td>0.035206</td>\n",
       "    </tr>\n",
       "    <tr>\n",
       "      <th>Total Length</th>\n",
       "      <td>0.028749</td>\n",
       "      <td>-0.023302</td>\n",
       "      <td>0.001792</td>\n",
       "      <td>0.875015</td>\n",
       "      <td>1.000000</td>\n",
       "      <td>-0.000119</td>\n",
       "      <td>0.014161</td>\n",
       "      <td>0.023329</td>\n",
       "    </tr>\n",
       "    <tr>\n",
       "      <th>Duration</th>\n",
       "      <td>-0.026975</td>\n",
       "      <td>-0.021550</td>\n",
       "      <td>0.007546</td>\n",
       "      <td>-0.000466</td>\n",
       "      <td>-0.000119</td>\n",
       "      <td>1.000000</td>\n",
       "      <td>-0.046140</td>\n",
       "      <td>0.035789</td>\n",
       "    </tr>\n",
       "    <tr>\n",
       "      <th>Source IP Numeric</th>\n",
       "      <td>0.463187</td>\n",
       "      <td>-0.511441</td>\n",
       "      <td>-0.026263</td>\n",
       "      <td>0.021948</td>\n",
       "      <td>0.014161</td>\n",
       "      <td>-0.046140</td>\n",
       "      <td>1.000000</td>\n",
       "      <td>-0.152641</td>\n",
       "    </tr>\n",
       "    <tr>\n",
       "      <th>Destination IP Numeric</th>\n",
       "      <td>-0.418733</td>\n",
       "      <td>0.263408</td>\n",
       "      <td>-0.053062</td>\n",
       "      <td>0.035206</td>\n",
       "      <td>0.023329</td>\n",
       "      <td>0.035789</td>\n",
       "      <td>-0.152641</td>\n",
       "      <td>1.000000</td>\n",
       "    </tr>\n",
       "  </tbody>\n",
       "</table>\n",
       "</div>"
      ],
      "text/plain": [
       "                        Source Port  Destination Port  Protocol  \\\n",
       "Source Port                1.000000         -0.638892  0.027095   \n",
       "Destination Port          -0.638892          1.000000 -0.075318   \n",
       "Protocol                   0.027095         -0.075318  1.000000   \n",
       "Number of Packets         -0.002432         -0.036162  0.007138   \n",
       "Total Length               0.028749         -0.023302  0.001792   \n",
       "Duration                  -0.026975         -0.021550  0.007546   \n",
       "Source IP Numeric          0.463187         -0.511441 -0.026263   \n",
       "Destination IP Numeric    -0.418733          0.263408 -0.053062   \n",
       "\n",
       "                        Number of Packets  Total Length  Duration  \\\n",
       "Source Port                     -0.002432      0.028749 -0.026975   \n",
       "Destination Port                -0.036162     -0.023302 -0.021550   \n",
       "Protocol                         0.007138      0.001792  0.007546   \n",
       "Number of Packets                1.000000      0.875015 -0.000466   \n",
       "Total Length                     0.875015      1.000000 -0.000119   \n",
       "Duration                        -0.000466     -0.000119  1.000000   \n",
       "Source IP Numeric                0.021948      0.014161 -0.046140   \n",
       "Destination IP Numeric           0.035206      0.023329  0.035789   \n",
       "\n",
       "                        Source IP Numeric  Destination IP Numeric  \n",
       "Source Port                      0.463187               -0.418733  \n",
       "Destination Port                -0.511441                0.263408  \n",
       "Protocol                        -0.026263               -0.053062  \n",
       "Number of Packets                0.021948                0.035206  \n",
       "Total Length                     0.014161                0.023329  \n",
       "Duration                        -0.046140                0.035789  \n",
       "Source IP Numeric                1.000000               -0.152641  \n",
       "Destination IP Numeric          -0.152641                1.000000  "
      ]
     },
     "execution_count": 36,
     "metadata": {},
     "output_type": "execute_result"
    }
   ],
   "source": [
    "benign_correlation_matrix = benign_stream_df_numeric.corr()\n",
    "benign_correlation_matrix"
   ]
  },
  {
   "cell_type": "code",
   "execution_count": 37,
   "metadata": {},
   "outputs": [],
   "source": [
    "# Create a heatmap\n",
    "def correlation_heatmap(correlation_matrix):\n",
    "    plt.figure(figsize=(8, 6))  # Adjust the figure size as needed\n",
    "    sns.set(font_scale=1.2)    # Adjust the font size as needed\n",
    "\n",
    "    # Customize the heatmap\n",
    "    sns.heatmap(correlation_matrix, annot=True, cmap=\"coolwarm\", square=True,\n",
    "                xticklabels=[\"Source Port\", \"Destination Port\", \"Protocol\", \"Number of Packets\", \"Total Length\", \"Duration\", \"Source IP Numeric\", \"Destination IP Numeric\", ],\n",
    "                yticklabels=[\"Source Port\", \"Destination Port\", \"Protocol\", \"Number of Packets\", \"Total Length\", \"Duration\", \"Source IP Numeric\", \"Destination IP Numeric\", ],\n",
    "    )\n",
    "\n",
    "    plt.title(\"Correlation Heatmap\")\n",
    "    plt.show()\n"
   ]
  },
  {
   "cell_type": "code",
   "execution_count": 38,
   "metadata": {},
   "outputs": [
    {
     "data": {
      "image/png": "[encoded data removed]",
      "text/plain": [
       "<Figure size 800x600 with 2 Axes>"
      ]
     },
     "metadata": {},
     "output_type": "display_data"
    }
   ],
   "source": [
    "correlation_heatmap(mirai_correlation_matrix)"
   ]
  },
  {
   "cell_type": "code",
   "execution_count": 39,
   "metadata": {},
   "outputs": [
    {
     "data": {
      "image/png": "[encoded data removed]",
      "text/plain": [
       "<Figure size 800x600 with 2 Axes>"
      ]
     },
     "metadata": {},
     "output_type": "display_data"
    }
   ],
   "source": [
    "correlation_heatmap(benign_correlation_matrix)"
   ]
  },
  {
   "cell_type": "markdown",
   "metadata": {},
   "source": [
    "## AI\n",
    "Generate features using `generate_features` from `pandas_ai` on cleaned up data or subset of original due to long requests."
   ]
  },
  {
   "cell_type": "code",
   "execution_count": 40,
   "metadata": {},
   "outputs": [],
   "source": [
    "mirai_smart = SmartDataframe(df=pd.DataFrame(mirai_cleaned_df), config={\"llm\": llm})\n",
    "mirai_smart_features = mirai_smart.generate_features()"
   ]
  },
  {
   "cell_type": "code",
   "execution_count": 41,
   "metadata": {},
   "outputs": [],
   "source": [
    "benign_smart = SmartDataframe(df=pd.DataFrame(benign_df), config={\"llm\": llm})\n",
    "benign_smart_features = benign_smart.generate_features()"
   ]
  },
  {
   "cell_type": "code",
   "execution_count": 42,
   "metadata": {},
   "outputs": [
    {
     "data": {
      "text/plain": [
       "Index(['Timestamp', 'Source IP', 'Destination IP', 'Source Port',\n",
       "       'Destination Port', 'Payload', 'Packet Length', 'Protocol'],\n",
       "      dtype='object')"
      ]
     },
     "execution_count": 42,
     "metadata": {},
     "output_type": "execute_result"
    }
   ],
   "source": [
    "mirai_cleaned_df.columns"
   ]
  },
  {
   "cell_type": "code",
   "execution_count": 43,
   "metadata": {},
   "outputs": [
    {
     "data": {
      "text/html": [
       "<div>\n",
       "<style scoped>\n",
       "    .dataframe tbody tr th:only-of-type {\n",
       "        vertical-align: middle;\n",
       "    }\n",
       "\n",
       "    .dataframe tbody tr th {\n",
       "        vertical-align: top;\n",
       "    }\n",
       "\n",
       "    .dataframe thead th {\n",
       "        text-align: right;\n",
       "    }\n",
       "</style>\n",
       "<table border=\"1\" class=\"dataframe\">\n",
       "  <thead>\n",
       "    <tr style=\"text-align: right;\">\n",
       "      <th></th>\n",
       "      <th>Timestamp</th>\n",
       "      <th>Source IP</th>\n",
       "      <th>Destination IP</th>\n",
       "      <th>Source Port</th>\n",
       "      <th>Destination Port</th>\n",
       "      <th>Payload</th>\n",
       "      <th>Packet Length</th>\n",
       "      <th>Protocol</th>\n",
       "      <th>Source IP Length</th>\n",
       "      <th>Destination IP Length</th>\n",
       "      <th>Source Port Even</th>\n",
       "      <th>Destination Port Even</th>\n",
       "    </tr>\n",
       "  </thead>\n",
       "  <tbody>\n",
       "    <tr>\n",
       "      <th>0</th>\n",
       "      <td>1540446382.933899</td>\n",
       "      <td>192.168.2.108</td>\n",
       "      <td>52.24.43.67</td>\n",
       "      <td>21074.0</td>\n",
       "      <td>80.0</td>\n",
       "      <td>Padding</td>\n",
       "      <td>26</td>\n",
       "      <td>6.0</td>\n",
       "      <td>13</td>\n",
       "      <td>11</td>\n",
       "      <td>True</td>\n",
       "      <td>True</td>\n",
       "    </tr>\n",
       "    <tr>\n",
       "      <th>1</th>\n",
       "      <td>1540446382.933904</td>\n",
       "      <td>192.168.2.108</td>\n",
       "      <td>52.25.66.250</td>\n",
       "      <td>20532.0</td>\n",
       "      <td>8280.0</td>\n",
       "      <td>Padding</td>\n",
       "      <td>26</td>\n",
       "      <td>6.0</td>\n",
       "      <td>13</td>\n",
       "      <td>12</td>\n",
       "      <td>True</td>\n",
       "      <td>True</td>\n",
       "    </tr>\n",
       "    <tr>\n",
       "      <th>2</th>\n",
       "      <td>1540446382.934426</td>\n",
       "      <td>192.168.2.1</td>\n",
       "      <td>192.168.2.108</td>\n",
       "      <td>NaN</td>\n",
       "      <td>NaN</td>\n",
       "      <td>IPerror / TCPerror</td>\n",
       "      <td>52</td>\n",
       "      <td>1.0</td>\n",
       "      <td>11</td>\n",
       "      <td>13</td>\n",
       "      <td>False</td>\n",
       "      <td>False</td>\n",
       "    </tr>\n",
       "    <tr>\n",
       "      <th>3</th>\n",
       "      <td>1540446382.934636</td>\n",
       "      <td>192.168.2.1</td>\n",
       "      <td>192.168.2.108</td>\n",
       "      <td>NaN</td>\n",
       "      <td>NaN</td>\n",
       "      <td>IPerror / TCPerror</td>\n",
       "      <td>52</td>\n",
       "      <td>1.0</td>\n",
       "      <td>11</td>\n",
       "      <td>13</td>\n",
       "      <td>False</td>\n",
       "      <td>False</td>\n",
       "    </tr>\n",
       "    <tr>\n",
       "      <th>4</th>\n",
       "      <td>1540446383.367591</td>\n",
       "      <td>192.168.2.101</td>\n",
       "      <td>192.168.2.110</td>\n",
       "      <td>NaN</td>\n",
       "      <td>NaN</td>\n",
       "      <td>Raw</td>\n",
       "      <td>40</td>\n",
       "      <td>1.0</td>\n",
       "      <td>13</td>\n",
       "      <td>13</td>\n",
       "      <td>False</td>\n",
       "      <td>False</td>\n",
       "    </tr>\n",
       "    <tr>\n",
       "      <th>...</th>\n",
       "      <td>...</td>\n",
       "      <td>...</td>\n",
       "      <td>...</td>\n",
       "      <td>...</td>\n",
       "      <td>...</td>\n",
       "      <td>...</td>\n",
       "      <td>...</td>\n",
       "      <td>...</td>\n",
       "      <td>...</td>\n",
       "      <td>...</td>\n",
       "      <td>...</td>\n",
       "      <td>...</td>\n",
       "    </tr>\n",
       "    <tr>\n",
       "      <th>197696</th>\n",
       "      <td>1540453519.456154</td>\n",
       "      <td>192.168.2.1</td>\n",
       "      <td>192.168.2.109</td>\n",
       "      <td>NaN</td>\n",
       "      <td>NaN</td>\n",
       "      <td>IPerror / UDPerror / DNS Qry \"b'time.windows.c...</td>\n",
       "      <td>70</td>\n",
       "      <td>1.0</td>\n",
       "      <td>11</td>\n",
       "      <td>13</td>\n",
       "      <td>False</td>\n",
       "      <td>False</td>\n",
       "    </tr>\n",
       "    <tr>\n",
       "      <th>197697</th>\n",
       "      <td>1540453519.756754</td>\n",
       "      <td>192.168.2.108</td>\n",
       "      <td>52.24.43.67</td>\n",
       "      <td>47157.0</td>\n",
       "      <td>80.0</td>\n",
       "      <td>Padding</td>\n",
       "      <td>26</td>\n",
       "      <td>6.0</td>\n",
       "      <td>13</td>\n",
       "      <td>11</td>\n",
       "      <td>False</td>\n",
       "      <td>True</td>\n",
       "    </tr>\n",
       "    <tr>\n",
       "      <th>197698</th>\n",
       "      <td>1540453519.756832</td>\n",
       "      <td>192.168.2.108</td>\n",
       "      <td>52.25.66.250</td>\n",
       "      <td>46453.0</td>\n",
       "      <td>8280.0</td>\n",
       "      <td>Padding</td>\n",
       "      <td>26</td>\n",
       "      <td>6.0</td>\n",
       "      <td>13</td>\n",
       "      <td>12</td>\n",
       "      <td>False</td>\n",
       "      <td>True</td>\n",
       "    </tr>\n",
       "    <tr>\n",
       "      <th>197699</th>\n",
       "      <td>1540453519.757263</td>\n",
       "      <td>192.168.2.1</td>\n",
       "      <td>192.168.2.108</td>\n",
       "      <td>NaN</td>\n",
       "      <td>NaN</td>\n",
       "      <td>IPerror / TCPerror</td>\n",
       "      <td>52</td>\n",
       "      <td>1.0</td>\n",
       "      <td>11</td>\n",
       "      <td>13</td>\n",
       "      <td>False</td>\n",
       "      <td>False</td>\n",
       "    </tr>\n",
       "    <tr>\n",
       "      <th>197700</th>\n",
       "      <td>1540453519.842464</td>\n",
       "      <td>192.168.2.115</td>\n",
       "      <td>192.168.2.1</td>\n",
       "      <td>3570.0</td>\n",
       "      <td>53.0</td>\n",
       "      <td>DNS Qry \"b'north-america.pool.ntp.org.Speedpor...</td>\n",
       "      <td>85</td>\n",
       "      <td>17.0</td>\n",
       "      <td>13</td>\n",
       "      <td>11</td>\n",
       "      <td>True</td>\n",
       "      <td>False</td>\n",
       "    </tr>\n",
       "  </tbody>\n",
       "</table>\n",
       "<p>197701 rows × 12 columns</p>\n",
       "</div>"
      ],
      "text/plain": [
       "                Timestamp      Source IP Destination IP  Source Port  \\\n",
       "0       1540446382.933899  192.168.2.108    52.24.43.67      21074.0   \n",
       "1       1540446382.933904  192.168.2.108   52.25.66.250      20532.0   \n",
       "2       1540446382.934426    192.168.2.1  192.168.2.108          NaN   \n",
       "3       1540446382.934636    192.168.2.1  192.168.2.108          NaN   \n",
       "4       1540446383.367591  192.168.2.101  192.168.2.110          NaN   \n",
       "...                   ...            ...            ...          ...   \n",
       "197696  1540453519.456154    192.168.2.1  192.168.2.109          NaN   \n",
       "197697  1540453519.756754  192.168.2.108    52.24.43.67      47157.0   \n",
       "197698  1540453519.756832  192.168.2.108   52.25.66.250      46453.0   \n",
       "197699  1540453519.757263    192.168.2.1  192.168.2.108          NaN   \n",
       "197700  1540453519.842464  192.168.2.115    192.168.2.1       3570.0   \n",
       "\n",
       "        Destination Port                                            Payload  \\\n",
       "0                   80.0                                            Padding   \n",
       "1                 8280.0                                            Padding   \n",
       "2                    NaN                                 IPerror / TCPerror   \n",
       "3                    NaN                                 IPerror / TCPerror   \n",
       "4                    NaN                                                Raw   \n",
       "...                  ...                                                ...   \n",
       "197696               NaN  IPerror / UDPerror / DNS Qry \"b'time.windows.c...   \n",
       "197697              80.0                                            Padding   \n",
       "197698            8280.0                                            Padding   \n",
       "197699               NaN                                 IPerror / TCPerror   \n",
       "197700              53.0  DNS Qry \"b'north-america.pool.ntp.org.Speedpor...   \n",
       "\n",
       "        Packet Length  Protocol  Source IP Length  Destination IP Length  \\\n",
       "0                  26       6.0                13                     11   \n",
       "1                  26       6.0                13                     12   \n",
       "2                  52       1.0                11                     13   \n",
       "3                  52       1.0                11                     13   \n",
       "4                  40       1.0                13                     13   \n",
       "...               ...       ...               ...                    ...   \n",
       "197696             70       1.0                11                     13   \n",
       "197697             26       6.0                13                     11   \n",
       "197698             26       6.0                13                     12   \n",
       "197699             52       1.0                11                     13   \n",
       "197700             85      17.0                13                     11   \n",
       "\n",
       "        Source Port Even  Destination Port Even  \n",
       "0                   True                   True  \n",
       "1                   True                   True  \n",
       "2                  False                  False  \n",
       "3                  False                  False  \n",
       "4                  False                  False  \n",
       "...                  ...                    ...  \n",
       "197696             False                  False  \n",
       "197697             False                   True  \n",
       "197698             False                   True  \n",
       "197699             False                  False  \n",
       "197700              True                  False  \n",
       "\n",
       "[197701 rows x 12 columns]"
      ]
     },
     "execution_count": 43,
     "metadata": {},
     "output_type": "execute_result"
    }
   ],
   "source": [
    "mirai_smart_features"
   ]
  },
  {
   "cell_type": "code",
   "execution_count": 44,
   "metadata": {},
   "outputs": [
    {
     "data": {
      "text/plain": [
       "Index(['Timestamp', 'Source IP', 'Destination IP', 'Source Port',\n",
       "       'Destination Port', 'Payload', 'Packet Length', 'Protocol',\n",
       "       'Source IP Length', 'Destination IP Length', 'Source Port Even',\n",
       "       'Destination Port Even'],\n",
       "      dtype='object')"
      ]
     },
     "execution_count": 44,
     "metadata": {},
     "output_type": "execute_result"
    }
   ],
   "source": [
    "mirai_smart_features.columns"
   ]
  },
  {
   "cell_type": "code",
   "execution_count": 45,
   "metadata": {},
   "outputs": [
    {
     "data": {
      "text/html": [
       "<div>\n",
       "<style scoped>\n",
       "    .dataframe tbody tr th:only-of-type {\n",
       "        vertical-align: middle;\n",
       "    }\n",
       "\n",
       "    .dataframe tbody tr th {\n",
       "        vertical-align: top;\n",
       "    }\n",
       "\n",
       "    .dataframe thead th {\n",
       "        text-align: right;\n",
       "    }\n",
       "</style>\n",
       "<table border=\"1\" class=\"dataframe\">\n",
       "  <thead>\n",
       "    <tr style=\"text-align: right;\">\n",
       "      <th></th>\n",
       "      <th>Timestamp</th>\n",
       "      <th>Source IP</th>\n",
       "      <th>Destination IP</th>\n",
       "      <th>Source Port</th>\n",
       "      <th>Destination Port</th>\n",
       "      <th>Payload</th>\n",
       "      <th>Packet Length</th>\n",
       "      <th>Protocol</th>\n",
       "      <th>Source IP Length</th>\n",
       "      <th>Destination IP Length</th>\n",
       "      <th>Source Port Even</th>\n",
       "      <th>Destination Port Even</th>\n",
       "    </tr>\n",
       "  </thead>\n",
       "  <tbody>\n",
       "    <tr>\n",
       "      <th>0</th>\n",
       "      <td>1241422456.122475</td>\n",
       "      <td>None</td>\n",
       "      <td>None</td>\n",
       "      <td>NaN</td>\n",
       "      <td>NaN</td>\n",
       "      <td>Raw</td>\n",
       "      <td>60</td>\n",
       "      <td>NaN</td>\n",
       "      <td>4</td>\n",
       "      <td>4</td>\n",
       "      <td>False</td>\n",
       "      <td>False</td>\n",
       "    </tr>\n",
       "    <tr>\n",
       "      <th>1</th>\n",
       "      <td>1241422456.122475</td>\n",
       "      <td>None</td>\n",
       "      <td>None</td>\n",
       "      <td>NaN</td>\n",
       "      <td>NaN</td>\n",
       "      <td>Raw</td>\n",
       "      <td>60</td>\n",
       "      <td>NaN</td>\n",
       "      <td>4</td>\n",
       "      <td>4</td>\n",
       "      <td>False</td>\n",
       "      <td>False</td>\n",
       "    </tr>\n",
       "    <tr>\n",
       "      <th>2</th>\n",
       "      <td>1241422758.60905</td>\n",
       "      <td>None</td>\n",
       "      <td>None</td>\n",
       "      <td>NaN</td>\n",
       "      <td>NaN</td>\n",
       "      <td>Raw</td>\n",
       "      <td>60</td>\n",
       "      <td>NaN</td>\n",
       "      <td>4</td>\n",
       "      <td>4</td>\n",
       "      <td>False</td>\n",
       "      <td>False</td>\n",
       "    </tr>\n",
       "    <tr>\n",
       "      <th>3</th>\n",
       "      <td>1241422758.60905</td>\n",
       "      <td>None</td>\n",
       "      <td>None</td>\n",
       "      <td>NaN</td>\n",
       "      <td>NaN</td>\n",
       "      <td>Raw</td>\n",
       "      <td>60</td>\n",
       "      <td>NaN</td>\n",
       "      <td>4</td>\n",
       "      <td>4</td>\n",
       "      <td>False</td>\n",
       "      <td>False</td>\n",
       "    </tr>\n",
       "    <tr>\n",
       "      <th>4</th>\n",
       "      <td>1355253962.658551</td>\n",
       "      <td>10.0.0.1</td>\n",
       "      <td>224.0.0.2</td>\n",
       "      <td>646.0</td>\n",
       "      <td>646.0</td>\n",
       "      <td>Raw</td>\n",
       "      <td>42</td>\n",
       "      <td>17.0</td>\n",
       "      <td>8</td>\n",
       "      <td>9</td>\n",
       "      <td>True</td>\n",
       "      <td>True</td>\n",
       "    </tr>\n",
       "    <tr>\n",
       "      <th>...</th>\n",
       "      <td>...</td>\n",
       "      <td>...</td>\n",
       "      <td>...</td>\n",
       "      <td>...</td>\n",
       "      <td>...</td>\n",
       "      <td>...</td>\n",
       "      <td>...</td>\n",
       "      <td>...</td>\n",
       "      <td>...</td>\n",
       "      <td>...</td>\n",
       "      <td>...</td>\n",
       "      <td>...</td>\n",
       "    </tr>\n",
       "    <tr>\n",
       "      <th>38637</th>\n",
       "      <td>1671112304.885062</td>\n",
       "      <td>None</td>\n",
       "      <td>None</td>\n",
       "      <td>1812.0</td>\n",
       "      <td>43398.0</td>\n",
       "      <td>Radius</td>\n",
       "      <td>502</td>\n",
       "      <td>NaN</td>\n",
       "      <td>4</td>\n",
       "      <td>4</td>\n",
       "      <td>True</td>\n",
       "      <td>True</td>\n",
       "    </tr>\n",
       "    <tr>\n",
       "      <th>38638</th>\n",
       "      <td>1671112304.921208</td>\n",
       "      <td>None</td>\n",
       "      <td>None</td>\n",
       "      <td>43398.0</td>\n",
       "      <td>1812.0</td>\n",
       "      <td>Radius</td>\n",
       "      <td>225</td>\n",
       "      <td>NaN</td>\n",
       "      <td>4</td>\n",
       "      <td>4</td>\n",
       "      <td>True</td>\n",
       "      <td>True</td>\n",
       "    </tr>\n",
       "    <tr>\n",
       "      <th>38639</th>\n",
       "      <td>1671112304.926982</td>\n",
       "      <td>None</td>\n",
       "      <td>None</td>\n",
       "      <td>1812.0</td>\n",
       "      <td>43398.0</td>\n",
       "      <td>Radius</td>\n",
       "      <td>127</td>\n",
       "      <td>NaN</td>\n",
       "      <td>4</td>\n",
       "      <td>4</td>\n",
       "      <td>True</td>\n",
       "      <td>True</td>\n",
       "    </tr>\n",
       "    <tr>\n",
       "      <th>38640</th>\n",
       "      <td>1671112304.950305</td>\n",
       "      <td>None</td>\n",
       "      <td>None</td>\n",
       "      <td>43398.0</td>\n",
       "      <td>1812.0</td>\n",
       "      <td>Radius</td>\n",
       "      <td>180</td>\n",
       "      <td>NaN</td>\n",
       "      <td>4</td>\n",
       "      <td>4</td>\n",
       "      <td>True</td>\n",
       "      <td>True</td>\n",
       "    </tr>\n",
       "    <tr>\n",
       "      <th>38641</th>\n",
       "      <td>1671112304.954635</td>\n",
       "      <td>None</td>\n",
       "      <td>None</td>\n",
       "      <td>1812.0</td>\n",
       "      <td>43398.0</td>\n",
       "      <td>Radius</td>\n",
       "      <td>179</td>\n",
       "      <td>NaN</td>\n",
       "      <td>4</td>\n",
       "      <td>4</td>\n",
       "      <td>True</td>\n",
       "      <td>True</td>\n",
       "    </tr>\n",
       "  </tbody>\n",
       "</table>\n",
       "<p>38642 rows × 12 columns</p>\n",
       "</div>"
      ],
      "text/plain": [
       "               Timestamp Source IP Destination IP  Source Port  \\\n",
       "0      1241422456.122475      None           None          NaN   \n",
       "1      1241422456.122475      None           None          NaN   \n",
       "2       1241422758.60905      None           None          NaN   \n",
       "3       1241422758.60905      None           None          NaN   \n",
       "4      1355253962.658551  10.0.0.1      224.0.0.2        646.0   \n",
       "...                  ...       ...            ...          ...   \n",
       "38637  1671112304.885062      None           None       1812.0   \n",
       "38638  1671112304.921208      None           None      43398.0   \n",
       "38639  1671112304.926982      None           None       1812.0   \n",
       "38640  1671112304.950305      None           None      43398.0   \n",
       "38641  1671112304.954635      None           None       1812.0   \n",
       "\n",
       "       Destination Port Payload  Packet Length  Protocol  Source IP Length  \\\n",
       "0                   NaN     Raw             60       NaN                 4   \n",
       "1                   NaN     Raw             60       NaN                 4   \n",
       "2                   NaN     Raw             60       NaN                 4   \n",
       "3                   NaN     Raw             60       NaN                 4   \n",
       "4                 646.0     Raw             42      17.0                 8   \n",
       "...                 ...     ...            ...       ...               ...   \n",
       "38637           43398.0  Radius            502       NaN                 4   \n",
       "38638            1812.0  Radius            225       NaN                 4   \n",
       "38639           43398.0  Radius            127       NaN                 4   \n",
       "38640            1812.0  Radius            180       NaN                 4   \n",
       "38641           43398.0  Radius            179       NaN                 4   \n",
       "\n",
       "       Destination IP Length  Source Port Even  Destination Port Even  \n",
       "0                          4             False                  False  \n",
       "1                          4             False                  False  \n",
       "2                          4             False                  False  \n",
       "3                          4             False                  False  \n",
       "4                          9              True                   True  \n",
       "...                      ...               ...                    ...  \n",
       "38637                      4              True                   True  \n",
       "38638                      4              True                   True  \n",
       "38639                      4              True                   True  \n",
       "38640                      4              True                   True  \n",
       "38641                      4              True                   True  \n",
       "\n",
       "[38642 rows x 12 columns]"
      ]
     },
     "execution_count": 45,
     "metadata": {},
     "output_type": "execute_result"
    }
   ],
   "source": [
    "benign_smart_features"
   ]
  },
  {
   "attachments": {},
   "cell_type": "markdown",
   "metadata": {},
   "source": [
    "## Hypothesis testing\n",
    "\n",
    "- Is the difference between two groups or variables statistically significant?\n",
    "- Use t-test to compare means of two groups\n",
    "  - assumes that data follows normal distribution\n",
    "- Types of variables\n",
    "  - dependent: the effect of a phenomenon. For example, how does number of HTTP requests mean that a network is compromised?\n",
    "  - independent: the cause. The number of HTTP requests affects whether a network is compromised."
   ]
  },
  {
   "cell_type": "code",
   "execution_count": 46,
   "metadata": {},
   "outputs": [],
   "source": [
    "def hypothesis_testing(df, col1, col2):\n",
    "    group1 = df[col1]\n",
    "    group2 = df[col2]\n",
    "    pvalue = ttest_ind(group1, group2)[1]\n",
    "    if pvalue < 0.05:\n",
    "        return \"The difference between {} and {} is statistically significant (p < 0.05)\".format(\n",
    "            col1, col2\n",
    "        )\n",
    "    else:\n",
    "        return \"The difference between {} and {} is not statistically significant (p >= 0.05)\".format(\n",
    "            col1, col2\n",
    "        )"
   ]
  },
  {
   "cell_type": "code",
   "execution_count": 47,
   "metadata": {},
   "outputs": [
    {
     "data": {
      "text/plain": [
       "'The difference between Number of Packets and Total Length is statistically significant (p < 0.05)'"
      ]
     },
     "execution_count": 47,
     "metadata": {},
     "output_type": "execute_result"
    }
   ],
   "source": [
    "hypothesis_testing(mirai_stream_df, \"Number of Packets\", \"Total Length\")"
   ]
  },
  {
   "cell_type": "code",
   "execution_count": 48,
   "metadata": {},
   "outputs": [
    {
     "data": {
      "text/plain": [
       "'The difference between Number of Packets and Total Length is statistically significant (p < 0.05)'"
      ]
     },
     "execution_count": 48,
     "metadata": {},
     "output_type": "execute_result"
    }
   ],
   "source": [
    "hypothesis_testing(benign_stream_df, \"Number of Packets\", \"Total Length\")"
   ]
  },
  {
   "attachments": {},
   "cell_type": "markdown",
   "metadata": {},
   "source": [
    "## Outliers\n",
    "\n",
    "- observation that significantly differs from others in a dataset\n",
    "- Causes\n",
    "  - measurement errors\n",
    "  - extreme rare values\n",
    "- significant impact in statistical analysis\n",
    "- measurements\n",
    "  - z-score: `(x - mean) / std_dev`\n",
    "  - IQR method: this method identifies outliers as observations that are below `Q1 - 1.5IQR` or above `Q3 + 1.5IQR`, where Q1 and Q3 are the first and third quartiles, and IQR is the interquartile range (the difference between Q3 and Q1).\n",
    "  - visual inspection"
   ]
  },
  {
   "cell_type": "code",
   "execution_count": 49,
   "metadata": {},
   "outputs": [],
   "source": [
    "def detect_outliers_zscore(df, column, threshold=3):\n",
    "    zscores = np.abs(zscore(df[column]))\n",
    "    return df[zscores > threshold]"
   ]
  },
  {
   "cell_type": "code",
   "execution_count": 50,
   "metadata": {},
   "outputs": [
    {
     "name": "stdout",
     "output_type": "stream",
     "text": [
      "           Source IP   Destination IP  Source Port  Destination Port  \\\n",
      "1        192.168.2.1    192.168.2.110         23.0           21897.0   \n",
      "3651     192.168.2.1  239.255.255.250       1900.0            1900.0   \n",
      "3652     192.168.2.1  255.255.255.255         67.0              68.0   \n",
      "3653   192.168.2.101    192.168.2.110         23.0           21897.0   \n",
      "3673   192.168.2.103    192.168.2.110         23.0           21897.0   \n",
      "4928   192.168.2.107    192.168.2.110         23.0           21897.0   \n",
      "4933   192.168.2.108   122.226.84.253      32761.0           10240.0   \n",
      "4934   192.168.2.108  122.248.234.207      32761.0           10240.0   \n",
      "4935   192.168.2.108    46.137.188.54      32761.0           10240.0   \n",
      "4936   192.168.2.108    50.19.254.134      32761.0           10240.0   \n",
      "8014   192.168.2.108    61.188.37.216      32761.0           10240.0   \n",
      "16232  192.168.2.110      192.168.2.1      21897.0              23.0   \n",
      "18022  192.168.2.110    192.168.2.101      21897.0              23.0   \n",
      "18026  192.168.2.110    192.168.2.103      21897.0              23.0   \n",
      "18038  192.168.2.110    192.168.2.107         23.0           57206.0   \n",
      "18039  192.168.2.110    192.168.2.107      21897.0              23.0   \n",
      "18043  192.168.2.110    192.168.2.118      21897.0              23.0   \n",
      "26628  192.168.2.113   104.199.156.58      50861.0           10240.0   \n",
      "27188  192.168.2.113  114.215.137.159      50861.0           10240.0   \n",
      "27419  192.168.2.113    120.24.59.150      50861.0           10240.0   \n",
      "27776  192.168.2.113   122.226.84.253      50861.0           10240.0   \n",
      "28070  192.168.2.113  122.248.234.207      50861.0           10240.0   \n",
      "29089  192.168.2.113    46.137.188.54      50861.0           10240.0   \n",
      "29383  192.168.2.113    50.19.254.134      50861.0           10240.0   \n",
      "29684  192.168.2.113    61.188.37.216      50861.0           10240.0   \n",
      "34018  192.168.2.115  239.255.255.250       1215.0            1900.0   \n",
      "34169  192.168.2.118    192.168.2.110         23.0           21897.0   \n",
      "36572  192.168.2.196    192.168.2.101      53781.0           51009.0   \n",
      "\n",
      "       Protocol  Number of Packets  Total Length     Duration  \\\n",
      "1           6.0               1432         37232  2375.572448   \n",
      "3651       17.0                264         43824  6284.687568   \n",
      "3652       17.0                136         22576  7101.037963   \n",
      "3653        6.0               1431         37206  2376.723766   \n",
      "3673        6.0               1431         37206  2376.723102   \n",
      "4928        6.0               1432         37232  2376.719531   \n",
      "4933       17.0               7813        375024  7135.501055   \n",
      "4934       17.0               7853        376944  7135.502403   \n",
      "4935       17.0               7853        376944  7135.501165   \n",
      "4936       17.0               7853        376944  7135.502301   \n",
      "8014       17.0               7804        374592  7135.501056   \n",
      "16232       6.0               1432         37232  2375.572289   \n",
      "18022       6.0               1431         37206  2376.723879   \n",
      "18026       6.0               2862         74412  2376.732041   \n",
      "18038       6.0                284         16692   368.594927   \n",
      "18039       6.0               1432         37232  2376.719463   \n",
      "18043       6.0               1146         29796  2376.550166   \n",
      "26628      17.0               2926        140448  7118.438750   \n",
      "27188      17.0               2926        140448  7118.437637   \n",
      "27419      17.0               2926        140448  7118.436806   \n",
      "27776      17.0               2926        140448  7118.435486   \n",
      "28070      17.0               2926        140448  7118.433272   \n",
      "29089      17.0               2926        140448  7118.433271   \n",
      "29383      17.0               2926        140448  7118.433310   \n",
      "29684      17.0               2926        140448  7118.436230   \n",
      "34018      17.0                714        118524  7111.128903   \n",
      "34169       6.0               1146         22920  2376.550201   \n",
      "36572      17.0                240         39840  2408.542301   \n",
      "\n",
      "       Source IP Numeric  Destination IP Numeric  \n",
      "1             3232236033              3232236142  \n",
      "3651          3232236033              4026531834  \n",
      "3652          3232236033              4294967295  \n",
      "3653          3232236133              3232236142  \n",
      "3673          3232236135              3232236142  \n",
      "4928          3232236139              3232236142  \n",
      "4933          3232236140              2061653245  \n",
      "4934          3232236140              2063133391  \n",
      "4935          3232236140               780778550  \n",
      "4936          3232236140               840171142  \n",
      "8014          3232236140              1035740632  \n",
      "16232         3232236142              3232236033  \n",
      "18022         3232236142              3232236133  \n",
      "18026         3232236142              3232236135  \n",
      "18038         3232236142              3232236139  \n",
      "18039         3232236142              3232236139  \n",
      "18043         3232236142              3232236150  \n",
      "26628         3232236145              1757912122  \n",
      "27188         3232236145              1926728095  \n",
      "27419         3232236145              2014854038  \n",
      "27776         3232236145              2061653245  \n",
      "28070         3232236145              2063133391  \n",
      "29089         3232236145               780778550  \n",
      "29383         3232236145               840171142  \n",
      "29684         3232236145              1035740632  \n",
      "34018         3232236147              4026531834  \n",
      "34169         3232236150              3232236142  \n",
      "36572         3232236228              3232236133  \n"
     ]
    }
   ],
   "source": [
    "outliers = detect_outliers_zscore(mirai_stream_df, \"Total Length\", threshold=3)\n",
    "print(outliers)"
   ]
  },
  {
   "cell_type": "code",
   "execution_count": 51,
   "metadata": {},
   "outputs": [
    {
     "name": "stdout",
     "output_type": "stream",
     "text": [
      "           Source IP  Destination IP  Source Port  Destination Port  Protocol  \\\n",
      "851     192.168.7.26    192.168.7.12      61863.0            1303.0      17.0   \n",
      "1267     217.0.5.215  84.146.135.221      15020.0            7078.0      17.0   \n",
      "1330  84.146.135.221     217.0.5.215       7078.0           15020.0      17.0   \n",
      "\n",
      "      Number of Packets  Total Length   Duration  Source IP Numeric  \\\n",
      "851                3368       2643858  26.629216         3232237338   \n",
      "1267               1276        229680  25.541336         3640657367   \n",
      "1330               1286        231480  25.700133         1418889181   \n",
      "\n",
      "      Destination IP Numeric  \n",
      "851               3232237324  \n",
      "1267              1418889181  \n",
      "1330              3640657367  \n"
     ]
    }
   ],
   "source": [
    "outliers = detect_outliers_zscore(benign_stream_df, \"Total Length\", threshold=3)\n",
    "print(outliers)"
   ]
  },
  {
   "cell_type": "code",
   "execution_count": 52,
   "metadata": {},
   "outputs": [],
   "source": [
    "# TODO: plot outliers\n",
    "# plt.figure(figsize=(8, 6))  # Adjust the figure size as needed\n",
    "\n",
    "# # Create a box plot with regular values\n",
    "# sns.boxplot(data=benign_stream_df, x='Duration', y='Total Length', color='lightblue', label='Regular Values')\n",
    "\n",
    "# # Overlay the outlier points on the same plot\n",
    "# sns.scatterplot(data=outliers, x='Duration', y='Total Length', color='red', marker='X', label='Outliers')\n",
    "\n",
    "# plt.title('Box Plot with Outliers')\n",
    "# plt.xlabel('Duration')\n",
    "# plt.ylabel('Total Length')\n",
    "# plt.legend()\n",
    "# plt.show()\n"
   ]
  },
  {
   "attachments": {},
   "cell_type": "markdown",
   "metadata": {},
   "source": [
    "## AI\n",
    "Explore the data with AI. Use descriptive prompts instead of mathematical functions."
   ]
  },
  {
   "cell_type": "code",
   "execution_count": 53,
   "metadata": {},
   "outputs": [
    {
     "data": {
      "text/html": [
       "<div>\n",
       "<style scoped>\n",
       "    .dataframe tbody tr th:only-of-type {\n",
       "        vertical-align: middle;\n",
       "    }\n",
       "\n",
       "    .dataframe tbody tr th {\n",
       "        vertical-align: top;\n",
       "    }\n",
       "\n",
       "    .dataframe thead th {\n",
       "        text-align: right;\n",
       "    }\n",
       "</style>\n",
       "<table border=\"1\" class=\"dataframe\">\n",
       "  <thead>\n",
       "    <tr style=\"text-align: right;\">\n",
       "      <th></th>\n",
       "      <th>Source IP</th>\n",
       "      <th>Count</th>\n",
       "    </tr>\n",
       "  </thead>\n",
       "  <tbody>\n",
       "    <tr>\n",
       "      <th>0</th>\n",
       "      <td>192.168.2.108</td>\n",
       "      <td>51747</td>\n",
       "    </tr>\n",
       "    <tr>\n",
       "      <th>1</th>\n",
       "      <td>192.168.2.1</td>\n",
       "      <td>35416</td>\n",
       "    </tr>\n",
       "    <tr>\n",
       "      <th>2</th>\n",
       "      <td>192.168.2.113</td>\n",
       "      <td>34805</td>\n",
       "    </tr>\n",
       "    <tr>\n",
       "      <th>3</th>\n",
       "      <td>192.168.2.110</td>\n",
       "      <td>23554</td>\n",
       "    </tr>\n",
       "    <tr>\n",
       "      <th>4</th>\n",
       "      <td>192.168.2.115</td>\n",
       "      <td>13486</td>\n",
       "    </tr>\n",
       "  </tbody>\n",
       "</table>\n",
       "</div>"
      ],
      "text/plain": [
       "       Source IP  Count\n",
       "0  192.168.2.108  51747\n",
       "1    192.168.2.1  35416\n",
       "2  192.168.2.113  34805\n",
       "3  192.168.2.110  23554\n",
       "4  192.168.2.115  13486"
      ]
     },
     "execution_count": 53,
     "metadata": {},
     "output_type": "execute_result"
    }
   ],
   "source": [
    "top_5_source_IPs = pandas_ai(\n",
    "    mirai_df, prompt=\"Which are the 5 most popular source IP addresses?\"\n",
    ")\n",
    "top_5_source_IPs"
   ]
  },
  {
   "cell_type": "code",
   "execution_count": 54,
   "metadata": {},
   "outputs": [
    {
     "data": {
      "text/html": [
       "<div>\n",
       "<style scoped>\n",
       "    .dataframe tbody tr th:only-of-type {\n",
       "        vertical-align: middle;\n",
       "    }\n",
       "\n",
       "    .dataframe tbody tr th {\n",
       "        vertical-align: top;\n",
       "    }\n",
       "\n",
       "    .dataframe thead th {\n",
       "        text-align: right;\n",
       "    }\n",
       "</style>\n",
       "<table border=\"1\" class=\"dataframe\">\n",
       "  <thead>\n",
       "    <tr style=\"text-align: right;\">\n",
       "      <th></th>\n",
       "      <th>Destination Port</th>\n",
       "    </tr>\n",
       "  </thead>\n",
       "  <tbody>\n",
       "    <tr>\n",
       "      <th>10240.0</th>\n",
       "      <td>62584</td>\n",
       "    </tr>\n",
       "    <tr>\n",
       "      <th>53.0</th>\n",
       "      <td>33348</td>\n",
       "    </tr>\n",
       "    <tr>\n",
       "      <th>80.0</th>\n",
       "      <td>17644</td>\n",
       "    </tr>\n",
       "    <tr>\n",
       "      <th>23.0</th>\n",
       "      <td>9466</td>\n",
       "    </tr>\n",
       "    <tr>\n",
       "      <th>21897.0</th>\n",
       "      <td>7158</td>\n",
       "    </tr>\n",
       "  </tbody>\n",
       "</table>\n",
       "</div>"
      ],
      "text/plain": [
       "         Destination Port\n",
       "10240.0             62584\n",
       "53.0                33348\n",
       "80.0                17644\n",
       "23.0                 9466\n",
       "21897.0              7158"
      ]
     },
     "execution_count": 54,
     "metadata": {},
     "output_type": "execute_result"
    }
   ],
   "source": [
    "top_5_dst_ports = pandas_ai(\n",
    "    mirai_df, prompt=\"Which are the 5 most popular destination ports?\"\n",
    ")\n",
    "top_5_dst_ports"
   ]
  },
  {
   "cell_type": "code",
   "execution_count": 55,
   "metadata": {},
   "outputs": [
    {
     "data": {
      "text/plain": [
       "'The most rarely used ports within the range of 0-1024 are: 69.0'"
      ]
     },
     "execution_count": 55,
     "metadata": {},
     "output_type": "execute_result"
    }
   ],
   "source": [
    "rare_ports = pandas_ai(\n",
    "    benign_df, prompt=\"Which are the most rarely used ports within the range of 0-1024?\"\n",
    ")\n",
    "rare_ports"
   ]
  },
  {
   "cell_type": "code",
   "execution_count": 56,
   "metadata": {},
   "outputs": [
    {
     "data": {
      "image/png": "[encoded data removed]",
      "text/plain": [
       "<Figure size 640x480 with 1 Axes>"
      ]
     },
     "metadata": {},
     "output_type": "display_data"
    }
   ],
   "source": [
    "pandas_ai.run(\n",
    "    mirai_stream_df,\n",
    "    prompt=\"Plot the scatter plot of stream durations and number of packets.\",\n",
    ")"
   ]
  },
  {
   "attachments": {},
   "cell_type": "markdown",
   "metadata": {},
   "source": [
    "# Summaries & Visualizations\n",
    "Using packages `skim`, `dfSummary`, and `sweetviz`, we create a wealth of visualizations with minimal code. These visualizations offer valuable insights for data exploration."
   ]
  },
  {
   "cell_type": "code",
   "execution_count": 57,
   "metadata": {},
   "outputs": [
    {
     "data": {
      "text/html": [
       "<pre style=\"white-space:pre;overflow-x:auto;line-height:normal;font-family:Menlo,'DejaVu Sans Mono',consolas,'Courier New',monospace\">╭──────────────────────────────────────────────── skimpy summary ─────────────────────────────────────────────────╮\n",
       "│ <span style=\"font-style: italic\">         Data Summary         </span> <span style=\"font-style: italic\">      Data Types       </span>                                                          │\n",
       "│ ┏━━━━━━━━━━━━━━━━━━━┳━━━━━━━━┓ ┏━━━━━━━━━━━━━┳━━━━━━━┓                                                          │\n",
       "│ ┃<span style=\"color: #008080; text-decoration-color: #008080; font-weight: bold\"> dataframe         </span>┃<span style=\"color: #008080; text-decoration-color: #008080; font-weight: bold\"> Values </span>┃ ┃<span style=\"color: #008080; text-decoration-color: #008080; font-weight: bold\"> Column Type </span>┃<span style=\"color: #008080; text-decoration-color: #008080; font-weight: bold\"> Count </span>┃                                                          │\n",
       "│ ┡━━━━━━━━━━━━━━━━━━━╇━━━━━━━━┩ ┡━━━━━━━━━━━━━╇━━━━━━━┩                                                          │\n",
       "│ │ Number of rows    │ 36585  │ │ float64     │ 4     │                                                          │\n",
       "│ │ Number of columns │ 8      │ │ int64       │ 4     │                                                          │\n",
       "│ └───────────────────┴────────┘ └─────────────┴───────┘                                                          │\n",
       "│ <span style=\"font-style: italic\">                                                    number                                                    </span>  │\n",
       "│ ┏━━━━━━━━━━┳━━━━┳━━━━━━┳━━━━━━━━━━┳━━━━━━━━━━┳━━━━━━━━━━┳━━━━━━━━━━┳━━━━━━━━━━┳━━━━━━━━━━┳━━━━━━━━━━┳━━━━━━━━┓  │\n",
       "│ ┃<span style=\"font-weight: bold\"> column_n </span>┃<span style=\"font-weight: bold\">    </span>┃<span style=\"font-weight: bold\">      </span>┃<span style=\"font-weight: bold\">          </span>┃<span style=\"font-weight: bold\">          </span>┃<span style=\"font-weight: bold\">          </span>┃<span style=\"font-weight: bold\">          </span>┃<span style=\"font-weight: bold\">          </span>┃<span style=\"font-weight: bold\">          </span>┃<span style=\"font-weight: bold\">          </span>┃<span style=\"font-weight: bold\">        </span>┃  │\n",
       "│ ┃<span style=\"font-weight: bold\"> ame      </span>┃<span style=\"font-weight: bold\"> NA </span>┃<span style=\"font-weight: bold\"> NA % </span>┃<span style=\"font-weight: bold\"> mean     </span>┃<span style=\"font-weight: bold\"> sd       </span>┃<span style=\"font-weight: bold\"> p0       </span>┃<span style=\"font-weight: bold\"> p25      </span>┃<span style=\"font-weight: bold\"> p50      </span>┃<span style=\"font-weight: bold\"> p75      </span>┃<span style=\"font-weight: bold\"> p100     </span>┃<span style=\"font-weight: bold\"> hist   </span>┃  │\n",
       "│ ┡━━━━━━━━━━╇━━━━╇━━━━━━╇━━━━━━━━━━╇━━━━━━━━━━╇━━━━━━━━━━╇━━━━━━━━━━╇━━━━━━━━━━╇━━━━━━━━━━╇━━━━━━━━━━╇━━━━━━━━┩  │\n",
       "│ │ <span style=\"color: #af87ff; text-decoration-color: #af87ff\">Source  </span> │ <span style=\"color: #008080; text-decoration-color: #008080\"> 0</span> │ <span style=\"color: #008080; text-decoration-color: #008080\">   0</span> │ <span style=\"color: #008080; text-decoration-color: #008080\">   35000</span> │ <span style=\"color: #008080; text-decoration-color: #008080\">   21000</span> │ <span style=\"color: #008080; text-decoration-color: #008080\">       0</span> │ <span style=\"color: #008080; text-decoration-color: #008080\">   12000</span> │ <span style=\"color: #008080; text-decoration-color: #008080\">   41000</span> │ <span style=\"color: #008080; text-decoration-color: #008080\">   52000</span> │ <span style=\"color: #008080; text-decoration-color: #008080\">   65000</span> │ <span style=\"color: #008000; text-decoration-color: #008000\">▇▁▁▇▇▅</span> │  │\n",
       "│ │ <span style=\"color: #af87ff; text-decoration-color: #af87ff\">Port    </span> │    │      │          │          │          │          │          │          │          │        │  │\n",
       "│ │ <span style=\"color: #af87ff; text-decoration-color: #af87ff\">Destinat</span> │ <span style=\"color: #008080; text-decoration-color: #008080\"> 0</span> │ <span style=\"color: #008080; text-decoration-color: #008080\">   0</span> │ <span style=\"color: #008080; text-decoration-color: #008080\">    2200</span> │ <span style=\"color: #008080; text-decoration-color: #008080\">    6000</span> │ <span style=\"color: #008080; text-decoration-color: #008080\">      23</span> │ <span style=\"color: #008080; text-decoration-color: #008080\">      53</span> │ <span style=\"color: #008080; text-decoration-color: #008080\">      53</span> │ <span style=\"color: #008080; text-decoration-color: #008080\">     440</span> │ <span style=\"color: #008080; text-decoration-color: #008080\">   65000</span> │ <span style=\"color: #008000; text-decoration-color: #008000\">  ▇   </span> │  │\n",
       "│ │ <span style=\"color: #af87ff; text-decoration-color: #af87ff\">ion Port</span> │    │      │          │          │          │          │          │          │          │        │  │\n",
       "│ │ <span style=\"color: #af87ff; text-decoration-color: #af87ff\">Protocol</span> │ <span style=\"color: #008080; text-decoration-color: #008080\"> 0</span> │ <span style=\"color: #008080; text-decoration-color: #008080\">   0</span> │ <span style=\"color: #008080; text-decoration-color: #008080\">      13</span> │ <span style=\"color: #008080; text-decoration-color: #008080\">     5.3</span> │ <span style=\"color: #008080; text-decoration-color: #008080\">       6</span> │ <span style=\"color: #008080; text-decoration-color: #008080\">       6</span> │ <span style=\"color: #008080; text-decoration-color: #008080\">      17</span> │ <span style=\"color: #008080; text-decoration-color: #008080\">      17</span> │ <span style=\"color: #008080; text-decoration-color: #008080\">      17</span> │ <span style=\"color: #008000; text-decoration-color: #008000\">▅    ▇</span> │  │\n",
       "│ │ <span style=\"color: #af87ff; text-decoration-color: #af87ff\">Number  </span> │ <span style=\"color: #008080; text-decoration-color: #008080\"> 0</span> │ <span style=\"color: #008080; text-decoration-color: #008080\">   0</span> │ <span style=\"color: #008080; text-decoration-color: #008080\">     4.2</span> │ <span style=\"color: #008080; text-decoration-color: #008080\">     100</span> │ <span style=\"color: #008080; text-decoration-color: #008080\">       1</span> │ <span style=\"color: #008080; text-decoration-color: #008080\">       1</span> │ <span style=\"color: #008080; text-decoration-color: #008080\">       1</span> │ <span style=\"color: #008080; text-decoration-color: #008080\">       3</span> │ <span style=\"color: #008080; text-decoration-color: #008080\">    7900</span> │ <span style=\"color: #008000; text-decoration-color: #008000\">  ▇   </span> │  │\n",
       "│ │ <span style=\"color: #af87ff; text-decoration-color: #af87ff\">of      </span> │    │      │          │          │          │          │          │          │          │        │  │\n",
       "│ │ <span style=\"color: #af87ff; text-decoration-color: #af87ff\">Packets </span> │    │      │          │          │          │          │          │          │          │        │  │\n",
       "│ │ <span style=\"color: #af87ff; text-decoration-color: #af87ff\">Total   </span> │ <span style=\"color: #008080; text-decoration-color: #008080\"> 0</span> │ <span style=\"color: #008080; text-decoration-color: #008080\">   0</span> │ <span style=\"color: #008080; text-decoration-color: #008080\">     190</span> │ <span style=\"color: #008080; text-decoration-color: #008080\">    5000</span> │ <span style=\"color: #008080; text-decoration-color: #008080\">      26</span> │ <span style=\"color: #008080; text-decoration-color: #008080\">      40</span> │ <span style=\"color: #008080; text-decoration-color: #008080\">      49</span> │ <span style=\"color: #008080; text-decoration-color: #008080\">     100</span> │ <span style=\"color: #008080; text-decoration-color: #008080\">  380000</span> │ <span style=\"color: #008000; text-decoration-color: #008000\">  ▇   </span> │  │\n",
       "│ │ <span style=\"color: #af87ff; text-decoration-color: #af87ff\">Length  </span> │    │      │          │          │          │          │          │          │          │        │  │\n",
       "│ │ <span style=\"color: #af87ff; text-decoration-color: #af87ff\">Duration</span> │ <span style=\"color: #008080; text-decoration-color: #008080\"> 0</span> │ <span style=\"color: #008080; text-decoration-color: #008080\">   0</span> │ <span style=\"color: #008080; text-decoration-color: #008080\">     330</span> │ <span style=\"color: #008080; text-decoration-color: #008080\">    1300</span> │ <span style=\"color: #008080; text-decoration-color: #008080\">       0</span> │ <span style=\"color: #008080; text-decoration-color: #008080\">       0</span> │ <span style=\"color: #008080; text-decoration-color: #008080\">       0</span> │ <span style=\"color: #008080; text-decoration-color: #008080\">       3</span> │ <span style=\"color: #008080; text-decoration-color: #008080\">    7100</span> │ <span style=\"color: #008000; text-decoration-color: #008000\">  ▇   </span> │  │\n",
       "│ │ <span style=\"color: #af87ff; text-decoration-color: #af87ff\">Source  </span> │ <span style=\"color: #008080; text-decoration-color: #008080\"> 0</span> │ <span style=\"color: #008080; text-decoration-color: #008080\">   0</span> │ <span style=\"color: #008080; text-decoration-color: #008080\">32000000</span> │ <span style=\"color: #008080; text-decoration-color: #008080\">17000000</span> │ <span style=\"color: #008080; text-decoration-color: #008080\">       0</span> │ <span style=\"color: #008080; text-decoration-color: #008080\">32000000</span> │ <span style=\"color: #008080; text-decoration-color: #008080\">32000000</span> │ <span style=\"color: #008080; text-decoration-color: #008080\">32000000</span> │ <span style=\"color: #008080; text-decoration-color: #008080\">32000000</span> │ <span style=\"color: #008000; text-decoration-color: #008000\">     ▇</span> │  │\n",
       "│ │ <span style=\"color: #af87ff; text-decoration-color: #af87ff\">IP      </span> │    │      │ <span style=\"color: #008080; text-decoration-color: #008080\">      00</span> │          │          │ <span style=\"color: #008080; text-decoration-color: #008080\">      00</span> │ <span style=\"color: #008080; text-decoration-color: #008080\">      00</span> │ <span style=\"color: #008080; text-decoration-color: #008080\">      00</span> │ <span style=\"color: #008080; text-decoration-color: #008080\">      00</span> │        │  │\n",
       "│ │ <span style=\"color: #af87ff; text-decoration-color: #af87ff\">Numeric </span> │    │      │          │          │          │          │          │          │          │        │  │\n",
       "│ │ <span style=\"color: #af87ff; text-decoration-color: #af87ff\">Destinat</span> │ <span style=\"color: #008080; text-decoration-color: #008080\"> 0</span> │ <span style=\"color: #008080; text-decoration-color: #008080\">   0</span> │ <span style=\"color: #008080; text-decoration-color: #008080\">22000000</span> │ <span style=\"color: #008080; text-decoration-color: #008080\">11000000</span> │ <span style=\"color: #008080; text-decoration-color: #008080\">13000000</span> │ <span style=\"color: #008080; text-decoration-color: #008080\">87000000</span> │ <span style=\"color: #008080; text-decoration-color: #008080\">21000000</span> │ <span style=\"color: #008080; text-decoration-color: #008080\">32000000</span> │ <span style=\"color: #008080; text-decoration-color: #008080\">43000000</span> │ <span style=\"color: #008000; text-decoration-color: #008000\">▂▃▃ ▇ </span> │  │\n",
       "│ │ <span style=\"color: #af87ff; text-decoration-color: #af87ff\">ion IP  </span> │    │      │ <span style=\"color: #008080; text-decoration-color: #008080\">      00</span> │ <span style=\"color: #008080; text-decoration-color: #008080\">      00</span> │ <span style=\"color: #008080; text-decoration-color: #008080\">       0</span> │ <span style=\"color: #008080; text-decoration-color: #008080\">       0</span> │ <span style=\"color: #008080; text-decoration-color: #008080\">      00</span> │ <span style=\"color: #008080; text-decoration-color: #008080\">      00</span> │ <span style=\"color: #008080; text-decoration-color: #008080\">      00</span> │        │  │\n",
       "│ │ <span style=\"color: #af87ff; text-decoration-color: #af87ff\">Numeric </span> │    │      │          │          │          │          │          │          │          │        │  │\n",
       "│ └──────────┴────┴──────┴──────────┴──────────┴──────────┴──────────┴──────────┴──────────┴──────────┴────────┘  │\n",
       "╰────────────────────────────────────────────────────── End ──────────────────────────────────────────────────────╯\n",
       "</pre>\n"
      ],
      "text/plain": [
       "╭──────────────────────────────────────────────── skimpy summary ─────────────────────────────────────────────────╮\n",
       "│ \u001b[3m         Data Summary         \u001b[0m \u001b[3m      Data Types       \u001b[0m                                                          │\n",
       "│ ┏━━━━━━━━━━━━━━━━━━━┳━━━━━━━━┓ ┏━━━━━━━━━━━━━┳━━━━━━━┓                                                          │\n",
       "│ ┃\u001b[1;36m \u001b[0m\u001b[1;36mdataframe        \u001b[0m\u001b[1;36m \u001b[0m┃\u001b[1;36m \u001b[0m\u001b[1;36mValues\u001b[0m\u001b[1;36m \u001b[0m┃ ┃\u001b[1;36m \u001b[0m\u001b[1;36mColumn Type\u001b[0m\u001b[1;36m \u001b[0m┃\u001b[1;36m \u001b[0m\u001b[1;36mCount\u001b[0m\u001b[1;36m \u001b[0m┃                                                          │\n",
       "│ ┡━━━━━━━━━━━━━━━━━━━╇━━━━━━━━┩ ┡━━━━━━━━━━━━━╇━━━━━━━┩                                                          │\n",
       "│ │ Number of rows    │ 36585  │ │ float64     │ 4     │                                                          │\n",
       "│ │ Number of columns │ 8      │ │ int64       │ 4     │                                                          │\n",
       "│ └───────────────────┴────────┘ └─────────────┴───────┘                                                          │\n",
       "│ \u001b[3m                                                    number                                                    \u001b[0m  │\n",
       "│ ┏━━━━━━━━━━┳━━━━┳━━━━━━┳━━━━━━━━━━┳━━━━━━━━━━┳━━━━━━━━━━┳━━━━━━━━━━┳━━━━━━━━━━┳━━━━━━━━━━┳━━━━━━━━━━┳━━━━━━━━┓  │\n",
       "│ ┃\u001b[1m \u001b[0m\u001b[1mcolumn_n\u001b[0m\u001b[1m \u001b[0m┃\u001b[1m    \u001b[0m┃\u001b[1m      \u001b[0m┃\u001b[1m          \u001b[0m┃\u001b[1m          \u001b[0m┃\u001b[1m          \u001b[0m┃\u001b[1m          \u001b[0m┃\u001b[1m          \u001b[0m┃\u001b[1m          \u001b[0m┃\u001b[1m          \u001b[0m┃\u001b[1m        \u001b[0m┃  │\n",
       "│ ┃\u001b[1m \u001b[0m\u001b[1mame     \u001b[0m\u001b[1m \u001b[0m┃\u001b[1m \u001b[0m\u001b[1mNA\u001b[0m\u001b[1m \u001b[0m┃\u001b[1m \u001b[0m\u001b[1mNA %\u001b[0m\u001b[1m \u001b[0m┃\u001b[1m \u001b[0m\u001b[1mmean    \u001b[0m\u001b[1m \u001b[0m┃\u001b[1m \u001b[0m\u001b[1msd      \u001b[0m\u001b[1m \u001b[0m┃\u001b[1m \u001b[0m\u001b[1mp0      \u001b[0m\u001b[1m \u001b[0m┃\u001b[1m \u001b[0m\u001b[1mp25     \u001b[0m\u001b[1m \u001b[0m┃\u001b[1m \u001b[0m\u001b[1mp50     \u001b[0m\u001b[1m \u001b[0m┃\u001b[1m \u001b[0m\u001b[1mp75     \u001b[0m\u001b[1m \u001b[0m┃\u001b[1m \u001b[0m\u001b[1mp100    \u001b[0m\u001b[1m \u001b[0m┃\u001b[1m \u001b[0m\u001b[1mhist  \u001b[0m\u001b[1m \u001b[0m┃  │\n",
       "│ ┡━━━━━━━━━━╇━━━━╇━━━━━━╇━━━━━━━━━━╇━━━━━━━━━━╇━━━━━━━━━━╇━━━━━━━━━━╇━━━━━━━━━━╇━━━━━━━━━━╇━━━━━━━━━━╇━━━━━━━━┩  │\n",
       "│ │ \u001b[38;5;141mSource  \u001b[0m │ \u001b[36m 0\u001b[0m │ \u001b[36m   0\u001b[0m │ \u001b[36m   35000\u001b[0m │ \u001b[36m   21000\u001b[0m │ \u001b[36m       0\u001b[0m │ \u001b[36m   12000\u001b[0m │ \u001b[36m   41000\u001b[0m │ \u001b[36m   52000\u001b[0m │ \u001b[36m   65000\u001b[0m │ \u001b[32m▇▁▁▇▇▅\u001b[0m │  │\n",
       "│ │ \u001b[38;5;141mPort    \u001b[0m │    │      │          │          │          │          │          │          │          │        │  │\n",
       "│ │ \u001b[38;5;141mDestinat\u001b[0m │ \u001b[36m 0\u001b[0m │ \u001b[36m   0\u001b[0m │ \u001b[36m    2200\u001b[0m │ \u001b[36m    6000\u001b[0m │ \u001b[36m      23\u001b[0m │ \u001b[36m      53\u001b[0m │ \u001b[36m      53\u001b[0m │ \u001b[36m     440\u001b[0m │ \u001b[36m   65000\u001b[0m │ \u001b[32m  ▇   \u001b[0m │  │\n",
       "│ │ \u001b[38;5;141mion Port\u001b[0m │    │      │          │          │          │          │          │          │          │        │  │\n",
       "│ │ \u001b[38;5;141mProtocol\u001b[0m │ \u001b[36m 0\u001b[0m │ \u001b[36m   0\u001b[0m │ \u001b[36m      13\u001b[0m │ \u001b[36m     5.3\u001b[0m │ \u001b[36m       6\u001b[0m │ \u001b[36m       6\u001b[0m │ \u001b[36m      17\u001b[0m │ \u001b[36m      17\u001b[0m │ \u001b[36m      17\u001b[0m │ \u001b[32m▅    ▇\u001b[0m │  │\n",
       "│ │ \u001b[38;5;141mNumber  \u001b[0m │ \u001b[36m 0\u001b[0m │ \u001b[36m   0\u001b[0m │ \u001b[36m     4.2\u001b[0m │ \u001b[36m     100\u001b[0m │ \u001b[36m       1\u001b[0m │ \u001b[36m       1\u001b[0m │ \u001b[36m       1\u001b[0m │ \u001b[36m       3\u001b[0m │ \u001b[36m    7900\u001b[0m │ \u001b[32m  ▇   \u001b[0m │  │\n",
       "│ │ \u001b[38;5;141mof      \u001b[0m │    │      │          │          │          │          │          │          │          │        │  │\n",
       "│ │ \u001b[38;5;141mPackets \u001b[0m │    │      │          │          │          │          │          │          │          │        │  │\n",
       "│ │ \u001b[38;5;141mTotal   \u001b[0m │ \u001b[36m 0\u001b[0m │ \u001b[36m   0\u001b[0m │ \u001b[36m     190\u001b[0m │ \u001b[36m    5000\u001b[0m │ \u001b[36m      26\u001b[0m │ \u001b[36m      40\u001b[0m │ \u001b[36m      49\u001b[0m │ \u001b[36m     100\u001b[0m │ \u001b[36m  380000\u001b[0m │ \u001b[32m  ▇   \u001b[0m │  │\n",
       "│ │ \u001b[38;5;141mLength  \u001b[0m │    │      │          │          │          │          │          │          │          │        │  │\n",
       "│ │ \u001b[38;5;141mDuration\u001b[0m │ \u001b[36m 0\u001b[0m │ \u001b[36m   0\u001b[0m │ \u001b[36m     330\u001b[0m │ \u001b[36m    1300\u001b[0m │ \u001b[36m       0\u001b[0m │ \u001b[36m       0\u001b[0m │ \u001b[36m       0\u001b[0m │ \u001b[36m       3\u001b[0m │ \u001b[36m    7100\u001b[0m │ \u001b[32m  ▇   \u001b[0m │  │\n",
       "│ │ \u001b[38;5;141mSource  \u001b[0m │ \u001b[36m 0\u001b[0m │ \u001b[36m   0\u001b[0m │ \u001b[36m32000000\u001b[0m │ \u001b[36m17000000\u001b[0m │ \u001b[36m       0\u001b[0m │ \u001b[36m32000000\u001b[0m │ \u001b[36m32000000\u001b[0m │ \u001b[36m32000000\u001b[0m │ \u001b[36m32000000\u001b[0m │ \u001b[32m     ▇\u001b[0m │  │\n",
       "│ │ \u001b[38;5;141mIP      \u001b[0m │    │      │ \u001b[36m      00\u001b[0m │          │          │ \u001b[36m      00\u001b[0m │ \u001b[36m      00\u001b[0m │ \u001b[36m      00\u001b[0m │ \u001b[36m      00\u001b[0m │        │  │\n",
       "│ │ \u001b[38;5;141mNumeric \u001b[0m │    │      │          │          │          │          │          │          │          │        │  │\n",
       "│ │ \u001b[38;5;141mDestinat\u001b[0m │ \u001b[36m 0\u001b[0m │ \u001b[36m   0\u001b[0m │ \u001b[36m22000000\u001b[0m │ \u001b[36m11000000\u001b[0m │ \u001b[36m13000000\u001b[0m │ \u001b[36m87000000\u001b[0m │ \u001b[36m21000000\u001b[0m │ \u001b[36m32000000\u001b[0m │ \u001b[36m43000000\u001b[0m │ \u001b[32m▂▃▃ ▇ \u001b[0m │  │\n",
       "│ │ \u001b[38;5;141mion IP  \u001b[0m │    │      │ \u001b[36m      00\u001b[0m │ \u001b[36m      00\u001b[0m │ \u001b[36m       0\u001b[0m │ \u001b[36m       0\u001b[0m │ \u001b[36m      00\u001b[0m │ \u001b[36m      00\u001b[0m │ \u001b[36m      00\u001b[0m │        │  │\n",
       "│ │ \u001b[38;5;141mNumeric \u001b[0m │    │      │          │          │          │          │          │          │          │        │  │\n",
       "│ └──────────┴────┴──────┴──────────┴──────────┴──────────┴──────────┴──────────┴──────────┴──────────┴────────┘  │\n",
       "╰────────────────────────────────────────────────────── End ──────────────────────────────────────────────────────╯\n"
      ]
     },
     "metadata": {},
     "output_type": "display_data"
    }
   ],
   "source": [
    "skim(mirai_stream_df_numeric)"
   ]
  },
  {
   "cell_type": "code",
   "execution_count": 58,
   "metadata": {},
   "outputs": [
    {
     "data": {
      "text/html": [
       "<pre style=\"white-space:pre;overflow-x:auto;line-height:normal;font-family:Menlo,'DejaVu Sans Mono',consolas,'Courier New',monospace\">╭──────────────────────────────────────────────── skimpy summary ─────────────────────────────────────────────────╮\n",
       "│ <span style=\"font-style: italic\">         Data Summary         </span> <span style=\"font-style: italic\">      Data Types       </span>                                                          │\n",
       "│ ┏━━━━━━━━━━━━━━━━━━━┳━━━━━━━━┓ ┏━━━━━━━━━━━━━┳━━━━━━━┓                                                          │\n",
       "│ ┃<span style=\"color: #008080; text-decoration-color: #008080; font-weight: bold\"> dataframe         </span>┃<span style=\"color: #008080; text-decoration-color: #008080; font-weight: bold\"> Values </span>┃ ┃<span style=\"color: #008080; text-decoration-color: #008080; font-weight: bold\"> Column Type </span>┃<span style=\"color: #008080; text-decoration-color: #008080; font-weight: bold\"> Count </span>┃                                                          │\n",
       "│ ┡━━━━━━━━━━━━━━━━━━━╇━━━━━━━━┩ ┡━━━━━━━━━━━━━╇━━━━━━━┩                                                          │\n",
       "│ │ Number of rows    │ 1689   │ │ float64     │ 4     │                                                          │\n",
       "│ │ Number of columns │ 8      │ │ int64       │ 4     │                                                          │\n",
       "│ └───────────────────┴────────┘ └─────────────┴───────┘                                                          │\n",
       "│ <span style=\"font-style: italic\">                                                    number                                                    </span>  │\n",
       "│ ┏━━━━━━━━━━┳━━━━┳━━━━━━┳━━━━━━━━━━┳━━━━━━━━━━┳━━━━━━━━━━┳━━━━━━━━━━┳━━━━━━━━━━┳━━━━━━━━━━┳━━━━━━━━━━┳━━━━━━━━┓  │\n",
       "│ ┃<span style=\"font-weight: bold\"> column_n </span>┃<span style=\"font-weight: bold\">    </span>┃<span style=\"font-weight: bold\">      </span>┃<span style=\"font-weight: bold\">          </span>┃<span style=\"font-weight: bold\">          </span>┃<span style=\"font-weight: bold\">          </span>┃<span style=\"font-weight: bold\">          </span>┃<span style=\"font-weight: bold\">          </span>┃<span style=\"font-weight: bold\">          </span>┃<span style=\"font-weight: bold\">          </span>┃<span style=\"font-weight: bold\">        </span>┃  │\n",
       "│ ┃<span style=\"font-weight: bold\"> ame      </span>┃<span style=\"font-weight: bold\"> NA </span>┃<span style=\"font-weight: bold\"> NA % </span>┃<span style=\"font-weight: bold\"> mean     </span>┃<span style=\"font-weight: bold\"> sd       </span>┃<span style=\"font-weight: bold\"> p0       </span>┃<span style=\"font-weight: bold\"> p25      </span>┃<span style=\"font-weight: bold\"> p50      </span>┃<span style=\"font-weight: bold\"> p75      </span>┃<span style=\"font-weight: bold\"> p100     </span>┃<span style=\"font-weight: bold\"> hist   </span>┃  │\n",
       "│ ┡━━━━━━━━━━╇━━━━╇━━━━━━╇━━━━━━━━━━╇━━━━━━━━━━╇━━━━━━━━━━╇━━━━━━━━━━╇━━━━━━━━━━╇━━━━━━━━━━╇━━━━━━━━━━╇━━━━━━━━┩  │\n",
       "│ │ <span style=\"color: #af87ff; text-decoration-color: #af87ff\">Source  </span> │ <span style=\"color: #008080; text-decoration-color: #008080\"> 0</span> │ <span style=\"color: #008080; text-decoration-color: #008080\">   0</span> │ <span style=\"color: #008080; text-decoration-color: #008080\">   27000</span> │ <span style=\"color: #008080; text-decoration-color: #008080\">   24000</span> │ <span style=\"color: #008080; text-decoration-color: #008080\">       7</span> │ <span style=\"color: #008080; text-decoration-color: #008080\">      53</span> │ <span style=\"color: #008080; text-decoration-color: #008080\">   34000</span> │ <span style=\"color: #008080; text-decoration-color: #008080\">   50000</span> │ <span style=\"color: #008080; text-decoration-color: #008080\">   66000</span> │ <span style=\"color: #008000; text-decoration-color: #008000\">▇  ▃▃▂</span> │  │\n",
       "│ │ <span style=\"color: #af87ff; text-decoration-color: #af87ff\">Port    </span> │    │      │          │          │          │          │          │          │          │        │  │\n",
       "│ │ <span style=\"color: #af87ff; text-decoration-color: #af87ff\">Destinat</span> │ <span style=\"color: #008080; text-decoration-color: #008080\"> 0</span> │ <span style=\"color: #008080; text-decoration-color: #008080\">   0</span> │ <span style=\"color: #008080; text-decoration-color: #008080\">   21000</span> │ <span style=\"color: #008080; text-decoration-color: #008080\">   23000</span> │ <span style=\"color: #008080; text-decoration-color: #008080\">       7</span> │ <span style=\"color: #008080; text-decoration-color: #008080\">      53</span> │ <span style=\"color: #008080; text-decoration-color: #008080\">    3400</span> │ <span style=\"color: #008080; text-decoration-color: #008080\">   43000</span> │ <span style=\"color: #008080; text-decoration-color: #008080\">   66000</span> │ <span style=\"color: #008000; text-decoration-color: #008000\">▇  ▃▂▂</span> │  │\n",
       "│ │ <span style=\"color: #af87ff; text-decoration-color: #af87ff\">ion Port</span> │    │      │          │          │          │          │          │          │          │        │  │\n",
       "│ │ <span style=\"color: #af87ff; text-decoration-color: #af87ff\">Protocol</span> │ <span style=\"color: #008080; text-decoration-color: #008080\"> 0</span> │ <span style=\"color: #008080; text-decoration-color: #008080\">   0</span> │ <span style=\"color: #008080; text-decoration-color: #008080\">      15</span> │ <span style=\"color: #008080; text-decoration-color: #008080\">     6.1</span> │ <span style=\"color: #008080; text-decoration-color: #008080\">       6</span> │ <span style=\"color: #008080; text-decoration-color: #008080\">      17</span> │ <span style=\"color: #008080; text-decoration-color: #008080\">      17</span> │ <span style=\"color: #008080; text-decoration-color: #008080\">      17</span> │ <span style=\"color: #008080; text-decoration-color: #008080\">      47</span> │ <span style=\"color: #008000; text-decoration-color: #008000\">  ▂▇  </span> │  │\n",
       "│ │ <span style=\"color: #af87ff; text-decoration-color: #af87ff\">Number  </span> │ <span style=\"color: #008080; text-decoration-color: #008080\"> 0</span> │ <span style=\"color: #008080; text-decoration-color: #008080\">   0</span> │ <span style=\"color: #008080; text-decoration-color: #008080\">      11</span> │ <span style=\"color: #008080; text-decoration-color: #008080\">     110</span> │ <span style=\"color: #008080; text-decoration-color: #008080\">       1</span> │ <span style=\"color: #008080; text-decoration-color: #008080\">       1</span> │ <span style=\"color: #008080; text-decoration-color: #008080\">       1</span> │ <span style=\"color: #008080; text-decoration-color: #008080\">       5</span> │ <span style=\"color: #008080; text-decoration-color: #008080\">    3400</span> │ <span style=\"color: #008000; text-decoration-color: #008000\">  ▇   </span> │  │\n",
       "│ │ <span style=\"color: #af87ff; text-decoration-color: #af87ff\">of      </span> │    │      │          │          │          │          │          │          │          │        │  │\n",
       "│ │ <span style=\"color: #af87ff; text-decoration-color: #af87ff\">Packets </span> │    │      │          │          │          │          │          │          │          │        │  │\n",
       "│ │ <span style=\"color: #af87ff; text-decoration-color: #af87ff\">Total   </span> │ <span style=\"color: #008080; text-decoration-color: #008080\"> 0</span> │ <span style=\"color: #008080; text-decoration-color: #008080\">   0</span> │ <span style=\"color: #008080; text-decoration-color: #008080\">    3300</span> │ <span style=\"color: #008080; text-decoration-color: #008080\">   66000</span> │ <span style=\"color: #008080; text-decoration-color: #008080\">      26</span> │ <span style=\"color: #008080; text-decoration-color: #008080\">      60</span> │ <span style=\"color: #008080; text-decoration-color: #008080\">     130</span> │ <span style=\"color: #008080; text-decoration-color: #008080\">     480</span> │ <span style=\"color: #008080; text-decoration-color: #008080\"> 2600000</span> │ <span style=\"color: #008000; text-decoration-color: #008000\">  ▇   </span> │  │\n",
       "│ │ <span style=\"color: #af87ff; text-decoration-color: #af87ff\">Length  </span> │    │      │          │          │          │          │          │          │          │        │  │\n",
       "│ │ <span style=\"color: #af87ff; text-decoration-color: #af87ff\">Duration</span> │ <span style=\"color: #008080; text-decoration-color: #008080\"> 0</span> │ <span style=\"color: #008080; text-decoration-color: #008080\">   0</span> │ <span style=\"color: #008080; text-decoration-color: #008080\">  100000</span> │ <span style=\"color: #008080; text-decoration-color: #008080\"> 4300000</span> │ <span style=\"color: #008080; text-decoration-color: #008080\">       0</span> │ <span style=\"color: #008080; text-decoration-color: #008080\">       0</span> │ <span style=\"color: #008080; text-decoration-color: #008080\">       0</span> │ <span style=\"color: #008080; text-decoration-color: #008080\">  0.0027</span> │ <span style=\"color: #008080; text-decoration-color: #008080\">18000000</span> │ <span style=\"color: #008000; text-decoration-color: #008000\">  ▇   </span> │  │\n",
       "│ │          │    │      │          │          │          │          │          │          │ <span style=\"color: #008080; text-decoration-color: #008080\">       0</span> │        │  │\n",
       "│ │ <span style=\"color: #af87ff; text-decoration-color: #af87ff\">Source  </span> │ <span style=\"color: #008080; text-decoration-color: #008080\"> 0</span> │ <span style=\"color: #008080; text-decoration-color: #008080\">   0</span> │ <span style=\"color: #008080; text-decoration-color: #008080\">24000000</span> │ <span style=\"color: #008080; text-decoration-color: #008080\">13000000</span> │ <span style=\"color: #008080; text-decoration-color: #008080\">       0</span> │ <span style=\"color: #008080; text-decoration-color: #008080\">14000000</span> │ <span style=\"color: #008080; text-decoration-color: #008080\">32000000</span> │ <span style=\"color: #008080; text-decoration-color: #008080\">32000000</span> │ <span style=\"color: #008080; text-decoration-color: #008080\">36000000</span> │ <span style=\"color: #008000; text-decoration-color: #008000\">▂ ▁  ▇</span> │  │\n",
       "│ │ <span style=\"color: #af87ff; text-decoration-color: #af87ff\">IP      </span> │    │      │ <span style=\"color: #008080; text-decoration-color: #008080\">      00</span> │ <span style=\"color: #008080; text-decoration-color: #008080\">      00</span> │          │ <span style=\"color: #008080; text-decoration-color: #008080\">      00</span> │ <span style=\"color: #008080; text-decoration-color: #008080\">      00</span> │ <span style=\"color: #008080; text-decoration-color: #008080\">      00</span> │ <span style=\"color: #008080; text-decoration-color: #008080\">      00</span> │        │  │\n",
       "│ │ <span style=\"color: #af87ff; text-decoration-color: #af87ff\">Numeric </span> │    │      │          │          │          │          │          │          │          │        │  │\n",
       "│ │ <span style=\"color: #af87ff; text-decoration-color: #af87ff\">Destinat</span> │ <span style=\"color: #008080; text-decoration-color: #008080\"> 0</span> │ <span style=\"color: #008080; text-decoration-color: #008080\">   0</span> │ <span style=\"color: #008080; text-decoration-color: #008080\">23000000</span> │ <span style=\"color: #008080; text-decoration-color: #008080\">14000000</span> │ <span style=\"color: #008080; text-decoration-color: #008080\">17000000</span> │ <span style=\"color: #008080; text-decoration-color: #008080\">11000000</span> │ <span style=\"color: #008080; text-decoration-color: #008080\">32000000</span> │ <span style=\"color: #008080; text-decoration-color: #008080\">32000000</span> │ <span style=\"color: #008080; text-decoration-color: #008080\">43000000</span> │ <span style=\"color: #008000; text-decoration-color: #008000\">▃▁  ▇ </span> │  │\n",
       "│ │ <span style=\"color: #af87ff; text-decoration-color: #af87ff\">ion IP  </span> │    │      │ <span style=\"color: #008080; text-decoration-color: #008080\">      00</span> │ <span style=\"color: #008080; text-decoration-color: #008080\">      00</span> │          │ <span style=\"color: #008080; text-decoration-color: #008080\">      00</span> │ <span style=\"color: #008080; text-decoration-color: #008080\">      00</span> │ <span style=\"color: #008080; text-decoration-color: #008080\">      00</span> │ <span style=\"color: #008080; text-decoration-color: #008080\">      00</span> │        │  │\n",
       "│ │ <span style=\"color: #af87ff; text-decoration-color: #af87ff\">Numeric </span> │    │      │          │          │          │          │          │          │          │        │  │\n",
       "│ └──────────┴────┴──────┴──────────┴──────────┴──────────┴──────────┴──────────┴──────────┴──────────┴────────┘  │\n",
       "╰────────────────────────────────────────────────────── End ──────────────────────────────────────────────────────╯\n",
       "</pre>\n"
      ],
      "text/plain": [
       "╭──────────────────────────────────────────────── skimpy summary ─────────────────────────────────────────────────╮\n",
       "│ \u001b[3m         Data Summary         \u001b[0m \u001b[3m      Data Types       \u001b[0m                                                          │\n",
       "│ ┏━━━━━━━━━━━━━━━━━━━┳━━━━━━━━┓ ┏━━━━━━━━━━━━━┳━━━━━━━┓                                                          │\n",
       "│ ┃\u001b[1;36m \u001b[0m\u001b[1;36mdataframe        \u001b[0m\u001b[1;36m \u001b[0m┃\u001b[1;36m \u001b[0m\u001b[1;36mValues\u001b[0m\u001b[1;36m \u001b[0m┃ ┃\u001b[1;36m \u001b[0m\u001b[1;36mColumn Type\u001b[0m\u001b[1;36m \u001b[0m┃\u001b[1;36m \u001b[0m\u001b[1;36mCount\u001b[0m\u001b[1;36m \u001b[0m┃                                                          │\n",
       "│ ┡━━━━━━━━━━━━━━━━━━━╇━━━━━━━━┩ ┡━━━━━━━━━━━━━╇━━━━━━━┩                                                          │\n",
       "│ │ Number of rows    │ 1689   │ │ float64     │ 4     │                                                          │\n",
       "│ │ Number of columns │ 8      │ │ int64       │ 4     │                                                          │\n",
       "│ └───────────────────┴────────┘ └─────────────┴───────┘                                                          │\n",
       "│ \u001b[3m                                                    number                                                    \u001b[0m  │\n",
       "│ ┏━━━━━━━━━━┳━━━━┳━━━━━━┳━━━━━━━━━━┳━━━━━━━━━━┳━━━━━━━━━━┳━━━━━━━━━━┳━━━━━━━━━━┳━━━━━━━━━━┳━━━━━━━━━━┳━━━━━━━━┓  │\n",
       "│ ┃\u001b[1m \u001b[0m\u001b[1mcolumn_n\u001b[0m\u001b[1m \u001b[0m┃\u001b[1m    \u001b[0m┃\u001b[1m      \u001b[0m┃\u001b[1m          \u001b[0m┃\u001b[1m          \u001b[0m┃\u001b[1m          \u001b[0m┃\u001b[1m          \u001b[0m┃\u001b[1m          \u001b[0m┃\u001b[1m          \u001b[0m┃\u001b[1m          \u001b[0m┃\u001b[1m        \u001b[0m┃  │\n",
       "│ ┃\u001b[1m \u001b[0m\u001b[1mame     \u001b[0m\u001b[1m \u001b[0m┃\u001b[1m \u001b[0m\u001b[1mNA\u001b[0m\u001b[1m \u001b[0m┃\u001b[1m \u001b[0m\u001b[1mNA %\u001b[0m\u001b[1m \u001b[0m┃\u001b[1m \u001b[0m\u001b[1mmean    \u001b[0m\u001b[1m \u001b[0m┃\u001b[1m \u001b[0m\u001b[1msd      \u001b[0m\u001b[1m \u001b[0m┃\u001b[1m \u001b[0m\u001b[1mp0      \u001b[0m\u001b[1m \u001b[0m┃\u001b[1m \u001b[0m\u001b[1mp25     \u001b[0m\u001b[1m \u001b[0m┃\u001b[1m \u001b[0m\u001b[1mp50     \u001b[0m\u001b[1m \u001b[0m┃\u001b[1m \u001b[0m\u001b[1mp75     \u001b[0m\u001b[1m \u001b[0m┃\u001b[1m \u001b[0m\u001b[1mp100    \u001b[0m\u001b[1m \u001b[0m┃\u001b[1m \u001b[0m\u001b[1mhist  \u001b[0m\u001b[1m \u001b[0m┃  │\n",
       "│ ┡━━━━━━━━━━╇━━━━╇━━━━━━╇━━━━━━━━━━╇━━━━━━━━━━╇━━━━━━━━━━╇━━━━━━━━━━╇━━━━━━━━━━╇━━━━━━━━━━╇━━━━━━━━━━╇━━━━━━━━┩  │\n",
       "│ │ \u001b[38;5;141mSource  \u001b[0m │ \u001b[36m 0\u001b[0m │ \u001b[36m   0\u001b[0m │ \u001b[36m   27000\u001b[0m │ \u001b[36m   24000\u001b[0m │ \u001b[36m       7\u001b[0m │ \u001b[36m      53\u001b[0m │ \u001b[36m   34000\u001b[0m │ \u001b[36m   50000\u001b[0m │ \u001b[36m   66000\u001b[0m │ \u001b[32m▇  ▃▃▂\u001b[0m │  │\n",
       "│ │ \u001b[38;5;141mPort    \u001b[0m │    │      │          │          │          │          │          │          │          │        │  │\n",
       "│ │ \u001b[38;5;141mDestinat\u001b[0m │ \u001b[36m 0\u001b[0m │ \u001b[36m   0\u001b[0m │ \u001b[36m   21000\u001b[0m │ \u001b[36m   23000\u001b[0m │ \u001b[36m       7\u001b[0m │ \u001b[36m      53\u001b[0m │ \u001b[36m    3400\u001b[0m │ \u001b[36m   43000\u001b[0m │ \u001b[36m   66000\u001b[0m │ \u001b[32m▇  ▃▂▂\u001b[0m │  │\n",
       "│ │ \u001b[38;5;141mion Port\u001b[0m │    │      │          │          │          │          │          │          │          │        │  │\n",
       "│ │ \u001b[38;5;141mProtocol\u001b[0m │ \u001b[36m 0\u001b[0m │ \u001b[36m   0\u001b[0m │ \u001b[36m      15\u001b[0m │ \u001b[36m     6.1\u001b[0m │ \u001b[36m       6\u001b[0m │ \u001b[36m      17\u001b[0m │ \u001b[36m      17\u001b[0m │ \u001b[36m      17\u001b[0m │ \u001b[36m      47\u001b[0m │ \u001b[32m  ▂▇  \u001b[0m │  │\n",
       "│ │ \u001b[38;5;141mNumber  \u001b[0m │ \u001b[36m 0\u001b[0m │ \u001b[36m   0\u001b[0m │ \u001b[36m      11\u001b[0m │ \u001b[36m     110\u001b[0m │ \u001b[36m       1\u001b[0m │ \u001b[36m       1\u001b[0m │ \u001b[36m       1\u001b[0m │ \u001b[36m       5\u001b[0m │ \u001b[36m    3400\u001b[0m │ \u001b[32m  ▇   \u001b[0m │  │\n",
       "│ │ \u001b[38;5;141mof      \u001b[0m │    │      │          │          │          │          │          │          │          │        │  │\n",
       "│ │ \u001b[38;5;141mPackets \u001b[0m │    │      │          │          │          │          │          │          │          │        │  │\n",
       "│ │ \u001b[38;5;141mTotal   \u001b[0m │ \u001b[36m 0\u001b[0m │ \u001b[36m   0\u001b[0m │ \u001b[36m    3300\u001b[0m │ \u001b[36m   66000\u001b[0m │ \u001b[36m      26\u001b[0m │ \u001b[36m      60\u001b[0m │ \u001b[36m     130\u001b[0m │ \u001b[36m     480\u001b[0m │ \u001b[36m 2600000\u001b[0m │ \u001b[32m  ▇   \u001b[0m │  │\n",
       "│ │ \u001b[38;5;141mLength  \u001b[0m │    │      │          │          │          │          │          │          │          │        │  │\n",
       "│ │ \u001b[38;5;141mDuration\u001b[0m │ \u001b[36m 0\u001b[0m │ \u001b[36m   0\u001b[0m │ \u001b[36m  100000\u001b[0m │ \u001b[36m 4300000\u001b[0m │ \u001b[36m       0\u001b[0m │ \u001b[36m       0\u001b[0m │ \u001b[36m       0\u001b[0m │ \u001b[36m  0.0027\u001b[0m │ \u001b[36m18000000\u001b[0m │ \u001b[32m  ▇   \u001b[0m │  │\n",
       "│ │          │    │      │          │          │          │          │          │          │ \u001b[36m       0\u001b[0m │        │  │\n",
       "│ │ \u001b[38;5;141mSource  \u001b[0m │ \u001b[36m 0\u001b[0m │ \u001b[36m   0\u001b[0m │ \u001b[36m24000000\u001b[0m │ \u001b[36m13000000\u001b[0m │ \u001b[36m       0\u001b[0m │ \u001b[36m14000000\u001b[0m │ \u001b[36m32000000\u001b[0m │ \u001b[36m32000000\u001b[0m │ \u001b[36m36000000\u001b[0m │ \u001b[32m▂ ▁  ▇\u001b[0m │  │\n",
       "│ │ \u001b[38;5;141mIP      \u001b[0m │    │      │ \u001b[36m      00\u001b[0m │ \u001b[36m      00\u001b[0m │          │ \u001b[36m      00\u001b[0m │ \u001b[36m      00\u001b[0m │ \u001b[36m      00\u001b[0m │ \u001b[36m      00\u001b[0m │        │  │\n",
       "│ │ \u001b[38;5;141mNumeric \u001b[0m │    │      │          │          │          │          │          │          │          │        │  │\n",
       "│ │ \u001b[38;5;141mDestinat\u001b[0m │ \u001b[36m 0\u001b[0m │ \u001b[36m   0\u001b[0m │ \u001b[36m23000000\u001b[0m │ \u001b[36m14000000\u001b[0m │ \u001b[36m17000000\u001b[0m │ \u001b[36m11000000\u001b[0m │ \u001b[36m32000000\u001b[0m │ \u001b[36m32000000\u001b[0m │ \u001b[36m43000000\u001b[0m │ \u001b[32m▃▁  ▇ \u001b[0m │  │\n",
       "│ │ \u001b[38;5;141mion IP  \u001b[0m │    │      │ \u001b[36m      00\u001b[0m │ \u001b[36m      00\u001b[0m │          │ \u001b[36m      00\u001b[0m │ \u001b[36m      00\u001b[0m │ \u001b[36m      00\u001b[0m │ \u001b[36m      00\u001b[0m │        │  │\n",
       "│ │ \u001b[38;5;141mNumeric \u001b[0m │    │      │          │          │          │          │          │          │          │        │  │\n",
       "│ └──────────┴────┴──────┴──────────┴──────────┴──────────┴──────────┴──────────┴──────────┴──────────┴────────┘  │\n",
       "╰────────────────────────────────────────────────────── End ──────────────────────────────────────────────────────╯\n"
      ]
     },
     "metadata": {},
     "output_type": "display_data"
    }
   ],
   "source": [
    "skim(benign_stream_df_numeric)"
   ]
  },
  {
   "cell_type": "code",
   "execution_count": 59,
   "metadata": {},
   "outputs": [
    {
     "data": {
      "text/html": [
       "<style type=\"text/css\">\n",
       "#T_37515 thead>tr>th {\n",
       "  text-align: left;\n",
       "}\n",
       "#T_37515_row0_col0, #T_37515_row1_col0, #T_37515_row2_col0, #T_37515_row3_col0, #T_37515_row4_col0, #T_37515_row5_col0, #T_37515_row6_col0, #T_37515_row7_col0 {\n",
       "  text-align: left;\n",
       "  font-size: 12px;\n",
       "  vertical-align: middle;\n",
       "  width: 5%;\n",
       "  max-width: 50px;\n",
       "  min-width: 20px;\n",
       "}\n",
       "#T_37515_row0_col1, #T_37515_row1_col1, #T_37515_row2_col1, #T_37515_row3_col1, #T_37515_row4_col1, #T_37515_row5_col1, #T_37515_row6_col1, #T_37515_row7_col1 {\n",
       "  text-align: left;\n",
       "  font-size: 12px;\n",
       "  vertical-align: middle;\n",
       "  width: 15%;\n",
       "  max-width: 200px;\n",
       "  min-width: 100px;\n",
       "  word-break: break-word;\n",
       "}\n",
       "#T_37515_row0_col2, #T_37515_row1_col2, #T_37515_row2_col2, #T_37515_row3_col2, #T_37515_row4_col2, #T_37515_row5_col2, #T_37515_row6_col2, #T_37515_row7_col2 {\n",
       "  text-align: left;\n",
       "  font-size: 12px;\n",
       "  vertical-align: middle;\n",
       "  width: 30%;\n",
       "  min-width: 100px;\n",
       "}\n",
       "#T_37515_row0_col3, #T_37515_row1_col3, #T_37515_row2_col3, #T_37515_row3_col3, #T_37515_row4_col3, #T_37515_row5_col3, #T_37515_row6_col3, #T_37515_row7_col3 {\n",
       "  text-align: left;\n",
       "  font-size: 12px;\n",
       "  vertical-align: middle;\n",
       "  width: 25%;\n",
       "  min-width: 100px;\n",
       "}\n",
       "#T_37515_row0_col4, #T_37515_row1_col4, #T_37515_row2_col4, #T_37515_row3_col4, #T_37515_row4_col4, #T_37515_row5_col4, #T_37515_row6_col4, #T_37515_row7_col4 {\n",
       "  text-align: left;\n",
       "  font-size: 12px;\n",
       "  vertical-align: middle;\n",
       "  width: 20%;\n",
       "  min-width: 150px;\n",
       "}\n",
       "#T_37515_row0_col5, #T_37515_row1_col5, #T_37515_row2_col5, #T_37515_row3_col5, #T_37515_row4_col5, #T_37515_row5_col5, #T_37515_row6_col5, #T_37515_row7_col5 {\n",
       "  text-align: left;\n",
       "  font-size: 12px;\n",
       "  vertical-align: middle;\n",
       "  width: 10%;\n",
       "}\n",
       "</style>\n",
       "<table id=\"T_37515\">\n",
       "  <caption><strong>Data Frame Summary</strong><br>mirai_stream_df_numeric<br>Dimensions: 36,585 x 8<br>Duplicates: 0</caption>\n",
       "  <thead>\n",
       "    <tr>\n",
       "      <th id=\"T_37515_level0_col0\" class=\"col_heading level0 col0\" >No</th>\n",
       "      <th id=\"T_37515_level0_col1\" class=\"col_heading level0 col1\" >Variable</th>\n",
       "      <th id=\"T_37515_level0_col2\" class=\"col_heading level0 col2\" >Stats / Values</th>\n",
       "      <th id=\"T_37515_level0_col3\" class=\"col_heading level0 col3\" >Freqs / (% of Valid)</th>\n",
       "      <th id=\"T_37515_level0_col4\" class=\"col_heading level0 col4\" >Graph</th>\n",
       "      <th id=\"T_37515_level0_col5\" class=\"col_heading level0 col5\" >Missing</th>\n",
       "    </tr>\n",
       "  </thead>\n",
       "  <tbody>\n",
       "    <tr>\n",
       "      <td id=\"T_37515_row0_col0\" class=\"data row0 col0\" >1</td>\n",
       "      <td id=\"T_37515_row0_col1\" class=\"data row0 col1\" ><strong>Source Port</strong><br>[float64]</td>\n",
       "      <td id=\"T_37515_row0_col2\" class=\"data row0 col2\" >Mean (sd) : 35013.2 (20907.7)<br>min < med < max:<br>0.0 < 41283.0 < 65267.0<br>IQR (CV) : 39110.0 (1.7)</td>\n",
       "      <td id=\"T_37515_row0_col3\" class=\"data row0 col3\" >22,952 distinct values</td>\n",
       "      <td id=\"T_37515_row0_col4\" class=\"data row0 col4\" ><img src = \"data:image/png;base64, iVBORw0KGgoAAAANSUhEUgAAAJwAAAA4CAYAAAAINZG1AAAAOXRFWHRTb2Z0d2FyZQBNYXRwbG90bGliIHZlcnNpb24zLjguMCwgaHR0cHM6Ly9tYXRwbG90bGliLm9yZy81sbWrAAAACXBIWXMAAA9hAAAPYQGoP6dpAAACa0lEQVR4nO3cu47aQBSA4TOwIHORLS6BjiblSiks0fAAKfOweYQUFKkp0qSiQ0LICGctjHGaRFGixcuMwwHD/7XLGAv9WjQzjE2e5wJoeSr6ozGmJSJNh+vu8zx/cbsl3LOTwRljWoPB4JPv+z3bi263240x5jPR4V9F/+Gavu/3ZrPZSxAEybkXjKLIm8/nvfV63RQRgsNfCr9SRUSCIEhGo9EPy+u2HO8Hd6527RvAYyE4qCI4qCI4qCI4qCI4qCI4qCI4qHpz4Re34x72tgmuIu5lb5vgquMu9rYJrmKqvrfNpAGqCA6q+Ep9AFmWNUTEN8bYDv3vs1uCuwLH5Q3/eDw2bN8rjuNGmqYfJpNJvV6vnz3ZELnM7JbgHJVYE/P6/f7HIAg6NoPSNPWyLHtOkuSLiJw9adjv90+e57XDMEzG4/Hm3HGXmt0SnIMya2Jpmnoi8jydTr8Oh8PtueOWy2VvsVi0D4dD3fY9RUQ6nc5NzG4Jzo3TmpjIn3A8z0ttAthsNjeztFEGwZXgsiZ2L+G4YlkEqggOqggOqggOqggOqggOqggOqggOqggOqggOqggOqggOqggOqggOqggOqvg9HE4qcfhG5MQBHILDq8ocvhE5fQCH4PAq18M3IsUHcAgOhRwP34icOIDDpAGqCA6qCA6qCA6qCA6qCA6qCA6qCA6qLrLwW3IPriYixxsf5/SsNlwguDJ7cFmWNeI4ft/tdr/XarX0Vse5PqsNFwiuzB7cr0dZvQvD8JvN2CuNc35W2yN7M7goijybC+52O6vXV1kcx95qtWrbjPn9+diOrco4keJmfgKN5Uik0Dbk9wAAAABJRU5ErkJggg==\"></img></td>\n",
       "      <td id=\"T_37515_row0_col5\" class=\"data row0 col5\" >0<br>(0.0%)</td>\n",
       "    </tr>\n",
       "    <tr>\n",
       "      <td id=\"T_37515_row1_col0\" class=\"data row1 col0\" >2</td>\n",
       "      <td id=\"T_37515_row1_col1\" class=\"data row1 col1\" ><strong>Destination Port</strong><br>[float64]</td>\n",
       "      <td id=\"T_37515_row1_col2\" class=\"data row1 col2\" >Mean (sd) : 2179.7 (6022.5)<br>min < med < max:<br>23.0 < 53.0 < 65267.0<br>IQR (CV) : 390.0 (0.4)</td>\n",
       "      <td id=\"T_37515_row1_col3\" class=\"data row1 col3\" >3,691 distinct values</td>\n",
       "      <td id=\"T_37515_row1_col4\" class=\"data row1 col4\" ><img src = \"data:image/png;base64, iVBORw0KGgoAAAANSUhEUgAAAJwAAAA4CAYAAAAINZG1AAAAOXRFWHRTb2Z0d2FyZQBNYXRwbG90bGliIHZlcnNpb24zLjguMCwgaHR0cHM6Ly9tYXRwbG90bGliLm9yZy81sbWrAAAACXBIWXMAAA9hAAAPYQGoP6dpAAABwElEQVR4nO3dsW4aQRSF4XMDRouJdgRI0PEIKSjp0+Zh06bnYZCQGcTaBLTaVCnsKNi7sk+kzf+1aEYj9IvR0NxomkaAy/DWhxExljTqsO+laZqnbkdCn/01uIgYz+fzb2VZTttuejweHyLiO9HhpVu/cKOyLKebzeYppXR+64Y552K73U73+/1IEsHhmZtXqiSllM6LxeKx5b7jjudBz3361wfA/4XgYEVwsCI4WBEcrAgOVgQHK4KDFcHBiuBgRXCwIjhYERysCA5WBAcrgoMVwcGK4GBFcLAiOFgRHKwIDlYEByuCgxXBwYrgYEVwsCI4WBEcrAgOVgQHK4KDFcHBiuBgRXCwIjhYERysCA5WBAcrgoMVwcGK4GBFcLB6ddZWF3Vd30kqI6LLckZf9ti7B1dV1d31ev2yWq0Gg8HgzVMIf2P0Zb+9e3CXy2VYFMX9er0+L5fLhzZrGX3Zfx9ypUrSZDLpMvZSYvRlr/FogBXBwerDrlS3iBhLGnVYyqvY6NXgcs5Fmw1Pp1MhSVVVFbvd7r7N2pxzUdf1UO3/Uilms9nXlNLnNosk6XA4nCLih6TWL2rc9LNpmj++01+/+GqlvAmcfQAAAABJRU5ErkJggg==\"></img></td>\n",
       "      <td id=\"T_37515_row1_col5\" class=\"data row1 col5\" >0<br>(0.0%)</td>\n",
       "    </tr>\n",
       "    <tr>\n",
       "      <td id=\"T_37515_row2_col0\" class=\"data row2 col0\" >3</td>\n",
       "      <td id=\"T_37515_row2_col1\" class=\"data row2 col1\" ><strong>Protocol</strong><br>[float64]</td>\n",
       "      <td id=\"T_37515_row2_col2\" class=\"data row2 col2\" >1. 17.0<br>2. 6.0</td>\n",
       "      <td id=\"T_37515_row2_col3\" class=\"data row2 col3\" >23,272 (63.6%)<br>13,313 (36.4%)</td>\n",
       "      <td id=\"T_37515_row2_col4\" class=\"data row2 col4\" ><img src = \"data:image/png;base64, iVBORw0KGgoAAAANSUhEUgAAAJsAAAAuCAYAAAA/ZmtKAAAAOXRFWHRTb2Z0d2FyZQBNYXRwbG90bGliIHZlcnNpb24zLjguMCwgaHR0cHM6Ly9tYXRwbG90bGliLm9yZy81sbWrAAAACXBIWXMAAA9hAAAPYQGoP6dpAAABOUlEQVR4nO3bQYqDQBRF0WcjoTNRRHAxLqIX24twNyLWIAmZVA96Db5K/bpnBT/kIiT4upyzAIdO0l3SrfQhkCS9c87P0kdcpZ/n+WcYhqn0IZBSSkfXdb9Rg+uHYZjWdX2O4/gqfUzLzvP83rZt2vf9JilmbJI0juNrWZZH6WOge+kDrvRV+gC0g9hgQ2ywITbYEBtsiA02xAYbYoMNscGG2GBDbLAhNtgQG2yIDTbEBpte+n9xr/QhrWvhO+hTSse2bZOCv7hXg5TSIeld+o6rMHj5LKEHLx1TPri08GQL/bSoSfgpX/R5XE1CT/lamMfVpIUpH7+yPwR/6sKG2GBDbLAhNtgQG2yIDTbEBhtigw2xwYbYYENssCE22BAbbIgNNsQGm9BTvqifq1bhp3zR53E1YfACmz8KW2rfhAtVNAAAAABJRU5ErkJggg==\"></img></td>\n",
       "      <td id=\"T_37515_row2_col5\" class=\"data row2 col5\" >0<br>(0.0%)</td>\n",
       "    </tr>\n",
       "    <tr>\n",
       "      <td id=\"T_37515_row3_col0\" class=\"data row3 col0\" >4</td>\n",
       "      <td id=\"T_37515_row3_col1\" class=\"data row3 col1\" ><strong>Number of Packets</strong><br>[int64]</td>\n",
       "      <td id=\"T_37515_row3_col2\" class=\"data row3 col2\" >Mean (sd) : 4.2 (104.8)<br>min < med < max:<br>1.0 < 1.0 < 7853.0<br>IQR (CV) : 2.0 (0.0)</td>\n",
       "      <td id=\"T_37515_row3_col3\" class=\"data row3 col3\" >48 distinct values</td>\n",
       "      <td id=\"T_37515_row3_col4\" class=\"data row3 col4\" ><img src = \"data:image/png;base64, iVBORw0KGgoAAAANSUhEUgAAAJwAAAA4CAYAAAAINZG1AAAAOXRFWHRTb2Z0d2FyZQBNYXRwbG90bGliIHZlcnNpb24zLjguMCwgaHR0cHM6Ly9tYXRwbG90bGliLm9yZy81sbWrAAAACXBIWXMAAA9hAAAPYQGoP6dpAAABO0lEQVR4nO3dMWoCQRiG4Zkgos0uIngYD5HD5hDeRsJYRBOQSR0hGrf4QszzlDvw8xcvM+XW3nuBlNm1w1rrspQynzD3o/d+nLYSj+zb4Gqty/V6/TwMw+reoYfD4bXW+iI6Ll274ebDMKy22+1xHMfTTwe21ha73W613+/npRTB8cXVJ7WUUsZxPG02m7c75y4n7sODe/rtBfhfBEeU4IgSHFGCI0pwRAmOKMERJTiiBEeU4IgSHFGCI0pwRAmOKMERJTiiBEeU4IgSHFGCI0pwRAmOKMERJTiiBEeU4IgSHFGCI0pwRAmOKMERJTiiBEeU4IgSHFGCI0pwRAmOKMERJTiiBEeU4IgSHFGCI0pwRAmOKMERJTiiBEfUzV+Qt9YW9wxsrS3O5/OslDLUWicvxp/33ns/XX78BGFcLdZo2ltjAAAAAElFTkSuQmCC\"></img></td>\n",
       "      <td id=\"T_37515_row3_col5\" class=\"data row3 col5\" >0<br>(0.0%)</td>\n",
       "    </tr>\n",
       "    <tr>\n",
       "      <td id=\"T_37515_row4_col0\" class=\"data row4 col0\" >5</td>\n",
       "      <td id=\"T_37515_row4_col1\" class=\"data row4 col1\" ><strong>Total Length</strong><br>[int64]</td>\n",
       "      <td id=\"T_37515_row4_col2\" class=\"data row4 col2\" >Mean (sd) : 190.8 (4959.1)<br>min < med < max:<br>26.0 < 49.0 < 376944.0<br>IQR (CV) : 64.0 (0.0)</td>\n",
       "      <td id=\"T_37515_row4_col3\" class=\"data row4 col3\" >217 distinct values</td>\n",
       "      <td id=\"T_37515_row4_col4\" class=\"data row4 col4\" ><img src = \"data:image/png;base64, iVBORw0KGgoAAAANSUhEUgAAAJwAAAA4CAYAAAAINZG1AAAAOXRFWHRTb2Z0d2FyZQBNYXRwbG90bGliIHZlcnNpb24zLjguMCwgaHR0cHM6Ly9tYXRwbG90bGliLm9yZy81sbWrAAAACXBIWXMAAA9hAAAPYQGoP6dpAAABO0lEQVR4nO3dMWoCQRiG4Zkgos0uIngYD5HD5hDeRsJYRBOQSR0hGrf4QszzlDvw8xcvM+XW3nuBlNm1w1rrspQynzD3o/d+nLYSj+zb4Gqty/V6/TwMw+reoYfD4bXW+iI6Ll274ebDMKy22+1xHMfTTwe21ha73W613+/npRTB8cXVJ7WUUsZxPG02m7c75y4n7sODe/rtBfhfBEeU4IgSHFGCI0pwRAmOKMERJTiiBEeU4IgSHFGCI0pwRAmOKMERJTiiBEeU4IgSHFGCI0pwRAmOKMERJTiiBEeU4IgSHFGCI0pwRAmOKMERJTiiBEeU4IgSHFGCI0pwRAmOKMERJTiiBEeU4IgSHFGCI0pwRAmOKMERJTiiBEfUzV+Qt9YW9wxsrS3O5/OslDLUWicvxp/33ns/XX78BGFcLdZo2ltjAAAAAElFTkSuQmCC\"></img></td>\n",
       "      <td id=\"T_37515_row4_col5\" class=\"data row4 col5\" >0<br>(0.0%)</td>\n",
       "    </tr>\n",
       "    <tr>\n",
       "      <td id=\"T_37515_row5_col0\" class=\"data row5 col0\" >6</td>\n",
       "      <td id=\"T_37515_row5_col1\" class=\"data row5 col1\" ><strong>Duration</strong><br>[float64]</td>\n",
       "      <td id=\"T_37515_row5_col2\" class=\"data row5 col2\" >Mean (sd) : 327.1 (1284.1)<br>min < med < max:<br>0.0 < 0.0 < 7135.5<br>IQR (CV) : 3.0 (0.3)</td>\n",
       "      <td id=\"T_37515_row5_col3\" class=\"data row5 col3\" >13,851 distinct values</td>\n",
       "      <td id=\"T_37515_row5_col4\" class=\"data row5 col4\" ><img src = \"data:image/png;base64, iVBORw0KGgoAAAANSUhEUgAAAJwAAAA4CAYAAAAINZG1AAAAOXRFWHRTb2Z0d2FyZQBNYXRwbG90bGliIHZlcnNpb24zLjguMCwgaHR0cHM6Ly9tYXRwbG90bGliLm9yZy81sbWrAAAACXBIWXMAAA9hAAAPYQGoP6dpAAABVUlEQVR4nO3dQWoiQRiG4aohiG66EcHDeIg57BzC20goF9EEtGY9E2JiL74knefZNvz80G9XL6v23gukPNx6WGtdlVIWE+a+9N5P01Zizt4Mrta62mw2v4dhWN879Hg8PtZa/4iO/9064RbDMKx3u91pHMfzRwe21pb7/X59OBwWpRTB8Y+bv9RSShnH8bzdbp/unLuauA8z9+uzF+BnERxRgiNKcEQJjijBESU4ogRHlOCIEhxRgiNKcEQJjijBESU4ogRHlOCIEhxRgiNKcEQJjijBESU4ogRHlOCIEhxRgiNKcEQJjijBESU4ogRHlOCIEhxRgiNKcEQJjijBESU4ogRHlOCIEhxRgiNKcEQJjijBESU4ot69L5WvYw5Xwgvum5jLlfCC+z5mcSX8u8G11pb3DGytLS+Xy0MpZai1Tl6MV4br9TrpgPik9/Hce3/1YfwFdoBOPSC4i2oAAAAASUVORK5CYII=\"></img></td>\n",
       "      <td id=\"T_37515_row5_col5\" class=\"data row5 col5\" >0<br>(0.0%)</td>\n",
       "    </tr>\n",
       "    <tr>\n",
       "      <td id=\"T_37515_row6_col0\" class=\"data row6 col0\" >7</td>\n",
       "      <td id=\"T_37515_row6_col1\" class=\"data row6 col1\" ><strong>Source IP Numeric</strong><br>[int64]</td>\n",
       "      <td id=\"T_37515_row6_col2\" class=\"data row6 col2\" >Mean (sd) : 3232147783.9 (16898632.1)<br>min < med < max:<br>0.0 < 3232236142.0 < 3232236228.0<br>IQR (CV) : 4.0 (191.3)</td>\n",
       "      <td id=\"T_37515_row6_col3\" class=\"data row6 col3\" >22 distinct values</td>\n",
       "      <td id=\"T_37515_row6_col4\" class=\"data row6 col4\" ><img src = \"data:image/png;base64, iVBORw0KGgoAAAANSUhEUgAAAJwAAAA4CAYAAAAINZG1AAAAOXRFWHRTb2Z0d2FyZQBNYXRwbG90bGliIHZlcnNpb24zLjguMCwgaHR0cHM6Ly9tYXRwbG90bGliLm9yZy81sbWrAAAACXBIWXMAAA9hAAAPYQGoP6dpAAABKklEQVR4nO3dMWpCQRSF4blBjDbzEMHFuIgsNotwNxKeRZQUvvRiJBo4sfi+cuDALf5+apqmBimz/z6A51VVy9ba/MH51zRNx8tHwXFVVS3X6/Vb7331yP5wOHxU1ftldILjJ/Pe+2q73R6HYTjdMxzHcbHb7Vb7/X7eWhMcvzcMw2mz2Xw+MF1ee3z54z1wF8ERJTiiBEeU4IgSHFGCI0pwRAmOKMERJTiiBEeU4IgSHFGCI0pwRAmOKMERJTiiBEeU4IgSHFGCI0pwRAmOKMERJTiiBEeU4IgSHFGCI0pwRAmOKMERJTiiBEeU4IgSHFGCI0pwRAmOKMERJTiiBEeU4IgSHFGCI0pwRAmOKMERdfML8qpatNZeQ7fwXPr5fJ6N47i4d3hr8w2NByj6eaRiLAAAAABJRU5ErkJggg==\"></img></td>\n",
       "      <td id=\"T_37515_row6_col5\" class=\"data row6 col5\" >0<br>(0.0%)</td>\n",
       "    </tr>\n",
       "    <tr>\n",
       "      <td id=\"T_37515_row7_col0\" class=\"data row7 col0\" >8</td>\n",
       "      <td id=\"T_37515_row7_col1\" class=\"data row7 col1\" ><strong>Destination IP Numeric</strong><br>[int64]</td>\n",
       "      <td id=\"T_37515_row7_col2\" class=\"data row7 col2\" >Mean (sd) : 2152662195.3 (1141217091.4)<br>min < med < max:<br>134744072.0 < 2061653245.0 < 4294967295.0<br>IQR (CV) : 2358165255.0 (1.9)</td>\n",
       "      <td id=\"T_37515_row7_col3\" class=\"data row7 col3\" >63 distinct values</td>\n",
       "      <td id=\"T_37515_row7_col4\" class=\"data row7 col4\" ><img src = \"data:image/png;base64, iVBORw0KGgoAAAANSUhEUgAAAJwAAAA4CAYAAAAINZG1AAAAOXRFWHRTb2Z0d2FyZQBNYXRwbG90bGliIHZlcnNpb24zLjguMCwgaHR0cHM6Ly9tYXRwbG90bGliLm9yZy81sbWrAAAACXBIWXMAAA9hAAAPYQGoP6dpAAACPklEQVR4nO3csY7aMBjA8c8NoABqIoQEGy9QqQMjD9GH7dqtA0Nn3oAFIRAEkV5KSNKlN1V3h33wXZz8f7uRBX+BYyObqqoE0NL56AngdsaYvoj0HIZeqqp6uvd8XBCcJ4wx/fF4/C2KopHt2NPpdDDGfK9DdATnj14URaPFYvEUx3F266AkScLlcjna7/c9ESE42InjOJtMJr8th/UfMhkHnz56AmgXgoMqgoMqgoMqgoMqgoMqgoMqgoMqgoMqgoMqgoMqgoMqgoMqgoMqgoMqgoMqgoMqgoMqgoMqgoMqgoMqgoMqgoMqgoMqgoMqgoOq1l/10IQbiXzS6uCaciORT1odnDTkRiKftD04EfH/RiKfPCS4d6yLRFgbNdrdg3vPukiEtVHTPeIbzmldJMLaqA0etoZzXBeJsDZqNDZ+oYrgoIrgoIrgoIrgoOrVp1THDdyoLMuu+5TQZC8G57qBm+d5WBTFlyzLfoqIy7YIGuy1bzinDdz1ej1arVaD6/Ua3GF+aJg3N35tN3APhwMbt3hR7f4tUhRFV0QiY4ztUA79PVCr4NI07eZ5/nU2mwVBEFidw3Lo74daBXe5XDphGA7m83k2nU4Pt47j0N8ftQru2XA45A+RDcXGL1QRHFTV8ifVhePTbStORer05P9mcEmShDYveD6fQxGRNE3D7XY70Bi72Ww+uzzdPp+K7Ha7XzbzTJIkLIqiI24foquoLMuO7efh+t6IiByPx7Mx5oeIWI37509VVf+N+wsy4vI41SdYVQAAAABJRU5ErkJggg==\"></img></td>\n",
       "      <td id=\"T_37515_row7_col5\" class=\"data row7 col5\" >0<br>(0.0%)</td>\n",
       "    </tr>\n",
       "  </tbody>\n",
       "</table>\n"
      ],
      "text/plain": [
       "<pandas.io.formats.style.Styler at 0x1457beaa0>"
      ]
     },
     "execution_count": 59,
     "metadata": {},
     "output_type": "execute_result"
    }
   ],
   "source": [
    "dfSummary(mirai_stream_df_numeric)"
   ]
  },
  {
   "cell_type": "code",
   "execution_count": 60,
   "metadata": {},
   "outputs": [
    {
     "data": {
      "text/html": [
       "<style type=\"text/css\">\n",
       "#T_e0c85 thead>tr>th {\n",
       "  text-align: left;\n",
       "}\n",
       "#T_e0c85_row0_col0, #T_e0c85_row1_col0, #T_e0c85_row2_col0, #T_e0c85_row3_col0, #T_e0c85_row4_col0, #T_e0c85_row5_col0, #T_e0c85_row6_col0, #T_e0c85_row7_col0 {\n",
       "  text-align: left;\n",
       "  font-size: 12px;\n",
       "  vertical-align: middle;\n",
       "  width: 5%;\n",
       "  max-width: 50px;\n",
       "  min-width: 20px;\n",
       "}\n",
       "#T_e0c85_row0_col1, #T_e0c85_row1_col1, #T_e0c85_row2_col1, #T_e0c85_row3_col1, #T_e0c85_row4_col1, #T_e0c85_row5_col1, #T_e0c85_row6_col1, #T_e0c85_row7_col1 {\n",
       "  text-align: left;\n",
       "  font-size: 12px;\n",
       "  vertical-align: middle;\n",
       "  width: 15%;\n",
       "  max-width: 200px;\n",
       "  min-width: 100px;\n",
       "  word-break: break-word;\n",
       "}\n",
       "#T_e0c85_row0_col2, #T_e0c85_row1_col2, #T_e0c85_row2_col2, #T_e0c85_row3_col2, #T_e0c85_row4_col2, #T_e0c85_row5_col2, #T_e0c85_row6_col2, #T_e0c85_row7_col2 {\n",
       "  text-align: left;\n",
       "  font-size: 12px;\n",
       "  vertical-align: middle;\n",
       "  width: 30%;\n",
       "  min-width: 100px;\n",
       "}\n",
       "#T_e0c85_row0_col3, #T_e0c85_row1_col3, #T_e0c85_row2_col3, #T_e0c85_row3_col3, #T_e0c85_row4_col3, #T_e0c85_row5_col3, #T_e0c85_row6_col3, #T_e0c85_row7_col3 {\n",
       "  text-align: left;\n",
       "  font-size: 12px;\n",
       "  vertical-align: middle;\n",
       "  width: 25%;\n",
       "  min-width: 100px;\n",
       "}\n",
       "#T_e0c85_row0_col4, #T_e0c85_row1_col4, #T_e0c85_row2_col4, #T_e0c85_row3_col4, #T_e0c85_row4_col4, #T_e0c85_row5_col4, #T_e0c85_row6_col4, #T_e0c85_row7_col4 {\n",
       "  text-align: left;\n",
       "  font-size: 12px;\n",
       "  vertical-align: middle;\n",
       "  width: 20%;\n",
       "  min-width: 150px;\n",
       "}\n",
       "#T_e0c85_row0_col5, #T_e0c85_row1_col5, #T_e0c85_row2_col5, #T_e0c85_row3_col5, #T_e0c85_row4_col5, #T_e0c85_row5_col5, #T_e0c85_row6_col5, #T_e0c85_row7_col5 {\n",
       "  text-align: left;\n",
       "  font-size: 12px;\n",
       "  vertical-align: middle;\n",
       "  width: 10%;\n",
       "}\n",
       "</style>\n",
       "<table id=\"T_e0c85\">\n",
       "  <caption><strong>Data Frame Summary</strong><br>benign_stream_df_numeric<br>Dimensions: 1,689 x 8<br>Duplicates: 0</caption>\n",
       "  <thead>\n",
       "    <tr>\n",
       "      <th id=\"T_e0c85_level0_col0\" class=\"col_heading level0 col0\" >No</th>\n",
       "      <th id=\"T_e0c85_level0_col1\" class=\"col_heading level0 col1\" >Variable</th>\n",
       "      <th id=\"T_e0c85_level0_col2\" class=\"col_heading level0 col2\" >Stats / Values</th>\n",
       "      <th id=\"T_e0c85_level0_col3\" class=\"col_heading level0 col3\" >Freqs / (% of Valid)</th>\n",
       "      <th id=\"T_e0c85_level0_col4\" class=\"col_heading level0 col4\" >Graph</th>\n",
       "      <th id=\"T_e0c85_level0_col5\" class=\"col_heading level0 col5\" >Missing</th>\n",
       "    </tr>\n",
       "  </thead>\n",
       "  <tbody>\n",
       "    <tr>\n",
       "      <td id=\"T_e0c85_row0_col0\" class=\"data row0 col0\" >1</td>\n",
       "      <td id=\"T_e0c85_row0_col1\" class=\"data row0 col1\" ><strong>Source Port</strong><br>[float64]</td>\n",
       "      <td id=\"T_e0c85_row0_col2\" class=\"data row0 col2\" >Mean (sd) : 26659.7 (24067.5)<br>min < med < max:<br>7.0 < 34492.0 < 65535.0<br>IQR (CV) : 49819.0 (1.1)</td>\n",
       "      <td id=\"T_e0c85_row0_col3\" class=\"data row0 col3\" >960 distinct values</td>\n",
       "      <td id=\"T_e0c85_row0_col4\" class=\"data row0 col4\" ><img src = \"data:image/png;base64, iVBORw0KGgoAAAANSUhEUgAAAJwAAAA4CAYAAAAINZG1AAAAOXRFWHRTb2Z0d2FyZQBNYXRwbG90bGliIHZlcnNpb24zLjguMCwgaHR0cHM6Ly9tYXRwbG90bGliLm9yZy81sbWrAAAACXBIWXMAAA9hAAAPYQGoP6dpAAACaUlEQVR4nO3cP2/aQBiA8fcKRAdUtjAINr5ApA5ILOzt2A/bj9CBITPfgA2BkBFOLIxxJ6S2CoQ78MufPL81OvuUPLr4DDpTFIUAWqrHfmiMqYvIk8d1N0VRvPlNCY/sYHDGmHq73f4ZBEHL9aKr1WppjPlFdPjfsRXuKQiC1mg0egvDMD31gnEc2/F43FosFk8iQnD4x9F/qSIiYRim3W731fG6dc/54MF9ufYE8LkQHFQRHFQRHFQRHFQRHFQRHFQRHFQRHFQRHFQRHFQRHFQRHFQRHFQRHFQRHFQRHFQRHFQRHFQRHFQRHFQRHFQRHFQRHFQRHFQRHFQRHFQRHFQRHFQRHFQRHFQRHFR9eCAh7t8tndVMcHfEMxwbRdGPMAybrvcr46xmgvN0xqoh4rFy+B7ynWWZFZHn4XD40ul0VqeOK+usZoLzcM4J7yLeK4fXId/T6bQ1mUwa1trsFs5qJjg/Xn98kfNXDtdDvpfL5U0d8E1wZ/A84V3yPA9EJDDGuAwLdrtdzfVet4bglCVJUsuy7Fu/369UKpWTV8csy2ye589pmv4WEefIbwXBKdtsNlVrbWMwGKS9Xm956rj9s9h2u62UOb+yEdyVNJvNu34W88UnDVDFCoeD8jyvifvmZu/dd42lBFfGRKHLd3Ozd+hd48WDK2ui0OW7uRE5/q7x4sGVNVFch+vm5i/vbnJKe4a79ETxGNilQhXBQdWnfy3i+TWjh/hc8xo+DC6OY+tywfV6bUVEkiSxs9ms4TI2jmOb53lV/F+puLJRFH0Pw/Cry6D955rz+fzF9Ya+v597GSdyvJk/4kkr/f1YidgAAAAASUVORK5CYII=\"></img></td>\n",
       "      <td id=\"T_e0c85_row0_col5\" class=\"data row0 col5\" >0<br>(0.0%)</td>\n",
       "    </tr>\n",
       "    <tr>\n",
       "      <td id=\"T_e0c85_row1_col0\" class=\"data row1 col0\" >2</td>\n",
       "      <td id=\"T_e0c85_row1_col1\" class=\"data row1 col1\" ><strong>Destination Port</strong><br>[float64]</td>\n",
       "      <td id=\"T_e0c85_row1_col2\" class=\"data row1 col2\" >Mean (sd) : 20701.5 (23372.0)<br>min < med < max:<br>7.0 < 3385.0 < 65535.0<br>IQR (CV) : 43293.0 (0.9)</td>\n",
       "      <td id=\"T_e0c85_row1_col3\" class=\"data row1 col3\" >741 distinct values</td>\n",
       "      <td id=\"T_e0c85_row1_col4\" class=\"data row1 col4\" ><img src = \"data:image/png;base64, iVBORw0KGgoAAAANSUhEUgAAAJwAAAA4CAYAAAAINZG1AAAAOXRFWHRTb2Z0d2FyZQBNYXRwbG90bGliIHZlcnNpb24zLjguMCwgaHR0cHM6Ly9tYXRwbG90bGliLm9yZy81sbWrAAAACXBIWXMAAA9hAAAPYQGoP6dpAAACTUlEQVR4nO3dy4riQBSA4VOjreWFBC/ozhdo6IXgJg8wy3nYeYRZuOi1b+BOkBAx3WKMmZXQM8zYVmlOe/m/bZN0KH4qMYLHFEUhgJbqsT8aYxoiUvM477Yoine/S8I9+29wxphGr9f7EQRBx/Wkq9UqNsb8JDr87dgOVwuCoBNF0XsYhptTT5gkiZ1Op53lclkTEYLDH47eUkVEwjDcDAaDN8fzNjyvB3fu21dfAB4LwUEVwUEVwUEVwUEVwUEVwUEVwUEVwUEVwUEVwUEVwUEVwUEVwUEVwUEVwUEVwUEVwUEVwUEVwUEVwUEVwUEVwUEVwUEVwUEVwUEVwUEVwUEVwUEVwUEVwUEVwUEVwUEVwUEVwUEVwUEVwUHVp79ijn87Y2iKyAMPTiE4D+cMTRF57MEpBOfHa2iKCINTCO4MnkNTRJQHp1zTzDSCuyGe4dhut/s9DMOW6/8r49ZPcDfC97kxyzIrIs+TyeS13++vTj2urFs/wX2BPM+fRCQwxrgcFrTb7UEURSuX58b5fN6ZzWZNa212DTPTSgnOc0EP7vqVQZqmT1mWvYxGo0qlUjk5nCzLbJ7nz/V6/ZdLOHEcX9WgvYsH57ugB/f+ymC73Vattc3xeLwZDofxqccddqrdblcp8/o+KmPjuHhwvgsq8livDFqtltMnXO2dqqyNo7RnONcF/eCqbgGPqqyNgw8NOOrSGwdf3kPVpztckiTW5YTr9dqKiKRpaheLRdPl2CRJbJ7nVfF/UNUS7Pf7quvaiPivz60cJ3K8md/tYhxh9Y4OzAAAAABJRU5ErkJggg==\"></img></td>\n",
       "      <td id=\"T_e0c85_row1_col5\" class=\"data row1 col5\" >0<br>(0.0%)</td>\n",
       "    </tr>\n",
       "    <tr>\n",
       "      <td id=\"T_e0c85_row2_col0\" class=\"data row2 col0\" >3</td>\n",
       "      <td id=\"T_e0c85_row2_col1\" class=\"data row2 col1\" ><strong>Protocol</strong><br>[float64]</td>\n",
       "      <td id=\"T_e0c85_row2_col2\" class=\"data row2 col2\" >1. 17.0<br>2. 6.0<br>3. 41.0<br>4. 47.0</td>\n",
       "      <td id=\"T_e0c85_row2_col3\" class=\"data row2 col3\" >1,272 (75.3%)<br>378 (22.4%)<br>35 (2.1%)<br>4 (0.2%)</td>\n",
       "      <td id=\"T_e0c85_row2_col4\" class=\"data row2 col4\" ><img src = \"data:image/png;base64, iVBORw0KGgoAAAANSUhEUgAAAJsAAABcCAYAAAB5jMeAAAAAOXRFWHRTb2Z0d2FyZQBNYXRwbG90bGliIHZlcnNpb24zLjguMCwgaHR0cHM6Ly9tYXRwbG90bGliLm9yZy81sbWrAAAACXBIWXMAAA9hAAAPYQGoP6dpAAACBklEQVR4nO3bQW7TUBSG0esoKnTiKIrUJcAevAgWyyKyCPYQRfGAlE7MoAVBxATh/H4y58wyu1I+2XnRu900TQUJm6UH4P8hNmK6qnqsqoelB2FWL9M0XZce4tb2cDh86vt+v/QgzGccx3PXdZ9bC27b9/1+GIbrbrd7XnoY/t3lcnl/PB73p9Ppoaraiq2qarfbPT89PX1dehhm87j0AH/igECM2IgRGzFiI0ZsxIiNGLERIzZixEaM2IgRGzFiI0ZsxGyrXq+lLD0I82j5u9yO43g+Ho/7avRaCn9vHMdzVb0sPcct18LXqclr4Z1VPlIcEIhp7TXa5OOfeTS1XdXqVhDzaGa7quWtIObR2naVv19WzAGBGLERIzZixEaM2IgRGzFiI0ZsxIiNGLERIzZixEaM2IgRGzHNrPK1MAP31dQqX6sraMzDDgIxVvmIuX2yebJwN79tV9lu4p42P7arhmG4vkXXyu83VubndtXb58VPpKyXP3WJERsxYiNGbMSIjRixESM2YsRGjNiIERsxYiNGbMSIjRixEdPMdhXr9+t2le0m7soOAjG2q4hxQCBm03Xdx67rHBC4u01Vfaiqd0sPwvp5jRIjNmLERozYiBEbMWIjRmzEiI0YsREjNmLERozYiBEbMWIjRmzEiI2YTVV9qapvSw/C+ll4IcZrlBixEfMd6iScShhmFWYAAAAASUVORK5CYII=\"></img></td>\n",
       "      <td id=\"T_e0c85_row2_col5\" class=\"data row2 col5\" >0<br>(0.0%)</td>\n",
       "    </tr>\n",
       "    <tr>\n",
       "      <td id=\"T_e0c85_row3_col0\" class=\"data row3 col0\" >4</td>\n",
       "      <td id=\"T_e0c85_row3_col1\" class=\"data row3 col1\" ><strong>Number of Packets</strong><br>[int64]</td>\n",
       "      <td id=\"T_e0c85_row3_col2\" class=\"data row3 col2\" >Mean (sd) : 11.0 (105.4)<br>min < med < max:<br>1.0 < 1.0 < 3368.0<br>IQR (CV) : 4.0 (0.1)</td>\n",
       "      <td id=\"T_e0c85_row3_col3\" class=\"data row3 col3\" >67 distinct values</td>\n",
       "      <td id=\"T_e0c85_row3_col4\" class=\"data row3 col4\" ><img src = \"data:image/png;base64, iVBORw0KGgoAAAANSUhEUgAAAJwAAAA4CAYAAAAINZG1AAAAOXRFWHRTb2Z0d2FyZQBNYXRwbG90bGliIHZlcnNpb24zLjguMCwgaHR0cHM6Ly9tYXRwbG90bGliLm9yZy81sbWrAAAACXBIWXMAAA9hAAAPYQGoP6dpAAABO0lEQVR4nO3dMWoCQRiG4Zkgos0uIngYD5HD5hDeRsJYRBOQSR0hGrf4QszzlDvw8xcvM+XW3nuBlNm1w1rrspQynzD3o/d+nLYSj+zb4Gqty/V6/TwMw+reoYfD4bXW+iI6Ll274ebDMKy22+1xHMfTTwe21ha73W613+/npRTB8cXVJ7WUUsZxPG02m7c75y4n7sODe/rtBfhfBEeU4IgSHFGCI0pwRAmOKMERJTiiBEeU4IgSHFGCI0pwRAmOKMERJTiiBEeU4IgSHFGCI0pwRAmOKMERJTiiBEeU4IgSHFGCI0pwRAmOKMERJTiiBEeU4IgSHFGCI0pwRAmOKMERJTiiBEeU4IgSHFGCI0pwRAmOKMERJTiiBEfUzV+Qt9YW9wxsrS3O5/OslDLUWicvxp/33ns/XX78BGFcLdZo2ltjAAAAAElFTkSuQmCC\"></img></td>\n",
       "      <td id=\"T_e0c85_row3_col5\" class=\"data row3 col5\" >0<br>(0.0%)</td>\n",
       "    </tr>\n",
       "    <tr>\n",
       "      <td id=\"T_e0c85_row4_col0\" class=\"data row4 col0\" >5</td>\n",
       "      <td id=\"T_e0c85_row4_col1\" class=\"data row4 col1\" ><strong>Total Length</strong><br>[int64]</td>\n",
       "      <td id=\"T_e0c85_row4_col2\" class=\"data row4 col2\" >Mean (sd) : 3281.1 (65601.0)<br>min < med < max:<br>26.0 < 130.0 < 2643858.0<br>IQR (CV) : 424.0 (0.1)</td>\n",
       "      <td id=\"T_e0c85_row4_col3\" class=\"data row4 col3\" >448 distinct values</td>\n",
       "      <td id=\"T_e0c85_row4_col4\" class=\"data row4 col4\" ><img src = \"data:image/png;base64, iVBORw0KGgoAAAANSUhEUgAAAJwAAAA4CAYAAAAINZG1AAAAOXRFWHRTb2Z0d2FyZQBNYXRwbG90bGliIHZlcnNpb24zLjguMCwgaHR0cHM6Ly9tYXRwbG90bGliLm9yZy81sbWrAAAACXBIWXMAAA9hAAAPYQGoP6dpAAABO0lEQVR4nO3dMWoCQRiG4Zkgos0uIngYD5HD5hDeRsJYRBOQSR0hGrf4QszzlDvw8xcvM+XW3nuBlNm1w1rrspQynzD3o/d+nLYSj+zb4Gqty/V6/TwMw+reoYfD4bXW+iI6Ll274ebDMKy22+1xHMfTTwe21ha73W613+/npRTB8cXVJ7WUUsZxPG02m7c75y4n7sODe/rtBfhfBEeU4IgSHFGCI0pwRAmOKMERJTiiBEeU4IgSHFGCI0pwRAmOKMERJTiiBEeU4IgSHFGCI0pwRAmOKMERJTiiBEeU4IgSHFGCI0pwRAmOKMERJTiiBEeU4IgSHFGCI0pwRAmOKMERJTiiBEeU4IgSHFGCI0pwRAmOKMERJTiiBEfUzV+Qt9YW9wxsrS3O5/OslDLUWicvxp/33ns/XX78BGFcLdZo2ltjAAAAAElFTkSuQmCC\"></img></td>\n",
       "      <td id=\"T_e0c85_row4_col5\" class=\"data row4 col5\" >0<br>(0.0%)</td>\n",
       "    </tr>\n",
       "    <tr>\n",
       "      <td id=\"T_e0c85_row5_col0\" class=\"data row5 col0\" >6</td>\n",
       "      <td id=\"T_e0c85_row5_col1\" class=\"data row5 col1\" ><strong>Duration</strong><br>[float64]</td>\n",
       "      <td id=\"T_e0c85_row5_col2\" class=\"data row5 col2\" >Mean (sd) : 104981.7 (4298962.2)<br>min < med < max:<br>0.0 < 0.0 < 176676288.6<br>IQR (CV) : 0.0 (0.0)</td>\n",
       "      <td id=\"T_e0c85_row5_col3\" class=\"data row5 col3\" >618 distinct values</td>\n",
       "      <td id=\"T_e0c85_row5_col4\" class=\"data row5 col4\" ><img src = \"data:image/png;base64, iVBORw0KGgoAAAANSUhEUgAAAJwAAAA4CAYAAAAINZG1AAAAOXRFWHRTb2Z0d2FyZQBNYXRwbG90bGliIHZlcnNpb24zLjguMCwgaHR0cHM6Ly9tYXRwbG90bGliLm9yZy81sbWrAAAACXBIWXMAAA9hAAAPYQGoP6dpAAABO0lEQVR4nO3dMWoCQRiG4Zkgos0uIngYD5HD5hDeRsJYRBOQSR0hGrf4QszzlDvw8xcvM+XW3nuBlNm1w1rrspQynzD3o/d+nLYSj+zb4Gqty/V6/TwMw+reoYfD4bXW+iI6Ll274ebDMKy22+1xHMfTTwe21ha73W613+/npRTB8cXVJ7WUUsZxPG02m7c75y4n7sODe/rtBfhfBEeU4IgSHFGCI0pwRAmOKMERJTiiBEeU4IgSHFGCI0pwRAmOKMERJTiiBEeU4IgSHFGCI0pwRAmOKMERJTiiBEeU4IgSHFGCI0pwRAmOKMERJTiiBEeU4IgSHFGCI0pwRAmOKMERJTiiBEeU4IgSHFGCI0pwRAmOKMERJTiiBEfUzV+Qt9YW9wxsrS3O5/OslDLUWicvxp/33ns/XX78BGFcLdZo2ltjAAAAAElFTkSuQmCC\"></img></td>\n",
       "      <td id=\"T_e0c85_row5_col5\" class=\"data row5 col5\" >0<br>(0.0%)</td>\n",
       "    </tr>\n",
       "    <tr>\n",
       "      <td id=\"T_e0c85_row6_col0\" class=\"data row6 col0\" >7</td>\n",
       "      <td id=\"T_e0c85_row6_col1\" class=\"data row6 col1\" ><strong>Source IP Numeric</strong><br>[int64]</td>\n",
       "      <td id=\"T_e0c85_row6_col2\" class=\"data row6 col2\" >Mean (sd) : 2407294567.9 (1269951771.4)<br>min < med < max:<br>0.0 < 3232236373.0 < 3640661313.0<br>IQR (CV) : 1792088805.0 (1.9)</td>\n",
       "      <td id=\"T_e0c85_row6_col3\" class=\"data row6 col3\" >180 distinct values</td>\n",
       "      <td id=\"T_e0c85_row6_col4\" class=\"data row6 col4\" ><img src = \"data:image/png;base64, iVBORw0KGgoAAAANSUhEUgAAAJwAAAA4CAYAAAAINZG1AAAAOXRFWHRTb2Z0d2FyZQBNYXRwbG90bGliIHZlcnNpb24zLjguMCwgaHR0cHM6Ly9tYXRwbG90bGliLm9yZy81sbWrAAAACXBIWXMAAA9hAAAPYQGoP6dpAAAB/ElEQVR4nO3dP2/aQBjH8ef4J1NRW4AEG0vHSh0Y2bv2xXbtztD30J0BFIxwg7DO7hB1SwiXmF/M6fvZH3yKvk5yNxyurmsDVHofvQDcnnNuaGaDN4ye67p+bHItBBc559xwOp3+SNN0HDp7OBwenHM/m4yO4OI3SNN0vFqtHrMsO107lOd5sl6vx7vdbmBmBIcwWZadZrPZ38CxYdPr6DT9gcAlBAcpgoMUwUGK4CBFcJAiOEgRHKQIDlIEBymCgxTBQYrgIEVwkCI4SBEcpAgOUgQHKYKDFMFBiuAgRXCQIjhIERykCA5SBAcpgoMUwUGK4CBFcJAiOEgRHKQIDlIEB6mLV6626fZrxOHF4Np2+zXicOk3XKtuv0YcXr3FvC23XyMObBogRXCQIjhIRfNNNBzh3IcoguMI535EEZxxhHM3YgnOzDjCuQdsGiBFcJCK6k8qmuW975tZ6px7y/izu3+Cw7OKouiXZfltsVh0u93u1Rux/17a/d8kuFu8GW3zjnM/s6d/ZSrRXFpVVT/0QefzuZckyaflcnmaz+cPIbOXdv+vBpfneRLysM1m8/k9b8Z+vz86536ZWchsWlVVL3SteZ4n3vuehb8cyWQy+Z5l2ShkyOzpZSyK4stoNPrT6XTKW8+VZZl4779ut9vfIes8Ho9BP8tr/QOg/8YE7Pfh4QAAAABJRU5ErkJggg==\"></img></td>\n",
       "      <td id=\"T_e0c85_row6_col5\" class=\"data row6 col5\" >0<br>(0.0%)</td>\n",
       "    </tr>\n",
       "    <tr>\n",
       "      <td id=\"T_e0c85_row7_col0\" class=\"data row7 col0\" >8</td>\n",
       "      <td id=\"T_e0c85_row7_col1\" class=\"data row7 col1\" ><strong>Destination IP Numeric</strong><br>[int64]</td>\n",
       "      <td id=\"T_e0c85_row7_col2\" class=\"data row7 col2\" >Mean (sd) : 2296691701.7 (1360119172.2)<br>min < med < max:<br>16843009.0 < 3232236373.0 < 4294967295.0<br>IQR (CV) : 2108632697.0 (1.7)</td>\n",
       "      <td id=\"T_e0c85_row7_col3\" class=\"data row7 col3\" >173 distinct values</td>\n",
       "      <td id=\"T_e0c85_row7_col4\" class=\"data row7 col4\" ><img src = \"data:image/png;base64, iVBORw0KGgoAAAANSUhEUgAAAJwAAAA4CAYAAAAINZG1AAAAOXRFWHRTb2Z0d2FyZQBNYXRwbG90bGliIHZlcnNpb24zLjguMCwgaHR0cHM6Ly9tYXRwbG90bGliLm9yZy81sbWrAAAACXBIWXMAAA9hAAAPYQGoP6dpAAACD0lEQVR4nO3dzW7aQBSG4TP8yQRqCyHBjk2XlbpgyUX0YrvtnkXvoXuEQMEINxRr7F5A28R2whd7+j77E4/Qq9GArIkry9IAlcF7LwDVOefGZjZqMHory/LprdfTBMF1hHNuPJ/Pv8RxPKs7ez6fH51zX9sQHcF1xyiO49lms3lKkuRadShN02i73c6Ox+PIzAgO9SRJcl0sFj9rjo3vspgGeu+9APxfCA5SBAcpgoMUwUGK4CBFcJAiOEgRHKQIDlIEBymCgxTBQYrgIEVwkCI4SBEcpAgOUgQHKYKDFMFBiuAgRXCQIjhIERykCA5SBAcpgoPUs5fZhHAfGdrln8GFch8Z2uW5HS6I+8jQLi/eD9f1+8jQLnxpgBTBQYrgIEVwkCI4SBEcpAgOUgQHKYKDFMFBKph/fcSbLd0QRHC82dIdQQRnvNnSGaEEZ2a82dIFQQWHv/PeD80sds7VHX3z8y3BBS7LsmGe559Xq1W/3+9XPm6Y3ed8S3CBu91ugyiKHtbr9XW5XD5WnbvX+fYuwb1iCzcT/0zxirX2zKxo+Ngms3FRFMOGz7PJZNKK8+2LwaVpGtX5g7vd7kPTLdzM7HQ6XZxz38yszmxcFMVAtVbv/TDLso/T6fRHr9fL6zyz6Wye55H3/tPhcPhe53mXyyUyM8uyLNrv9w9V59I0jbz3A2u+cfwqy/KPz/Q3CLjcfqUfGqAAAAAASUVORK5CYII=\"></img></td>\n",
       "      <td id=\"T_e0c85_row7_col5\" class=\"data row7 col5\" >0<br>(0.0%)</td>\n",
       "    </tr>\n",
       "  </tbody>\n",
       "</table>\n"
      ],
      "text/plain": [
       "<pandas.io.formats.style.Styler at 0x151937400>"
      ]
     },
     "execution_count": 60,
     "metadata": {},
     "output_type": "execute_result"
    }
   ],
   "source": [
    "dfSummary(benign_stream_df_numeric)"
   ]
  },
  {
   "cell_type": "code",
   "execution_count": 61,
   "metadata": {},
   "outputs": [
    {
     "data": {
      "application/vnd.jupyter.widget-view+json": {
       "model_id": "84896ee2bc79426cae7dcc29663613c5",
       "version_major": 2,
       "version_minor": 0
      },
      "text/plain": [
       "                                             |          | [  0%]   00:00 -> (? left)"
      ]
     },
     "metadata": {},
     "output_type": "display_data"
    },
    {
     "name": "stdout",
     "output_type": "stream",
     "text": [
      "Report html/mirai_stream.html was generated! NOTEBOOK/COLAB USERS: the web browser MAY not pop up, regardless, the report IS saved in your notebook/colab files.\n"
     ]
    }
   ],
   "source": [
    "my_report = sv.analyze(mirai_stream_df_numeric)\n",
    "my_report.show_html(filepath=\"html/mirai_stream.html\")"
   ]
  },
  {
   "cell_type": "code",
   "execution_count": 62,
   "metadata": {},
   "outputs": [
    {
     "data": {
      "application/vnd.jupyter.widget-view+json": {
       "model_id": "e61bd28f447347e3980fd0f2816c2b6a",
       "version_major": 2,
       "version_minor": 0
      },
      "text/plain": [
       "                                             |          | [  0%]   00:00 -> (? left)"
      ]
     },
     "metadata": {},
     "output_type": "display_data"
    },
    {
     "name": "stdout",
     "output_type": "stream",
     "text": [
      "Report html/benign_stream.html was generated! NOTEBOOK/COLAB USERS: the web browser MAY not pop up, regardless, the report IS saved in your notebook/colab files.\n"
     ]
    }
   ],
   "source": [
    "my_report = sv.analyze(benign_stream_df_numeric)\n",
    "my_report.show_html(filepath=\"html/benign_stream.html\")"
   ]
  },
  {
   "attachments": {},
   "cell_type": "markdown",
   "metadata": {},
   "source": [
    "# Labeling\n",
    "We label and concatenate benign and malicious before one-hot because there are different ports in each dataset and concatenating the two after one hot will not work with different columns."
   ]
  },
  {
   "cell_type": "code",
   "execution_count": 63,
   "metadata": {},
   "outputs": [],
   "source": [
    "# add labels, 0 for benign, 1 for malicious\n",
    "mirai_stream_df_numeric[\"Labels\"] = 1\n",
    "benign_stream_df_numeric[\"Labels\"] = 0"
   ]
  },
  {
   "cell_type": "code",
   "execution_count": 64,
   "metadata": {},
   "outputs": [],
   "source": [
    "# concatenate dataframes\n",
    "data_df = pd.concat(\n",
    "    [mirai_stream_df_numeric, benign_stream_df_numeric], ignore_index=True\n",
    ")"
   ]
  },
  {
   "attachments": {},
   "cell_type": "markdown",
   "metadata": {},
   "source": [
    "# Feature engineering (cont.) categorical \n",
    "## One-hot\n",
    "One-hot encoding transforms features to individual columns with binary values. For example, if there are 10 distinct ports in the dataset, 10 columns will be created and each packet will have a 0 if it does not use that port and 1 if it does in the corresponding column."
   ]
  },
  {
   "cell_type": "code",
   "execution_count": 65,
   "metadata": {},
   "outputs": [],
   "source": [
    "def one_hot_encode(df, feature):\n",
    "    feature_dummies = pd.get_dummies(df[feature], prefix=feature)\n",
    "    return pd.concat([df, feature_dummies], axis=1)"
   ]
  },
  {
   "cell_type": "code",
   "execution_count": 66,
   "metadata": {},
   "outputs": [],
   "source": [
    "data_df = one_hot_encode(data_df, \"Source Port\")\n",
    "data_df = one_hot_encode(data_df, \"Destination Port\")"
   ]
  },
  {
   "attachments": {},
   "cell_type": "markdown",
   "metadata": {},
   "source": [
    "# Model Training\n",
    "- We use some characteristic models for demonstration purposes. Models need to be tuned by exploring their hyperparameters and compared in order to pick the best one for the application.\n",
    "  - xgboost\n",
    "  - NN\n",
    "  - k-NN\n",
    "  - Random Forest\n",
    "- k-fold cross validation\n",
    "  - split the data in k parts\n",
    "  - use one part for testing, the other k-1 parts for training the model\n",
    "  - repeat for all the combinations of k parts using a different one for testing, the other k-1 for training the model"
   ]
  },
  {
   "cell_type": "code",
   "execution_count": 67,
   "metadata": {},
   "outputs": [],
   "source": [
    "k = 5\n",
    "kfold = KFold(n_splits=k, shuffle=True, random_state=1)"
   ]
  },
  {
   "cell_type": "code",
   "execution_count": 68,
   "metadata": {},
   "outputs": [],
   "source": [
    "# randomize the data. TODO: is this needed??\n",
    "data_df = shuffle(data_df)"
   ]
  },
  {
   "cell_type": "code",
   "execution_count": 69,
   "metadata": {},
   "outputs": [],
   "source": [
    "# after feature engineering, drop all the columns that are unnecessary\n",
    "data_df = data_df.drop([\"Source Port\", \"Destination Port\"], axis=1)"
   ]
  },
  {
   "cell_type": "code",
   "execution_count": 70,
   "metadata": {},
   "outputs": [],
   "source": [
    "# store the features and labels in separate dataframes\n",
    "X = data_df.drop(\"Labels\", axis=1)\n",
    "y = data_df[\"Labels\"]"
   ]
  },
  {
   "cell_type": "code",
   "execution_count": 71,
   "metadata": {},
   "outputs": [],
   "source": [
    "# convert data to array\n",
    "data_array = data_df.to_numpy()"
   ]
  },
  {
   "cell_type": "code",
   "execution_count": 72,
   "metadata": {},
   "outputs": [
    {
     "name": "stdout",
     "output_type": "stream",
     "text": [
      "Model 1\n",
      "train [    0     1     4 ... 38271 38272 38273], test: [    2     3     8 ... 38259 38264 38269]\n",
      "Model 2\n",
      "train [    0     1     2 ... 38269 38271 38272], test: [   26    29    32 ... 38255 38270 38273]\n",
      "Model 3\n",
      "train [    1     2     3 ... 38271 38272 38273], test: [    0     4     5 ... 38263 38265 38268]\n",
      "Model 4\n",
      "train [    0     1     2 ... 38270 38272 38273], test: [   31    39    55 ... 38251 38267 38271]\n",
      "Model 5\n",
      "train [    0     2     3 ... 38270 38271 38273], test: [    1     9    10 ... 38262 38266 38272]\n"
     ]
    }
   ],
   "source": [
    "# print splits for better understanding\n",
    "model = 1\n",
    "for train, test in kfold.split(data_array):\n",
    "    print(f\"Model {model}\")\n",
    "    print(f\"train {train}, test: {test}\")\n",
    "    model += 1"
   ]
  },
  {
   "cell_type": "markdown",
   "metadata": {},
   "source": [
    "## Model selection\n",
    "\n",
    "We picked three characteristic models:\n",
    "- Decision Tree\n",
    "- Random Forest\n",
    "- XGB"
   ]
  },
  {
   "cell_type": "code",
   "execution_count": 73,
   "metadata": {},
   "outputs": [],
   "source": [
    "decision_tree = DecisionTreeClassifier()"
   ]
  },
  {
   "cell_type": "code",
   "execution_count": 74,
   "metadata": {},
   "outputs": [],
   "source": [
    "# Random Forest Classifier\n",
    "rf = RandomForestClassifier(max_depth=2, random_state=0)"
   ]
  },
  {
   "cell_type": "code",
   "execution_count": 75,
   "metadata": {},
   "outputs": [],
   "source": [
    "# XGBoost\n",
    "xgb = XGBClassifier(\n",
    "    n_estimators=2, max_depth=2, learning_rate=1, objective=\"binary:logistic\"\n",
    ")"
   ]
  },
  {
   "attachments": {},
   "cell_type": "markdown",
   "metadata": {},
   "source": [
    "# Model Evaluation\n",
    "\n",
    "## Metrics\n",
    "We compare all models using the following metrics:\n",
    "- accuracy: Accuracy is the proportion of correct predictions to the total number of predictions.\n",
    "- precision: Precision measures the proportion of true positives to the total predicted positives.\n",
    "- recall: Recall (also known as sensitivity or true positive rate) measures the proportion of true positives to the total actual positives.\n",
    "- f1 score\n",
    "\n",
    "Note: we use the models out of box without fine tuning them."
   ]
  },
  {
   "cell_type": "code",
   "execution_count": 76,
   "metadata": {},
   "outputs": [],
   "source": [
    "def k_fold_validation_metrics(model, k, X, y):\n",
    "    # Initialize lists to store evaluation metrics for each fold\n",
    "    precision_scores = []\n",
    "    accuracy_scores = []\n",
    "    recall_scores = []\n",
    "    f1_scores = []\n",
    "    \n",
    "    # convert dataframes to numpy arrays\n",
    "    X = X.values\n",
    "    y = y.values\n",
    "\n",
    "    # Create k-fold cross-validation iterator\n",
    "    kf = StratifiedKFold(n_splits=k, shuffle=True, random_state=42)\n",
    "\n",
    "    for train_index, test_index in kf.split(X, y):\n",
    "        # Split the data into train and test sets for each fold\n",
    "        X_train, X_test = X[train_index], X[test_index]\n",
    "        y_train, y_test = y[train_index], y[test_index]\n",
    "\n",
    "        # Train the model on the training data\n",
    "        model.fit(X_train, y_train)\n",
    "\n",
    "        # Make predictions on the test data\n",
    "        y_pred = model.predict(X_test)\n",
    "\n",
    "        # Calculate evaluation metrics for this fold\n",
    "        precision = precision_score(y_test, y_pred)\n",
    "        accuracy = accuracy_score(y_test, y_pred)\n",
    "        recall = recall_score(y_test, y_pred)\n",
    "        f1 = f1_score(y_test, y_pred)\n",
    "\n",
    "        # Append the scores to the respective lists\n",
    "        precision_scores.append(precision)\n",
    "        accuracy_scores.append(accuracy)\n",
    "        recall_scores.append(recall)\n",
    "        f1_scores.append(f1)\n",
    "\n",
    "    # Calculate the average of the evaluation metrics over all folds\n",
    "    avg_precision = np.mean(precision_scores)\n",
    "    avg_accuracy = np.mean(accuracy_scores)\n",
    "    avg_recall = np.mean(recall_scores)\n",
    "    avg_f1 = np.mean(f1_scores)\n",
    "\n",
    "    return {\n",
    "        \"Average Precision\": avg_precision,\n",
    "        \"Average Accuracy\": avg_accuracy,\n",
    "        \"Average Recall\": avg_recall,\n",
    "        \"Average F1-Score\": avg_f1,\n",
    "    }"
   ]
  },
  {
   "cell_type": "code",
   "execution_count": 77,
   "metadata": {},
   "outputs": [
    {
     "data": {
      "text/plain": [
       "{'Average Precision': 0.9995901564295038,\n",
       " 'Average Accuracy': 0.9994513219267616,\n",
       " 'Average Recall': 0.9998359983599837,\n",
       " 'Average F1-Score': 0.9997130316709619}"
      ]
     },
     "execution_count": 77,
     "metadata": {},
     "output_type": "execute_result"
    }
   ],
   "source": [
    "dt_evaluation = k_fold_validation_metrics(decision_tree, k, X, y)\n",
    "dt_evaluation"
   ]
  },
  {
   "cell_type": "code",
   "execution_count": 78,
   "metadata": {},
   "outputs": [
    {
     "data": {
      "text/plain": [
       "{'Average Precision': 0.9558708287585697,\n",
       " 'Average Accuracy': 0.9558708287585697,\n",
       " 'Average Recall': 1.0,\n",
       " 'Average F1-Score': 0.9774375833531076}"
      ]
     },
     "execution_count": 78,
     "metadata": {},
     "output_type": "execute_result"
    }
   ],
   "source": [
    "rf_evaluation = k_fold_validation_metrics(rf, k, X, y)\n",
    "rf_evaluation"
   ]
  },
  {
   "cell_type": "code",
   "execution_count": 79,
   "metadata": {},
   "outputs": [
    {
     "data": {
      "text/plain": [
       "{'Average Precision': 0.9995901863104637,\n",
       " 'Average Accuracy': 0.999555828785024,\n",
       " 'Average Recall': 0.9999453327866611,\n",
       " 'Average F1-Score': 0.999767713826822}"
      ]
     },
     "execution_count": 79,
     "metadata": {},
     "output_type": "execute_result"
    }
   ],
   "source": [
    "xgb_evaluation = k_fold_validation_metrics(xgb, k, X, y)\n",
    "xgb_evaluation"
   ]
  },
  {
   "attachments": {},
   "cell_type": "markdown",
   "metadata": {},
   "source": [
    "## Confusion matrix\n",
    "\n",
    "A confusion matrix is a table that visualizes the performance of a classification model by showing the counts of true positive, true negative, false positive, and false negative predictions."
   ]
  },
  {
   "cell_type": "code",
   "execution_count": 80,
   "metadata": {},
   "outputs": [],
   "source": [
    "import numpy as np\n",
    "import matplotlib.pyplot as plt\n",
    "import seaborn as sns\n",
    "from sklearn.model_selection import cross_val_predict\n",
    "from sklearn.metrics import confusion_matrix\n",
    "\n",
    "def plot_confusion_matrix(model, X, y):\n",
    "    # Initialize an empty confusion matrix\n",
    "    cm = np.zeros((len(np.unique(y)), len(np.unique(y))), dtype=int)\n",
    "\n",
    "    # Perform k-fold cross-validation and accumulate the confusion matrix\n",
    "    predictions = cross_val_predict(model, X, y, cv=5)  # Change cv value as needed\n",
    "    cm += confusion_matrix(y, predictions)\n",
    "\n",
    "    # Plot the confusion matrix\n",
    "    plt.figure(figsize=(8, 6))\n",
    "    sns.heatmap(cm, annot=True, fmt=\"d\", cmap=\"Blues\", cbar=False)\n",
    "    plt.xlabel(\"Predicted Labels\")\n",
    "    plt.ylabel(\"True Labels\")\n",
    "    plt.title(\"Confusion Matrix\")\n",
    "    plt.show()"
   ]
  },
  {
   "cell_type": "code",
   "execution_count": 81,
   "metadata": {},
   "outputs": [
    {
     "data": {
      "image/png": "[encoded data removed]",
      "text/plain": [
       "<Figure size 800x600 with 1 Axes>"
      ]
     },
     "metadata": {},
     "output_type": "display_data"
    }
   ],
   "source": [
    "plot_confusion_matrix(decision_tree, X, y)"
   ]
  },
  {
   "cell_type": "code",
   "execution_count": 82,
   "metadata": {},
   "outputs": [
    {
     "data": {
      "image/png": "[encoded data removed]",
      "text/plain": [
       "<Figure size 800x600 with 1 Axes>"
      ]
     },
     "metadata": {},
     "output_type": "display_data"
    }
   ],
   "source": [
    "plot_confusion_matrix(rf, X, y)"
   ]
  },
  {
   "cell_type": "code",
   "execution_count": 83,
   "metadata": {},
   "outputs": [
    {
     "data": {
      "image/png": "[encoded data removed]",
      "text/plain": [
       "<Figure size 800x600 with 1 Axes>"
      ]
     },
     "metadata": {},
     "output_type": "display_data"
    }
   ],
   "source": [
    "plot_confusion_matrix(xgb, X, y)"
   ]
  },
  {
   "attachments": {},
   "cell_type": "markdown",
   "metadata": {},
   "source": [
    "## ROC curve\n",
    "\n",
    "Use a ROC curve to visualize the model evaluation:\n",
    "- The X-axis indicates the False Positive Rate\n",
    "- The Y-axis indicates the True Positive Rate\n",
    "- The higher the area under the curve the better the model performance\n",
    "- The diagonal line indicates the performance of a random classifier\n",
    "- Performance at the top level corner indicates high TPR with low TPR for the same threshold"
   ]
  },
  {
   "cell_type": "code",
   "execution_count": 84,
   "metadata": {},
   "outputs": [],
   "source": [
    "def plot_roc_curve(model, X, y, n_folds=5):\n",
    "    # Initialize variables to store false positive rate and true positive rate for each fold\n",
    "    mean_fpr = np.linspace(0, 1, 100)\n",
    "    tpr_sum = 0\n",
    "    \n",
    "    X = X.values\n",
    "    y = y.values\n",
    "\n",
    "    # Create k-fold cross-validation iterator\n",
    "    cv = StratifiedKFold(n_splits=n_folds, shuffle=True, random_state=42)\n",
    "\n",
    "    plt.figure(figsize=(8, 6))\n",
    "    \n",
    "    for train, test in cv.split(X, y):\n",
    "        X_train, X_test = X[train], X[test]\n",
    "        y_train, y_test = y[train], y[test]\n",
    "        \n",
    "        model.fit(X_train, y_train)\n",
    "        y_prob = model.predict_proba(X_test)[:, 1]\n",
    "        \n",
    "        fpr, tpr, _ = roc_curve(y_test, y_prob)\n",
    "        tpr_sum += np.interp(mean_fpr, fpr, tpr)\n",
    "        plt.plot(fpr, tpr, lw=1, alpha=0.3)\n",
    "\n",
    "    mean_tpr = tpr_sum / n_folds\n",
    "    plt.plot([0, 1], [0, 1], linestyle='--', lw=2, color='r', label='Random Chance')\n",
    "    plt.plot(mean_fpr, mean_tpr, color='b', lw=2, label='Mean ROC (AUC = {:.2f})'.format(auc(mean_fpr, mean_tpr)))\n",
    "    \n",
    "    plt.xlim([0.0, 1.0])\n",
    "    plt.ylim([0.0, 1.0])\n",
    "    plt.xlabel('False Positive Rate')\n",
    "    plt.ylabel('True Positive Rate')\n",
    "    plt.title('Receiver Operating Characteristic (ROC) Curve')\n",
    "    plt.legend(loc='lower right')\n",
    "    plt.show()"
   ]
  },
  {
   "cell_type": "code",
   "execution_count": 85,
   "metadata": {},
   "outputs": [
    {
     "data": {
      "image/png": "[encoded data removed]",
      "text/plain": [
       "<Figure size 800x600 with 1 Axes>"
      ]
     },
     "metadata": {},
     "output_type": "display_data"
    }
   ],
   "source": [
    "plot_roc_curve(decision_tree, X, y)"
   ]
  },
  {
   "cell_type": "code",
   "execution_count": 86,
   "metadata": {},
   "outputs": [
    {
     "data": {
      "image/png": "[encoded data removed]",
      "text/plain": [
       "<Figure size 800x600 with 1 Axes>"
      ]
     },
     "metadata": {},
     "output_type": "display_data"
    }
   ],
   "source": [
    "plot_roc_curve(rf, X, y)"
   ]
  },
  {
   "cell_type": "code",
   "execution_count": 87,
   "metadata": {},
   "outputs": [
    {
     "data": {
      "image/png": "[encoded data removed]",
      "text/plain": [
       "<Figure size 800x600 with 1 Axes>"
      ]
     },
     "metadata": {},
     "output_type": "display_data"
    }
   ],
   "source": [
    "plot_roc_curve(xgb, X, y)"
   ]
  },
  {
   "attachments": {},
   "cell_type": "markdown",
   "metadata": {},
   "source": [
    "# AI Classifier \n",
    "Use llm for classification. Can only use payload that is words."
   ]
  },
  {
   "cell_type": "code",
   "execution_count": 88,
   "metadata": {},
   "outputs": [],
   "source": [
    "# add labels, 0 for benign, 1 for malicious\n",
    "mirai_cleaned_df[\"Labels\"] = 1\n",
    "benign_clean_df[\"Labels\"] = 0"
   ]
  },
  {
   "cell_type": "code",
   "execution_count": 89,
   "metadata": {},
   "outputs": [],
   "source": [
    "mirai_payloads = mirai_cleaned_df[[\"Payload\", \"Labels\"]]\n",
    "benign_payloads = benign_clean_df[[\"Payload\", \"Labels\"]]"
   ]
  },
  {
   "cell_type": "code",
   "execution_count": 90,
   "metadata": {},
   "outputs": [],
   "source": [
    "payloads = pd.concat([mirai_payloads, benign_payloads], ignore_index=True)"
   ]
  },
  {
   "cell_type": "code",
   "execution_count": 91,
   "metadata": {},
   "outputs": [],
   "source": [
    "# TODO: use sample\n",
    "payloads = shuffle(payloads)"
   ]
  },
  {
   "cell_type": "code",
   "execution_count": 92,
   "metadata": {},
   "outputs": [],
   "source": [
    "# use a subset because this takes loooong!\n",
    "X_llm = payloads[\"Payload\"].head(50)\n",
    "y_llm = payloads[\"Labels\"].head(50)"
   ]
  },
  {
   "cell_type": "code",
   "execution_count": 93,
   "metadata": {},
   "outputs": [
    {
     "data": {
      "text/plain": [
       "(50,)"
      ]
     },
     "execution_count": 93,
     "metadata": {},
     "output_type": "execute_result"
    }
   ],
   "source": [
    "y_llm.shape"
   ]
  },
  {
   "cell_type": "code",
   "execution_count": 94,
   "metadata": {},
   "outputs": [],
   "source": [
    "SKLLMConfig.set_openai_key(openai_api_key)\n",
    "SKLLMConfig.set_openai_org(openai_org)"
   ]
  },
  {
   "cell_type": "code",
   "execution_count": 95,
   "metadata": {},
   "outputs": [
    {
     "name": "stderr",
     "output_type": "stream",
     "text": [
      "100%|██████████| 50/50 [00:42<00:00,  1.19it/s]"
     ]
    },
    {
     "name": "stdout",
     "output_type": "stream",
     "text": [
      "Accuracy: 0.88\n"
     ]
    },
    {
     "name": "stderr",
     "output_type": "stream",
     "text": [
      "\n"
     ]
    }
   ],
   "source": [
    "clf = ZeroShotGPTClassifier(openai_model=\"gpt-3.5-turbo\")\n",
    "clf.fit(X_llm, y_llm)\n",
    "labels = clf.predict(X_llm)\n",
    "\n",
    "print(f\"Accuracy: {accuracy_score(y_llm, labels):.2f}\")"
   ]
  },
  {
   "cell_type": "code",
   "execution_count": 96,
   "metadata": {},
   "outputs": [
    {
     "name": "stderr",
     "output_type": "stream",
     "text": [
      "100%|██████████| 50/50 [00:50<00:00,  1.00s/it]"
     ]
    },
    {
     "name": "stdout",
     "output_type": "stream",
     "text": [
      "Accuracy: 0.84\n"
     ]
    },
    {
     "name": "stderr",
     "output_type": "stream",
     "text": [
      "\n"
     ]
    }
   ],
   "source": [
    "clf = ZeroShotGPTClassifier(openai_model=\"gpt-4\")\n",
    "clf.fit(X_llm, y_llm)\n",
    "labels = clf.predict(X_llm)\n",
    "\n",
    "print(f\"Accuracy: {accuracy_score(y_llm, labels):.2f}\")"
   ]
  },
  {
   "cell_type": "code",
   "execution_count": 97,
   "metadata": {},
   "outputs": [
    {
     "name": "stderr",
     "output_type": "stream",
     "text": [
      "100%|██████████| 50/50 [00:36<00:00,  1.38it/s]"
     ]
    },
    {
     "name": "stdout",
     "output_type": "stream",
     "text": [
      "Accuracy: 0.86\n"
     ]
    },
    {
     "name": "stderr",
     "output_type": "stream",
     "text": [
      "\n"
     ]
    }
   ],
   "source": [
    "clf = FewShotGPTClassifier(openai_model=\"gpt-3.5-turbo\")\n",
    "clf.fit(X_llm, y_llm)\n",
    "labels = clf.predict(X_llm)\n",
    "\n",
    "print(f\"Accuracy: {accuracy_score(y_llm, labels):.2f}\")"
   ]
  },
  {
   "cell_type": "code",
   "execution_count": 98,
   "metadata": {},
   "outputs": [
    {
     "name": "stderr",
     "output_type": "stream",
     "text": [
      "100%|██████████| 50/50 [03:41<00:00,  4.42s/it]"
     ]
    },
    {
     "name": "stdout",
     "output_type": "stream",
     "text": [
      "Accuracy: 0.90\n"
     ]
    },
    {
     "name": "stderr",
     "output_type": "stream",
     "text": [
      "\n"
     ]
    }
   ],
   "source": [
    "clf = FewShotGPTClassifier(openai_model=\"gpt-4\")\n",
    "clf.fit(X_llm, y_llm)\n",
    "labels = clf.predict(X_llm)\n",
    "\n",
    "print(f\"Accuracy: {accuracy_score(y_llm, labels):.2f}\")"
   ]
  }
 ],
 "metadata": {
  "kernelspec": {
   "display_name": ".venv",
   "language": "python",
   "name": "python3"
  },
  "language_info": {
   "codemirror_mode": {
    "name": "ipython",
    "version": 3
   },
   "file_extension": ".py",
   "mimetype": "text/x-python",
   "name": "python",
   "nbconvert_exporter": "python",
   "pygments_lexer": "ipython3",
   "version": "3.10.6"
  }
 },
 "nbformat": 4,
 "nbformat_minor": 2
}
